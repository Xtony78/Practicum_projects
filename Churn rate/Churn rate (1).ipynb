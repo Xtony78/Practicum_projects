{
 "cells": [
  {
   "cell_type": "markdown",
   "metadata": {
    "toc": true
   },
   "source": [
    "<h1>Содержание<span class=\"tocSkip\"></span></h1>\n",
    "<div class=\"toc\"><ul class=\"toc-item\"><li><span><a href=\"#Подготовка-данных\" data-toc-modified-id=\"Подготовка-данных-1\"><span class=\"toc-item-num\">1&nbsp;&nbsp;</span>Подготовка данных</a></span></li><li><span><a href=\"#Исследование-задачи\" data-toc-modified-id=\"Исследование-задачи-2\"><span class=\"toc-item-num\">2&nbsp;&nbsp;</span>Исследование задачи</a></span></li><li><span><a href=\"#Борьба-с-дисбалансом\" data-toc-modified-id=\"Борьба-с-дисбалансом-3\"><span class=\"toc-item-num\">3&nbsp;&nbsp;</span>Борьба с дисбалансом</a></span></li><li><span><a href=\"#Тестирование-модели\" data-toc-modified-id=\"Тестирование-модели-4\"><span class=\"toc-item-num\">4&nbsp;&nbsp;</span>Тестирование модели</a></span></li></ul></div>"
   ]
  },
  {
   "cell_type": "markdown",
   "metadata": {},
   "source": [
    "# Отток клиентов"
   ]
  },
  {
   "cell_type": "markdown",
   "metadata": {},
   "source": [
    "Из «Бета-Банка» стали уходить клиенты. Каждый месяц. Немного, но заметно. Банковские маркетологи посчитали: сохранять текущих клиентов дешевле, чем привлекать новых.\n",
    "\n",
    "Нужно спрогнозировать, уйдёт клиент из банка в ближайшее время или нет. Вам предоставлены исторические данные о поведении клиентов и расторжении договоров с банком. \n",
    "\n",
    "Постройте модель с предельно большим значением *F1*-меры. Чтобы сдать проект успешно, нужно довести метрику до 0.59. Проверьте *F1*-меру на тестовой выборке самостоятельно.\n",
    "\n",
    "Дополнительно измеряйте *AUC-ROC*, сравнивайте её значение с *F1*-мерой.\n",
    "\n",
    "Источник данных: [https://www.kaggle.com/barelydedicated/bank-customer-churn-modeling](https://www.kaggle.com/barelydedicated/bank-customer-churn-modeling)"
   ]
  },
  {
   "cell_type": "markdown",
   "metadata": {},
   "source": [
    "**Описание данных**  \n",
    "RowNumber — индекс строки в данных  \n",
    "CustomerId — уникальный идентификатор клиента \n",
    "Surname — фамилия \n",
    "CreditScore — кредитный рейтинг  \n",
    "Geography — страна проживания  \n",
    "Gender — пол  \n",
    "Age — возраст  \n",
    "Tenure — сколько лет человек является клиентом банка  \n",
    "Balance — баланс на счёте  \n",
    "NumOfProducts — количество продуктов банка, используемых клиентом  \n",
    "HasCrCard — наличие кредитной карты  \n",
    "IsActiveMember — активность клиента  \n",
    "EstimatedSalary — предполагаемая зарплата  \n",
    "**Целевой признак**  \n",
    "Exited — факт ухода клиента  "
   ]
  },
  {
   "cell_type": "markdown",
   "metadata": {},
   "source": [
    "## Подготовка данных"
   ]
  },
  {
   "cell_type": "code",
   "execution_count": 25,
   "metadata": {},
   "outputs": [],
   "source": [
    "import pandas as pd\n",
    "import numpy as np\n",
    "import random\n",
    "import matplotlib.pyplot as plt\n",
    "from sklearn.model_selection import train_test_split\n",
    "from sklearn.preprocessing import StandardScaler\n",
    "from sklearn.linear_model import LogisticRegression\n",
    "from sklearn.ensemble import RandomForestClassifier\n",
    "from sklearn.tree import DecisionTreeClassifier\n",
    "from sklearn.metrics import accuracy_score,roc_auc_score,f1_score,precision_score, recall_score\n",
    "from sklearn.utils import shuffle\n",
    "from sklearn.preprocessing import OrdinalEncoder\n",
    "from sklearn.metrics import roc_curve\n",
    "from sklearn.model_selection import RandomizedSearchCV"
   ]
  },
  {
   "cell_type": "code",
   "execution_count": 26,
   "metadata": {
    "scrolled": false
   },
   "outputs": [
    {
     "name": "stdout",
     "output_type": "stream",
     "text": [
      "   RowNumber  CustomerId   Surname  CreditScore Geography  Gender  Age  \\\n",
      "0          1    15634602  Hargrave          619    France  Female   42   \n",
      "1          2    15647311      Hill          608     Spain  Female   41   \n",
      "2          3    15619304      Onio          502    France  Female   42   \n",
      "3          4    15701354      Boni          699    France  Female   39   \n",
      "4          5    15737888  Mitchell          850     Spain  Female   43   \n",
      "\n",
      "   Tenure    Balance  NumOfProducts  HasCrCard  IsActiveMember  \\\n",
      "0     2.0       0.00              1          1               1   \n",
      "1     1.0   83807.86              1          0               1   \n",
      "2     8.0  159660.80              3          1               0   \n",
      "3     1.0       0.00              2          0               0   \n",
      "4     2.0  125510.82              1          1               1   \n",
      "\n",
      "   EstimatedSalary  Exited  \n",
      "0        101348.88       1  \n",
      "1        112542.58       0  \n",
      "2        113931.57       1  \n",
      "3         93826.63       0  \n",
      "4         79084.10       0  \n"
     ]
    }
   ],
   "source": [
    "df = pd.read_csv('/datasets/Churn.csv')\n",
    "\n",
    "print(df.head(5))"
   ]
  },
  {
   "cell_type": "code",
   "execution_count": 27,
   "metadata": {},
   "outputs": [
    {
     "data": {
      "text/plain": [
       "RowNumber            int64\n",
       "CustomerId           int64\n",
       "Surname             object\n",
       "CreditScore          int64\n",
       "Geography           object\n",
       "Gender              object\n",
       "Age                  int64\n",
       "Tenure             float64\n",
       "Balance            float64\n",
       "NumOfProducts        int64\n",
       "HasCrCard            int64\n",
       "IsActiveMember       int64\n",
       "EstimatedSalary    float64\n",
       "Exited               int64\n",
       "dtype: object"
      ]
     },
     "execution_count": 27,
     "metadata": {},
     "output_type": "execute_result"
    }
   ],
   "source": [
    "df.dtypes\n",
    "#проверим столбцы на правильность формата"
   ]
  },
  {
   "cell_type": "code",
   "execution_count": 28,
   "metadata": {},
   "outputs": [
    {
     "name": "stdout",
     "output_type": "stream",
     "text": [
      "<class 'pandas.core.frame.DataFrame'>\n",
      "RangeIndex: 10000 entries, 0 to 9999\n",
      "Data columns (total 14 columns):\n",
      " #   Column           Non-Null Count  Dtype  \n",
      "---  ------           --------------  -----  \n",
      " 0   RowNumber        10000 non-null  int64  \n",
      " 1   CustomerId       10000 non-null  int64  \n",
      " 2   Surname          10000 non-null  object \n",
      " 3   CreditScore      10000 non-null  int64  \n",
      " 4   Geography        10000 non-null  object \n",
      " 5   Gender           10000 non-null  object \n",
      " 6   Age              10000 non-null  int64  \n",
      " 7   Tenure           9091 non-null   float64\n",
      " 8   Balance          10000 non-null  float64\n",
      " 9   NumOfProducts    10000 non-null  int64  \n",
      " 10  HasCrCard        10000 non-null  int64  \n",
      " 11  IsActiveMember   10000 non-null  int64  \n",
      " 12  EstimatedSalary  10000 non-null  float64\n",
      " 13  Exited           10000 non-null  int64  \n",
      "dtypes: float64(3), int64(8), object(3)\n",
      "memory usage: 1.1+ MB\n"
     ]
    }
   ],
   "source": [
    "df.info()"
   ]
  },
  {
   "cell_type": "code",
   "execution_count": 29,
   "metadata": {},
   "outputs": [
    {
     "data": {
      "text/plain": [
       "France     5014\n",
       "Germany    2509\n",
       "Spain      2477\n",
       "Name: Geography, dtype: int64"
      ]
     },
     "execution_count": 29,
     "metadata": {},
     "output_type": "execute_result"
    }
   ],
   "source": [
    "df['Geography'].value_counts()"
   ]
  },
  {
   "cell_type": "code",
   "execution_count": 30,
   "metadata": {},
   "outputs": [],
   "source": [
    "#в датафрейме присутствуют данные из 3-х стран"
   ]
  },
  {
   "cell_type": "code",
   "execution_count": 31,
   "metadata": {},
   "outputs": [],
   "source": [
    "# удалим колонки CustomerId,Surname, так как id и фамилия клиента никак не влияют на факт ухода клиента.\n",
    "df.drop(columns=['CustomerId', 'Surname', 'RowNumber'],axis=1,inplace=True)"
   ]
  },
  {
   "cell_type": "code",
   "execution_count": 32,
   "metadata": {},
   "outputs": [
    {
     "data": {
      "text/plain": [
       "CreditScore          0\n",
       "Geography            0\n",
       "Gender               0\n",
       "Age                  0\n",
       "Tenure             909\n",
       "Balance              0\n",
       "NumOfProducts        0\n",
       "HasCrCard            0\n",
       "IsActiveMember       0\n",
       "EstimatedSalary      0\n",
       "Exited               0\n",
       "dtype: int64"
      ]
     },
     "execution_count": 32,
     "metadata": {},
     "output_type": "execute_result"
    }
   ],
   "source": [
    "df.isna().sum()"
   ]
  },
  {
   "cell_type": "markdown",
   "metadata": {},
   "source": [
    "Рассмотрим показатель \"Tenure\" подробнее, изучим природу пропусков"
   ]
  },
  {
   "cell_type": "code",
   "execution_count": 33,
   "metadata": {},
   "outputs": [
    {
     "data": {
      "text/plain": [
       "count    9091.000000\n",
       "mean        4.997690\n",
       "std         2.894723\n",
       "min         0.000000\n",
       "25%         2.000000\n",
       "50%         5.000000\n",
       "75%         7.000000\n",
       "max        10.000000\n",
       "Name: Tenure, dtype: float64"
      ]
     },
     "execution_count": 33,
     "metadata": {},
     "output_type": "execute_result"
    }
   ],
   "source": [
    "df['Tenure'].describe()"
   ]
  },
  {
   "cell_type": "code",
   "execution_count": 34,
   "metadata": {},
   "outputs": [
    {
     "data": {
      "text/plain": [
       "<AxesSubplot:>"
      ]
     },
     "execution_count": 34,
     "metadata": {},
     "output_type": "execute_result"
    },
    {
     "data": {
      "image/png": "[encoded data removed]",
      "text/plain": [
       "<Figure size 432x288 with 1 Axes>"
      ]
     },
     "metadata": {
      "needs_background": "light"
     },
     "output_type": "display_data"
    }
   ],
   "source": [
    "df['Tenure'].hist()"
   ]
  },
  {
   "cell_type": "markdown",
   "metadata": {},
   "source": [
    "На распределении видно, что количество клиентов по годам практически одинакого, только клиентов с 10-летним стажем немного больше. пропуски можно заменить случайными числами, дабы не влиять на выборку."
   ]
  },
  {
   "cell_type": "code",
   "execution_count": 35,
   "metadata": {},
   "outputs": [
    {
     "name": "stdout",
     "output_type": "stream",
     "text": [
      "0        2.0\n",
      "1        1.0\n",
      "2        8.0\n",
      "3        1.0\n",
      "4        2.0\n",
      "        ... \n",
      "9995     5.0\n",
      "9996    10.0\n",
      "9997     7.0\n",
      "9998     3.0\n",
      "9999     0.0\n",
      "Name: Tenure, Length: 10000, dtype: float64\n"
     ]
    }
   ],
   "source": [
    "#заменим пропуски случайным числом в диапазоне 0:10\n",
    "random_grades = np.random.randint(0, 10)\n",
    "\n",
    "new_grades = df.Tenure.fillna(random_grades)\n",
    "\n",
    "df['Tenure'].fillna(new_grades,inplace=True)\n",
    "print(df['Tenure'])\n"
   ]
  },
  {
   "cell_type": "code",
   "execution_count": 36,
   "metadata": {},
   "outputs": [
    {
     "data": {
      "text/plain": [
       "<AxesSubplot:>"
      ]
     },
     "execution_count": 36,
     "metadata": {},
     "output_type": "execute_result"
    },
    {
     "data": {
      "image/png": "[encoded data removed]",
      "text/plain": [
       "<Figure size 432x288 with 1 Axes>"
      ]
     },
     "metadata": {
      "needs_background": "light"
     },
     "output_type": "display_data"
    }
   ],
   "source": [
    "# Посмотрим повторно гистограмму по столбцу Tenure\n",
    "df['Tenure'].hist()"
   ]
  },
  {
   "cell_type": "markdown",
   "metadata": {},
   "source": [
    "Найдем корреляцию между числовыми признаками "
   ]
  },
  {
   "cell_type": "code",
   "execution_count": 37,
   "metadata": {},
   "outputs": [],
   "source": [
    "number = ['CreditScore','Age','Balance','NumOfProducts','EstimatedSalary','Tenure']"
   ]
  },
  {
   "cell_type": "code",
   "execution_count": 38,
   "metadata": {},
   "outputs": [
    {
     "data": {
      "text/html": [
       "<div>\n",
       "<style scoped>\n",
       "    .dataframe tbody tr th:only-of-type {\n",
       "        vertical-align: middle;\n",
       "    }\n",
       "\n",
       "    .dataframe tbody tr th {\n",
       "        vertical-align: top;\n",
       "    }\n",
       "\n",
       "    .dataframe thead th {\n",
       "        text-align: right;\n",
       "    }\n",
       "</style>\n",
       "<table border=\"1\" class=\"dataframe\">\n",
       "  <thead>\n",
       "    <tr style=\"text-align: right;\">\n",
       "      <th></th>\n",
       "      <th>CreditScore</th>\n",
       "      <th>Age</th>\n",
       "      <th>Balance</th>\n",
       "      <th>NumOfProducts</th>\n",
       "      <th>EstimatedSalary</th>\n",
       "      <th>Tenure</th>\n",
       "    </tr>\n",
       "  </thead>\n",
       "  <tbody>\n",
       "    <tr>\n",
       "      <th>CreditScore</th>\n",
       "      <td>1.000000</td>\n",
       "      <td>-0.003965</td>\n",
       "      <td>0.006268</td>\n",
       "      <td>0.012238</td>\n",
       "      <td>-0.001384</td>\n",
       "      <td>0.003087</td>\n",
       "    </tr>\n",
       "    <tr>\n",
       "      <th>Age</th>\n",
       "      <td>-0.003965</td>\n",
       "      <td>1.000000</td>\n",
       "      <td>0.028308</td>\n",
       "      <td>-0.030680</td>\n",
       "      <td>-0.007201</td>\n",
       "      <td>-0.007368</td>\n",
       "    </tr>\n",
       "    <tr>\n",
       "      <th>Balance</th>\n",
       "      <td>0.006268</td>\n",
       "      <td>0.028308</td>\n",
       "      <td>1.000000</td>\n",
       "      <td>-0.304180</td>\n",
       "      <td>0.012797</td>\n",
       "      <td>-0.005821</td>\n",
       "    </tr>\n",
       "    <tr>\n",
       "      <th>NumOfProducts</th>\n",
       "      <td>0.012238</td>\n",
       "      <td>-0.030680</td>\n",
       "      <td>-0.304180</td>\n",
       "      <td>1.000000</td>\n",
       "      <td>0.014204</td>\n",
       "      <td>0.010106</td>\n",
       "    </tr>\n",
       "    <tr>\n",
       "      <th>EstimatedSalary</th>\n",
       "      <td>-0.001384</td>\n",
       "      <td>-0.007201</td>\n",
       "      <td>0.012797</td>\n",
       "      <td>0.014204</td>\n",
       "      <td>1.000000</td>\n",
       "      <td>0.011225</td>\n",
       "    </tr>\n",
       "    <tr>\n",
       "      <th>Tenure</th>\n",
       "      <td>0.003087</td>\n",
       "      <td>-0.007368</td>\n",
       "      <td>-0.005821</td>\n",
       "      <td>0.010106</td>\n",
       "      <td>0.011225</td>\n",
       "      <td>1.000000</td>\n",
       "    </tr>\n",
       "  </tbody>\n",
       "</table>\n",
       "</div>"
      ],
      "text/plain": [
       "                 CreditScore       Age   Balance  NumOfProducts  \\\n",
       "CreditScore         1.000000 -0.003965  0.006268       0.012238   \n",
       "Age                -0.003965  1.000000  0.028308      -0.030680   \n",
       "Balance             0.006268  0.028308  1.000000      -0.304180   \n",
       "NumOfProducts       0.012238 -0.030680 -0.304180       1.000000   \n",
       "EstimatedSalary    -0.001384 -0.007201  0.012797       0.014204   \n",
       "Tenure              0.003087 -0.007368 -0.005821       0.010106   \n",
       "\n",
       "                 EstimatedSalary    Tenure  \n",
       "CreditScore            -0.001384  0.003087  \n",
       "Age                    -0.007201 -0.007368  \n",
       "Balance                 0.012797 -0.005821  \n",
       "NumOfProducts           0.014204  0.010106  \n",
       "EstimatedSalary         1.000000  0.011225  \n",
       "Tenure                  0.011225  1.000000  "
      ]
     },
     "execution_count": 38,
     "metadata": {},
     "output_type": "execute_result"
    }
   ],
   "source": [
    "df.loc[:,number].corr()"
   ]
  },
  {
   "cell_type": "markdown",
   "metadata": {},
   "source": [
    "Из таблицы видно, что максимальная корреляция не превышает 30%(0.3) - это корреляция между количеством продуктов банка и балансом на счете."
   ]
  },
  {
   "cell_type": "markdown",
   "metadata": {},
   "source": [
    "Добавим целевой признак и сравним корреляцию с ним"
   ]
  },
  {
   "cell_type": "code",
   "execution_count": 39,
   "metadata": {},
   "outputs": [
    {
     "data": {
      "text/html": [
       "<div>\n",
       "<style scoped>\n",
       "    .dataframe tbody tr th:only-of-type {\n",
       "        vertical-align: middle;\n",
       "    }\n",
       "\n",
       "    .dataframe tbody tr th {\n",
       "        vertical-align: top;\n",
       "    }\n",
       "\n",
       "    .dataframe thead th {\n",
       "        text-align: right;\n",
       "    }\n",
       "</style>\n",
       "<table border=\"1\" class=\"dataframe\">\n",
       "  <thead>\n",
       "    <tr style=\"text-align: right;\">\n",
       "      <th></th>\n",
       "      <th>CreditScore</th>\n",
       "      <th>Age</th>\n",
       "      <th>Tenure</th>\n",
       "      <th>Balance</th>\n",
       "      <th>NumOfProducts</th>\n",
       "      <th>HasCrCard</th>\n",
       "      <th>IsActiveMember</th>\n",
       "      <th>EstimatedSalary</th>\n",
       "      <th>Exited</th>\n",
       "    </tr>\n",
       "  </thead>\n",
       "  <tbody>\n",
       "    <tr>\n",
       "      <th>CreditScore</th>\n",
       "      <td>1.000000</td>\n",
       "      <td>-0.003965</td>\n",
       "      <td>0.003087</td>\n",
       "      <td>0.006268</td>\n",
       "      <td>0.012238</td>\n",
       "      <td>-0.005458</td>\n",
       "      <td>0.025651</td>\n",
       "      <td>-0.001384</td>\n",
       "      <td>-0.027094</td>\n",
       "    </tr>\n",
       "    <tr>\n",
       "      <th>Age</th>\n",
       "      <td>-0.003965</td>\n",
       "      <td>1.000000</td>\n",
       "      <td>-0.007368</td>\n",
       "      <td>0.028308</td>\n",
       "      <td>-0.030680</td>\n",
       "      <td>-0.011721</td>\n",
       "      <td>0.085472</td>\n",
       "      <td>-0.007201</td>\n",
       "      <td>0.285323</td>\n",
       "    </tr>\n",
       "    <tr>\n",
       "      <th>Tenure</th>\n",
       "      <td>0.003087</td>\n",
       "      <td>-0.007368</td>\n",
       "      <td>1.000000</td>\n",
       "      <td>-0.005821</td>\n",
       "      <td>0.010106</td>\n",
       "      <td>0.021387</td>\n",
       "      <td>-0.025856</td>\n",
       "      <td>0.011225</td>\n",
       "      <td>-0.013319</td>\n",
       "    </tr>\n",
       "    <tr>\n",
       "      <th>Balance</th>\n",
       "      <td>0.006268</td>\n",
       "      <td>0.028308</td>\n",
       "      <td>-0.005821</td>\n",
       "      <td>1.000000</td>\n",
       "      <td>-0.304180</td>\n",
       "      <td>-0.014858</td>\n",
       "      <td>-0.010084</td>\n",
       "      <td>0.012797</td>\n",
       "      <td>0.118533</td>\n",
       "    </tr>\n",
       "    <tr>\n",
       "      <th>NumOfProducts</th>\n",
       "      <td>0.012238</td>\n",
       "      <td>-0.030680</td>\n",
       "      <td>0.010106</td>\n",
       "      <td>-0.304180</td>\n",
       "      <td>1.000000</td>\n",
       "      <td>0.003183</td>\n",
       "      <td>0.009612</td>\n",
       "      <td>0.014204</td>\n",
       "      <td>-0.047820</td>\n",
       "    </tr>\n",
       "    <tr>\n",
       "      <th>HasCrCard</th>\n",
       "      <td>-0.005458</td>\n",
       "      <td>-0.011721</td>\n",
       "      <td>0.021387</td>\n",
       "      <td>-0.014858</td>\n",
       "      <td>0.003183</td>\n",
       "      <td>1.000000</td>\n",
       "      <td>-0.011866</td>\n",
       "      <td>-0.009933</td>\n",
       "      <td>-0.007138</td>\n",
       "    </tr>\n",
       "    <tr>\n",
       "      <th>IsActiveMember</th>\n",
       "      <td>0.025651</td>\n",
       "      <td>0.085472</td>\n",
       "      <td>-0.025856</td>\n",
       "      <td>-0.010084</td>\n",
       "      <td>0.009612</td>\n",
       "      <td>-0.011866</td>\n",
       "      <td>1.000000</td>\n",
       "      <td>-0.011421</td>\n",
       "      <td>-0.156128</td>\n",
       "    </tr>\n",
       "    <tr>\n",
       "      <th>EstimatedSalary</th>\n",
       "      <td>-0.001384</td>\n",
       "      <td>-0.007201</td>\n",
       "      <td>0.011225</td>\n",
       "      <td>0.012797</td>\n",
       "      <td>0.014204</td>\n",
       "      <td>-0.009933</td>\n",
       "      <td>-0.011421</td>\n",
       "      <td>1.000000</td>\n",
       "      <td>0.012097</td>\n",
       "    </tr>\n",
       "    <tr>\n",
       "      <th>Exited</th>\n",
       "      <td>-0.027094</td>\n",
       "      <td>0.285323</td>\n",
       "      <td>-0.013319</td>\n",
       "      <td>0.118533</td>\n",
       "      <td>-0.047820</td>\n",
       "      <td>-0.007138</td>\n",
       "      <td>-0.156128</td>\n",
       "      <td>0.012097</td>\n",
       "      <td>1.000000</td>\n",
       "    </tr>\n",
       "  </tbody>\n",
       "</table>\n",
       "</div>"
      ],
      "text/plain": [
       "                 CreditScore       Age    Tenure   Balance  NumOfProducts  \\\n",
       "CreditScore         1.000000 -0.003965  0.003087  0.006268       0.012238   \n",
       "Age                -0.003965  1.000000 -0.007368  0.028308      -0.030680   \n",
       "Tenure              0.003087 -0.007368  1.000000 -0.005821       0.010106   \n",
       "Balance             0.006268  0.028308 -0.005821  1.000000      -0.304180   \n",
       "NumOfProducts       0.012238 -0.030680  0.010106 -0.304180       1.000000   \n",
       "HasCrCard          -0.005458 -0.011721  0.021387 -0.014858       0.003183   \n",
       "IsActiveMember      0.025651  0.085472 -0.025856 -0.010084       0.009612   \n",
       "EstimatedSalary    -0.001384 -0.007201  0.011225  0.012797       0.014204   \n",
       "Exited             -0.027094  0.285323 -0.013319  0.118533      -0.047820   \n",
       "\n",
       "                 HasCrCard  IsActiveMember  EstimatedSalary    Exited  \n",
       "CreditScore      -0.005458        0.025651        -0.001384 -0.027094  \n",
       "Age              -0.011721        0.085472        -0.007201  0.285323  \n",
       "Tenure            0.021387       -0.025856         0.011225 -0.013319  \n",
       "Balance          -0.014858       -0.010084         0.012797  0.118533  \n",
       "NumOfProducts     0.003183        0.009612         0.014204 -0.047820  \n",
       "HasCrCard         1.000000       -0.011866        -0.009933 -0.007138  \n",
       "IsActiveMember   -0.011866        1.000000        -0.011421 -0.156128  \n",
       "EstimatedSalary  -0.009933       -0.011421         1.000000  0.012097  \n",
       "Exited           -0.007138       -0.156128         0.012097  1.000000  "
      ]
     },
     "execution_count": 39,
     "metadata": {},
     "output_type": "execute_result"
    }
   ],
   "source": [
    "df.corr()"
   ]
  },
  {
   "cell_type": "markdown",
   "metadata": {},
   "source": [
    "Максимальная корреляция - 0.28 видна между целевым признаком \"exited\" и возрастом клиента, что может говорит о том, что чем страше клиент, тем вероятнее он покинет банк."
   ]
  },
  {
   "cell_type": "markdown",
   "metadata": {},
   "source": [
    "## Исследование задачи"
   ]
  },
  {
   "cell_type": "code",
   "execution_count": 40,
   "metadata": {},
   "outputs": [],
   "source": [
    "#закодируем данные и разделим их на обучающую, валидационную и тестовую"
   ]
  },
  {
   "cell_type": "code",
   "execution_count": 41,
   "metadata": {},
   "outputs": [],
   "source": [
    "encoder = OrdinalEncoder()\n",
    "df_ordinal = pd.DataFrame(encoder.fit_transform(df),\n",
    "                            columns=df.columns)"
   ]
  },
  {
   "cell_type": "code",
   "execution_count": 42,
   "metadata": {},
   "outputs": [],
   "source": [
    "df_train, df_valid = train_test_split(df_ordinal, test_size = 0.4, random_state=12345)\n",
    "df_valid, df_test = train_test_split(df_valid, test_size = 0.5, random_state=12345)"
   ]
  },
  {
   "cell_type": "code",
   "execution_count": 43,
   "metadata": {},
   "outputs": [
    {
     "name": "stdout",
     "output_type": "stream",
     "text": [
      "Размер выборки для тренировки: (6000, 11)\n",
      "Размер выборки для валидации: (2000, 11)\n",
      "Размер выборки для теста: (2000, 11)\n"
     ]
    }
   ],
   "source": [
    "print(f'Размер выборки для тренировки: {df_train.shape}\\nРазмер выборки для валидации: {df_valid.shape}\\nРазмер выборки для теста: {df_test.shape}')"
   ]
  },
  {
   "cell_type": "code",
   "execution_count": 44,
   "metadata": {},
   "outputs": [
    {
     "name": "stdout",
     "output_type": "stream",
     "text": [
      "Collecting fast_ml\n",
      "  Downloading fast_ml-3.68-py3-none-any.whl (42 kB)\n",
      "\u001b[K     |████████████████████████████████| 42 kB 202 kB/s eta 0:00:01\n",
      "\u001b[?25hInstalling collected packages: fast-ml\n",
      "Successfully installed fast-ml-3.68\n",
      "Note: you may need to restart the kernel to use updated packages.\n"
     ]
    }
   ],
   "source": [
    "#Kод ревьюера (Например, вот так)\n",
    "%pip install fast_ml\n",
    "from fast_ml.model_development import train_valid_test_split\n",
    "\n",
    "X_train, y_train, X_valid, y_valid, X_test, y_test = train_valid_test_split(df, target = 'Exited', \n",
    "                                                                            train_size=0.6, valid_size=0.2, test_size=0.2)\n"
   ]
  },
  {
   "cell_type": "code",
   "execution_count": 45,
   "metadata": {},
   "outputs": [],
   "source": [
    "#выделим признаки на тренировочной и валидационной выборках\n",
    "features_train = df_train.drop(['Exited'], axis=1)\n",
    "target_train = df_train['Exited']\n",
    "\n",
    "features_valid = df_valid.drop(['Exited'], axis=1)\n",
    "target_valid = df_valid['Exited']\n",
    "\n",
    "features_test = df_test.drop(['Exited'], axis=1)\n",
    "target_test = df_test['Exited']"
   ]
  },
  {
   "cell_type": "code",
   "execution_count": 46,
   "metadata": {},
   "outputs": [],
   "source": [
    "#отмасштабируем количественные признаки\n",
    "numeric = ['CreditScore','Age','Balance','NumOfProducts','EstimatedSalary','Tenure']\n",
    "\n",
    "scaler = StandardScaler()\n",
    "scaler.fit(features_train[numeric])\n",
    "features_train[numeric] = scaler.transform(features_train[numeric])\n",
    "features_valid[numeric] = scaler.transform(features_valid[numeric])\n",
    "features_test[numeric] = scaler.transform(features_test[numeric])"
   ]
  },
  {
   "cell_type": "markdown",
   "metadata": {},
   "source": [
    "Посмотрим на результаты при несбалансированной классификации"
   ]
  },
  {
   "cell_type": "code",
   "execution_count": 47,
   "metadata": {},
   "outputs": [
    {
     "name": "stdout",
     "output_type": "stream",
     "text": [
      "Максимальное значение f1-меры 0.5528700906344411\n",
      "Максимальное значение AUC-ROC 0.8203012055480615\n",
      "Наилучший гиперпараметр \"глубина\" = 4\n"
     ]
    }
   ],
   "source": [
    "#начнем с решающего дерева\n",
    "#создадим функцию, которая на вход принимает значения тренировочных данных,\n",
    "#а на выходе получает значения auc-roc и f1-меру, а также оптимальное значение гиперпараметра\n",
    "def decision_tree_classifier_scores(features_train, target_train):\n",
    "    roc_auc = 0\n",
    "    f1 = 0\n",
    "    max_depth_decision_tree = 1\n",
    "    for i in range(1,10):\n",
    "        model = DecisionTreeClassifier(random_state=12345, max_depth=i)\n",
    "        model.fit(features_train, target_train)\n",
    "        predicted_valid = model.predict(features_valid)\n",
    "        f1_result = f1_score(target_valid, predicted_valid)\n",
    "        if f1_result > f1:\n",
    "            f1 = f1_result\n",
    "            probabilities_valid = model.predict_proba(features_valid)\n",
    "            probabilities_one_valid = probabilities_valid[:, 1]\n",
    "            roc_auc = roc_auc_score(target_valid, probabilities_one_valid)\n",
    "            max_depth_decision_tree = i\n",
    "            best_model = model\n",
    "    return f1, roc_auc, max_depth_decision_tree, best_model\n",
    "\n",
    "f1, roc_auc, max_depth_decision_tree, _ = decision_tree_classifier_scores(features_train, target_train)         \n",
    "print('Максимальное значение f1-меры',f1)        \n",
    "print('Максимальное значение AUC-ROC',roc_auc)     \n",
    "print('Наилучший гиперпараметр \"глубина\" =',max_depth_decision_tree)"
   ]
  },
  {
   "cell_type": "code",
   "execution_count": 48,
   "metadata": {},
   "outputs": [
    {
     "name": "stdout",
     "output_type": "stream",
     "text": [
      "Максимальное значение f1-меры 0.5925925925925927\n",
      "Максимальное значение AUC-ROC 0.8190823498811388\n",
      "Наилучший гиперпараметр \"estimators\" 19\n"
     ]
    }
   ],
   "source": [
    "#повторим алгоритм уже с случайным лесом, настраиваемым гиперпараметром будет количество деревьев\n",
    "\n",
    "def random_forest_classifier_scores(features_train, target_train):\n",
    "    roc_auc = 0\n",
    "    f1 = 0\n",
    "    n_estimators = 1\n",
    "    for i in range(1,50):\n",
    "        model = RandomForestClassifier(random_state=12345, n_estimators=i)\n",
    "        model.fit(features_train, target_train)\n",
    "        predicted_valid = model.predict(features_valid)\n",
    "        f1_result = f1_score(target_valid, predicted_valid)\n",
    "        if f1_result > f1:\n",
    "            f1 = f1_result\n",
    "            probabilities_valid = model.predict_proba(features_valid)\n",
    "            probabilities_one_valid = probabilities_valid[:, 1]\n",
    "            roc_auc = roc_auc_score(target_valid, probabilities_one_valid)\n",
    "            n_estimators = i\n",
    "            best_model = model\n",
    "    return f1, roc_auc, n_estimators, best_model\n",
    "f1, roc_auc, n_estimators, _ = random_forest_classifier_scores(features_train, target_train)         \n",
    "print('Максимальное значение f1-меры',f1)        \n",
    "print('Максимальное значение AUC-ROC',roc_auc)     \n",
    "print('Наилучший гиперпараметр \"estimators\"',n_estimators)\n"
   ]
  },
  {
   "cell_type": "code",
   "execution_count": 49,
   "metadata": {},
   "outputs": [
    {
     "name": "stdout",
     "output_type": "stream",
     "text": [
      "Порог = 0.00 | Точность = 0.209, Полнота = 1.000, f1 = 0.346\n",
      "Порог = 0.02 | Точность = 0.209, Полнота = 1.000, f1 = 0.346\n",
      "Порог = 0.04 | Точность = 0.209, Полнота = 1.000, f1 = 0.346\n",
      "Порог = 0.06 | Точность = 0.209, Полнота = 1.000, f1 = 0.346\n",
      "Порог = 0.08 | Точность = 0.209, Полнота = 1.000, f1 = 0.346\n",
      "Порог = 0.10 | Точность = 0.209, Полнота = 1.000, f1 = 0.346\n",
      "Порог = 0.12 | Точность = 0.209, Полнота = 1.000, f1 = 0.346\n",
      "Порог = 0.14 | Точность = 0.209, Полнота = 1.000, f1 = 0.346\n",
      "Порог = 0.16 | Точность = 0.209, Полнота = 1.000, f1 = 0.346\n",
      "Порог = 0.18 | Точность = 0.209, Полнота = 1.000, f1 = 0.346\n",
      "Порог = 0.20 | Точность = 0.209, Полнота = 1.000, f1 = 0.346\n",
      "Порог = 0.22 | Точность = 0.209, Полнота = 1.000, f1 = 0.346\n",
      "Порог = 0.24 | Точность = 0.209, Полнота = 1.000, f1 = 0.346\n",
      "Порог = 0.26 | Точность = 0.209, Полнота = 1.000, f1 = 0.346\n",
      "Порог = 0.28 | Точность = 0.209, Полнота = 1.000, f1 = 0.346\n",
      "Порог = 0.30 | Точность = 0.209, Полнота = 1.000, f1 = 0.346\n",
      "Порог = 0.32 | Точность = 0.209, Полнота = 1.000, f1 = 0.346\n",
      "Порог = 0.34 | Точность = 0.209, Полнота = 1.000, f1 = 0.346\n",
      "Порог = 0.36 | Точность = 0.209, Полнота = 1.000, f1 = 0.346\n",
      "Порог = 0.38 | Точность = 0.209, Полнота = 1.000, f1 = 0.346\n",
      "Порог = 0.40 | Точность = 0.209, Полнота = 1.000, f1 = 0.346\n",
      "Порог = 0.42 | Точность = 0.209, Полнота = 1.000, f1 = 0.346\n",
      "Порог = 0.44 | Точность = 0.209, Полнота = 1.000, f1 = 0.346\n",
      "Порог = 0.46 | Точность = 0.209, Полнота = 1.000, f1 = 0.346\n",
      "Порог = 0.48 | Точность = 0.209, Полнота = 1.000, f1 = 0.346\n",
      "Порог = 0.50 | Точность = 0.209, Полнота = 1.000, f1 = 0.346\n",
      "Порог = 0.52 | Точность = 0.209, Полнота = 1.000, f1 = 0.346\n",
      "Порог = 0.54 | Точность = 0.209, Полнота = 1.000, f1 = 0.346\n",
      "Порог = 0.56 | Точность = 0.209, Полнота = 1.000, f1 = 0.346\n",
      "Порог = 0.58 | Точность = 0.209, Полнота = 1.000, f1 = 0.346\n",
      "Порог = 0.60 | Точность = 0.209, Полнота = 1.000, f1 = 0.346\n",
      "Порог = 0.62 | Точность = 0.209, Полнота = 1.000, f1 = 0.346\n",
      "Порог = 0.64 | Точность = 0.209, Полнота = 1.000, f1 = 0.346\n",
      "Порог = 0.66 | Точность = 0.209, Полнота = 1.000, f1 = 0.346\n",
      "Порог = 0.68 | Точность = 0.209, Полнота = 1.000, f1 = 0.346\n",
      "Порог = 0.70 | Точность = 0.209, Полнота = 1.000, f1 = 0.346\n",
      "Порог = 0.72 | Точность = 0.209, Полнота = 1.000, f1 = 0.346\n",
      "Порог = 0.74 | Точность = 0.209, Полнота = 1.000, f1 = 0.346\n",
      "Порог = 0.76 | Точность = 0.209, Полнота = 1.000, f1 = 0.346\n",
      "Порог = 0.78 | Точность = 0.209, Полнота = 1.000, f1 = 0.346\n",
      "\n",
      "f1_score 0.3457402812241522\n",
      "roc_auc_score 0.7455842946061857\n",
      "threshold 0.0\n"
     ]
    }
   ],
   "source": [
    "#также поступим и с логистической регрессией\n",
    "\n",
    "def logistic_regression_scores(features_train,target_train,class_weight=None):\n",
    "    f1 = 0\n",
    "    roc_auc = 0\n",
    "    threshold = 0\n",
    "\n",
    "    model = LogisticRegression(random_state=12345, solver='liblinear', class_weight=class_weight)\n",
    "    model.fit(features_train, target_train)\n",
    "    probabilities_valid = model.predict_proba(features_valid)\n",
    "    probabilities_one_valid = probabilities_valid[:, 1]\n",
    "\n",
    "    for threshold_result in np.arange(0, 0.8, 0.02):\n",
    "        predicted_valid = probabilities_one_valid > threshold\n",
    "        precision_result = precision_score(target_valid, predicted_valid)\n",
    "        recall_result = recall_score(target_valid, predicted_valid)\n",
    "        f1_result = f1_score(target_valid, predicted_valid)\n",
    "        print(\"Порог = {:.2f} | Точность = {:.3f}, Полнота = {:.3f}, f1 = {:.3f}\".format(\n",
    "            threshold_result, precision_result, recall_result, f1_result))\n",
    "        if f1_result > f1:\n",
    "            f1 = f1_result\n",
    "            probabilities_valid = model.predict_proba(features_valid)\n",
    "            probabilities_one_valid = probabilities_valid[:, 1]\n",
    "            roc_auc = roc_auc_score(target_valid, probabilities_one_valid)\n",
    "            threshold = threshold_result\n",
    "    return f1, roc_auc, threshold\n",
    "f1, roc_auc, threshold = logistic_regression_scores(features_train,target_train)\n",
    "print()        \n",
    "print('f1_score',f1)        \n",
    "print('roc_auc_score',roc_auc)     \n",
    "print('threshold',threshold)"
   ]
  },
  {
   "cell_type": "markdown",
   "metadata": {},
   "source": [
    "**Вывод**  \n",
    "Максимального значения f1-меры при разбалансированных классах удалось достичь, используя модель случайного леса - 0.5878877400295421."
   ]
  },
  {
   "cell_type": "markdown",
   "metadata": {},
   "source": [
    "## Борьба с дисбалансом"
   ]
  },
  {
   "cell_type": "code",
   "execution_count": 50,
   "metadata": {},
   "outputs": [
    {
     "data": {
      "text/plain": [
       "((6000, 10), (16764, 10))"
      ]
     },
     "execution_count": 50,
     "metadata": {},
     "output_type": "execute_result"
    }
   ],
   "source": [
    "# избавлюсь от разбаланса путем увеличения выборки  \n",
    "\n",
    "def upsample(features, target, repeat):\n",
    "    features_zeros = features[target == 0]\n",
    "    features_ones = features[target == 1]\n",
    "    target_zeros = target[target == 0]\n",
    "    target_ones = target[target == 1]\n",
    "\n",
    "    features_upsampled = pd.concat([features_zeros] + [features_ones] * repeat)\n",
    "    target_upsampled = pd.concat([target_zeros] + [target_ones] * repeat)\n",
    "    \n",
    "    features_upsampled, target_upsampled = shuffle(\n",
    "        features_upsampled, target_upsampled, random_state=12345)\n",
    "    \n",
    "    return features_upsampled, target_upsampled\n",
    "\n",
    "features_upsampled, target_upsampled = upsample(features_train, target_train, 10)\n",
    "features_train.shape, features_upsampled.shape\n"
   ]
  },
  {
   "cell_type": "code",
   "execution_count": 51,
   "metadata": {},
   "outputs": [],
   "source": [
    "#также поступлю с валидационной и тестовой выборками.\n",
    "features_valid, target_valid = upsample(features_valid, target_valid, 10)\n",
    "features_test, target_test = upsample(features_test, target_test, 10)"
   ]
  },
  {
   "cell_type": "code",
   "execution_count": 52,
   "metadata": {},
   "outputs": [
    {
     "name": "stdout",
     "output_type": "stream",
     "text": [
      "f1_score 0.861504907306434\n",
      "roc_auc_score 0.7915257774363503\n",
      "max_depth_decision_tree 3\n"
     ]
    }
   ],
   "source": [
    "#обучим модель randomTreeClassfier на сбалансированны данных\n",
    "\n",
    "f1, roc_auc, max_depth_decision_tree, model_tree = decision_tree_classifier_scores(features_upsampled,\n",
    "                                                                                   target_upsampled)\n",
    "print('f1_score',f1)        \n",
    "print('roc_auc_score',roc_auc)     \n",
    "print('max_depth_decision_tree',max_depth_decision_tree) "
   ]
  },
  {
   "cell_type": "code",
   "execution_count": 53,
   "metadata": {},
   "outputs": [
    {
     "name": "stdout",
     "output_type": "stream",
     "text": [
      "f1_score 0.6819228997081862\n",
      "roc_auc_score 0.8247622777781138\n",
      "n_estimators 35\n"
     ]
    }
   ],
   "source": [
    "#обучим модель RandomForestClassifier на сбалансированны данных\n",
    "\n",
    "f1, roc_auc, n_estimators, random_forest_model = random_forest_classifier_scores(features_upsampled,\n",
    "                                                                                    target_upsampled)\n",
    "print('f1_score',f1)        \n",
    "print('roc_auc_score',roc_auc)     \n",
    "print('n_estimators',n_estimators)\n",
    "\n"
   ]
  },
  {
   "cell_type": "code",
   "execution_count": 54,
   "metadata": {
    "scrolled": false
   },
   "outputs": [
    {
     "name": "stdout",
     "output_type": "stream",
     "text": [
      "Порог = 0.00 | Точность = 0.725, Полнота = 1.000, f1 = 0.841\n",
      "Порог = 0.02 | Точность = 0.725, Полнота = 1.000, f1 = 0.841\n",
      "Порог = 0.04 | Точность = 0.725, Полнота = 1.000, f1 = 0.841\n",
      "Порог = 0.06 | Точность = 0.725, Полнота = 1.000, f1 = 0.841\n",
      "Порог = 0.08 | Точность = 0.725, Полнота = 1.000, f1 = 0.841\n",
      "Порог = 0.10 | Точность = 0.725, Полнота = 1.000, f1 = 0.841\n",
      "Порог = 0.12 | Точность = 0.725, Полнота = 1.000, f1 = 0.841\n",
      "Порог = 0.14 | Точность = 0.725, Полнота = 1.000, f1 = 0.841\n",
      "Порог = 0.16 | Точность = 0.725, Полнота = 1.000, f1 = 0.841\n",
      "Порог = 0.18 | Точность = 0.725, Полнота = 1.000, f1 = 0.841\n",
      "Порог = 0.20 | Точность = 0.725, Полнота = 1.000, f1 = 0.841\n",
      "Порог = 0.22 | Точность = 0.725, Полнота = 1.000, f1 = 0.841\n",
      "Порог = 0.24 | Точность = 0.725, Полнота = 1.000, f1 = 0.841\n",
      "Порог = 0.26 | Точность = 0.725, Полнота = 1.000, f1 = 0.841\n",
      "Порог = 0.28 | Точность = 0.725, Полнота = 1.000, f1 = 0.841\n",
      "Порог = 0.30 | Точность = 0.725, Полнота = 1.000, f1 = 0.841\n",
      "Порог = 0.32 | Точность = 0.725, Полнота = 1.000, f1 = 0.841\n",
      "Порог = 0.34 | Точность = 0.725, Полнота = 1.000, f1 = 0.841\n",
      "Порог = 0.36 | Точность = 0.725, Полнота = 1.000, f1 = 0.841\n",
      "Порог = 0.38 | Точность = 0.725, Полнота = 1.000, f1 = 0.841\n",
      "Порог = 0.40 | Точность = 0.725, Полнота = 1.000, f1 = 0.841\n",
      "Порог = 0.42 | Точность = 0.725, Полнота = 1.000, f1 = 0.841\n",
      "Порог = 0.44 | Точность = 0.725, Полнота = 1.000, f1 = 0.841\n",
      "Порог = 0.46 | Точность = 0.725, Полнота = 1.000, f1 = 0.841\n",
      "Порог = 0.48 | Точность = 0.725, Полнота = 1.000, f1 = 0.841\n",
      "Порог = 0.50 | Точность = 0.725, Полнота = 1.000, f1 = 0.841\n",
      "Порог = 0.52 | Точность = 0.725, Полнота = 1.000, f1 = 0.841\n",
      "Порог = 0.54 | Точность = 0.725, Полнота = 1.000, f1 = 0.841\n",
      "Порог = 0.56 | Точность = 0.725, Полнота = 1.000, f1 = 0.841\n",
      "Порог = 0.58 | Точность = 0.725, Полнота = 1.000, f1 = 0.841\n",
      "Порог = 0.60 | Точность = 0.725, Полнота = 1.000, f1 = 0.841\n",
      "Порог = 0.62 | Точность = 0.725, Полнота = 1.000, f1 = 0.841\n",
      "Порог = 0.64 | Точность = 0.725, Полнота = 1.000, f1 = 0.841\n",
      "Порог = 0.66 | Точность = 0.725, Полнота = 1.000, f1 = 0.841\n",
      "Порог = 0.68 | Точность = 0.725, Полнота = 1.000, f1 = 0.841\n",
      "Порог = 0.70 | Точность = 0.725, Полнота = 1.000, f1 = 0.841\n",
      "Порог = 0.72 | Точность = 0.725, Полнота = 1.000, f1 = 0.841\n",
      "Порог = 0.74 | Точность = 0.725, Полнота = 1.000, f1 = 0.841\n",
      "Порог = 0.76 | Точность = 0.725, Полнота = 1.000, f1 = 0.841\n",
      "Порог = 0.78 | Точность = 0.725, Полнота = 1.000, f1 = 0.841\n",
      "\n",
      "f1_score 0.8408770871052103\n",
      "roc_auc_score 0.7544081442544414\n",
      "threshold 0.0\n"
     ]
    }
   ],
   "source": [
    "#Обучим сбалансированную модель LogisticRegression\n",
    "\n",
    "f1, roc_auc, threshold = logistic_regression_scores(features_upsampled, target_upsampled)\n",
    "print()        \n",
    "print('f1_score',f1)        \n",
    "print('roc_auc_score',roc_auc)     \n",
    "print('threshold',threshold)\n"
   ]
  },
  {
   "cell_type": "markdown",
   "metadata": {},
   "source": [
    "**Промежуточный вывод**  \n",
    "Максимальный результат f1-меры, при использовании увеличения выборки, получен, используя модель решающего дерева - 0.8615."
   ]
  },
  {
   "cell_type": "code",
   "execution_count": 55,
   "metadata": {},
   "outputs": [
    {
     "data": {
      "text/plain": [
       "((6000, 10), (1676, 10))"
      ]
     },
     "execution_count": 55,
     "metadata": {},
     "output_type": "execute_result"
    }
   ],
   "source": [
    "#для подтверждения своих выводов, использую второй способ баланса - уменьшение выборки(downsampling)\n",
    "\n",
    "def downsample(features, target, fraction):\n",
    "    features_zeros = features[target == 0]\n",
    "    features_ones = features[target == 1]\n",
    "    target_zeros = target[target == 0]\n",
    "    target_ones = target[target == 1]\n",
    "\n",
    "    features_downsampled = pd.concat(\n",
    "        [features_zeros.sample(frac=fraction, random_state=12345)] + [features_ones])\n",
    "    target_downsampled = pd.concat(\n",
    "        [target_zeros.sample(frac=fraction, random_state=12345)] + [target_ones])\n",
    "    \n",
    "    features_downsampled, target_downsampled = shuffle(\n",
    "        features_downsampled, target_downsampled, random_state=12345)\n",
    "    \n",
    "    return features_downsampled, target_downsampled\n",
    "\n",
    "features_downsampled, target_downsampled = downsample(features_train, target_train, 0.1)\n",
    "features_train.shape, features_downsampled.shape"
   ]
  },
  {
   "cell_type": "code",
   "execution_count": 56,
   "metadata": {},
   "outputs": [
    {
     "name": "stdout",
     "output_type": "stream",
     "text": [
      "f1_score 0.861504907306434\n",
      "roc_auc_score 0.7675584778519107\n",
      "max_depth_decision_tree 3\n"
     ]
    }
   ],
   "source": [
    "f1, roc_auc, max_depth_decision_tree, model_tree = decision_tree_classifier_scores(features_downsampled,\n",
    "                                                                                   target_downsampled)\n",
    "print('f1_score',f1)        \n",
    "print('roc_auc_score',roc_auc)     \n",
    "print('max_depth_decision_tree',max_depth_decision_tree) "
   ]
  },
  {
   "cell_type": "code",
   "execution_count": 57,
   "metadata": {},
   "outputs": [
    {
     "name": "stdout",
     "output_type": "stream",
     "text": [
      "f1_score 0.8619112940100594\n",
      "roc_auc_score 0.8235116653258246\n",
      "n_estimators 49\n"
     ]
    }
   ],
   "source": [
    "f1, roc_auc, n_estimators, random_forest_model = random_forest_classifier_scores(features_downsampled,\n",
    "                                                                                   target_downsampled)\n",
    "print('f1_score',f1)        \n",
    "print('roc_auc_score',roc_auc)     \n",
    "print('n_estimators',n_estimators)"
   ]
  },
  {
   "cell_type": "code",
   "execution_count": 58,
   "metadata": {},
   "outputs": [
    {
     "name": "stdout",
     "output_type": "stream",
     "text": [
      "Порог = 0.00 | Точность = 0.725, Полнота = 1.000, f1 = 0.841\n",
      "Порог = 0.02 | Точность = 0.725, Полнота = 1.000, f1 = 0.841\n",
      "Порог = 0.04 | Точность = 0.725, Полнота = 1.000, f1 = 0.841\n",
      "Порог = 0.06 | Точность = 0.725, Полнота = 1.000, f1 = 0.841\n",
      "Порог = 0.08 | Точность = 0.725, Полнота = 1.000, f1 = 0.841\n",
      "Порог = 0.10 | Точность = 0.725, Полнота = 1.000, f1 = 0.841\n",
      "Порог = 0.12 | Точность = 0.725, Полнота = 1.000, f1 = 0.841\n",
      "Порог = 0.14 | Точность = 0.725, Полнота = 1.000, f1 = 0.841\n",
      "Порог = 0.16 | Точность = 0.725, Полнота = 1.000, f1 = 0.841\n",
      "Порог = 0.18 | Точность = 0.725, Полнота = 1.000, f1 = 0.841\n",
      "Порог = 0.20 | Точность = 0.725, Полнота = 1.000, f1 = 0.841\n",
      "Порог = 0.22 | Точность = 0.725, Полнота = 1.000, f1 = 0.841\n",
      "Порог = 0.24 | Точность = 0.725, Полнота = 1.000, f1 = 0.841\n",
      "Порог = 0.26 | Точность = 0.725, Полнота = 1.000, f1 = 0.841\n",
      "Порог = 0.28 | Точность = 0.725, Полнота = 1.000, f1 = 0.841\n",
      "Порог = 0.30 | Точность = 0.725, Полнота = 1.000, f1 = 0.841\n",
      "Порог = 0.32 | Точность = 0.725, Полнота = 1.000, f1 = 0.841\n",
      "Порог = 0.34 | Точность = 0.725, Полнота = 1.000, f1 = 0.841\n",
      "Порог = 0.36 | Точность = 0.725, Полнота = 1.000, f1 = 0.841\n",
      "Порог = 0.38 | Точность = 0.725, Полнота = 1.000, f1 = 0.841\n",
      "Порог = 0.40 | Точность = 0.725, Полнота = 1.000, f1 = 0.841\n",
      "Порог = 0.42 | Точность = 0.725, Полнота = 1.000, f1 = 0.841\n",
      "Порог = 0.44 | Точность = 0.725, Полнота = 1.000, f1 = 0.841\n",
      "Порог = 0.46 | Точность = 0.725, Полнота = 1.000, f1 = 0.841\n",
      "Порог = 0.48 | Точность = 0.725, Полнота = 1.000, f1 = 0.841\n",
      "Порог = 0.50 | Точность = 0.725, Полнота = 1.000, f1 = 0.841\n",
      "Порог = 0.52 | Точность = 0.725, Полнота = 1.000, f1 = 0.841\n",
      "Порог = 0.54 | Точность = 0.725, Полнота = 1.000, f1 = 0.841\n",
      "Порог = 0.56 | Точность = 0.725, Полнота = 1.000, f1 = 0.841\n",
      "Порог = 0.58 | Точность = 0.725, Полнота = 1.000, f1 = 0.841\n",
      "Порог = 0.60 | Точность = 0.725, Полнота = 1.000, f1 = 0.841\n",
      "Порог = 0.62 | Точность = 0.725, Полнота = 1.000, f1 = 0.841\n",
      "Порог = 0.64 | Точность = 0.725, Полнота = 1.000, f1 = 0.841\n",
      "Порог = 0.66 | Точность = 0.725, Полнота = 1.000, f1 = 0.841\n",
      "Порог = 0.68 | Точность = 0.725, Полнота = 1.000, f1 = 0.841\n",
      "Порог = 0.70 | Точность = 0.725, Полнота = 1.000, f1 = 0.841\n",
      "Порог = 0.72 | Точность = 0.725, Полнота = 1.000, f1 = 0.841\n",
      "Порог = 0.74 | Точность = 0.725, Полнота = 1.000, f1 = 0.841\n",
      "Порог = 0.76 | Точность = 0.725, Полнота = 1.000, f1 = 0.841\n",
      "Порог = 0.78 | Точность = 0.725, Полнота = 1.000, f1 = 0.841\n",
      "\n",
      "f1_score 0.8408770871052103\n",
      "roc_auc_score 0.7498245815665471\n",
      "threshold 0.0\n"
     ]
    }
   ],
   "source": [
    "f1, roc_auc, threshold = logistic_regression_scores(features_downsampled, target_downsampled)\n",
    "print()        \n",
    "print('f1_score',f1)        \n",
    "print('roc_auc_score',roc_auc)     \n",
    "print('threshold',threshold)"
   ]
  },
  {
   "cell_type": "markdown",
   "metadata": {},
   "source": [
    "**Вывод**  \n",
    "при использовании метода уменьшения выборки результат изменился, максимальное значение f1-меры получено с использованием модели случайного леса 0.8619871906011177. Возьмём ее для тестирования\n",
    "\n"
   ]
  },
  {
   "cell_type": "markdown",
   "metadata": {},
   "source": [
    "## Тестирование модели"
   ]
  },
  {
   "cell_type": "code",
   "execution_count": 59,
   "metadata": {
    "scrolled": true
   },
   "outputs": [
    {
     "name": "stdout",
     "output_type": "stream",
     "text": [
      "f1_score 0.8712248793084092\n",
      "roc_auc 0.8231904849708652\n"
     ]
    }
   ],
   "source": [
    "predicted_test = random_forest_model.predict(features_test)\n",
    "f1 = f1_score(target_test, predicted_test)\n",
    "\n",
    "probabilities_valid = random_forest_model.predict_proba(features_test)\n",
    "probabilities_one_valid = probabilities_valid[:, 1]\n",
    "roc_auc = roc_auc_score(target_test, probabilities_one_valid)\n",
    "        \n",
    "print('f1_score',f1)           \n",
    "print('roc_auc',roc_auc)"
   ]
  },
  {
   "cell_type": "markdown",
   "metadata": {},
   "source": [
    "Результат устраивает поставленную задачу - f1-мера больше 0.59."
   ]
  },
  {
   "cell_type": "code",
   "execution_count": 60,
   "metadata": {
    "scrolled": true
   },
   "outputs": [
    {
     "data": {
      "image/png": "[encoded data removed]",
      "text/plain": [
       "<Figure size 432x288 with 1 Axes>"
      ]
     },
     "metadata": {
      "needs_background": "light"
     },
     "output_type": "display_data"
    }
   ],
   "source": [
    "#Чтобы выявить, как сильно наша модель отличается от случайной, построим roc-кривую\n",
    "\n",
    "probabilities_valid = random_forest_model.predict_proba(features_test)\n",
    "probabilities_one_valid = probabilities_valid[:, 1]\n",
    "\n",
    "fpr, tpr, thresholds =  roc_curve(target_test, probabilities_one_valid)# < напишите код здесь >\n",
    "\n",
    "plt.figure()\n",
    "plt.plot(fpr, tpr)\n",
    "\n",
    "plt.plot([0, 1], [0, 1], linestyle='--')\n",
    "\n",
    "plt.xlim([0.0, 1.0])\n",
    "plt.ylim([0.0, 1.0])\n",
    "\n",
    "plt.xlabel('False Positive Rate')\n",
    "plt.ylabel(\"True Positive Rate\")\n",
    "\n",
    "plt.title(\"ROC-кривая\")\n",
    "\n",
    "plt.show()"
   ]
  },
  {
   "cell_type": "markdown",
   "metadata": {},
   "source": [
    "Исходя из моего результата 0.87 на случайной моделе было бы примерно 0.45. Модель далека от случайной."
   ]
  },
  {
   "cell_type": "markdown",
   "metadata": {},
   "source": [
    "**Общий вывод**"
   ]
  },
  {
   "cell_type": "markdown",
   "metadata": {},
   "source": [
    "В начале работы подготовили и исследовали данные, при проверке по матрице корреляции, выяснилась слабая корреляция в признаках 'NumofProducts' и 'Balance'. Категориальные классы закодировали числами методом OrdinalEncoder() затем привели все числовые признаки к одному масштабу. После этого данные были готовы для обучения моделей. Использовались модели классификации DecisionTreeClassifier, RandomForestClassifier, LogisticRegression\n",
    "\n",
    "Сначала обучили на несбалансированных классах, получив неудовлетворительные результаты, методом upsempling сбалансировали данные и получили нужное значение f1-меры."
   ]
  }
 ],
 "metadata": {
  "ExecuteTimeLog": [
   {
    "duration": 452,
    "start_time": "2022-12-04T12:06:15.261Z"
   },
   {
    "duration": 134,
    "start_time": "2022-12-04T12:06:37.974Z"
   },
   {
    "duration": 30,
    "start_time": "2022-12-04T12:06:58.214Z"
   },
   {
    "duration": 53,
    "start_time": "2022-12-04T12:19:27.545Z"
   },
   {
    "duration": 76,
    "start_time": "2022-12-04T12:19:36.097Z"
   },
   {
    "duration": 59,
    "start_time": "2022-12-04T12:21:29.263Z"
   },
   {
    "duration": 1944,
    "start_time": "2022-12-04T12:23:27.262Z"
   },
   {
    "duration": 1833,
    "start_time": "2022-12-04T12:23:29.620Z"
   },
   {
    "duration": 1768,
    "start_time": "2022-12-04T12:23:51.580Z"
   },
   {
    "duration": 31,
    "start_time": "2022-12-04T12:24:45.955Z"
   },
   {
    "duration": 291,
    "start_time": "2022-12-04T12:25:03.404Z"
   },
   {
    "duration": 277,
    "start_time": "2022-12-04T12:25:40.866Z"
   },
   {
    "duration": 1341,
    "start_time": "2022-12-04T12:31:10.788Z"
   },
   {
    "duration": 1200,
    "start_time": "2022-12-04T12:31:34.380Z"
   },
   {
    "duration": 2816,
    "start_time": "2022-12-04T12:31:41.520Z"
   },
   {
    "duration": 1549,
    "start_time": "2022-12-04T12:31:50.913Z"
   },
   {
    "duration": 1871,
    "start_time": "2022-12-04T12:35:48.487Z"
   },
   {
    "duration": 171,
    "start_time": "2022-12-04T12:36:08.552Z"
   },
   {
    "duration": 65,
    "start_time": "2022-12-04T12:36:13.983Z"
   },
   {
    "duration": 50,
    "start_time": "2022-12-04T12:37:59.405Z"
   },
   {
    "duration": 52,
    "start_time": "2022-12-04T12:38:06.797Z"
   },
   {
    "duration": 17,
    "start_time": "2022-12-04T12:38:50.701Z"
   },
   {
    "duration": 13,
    "start_time": "2022-12-04T12:38:52.822Z"
   },
   {
    "duration": 3,
    "start_time": "2022-12-04T12:39:28.667Z"
   },
   {
    "duration": 4,
    "start_time": "2022-12-04T12:39:34.923Z"
   },
   {
    "duration": 8,
    "start_time": "2022-12-04T12:49:43.825Z"
   },
   {
    "duration": 4,
    "start_time": "2022-12-04T12:49:51.640Z"
   },
   {
    "duration": 7,
    "start_time": "2022-12-04T12:52:00.190Z"
   },
   {
    "duration": 4,
    "start_time": "2022-12-04T12:52:07.535Z"
   },
   {
    "duration": 16,
    "start_time": "2022-12-04T12:53:11.306Z"
   },
   {
    "duration": 6,
    "start_time": "2022-12-04T12:53:35.357Z"
   },
   {
    "duration": 20,
    "start_time": "2022-12-04T12:53:46.532Z"
   },
   {
    "duration": 9,
    "start_time": "2022-12-04T12:53:51.733Z"
   },
   {
    "duration": 7,
    "start_time": "2022-12-04T12:54:04.637Z"
   },
   {
    "duration": 74,
    "start_time": "2022-12-04T12:54:48.948Z"
   },
   {
    "duration": 4,
    "start_time": "2022-12-04T12:57:05.051Z"
   },
   {
    "duration": 48,
    "start_time": "2022-12-04T12:57:05.338Z"
   },
   {
    "duration": 15,
    "start_time": "2022-12-04T12:57:05.825Z"
   },
   {
    "duration": 4,
    "start_time": "2022-12-04T12:57:08.409Z"
   },
   {
    "duration": 12,
    "start_time": "2022-12-04T12:57:08.921Z"
   },
   {
    "duration": 1097,
    "start_time": "2022-12-04T12:57:12.370Z"
   },
   {
    "duration": 8,
    "start_time": "2022-12-04T12:57:18.354Z"
   },
   {
    "duration": 13,
    "start_time": "2022-12-04T13:00:16.567Z"
   },
   {
    "duration": 576,
    "start_time": "2022-12-04T13:02:10.885Z"
   },
   {
    "duration": 48,
    "start_time": "2022-12-06T09:19:52.993Z"
   },
   {
    "duration": 456,
    "start_time": "2022-12-06T09:19:57.297Z"
   },
   {
    "duration": 115,
    "start_time": "2022-12-06T09:19:57.755Z"
   },
   {
    "duration": 12,
    "start_time": "2022-12-06T09:19:57.872Z"
   },
   {
    "duration": 11,
    "start_time": "2022-12-06T09:19:57.886Z"
   },
   {
    "duration": 7,
    "start_time": "2022-12-06T09:19:58.040Z"
   },
   {
    "duration": 8,
    "start_time": "2022-12-06T09:19:58.425Z"
   },
   {
    "duration": 508,
    "start_time": "2022-12-06T09:19:58.649Z"
   },
   {
    "duration": 4,
    "start_time": "2022-12-06T09:19:59.241Z"
   },
   {
    "duration": 6,
    "start_time": "2022-12-06T09:20:00.552Z"
   },
   {
    "duration": 7,
    "start_time": "2022-12-06T09:20:08.891Z"
   },
   {
    "duration": 5,
    "start_time": "2022-12-06T09:32:20.718Z"
   },
   {
    "duration": 4,
    "start_time": "2022-12-06T09:34:09.859Z"
   },
   {
    "duration": 779,
    "start_time": "2022-12-06T09:38:56.052Z"
   },
   {
    "duration": 53,
    "start_time": "2022-12-06T09:38:56.833Z"
   },
   {
    "duration": 5,
    "start_time": "2022-12-06T09:38:56.888Z"
   },
   {
    "duration": 18,
    "start_time": "2022-12-06T09:38:56.894Z"
   },
   {
    "duration": 3,
    "start_time": "2022-12-06T09:38:56.913Z"
   },
   {
    "duration": 9,
    "start_time": "2022-12-06T09:38:57.069Z"
   },
   {
    "duration": 9,
    "start_time": "2022-12-06T09:38:57.869Z"
   },
   {
    "duration": 130,
    "start_time": "2022-12-06T09:38:58.197Z"
   },
   {
    "duration": 4,
    "start_time": "2022-12-06T09:38:59.765Z"
   },
   {
    "duration": 5,
    "start_time": "2022-12-06T09:39:00.077Z"
   },
   {
    "duration": 18,
    "start_time": "2022-12-06T09:39:41.438Z"
   },
   {
    "duration": 11,
    "start_time": "2022-12-06T09:39:46.997Z"
   },
   {
    "duration": 13,
    "start_time": "2022-12-06T09:48:30.723Z"
   },
   {
    "duration": 10,
    "start_time": "2022-12-06T09:48:41.348Z"
   },
   {
    "duration": 7,
    "start_time": "2022-12-06T09:48:49.420Z"
   },
   {
    "duration": 9,
    "start_time": "2022-12-06T09:48:58.755Z"
   },
   {
    "duration": 121,
    "start_time": "2022-12-06T09:49:03.651Z"
   },
   {
    "duration": 4,
    "start_time": "2022-12-06T09:49:31.037Z"
   },
   {
    "duration": 3,
    "start_time": "2022-12-06T09:49:35.558Z"
   },
   {
    "duration": 1092,
    "start_time": "2022-12-06T09:53:55.559Z"
   },
   {
    "duration": 714,
    "start_time": "2022-12-06T09:53:58.414Z"
   },
   {
    "duration": 7,
    "start_time": "2022-12-06T09:54:14.622Z"
   },
   {
    "duration": 2,
    "start_time": "2022-12-06T09:54:38.694Z"
   },
   {
    "duration": 13,
    "start_time": "2022-12-06T09:55:57.541Z"
   },
   {
    "duration": 6,
    "start_time": "2022-12-06T09:56:00.532Z"
   },
   {
    "duration": 2,
    "start_time": "2022-12-06T09:56:00.765Z"
   },
   {
    "duration": 18,
    "start_time": "2022-12-06T09:56:01.293Z"
   },
   {
    "duration": 1343,
    "start_time": "2022-12-06T09:56:09.211Z"
   },
   {
    "duration": 54,
    "start_time": "2022-12-06T09:56:10.556Z"
   },
   {
    "duration": 6,
    "start_time": "2022-12-06T09:56:10.612Z"
   },
   {
    "duration": 13,
    "start_time": "2022-12-06T09:56:10.620Z"
   },
   {
    "duration": 6,
    "start_time": "2022-12-06T09:56:10.635Z"
   },
   {
    "duration": 12,
    "start_time": "2022-12-06T09:56:10.643Z"
   },
   {
    "duration": 11,
    "start_time": "2022-12-06T09:56:10.657Z"
   },
   {
    "duration": 30,
    "start_time": "2022-12-06T09:56:10.670Z"
   },
   {
    "duration": 11,
    "start_time": "2022-12-06T09:56:10.702Z"
   },
   {
    "duration": 9,
    "start_time": "2022-12-06T09:56:10.714Z"
   },
   {
    "duration": 144,
    "start_time": "2022-12-06T09:56:10.725Z"
   },
   {
    "duration": 8,
    "start_time": "2022-12-06T09:56:10.871Z"
   },
   {
    "duration": 129,
    "start_time": "2022-12-06T09:57:08.876Z"
   },
   {
    "duration": 4,
    "start_time": "2022-12-06T09:59:02.970Z"
   },
   {
    "duration": 125,
    "start_time": "2022-12-06T09:59:03.474Z"
   },
   {
    "duration": 5,
    "start_time": "2022-12-06T09:59:17.186Z"
   },
   {
    "duration": 113,
    "start_time": "2022-12-06T09:59:18.505Z"
   },
   {
    "duration": 439,
    "start_time": "2022-12-06T10:00:03.201Z"
   },
   {
    "duration": 125,
    "start_time": "2022-12-06T10:00:03.834Z"
   },
   {
    "duration": 42,
    "start_time": "2022-12-06T10:00:06.529Z"
   },
   {
    "duration": 120,
    "start_time": "2022-12-06T10:00:10.448Z"
   },
   {
    "duration": 201,
    "start_time": "2022-12-06T10:00:15.353Z"
   },
   {
    "duration": 6,
    "start_time": "2022-12-06T10:01:06.623Z"
   },
   {
    "duration": 108,
    "start_time": "2022-12-06T10:01:07.144Z"
   },
   {
    "duration": 4,
    "start_time": "2022-12-06T10:01:32.056Z"
   },
   {
    "duration": 124,
    "start_time": "2022-12-06T10:01:32.311Z"
   },
   {
    "duration": 4,
    "start_time": "2022-12-06T10:01:35.183Z"
   },
   {
    "duration": 116,
    "start_time": "2022-12-06T10:01:35.383Z"
   },
   {
    "duration": 122,
    "start_time": "2022-12-06T10:01:37.968Z"
   },
   {
    "duration": 1256,
    "start_time": "2022-12-06T10:01:45.630Z"
   },
   {
    "duration": 53,
    "start_time": "2022-12-06T10:01:46.888Z"
   },
   {
    "duration": 7,
    "start_time": "2022-12-06T10:01:46.943Z"
   },
   {
    "duration": 14,
    "start_time": "2022-12-06T10:01:46.953Z"
   },
   {
    "duration": 6,
    "start_time": "2022-12-06T10:01:46.968Z"
   },
   {
    "duration": 6,
    "start_time": "2022-12-06T10:01:46.975Z"
   },
   {
    "duration": 8,
    "start_time": "2022-12-06T10:01:46.982Z"
   },
   {
    "duration": 16,
    "start_time": "2022-12-06T10:01:46.992Z"
   },
   {
    "duration": 7,
    "start_time": "2022-12-06T10:01:47.009Z"
   },
   {
    "duration": 8,
    "start_time": "2022-12-06T10:01:47.018Z"
   },
   {
    "duration": 157,
    "start_time": "2022-12-06T10:01:47.028Z"
   },
   {
    "duration": 11,
    "start_time": "2022-12-06T10:01:47.186Z"
   },
   {
    "duration": 142,
    "start_time": "2022-12-06T10:01:47.199Z"
   },
   {
    "duration": 128,
    "start_time": "2022-12-06T10:02:01.879Z"
   },
   {
    "duration": 5,
    "start_time": "2022-12-06T10:04:08.293Z"
   },
   {
    "duration": 3,
    "start_time": "2022-12-06T10:05:10.164Z"
   },
   {
    "duration": 167,
    "start_time": "2022-12-06T10:05:25.588Z"
   },
   {
    "duration": 18,
    "start_time": "2022-12-06T10:05:31.772Z"
   },
   {
    "duration": 3,
    "start_time": "2022-12-06T10:08:17.413Z"
   },
   {
    "duration": 22,
    "start_time": "2022-12-06T10:10:17.434Z"
   },
   {
    "duration": 13,
    "start_time": "2022-12-06T10:10:38.538Z"
   },
   {
    "duration": 3,
    "start_time": "2022-12-06T10:10:46.042Z"
   },
   {
    "duration": 52,
    "start_time": "2022-12-06T10:22:12.255Z"
   },
   {
    "duration": 59,
    "start_time": "2022-12-06T10:22:17.311Z"
   },
   {
    "duration": 6,
    "start_time": "2022-12-06T10:22:32.535Z"
   },
   {
    "duration": 10,
    "start_time": "2022-12-06T10:22:52.344Z"
   },
   {
    "duration": 4,
    "start_time": "2022-12-06T10:23:07.759Z"
   },
   {
    "duration": 52,
    "start_time": "2022-12-06T10:23:08.183Z"
   },
   {
    "duration": 5,
    "start_time": "2022-12-06T10:23:08.366Z"
   },
   {
    "duration": 12,
    "start_time": "2022-12-06T10:23:08.526Z"
   },
   {
    "duration": 14,
    "start_time": "2022-12-06T10:23:08.694Z"
   },
   {
    "duration": 3,
    "start_time": "2022-12-06T10:23:08.862Z"
   },
   {
    "duration": 5,
    "start_time": "2022-12-06T10:23:09.022Z"
   },
   {
    "duration": 15,
    "start_time": "2022-12-06T10:23:09.190Z"
   },
   {
    "duration": 6,
    "start_time": "2022-12-06T10:23:09.358Z"
   },
   {
    "duration": 9,
    "start_time": "2022-12-06T10:23:09.670Z"
   },
   {
    "duration": 119,
    "start_time": "2022-12-06T10:23:09.838Z"
   },
   {
    "duration": 3,
    "start_time": "2022-12-06T10:23:10.170Z"
   },
   {
    "duration": 136,
    "start_time": "2022-12-06T10:23:10.334Z"
   },
   {
    "duration": 3,
    "start_time": "2022-12-06T10:23:10.670Z"
   },
   {
    "duration": 14,
    "start_time": "2022-12-06T10:23:10.838Z"
   },
   {
    "duration": 4,
    "start_time": "2022-12-06T10:23:11.182Z"
   },
   {
    "duration": 5,
    "start_time": "2022-12-06T10:23:11.358Z"
   },
   {
    "duration": 10,
    "start_time": "2022-12-06T10:23:11.625Z"
   },
   {
    "duration": 15,
    "start_time": "2022-12-06T10:23:23.655Z"
   },
   {
    "duration": 20,
    "start_time": "2022-12-06T10:23:39.766Z"
   },
   {
    "duration": 6,
    "start_time": "2022-12-06T10:23:58.542Z"
   },
   {
    "duration": 19,
    "start_time": "2022-12-06T10:24:05.573Z"
   },
   {
    "duration": 1578,
    "start_time": "2022-12-06T15:24:34.777Z"
   },
   {
    "duration": 176,
    "start_time": "2022-12-06T15:24:36.357Z"
   },
   {
    "duration": 6,
    "start_time": "2022-12-06T15:24:36.536Z"
   },
   {
    "duration": 22,
    "start_time": "2022-12-06T15:24:36.544Z"
   },
   {
    "duration": 8,
    "start_time": "2022-12-06T15:24:36.569Z"
   },
   {
    "duration": 4,
    "start_time": "2022-12-06T15:24:36.579Z"
   },
   {
    "duration": 8,
    "start_time": "2022-12-06T15:24:36.585Z"
   },
   {
    "duration": 11,
    "start_time": "2022-12-06T15:24:36.614Z"
   },
   {
    "duration": 7,
    "start_time": "2022-12-06T15:24:36.626Z"
   },
   {
    "duration": 9,
    "start_time": "2022-12-06T15:24:36.635Z"
   },
   {
    "duration": 167,
    "start_time": "2022-12-06T15:24:36.646Z"
   },
   {
    "duration": 4,
    "start_time": "2022-12-06T15:24:36.815Z"
   },
   {
    "duration": 150,
    "start_time": "2022-12-06T15:24:36.821Z"
   },
   {
    "duration": 4,
    "start_time": "2022-12-06T15:24:36.973Z"
   },
   {
    "duration": 19,
    "start_time": "2022-12-06T15:24:36.979Z"
   },
   {
    "duration": 5,
    "start_time": "2022-12-06T15:24:37.012Z"
   },
   {
    "duration": 12,
    "start_time": "2022-12-06T15:24:37.019Z"
   },
   {
    "duration": 20,
    "start_time": "2022-12-06T15:24:37.033Z"
   },
   {
    "duration": 3,
    "start_time": "2022-12-06T15:33:48.252Z"
   },
   {
    "duration": 53,
    "start_time": "2022-12-06T15:33:48.565Z"
   },
   {
    "duration": 6,
    "start_time": "2022-12-06T15:33:48.873Z"
   },
   {
    "duration": 14,
    "start_time": "2022-12-06T15:33:49.202Z"
   },
   {
    "duration": 6,
    "start_time": "2022-12-06T15:33:49.578Z"
   },
   {
    "duration": 4,
    "start_time": "2022-12-06T15:33:50.134Z"
   },
   {
    "duration": 6,
    "start_time": "2022-12-06T15:33:50.423Z"
   },
   {
    "duration": 7,
    "start_time": "2022-12-06T15:34:10.170Z"
   },
   {
    "duration": 12,
    "start_time": "2022-12-06T15:34:10.905Z"
   },
   {
    "duration": 153,
    "start_time": "2022-12-06T15:34:11.325Z"
   },
   {
    "duration": 4,
    "start_time": "2022-12-06T15:34:11.977Z"
   },
   {
    "duration": 161,
    "start_time": "2022-12-06T15:34:12.316Z"
   },
   {
    "duration": 3,
    "start_time": "2022-12-06T15:34:13.250Z"
   },
   {
    "duration": 13,
    "start_time": "2022-12-06T15:34:13.585Z"
   },
   {
    "duration": 6,
    "start_time": "2022-12-06T15:34:17.010Z"
   },
   {
    "duration": 6,
    "start_time": "2022-12-06T15:34:17.193Z"
   },
   {
    "duration": 25,
    "start_time": "2022-12-06T15:34:17.370Z"
   },
   {
    "duration": 30,
    "start_time": "2022-12-06T15:39:12.835Z"
   },
   {
    "duration": 7,
    "start_time": "2022-12-06T15:39:13.037Z"
   },
   {
    "duration": 9,
    "start_time": "2022-12-06T15:39:34.647Z"
   },
   {
    "duration": 12,
    "start_time": "2022-12-06T15:39:34.833Z"
   },
   {
    "duration": 101,
    "start_time": "2022-12-06T15:40:44.267Z"
   },
   {
    "duration": 126,
    "start_time": "2022-12-06T15:40:48.683Z"
   },
   {
    "duration": 6,
    "start_time": "2022-12-06T15:41:15.452Z"
   },
   {
    "duration": 6,
    "start_time": "2022-12-06T15:41:46.202Z"
   },
   {
    "duration": 9,
    "start_time": "2022-12-06T15:58:03.233Z"
   },
   {
    "duration": 3,
    "start_time": "2022-12-06T15:58:19.689Z"
   },
   {
    "duration": 10,
    "start_time": "2022-12-06T16:00:25.839Z"
   },
   {
    "duration": 13,
    "start_time": "2022-12-06T16:00:31.135Z"
   },
   {
    "duration": 12,
    "start_time": "2022-12-06T16:00:41.551Z"
   },
   {
    "duration": 102,
    "start_time": "2022-12-06T16:00:55.194Z"
   },
   {
    "duration": 6,
    "start_time": "2022-12-06T16:00:58.046Z"
   },
   {
    "duration": 52,
    "start_time": "2022-12-07T09:47:59.861Z"
   },
   {
    "duration": 1674,
    "start_time": "2022-12-07T09:48:06.007Z"
   },
   {
    "duration": 108,
    "start_time": "2022-12-07T09:48:07.683Z"
   },
   {
    "duration": 5,
    "start_time": "2022-12-07T09:48:07.793Z"
   },
   {
    "duration": 24,
    "start_time": "2022-12-07T09:48:07.800Z"
   },
   {
    "duration": 6,
    "start_time": "2022-12-07T09:48:07.825Z"
   },
   {
    "duration": 5,
    "start_time": "2022-12-07T09:48:07.833Z"
   },
   {
    "duration": 8,
    "start_time": "2022-12-07T09:48:07.839Z"
   },
   {
    "duration": 10,
    "start_time": "2022-12-07T09:48:07.849Z"
   },
   {
    "duration": 9,
    "start_time": "2022-12-07T09:48:08.990Z"
   },
   {
    "duration": 159,
    "start_time": "2022-12-07T09:48:09.438Z"
   },
   {
    "duration": 7,
    "start_time": "2022-12-07T09:48:10.174Z"
   },
   {
    "duration": 140,
    "start_time": "2022-12-07T09:48:11.214Z"
   },
   {
    "duration": 6,
    "start_time": "2022-12-07T09:48:28.230Z"
   },
   {
    "duration": 147,
    "start_time": "2022-12-07T09:48:36.246Z"
   },
   {
    "duration": 5,
    "start_time": "2022-12-07T09:49:05.789Z"
   },
   {
    "duration": 863,
    "start_time": "2022-12-07T09:49:38.004Z"
   },
   {
    "duration": 0,
    "start_time": "2022-12-07T09:49:38.869Z"
   },
   {
    "duration": 1155,
    "start_time": "2022-12-07T09:50:05.127Z"
   },
   {
    "duration": 191,
    "start_time": "2022-12-07T09:51:21.396Z"
   },
   {
    "duration": 12,
    "start_time": "2022-12-07T09:54:58.233Z"
   },
   {
    "duration": 11,
    "start_time": "2022-12-07T10:00:19.242Z"
   },
   {
    "duration": 10,
    "start_time": "2022-12-07T10:06:04.036Z"
   },
   {
    "duration": 1406,
    "start_time": "2022-12-07T10:06:29.562Z"
   },
   {
    "duration": 56,
    "start_time": "2022-12-07T10:06:30.970Z"
   },
   {
    "duration": 6,
    "start_time": "2022-12-07T10:06:31.028Z"
   },
   {
    "duration": 23,
    "start_time": "2022-12-07T10:06:31.036Z"
   },
   {
    "duration": 12,
    "start_time": "2022-12-07T10:06:31.063Z"
   },
   {
    "duration": 20,
    "start_time": "2022-12-07T10:06:31.078Z"
   },
   {
    "duration": 15,
    "start_time": "2022-12-07T10:06:31.100Z"
   },
   {
    "duration": 30,
    "start_time": "2022-12-07T10:06:31.117Z"
   },
   {
    "duration": 18,
    "start_time": "2022-12-07T10:06:31.149Z"
   },
   {
    "duration": 161,
    "start_time": "2022-12-07T10:06:31.169Z"
   },
   {
    "duration": 4,
    "start_time": "2022-12-07T10:06:31.332Z"
   },
   {
    "duration": 156,
    "start_time": "2022-12-07T10:06:31.338Z"
   },
   {
    "duration": 4,
    "start_time": "2022-12-07T10:06:31.495Z"
   },
   {
    "duration": 81,
    "start_time": "2022-12-07T10:06:31.512Z"
   },
   {
    "duration": 38,
    "start_time": "2022-12-07T10:06:31.596Z"
   },
   {
    "duration": 10,
    "start_time": "2022-12-07T10:06:31.636Z"
   },
   {
    "duration": 17,
    "start_time": "2022-12-07T10:06:31.648Z"
   },
   {
    "duration": 22,
    "start_time": "2022-12-07T10:06:31.667Z"
   },
   {
    "duration": 126,
    "start_time": "2022-12-07T10:07:44.838Z"
   },
   {
    "duration": 2,
    "start_time": "2022-12-07T10:12:49.445Z"
   },
   {
    "duration": 6,
    "start_time": "2022-12-07T10:13:35.548Z"
   },
   {
    "duration": 11,
    "start_time": "2022-12-07T10:14:04.083Z"
   },
   {
    "duration": 13,
    "start_time": "2022-12-07T10:14:08.124Z"
   },
   {
    "duration": 8,
    "start_time": "2022-12-07T10:14:28.835Z"
   },
   {
    "duration": 171,
    "start_time": "2022-12-07T10:14:31.586Z"
   },
   {
    "duration": 8,
    "start_time": "2022-12-07T10:14:47.083Z"
   },
   {
    "duration": 7,
    "start_time": "2022-12-07T10:15:04.058Z"
   },
   {
    "duration": 6,
    "start_time": "2022-12-07T10:15:13.426Z"
   },
   {
    "duration": 13,
    "start_time": "2022-12-07T10:15:21.034Z"
   },
   {
    "duration": 141,
    "start_time": "2022-12-07T10:15:26.481Z"
   },
   {
    "duration": 4,
    "start_time": "2022-12-07T10:15:27.754Z"
   },
   {
    "duration": 153,
    "start_time": "2022-12-07T10:15:28.313Z"
   },
   {
    "duration": 4,
    "start_time": "2022-12-07T10:16:25.233Z"
   },
   {
    "duration": 226,
    "start_time": "2022-12-07T10:16:26.273Z"
   },
   {
    "duration": 4,
    "start_time": "2022-12-07T10:16:38.505Z"
   },
   {
    "duration": 142,
    "start_time": "2022-12-07T10:16:39.088Z"
   },
   {
    "duration": 5,
    "start_time": "2022-12-07T10:16:44.985Z"
   },
   {
    "duration": 142,
    "start_time": "2022-12-07T10:17:43.199Z"
   },
   {
    "duration": 1428,
    "start_time": "2022-12-07T10:17:50.492Z"
   },
   {
    "duration": 56,
    "start_time": "2022-12-07T10:17:51.923Z"
   },
   {
    "duration": 6,
    "start_time": "2022-12-07T10:17:51.981Z"
   },
   {
    "duration": 15,
    "start_time": "2022-12-07T10:17:51.989Z"
   },
   {
    "duration": 6,
    "start_time": "2022-12-07T10:17:52.007Z"
   },
   {
    "duration": 9,
    "start_time": "2022-12-07T10:17:52.015Z"
   },
   {
    "duration": 12,
    "start_time": "2022-12-07T10:17:52.025Z"
   },
   {
    "duration": 23,
    "start_time": "2022-12-07T10:17:52.039Z"
   },
   {
    "duration": 15,
    "start_time": "2022-12-07T10:17:52.065Z"
   },
   {
    "duration": 169,
    "start_time": "2022-12-07T10:17:52.082Z"
   },
   {
    "duration": 121,
    "start_time": "2022-12-07T10:17:52.253Z"
   },
   {
    "duration": 0,
    "start_time": "2022-12-07T10:17:52.376Z"
   },
   {
    "duration": 0,
    "start_time": "2022-12-07T10:17:52.378Z"
   },
   {
    "duration": 0,
    "start_time": "2022-12-07T10:17:52.379Z"
   },
   {
    "duration": 0,
    "start_time": "2022-12-07T10:17:52.380Z"
   },
   {
    "duration": 0,
    "start_time": "2022-12-07T10:17:52.382Z"
   },
   {
    "duration": 0,
    "start_time": "2022-12-07T10:17:52.383Z"
   },
   {
    "duration": 0,
    "start_time": "2022-12-07T10:17:52.384Z"
   },
   {
    "duration": 4,
    "start_time": "2022-12-07T10:18:03.816Z"
   },
   {
    "duration": 139,
    "start_time": "2022-12-07T10:18:05.031Z"
   },
   {
    "duration": 13,
    "start_time": "2022-12-07T10:20:26.237Z"
   },
   {
    "duration": 128,
    "start_time": "2022-12-07T10:20:32.924Z"
   },
   {
    "duration": 14,
    "start_time": "2022-12-07T10:20:47.181Z"
   },
   {
    "duration": 132,
    "start_time": "2022-12-07T10:20:49.070Z"
   },
   {
    "duration": 1410,
    "start_time": "2022-12-07T10:20:53.246Z"
   },
   {
    "duration": 59,
    "start_time": "2022-12-07T10:20:54.659Z"
   },
   {
    "duration": 6,
    "start_time": "2022-12-07T10:20:54.720Z"
   },
   {
    "duration": 17,
    "start_time": "2022-12-07T10:20:54.728Z"
   },
   {
    "duration": 7,
    "start_time": "2022-12-07T10:20:54.748Z"
   },
   {
    "duration": 5,
    "start_time": "2022-12-07T10:20:54.757Z"
   },
   {
    "duration": 7,
    "start_time": "2022-12-07T10:20:54.763Z"
   },
   {
    "duration": 10,
    "start_time": "2022-12-07T10:20:54.772Z"
   },
   {
    "duration": 12,
    "start_time": "2022-12-07T10:20:54.815Z"
   },
   {
    "duration": 181,
    "start_time": "2022-12-07T10:20:54.829Z"
   },
   {
    "duration": 14,
    "start_time": "2022-12-07T10:20:55.012Z"
   },
   {
    "duration": 154,
    "start_time": "2022-12-07T10:20:55.028Z"
   },
   {
    "duration": 3,
    "start_time": "2022-12-07T10:20:55.184Z"
   },
   {
    "duration": 25,
    "start_time": "2022-12-07T10:20:55.189Z"
   },
   {
    "duration": 27,
    "start_time": "2022-12-07T10:20:55.216Z"
   },
   {
    "duration": 8,
    "start_time": "2022-12-07T10:20:55.245Z"
   },
   {
    "duration": 7,
    "start_time": "2022-12-07T10:20:55.255Z"
   },
   {
    "duration": 11,
    "start_time": "2022-12-07T10:20:55.264Z"
   },
   {
    "duration": 4,
    "start_time": "2022-12-07T10:21:40.448Z"
   },
   {
    "duration": 46,
    "start_time": "2022-12-07T10:22:43.562Z"
   },
   {
    "duration": 42,
    "start_time": "2022-12-07T10:22:48.121Z"
   },
   {
    "duration": 46,
    "start_time": "2022-12-07T10:22:50.817Z"
   },
   {
    "duration": 46,
    "start_time": "2022-12-07T10:23:39.393Z"
   },
   {
    "duration": 16,
    "start_time": "2022-12-07T10:25:13.448Z"
   },
   {
    "duration": 148,
    "start_time": "2022-12-07T10:25:18.104Z"
   },
   {
    "duration": 16,
    "start_time": "2022-12-07T10:25:41.031Z"
   },
   {
    "duration": 146,
    "start_time": "2022-12-07T10:25:41.246Z"
   },
   {
    "duration": 6,
    "start_time": "2022-12-07T10:26:23.775Z"
   },
   {
    "duration": 10,
    "start_time": "2022-12-07T10:26:40.198Z"
   },
   {
    "duration": 123,
    "start_time": "2022-12-07T10:26:59.910Z"
   },
   {
    "duration": 13,
    "start_time": "2022-12-07T10:27:02.847Z"
   },
   {
    "duration": 6,
    "start_time": "2022-12-07T10:28:10.805Z"
   },
   {
    "duration": 144,
    "start_time": "2022-12-07T10:28:13.572Z"
   },
   {
    "duration": 10,
    "start_time": "2022-12-07T10:28:24.915Z"
   },
   {
    "duration": 7,
    "start_time": "2022-12-07T10:28:33.068Z"
   },
   {
    "duration": 214,
    "start_time": "2022-12-07T10:28:33.260Z"
   },
   {
    "duration": 3,
    "start_time": "2022-12-07T10:28:36.499Z"
   },
   {
    "duration": 17,
    "start_time": "2022-12-07T10:28:36.677Z"
   },
   {
    "duration": 8,
    "start_time": "2022-12-07T10:30:52.330Z"
   },
   {
    "duration": 154,
    "start_time": "2022-12-07T10:30:52.506Z"
   },
   {
    "duration": 4,
    "start_time": "2022-12-07T10:30:53.547Z"
   },
   {
    "duration": 15,
    "start_time": "2022-12-07T10:30:54.014Z"
   },
   {
    "duration": 3,
    "start_time": "2022-12-07T10:32:37.148Z"
   },
   {
    "duration": 16,
    "start_time": "2022-12-07T10:32:37.408Z"
   },
   {
    "duration": 20,
    "start_time": "2022-12-07T10:35:56.958Z"
   },
   {
    "duration": 26,
    "start_time": "2022-12-07T10:38:00.564Z"
   },
   {
    "duration": 7,
    "start_time": "2022-12-07T10:38:00.906Z"
   },
   {
    "duration": 4,
    "start_time": "2022-12-07T10:38:01.245Z"
   },
   {
    "duration": 7,
    "start_time": "2022-12-07T10:38:01.594Z"
   },
   {
    "duration": 45,
    "start_time": "2022-12-07T10:38:36.863Z"
   },
   {
    "duration": 15,
    "start_time": "2022-12-07T10:39:24.666Z"
   },
   {
    "duration": 12,
    "start_time": "2022-12-07T10:39:54.985Z"
   },
   {
    "duration": 7,
    "start_time": "2022-12-07T10:40:03.792Z"
   },
   {
    "duration": 17,
    "start_time": "2022-12-07T10:42:26.430Z"
   },
   {
    "duration": 1394,
    "start_time": "2022-12-07T10:42:40.854Z"
   },
   {
    "duration": 49,
    "start_time": "2022-12-07T10:42:42.250Z"
   },
   {
    "duration": 8,
    "start_time": "2022-12-07T10:42:42.301Z"
   },
   {
    "duration": 35,
    "start_time": "2022-12-07T10:42:42.310Z"
   },
   {
    "duration": 22,
    "start_time": "2022-12-07T10:42:42.347Z"
   },
   {
    "duration": 19,
    "start_time": "2022-12-07T10:42:42.371Z"
   },
   {
    "duration": 28,
    "start_time": "2022-12-07T10:42:42.391Z"
   },
   {
    "duration": 44,
    "start_time": "2022-12-07T10:42:42.420Z"
   },
   {
    "duration": 23,
    "start_time": "2022-12-07T10:42:42.466Z"
   },
   {
    "duration": 173,
    "start_time": "2022-12-07T10:42:42.491Z"
   },
   {
    "duration": 7,
    "start_time": "2022-12-07T10:42:42.666Z"
   },
   {
    "duration": 170,
    "start_time": "2022-12-07T10:42:42.675Z"
   },
   {
    "duration": 3,
    "start_time": "2022-12-07T10:42:42.847Z"
   },
   {
    "duration": 26,
    "start_time": "2022-12-07T10:42:42.852Z"
   },
   {
    "duration": 38,
    "start_time": "2022-12-07T10:42:42.880Z"
   },
   {
    "duration": 24,
    "start_time": "2022-12-07T10:42:42.920Z"
   },
   {
    "duration": 7,
    "start_time": "2022-12-07T10:42:42.946Z"
   },
   {
    "duration": 38,
    "start_time": "2022-12-07T10:42:42.954Z"
   },
   {
    "duration": 35,
    "start_time": "2022-12-07T10:42:42.994Z"
   },
   {
    "duration": 50,
    "start_time": "2022-12-07T10:42:43.031Z"
   },
   {
    "duration": 4,
    "start_time": "2022-12-07T10:59:33.446Z"
   },
   {
    "duration": 47,
    "start_time": "2022-12-07T10:59:35.709Z"
   },
   {
    "duration": 6,
    "start_time": "2022-12-07T10:59:35.868Z"
   },
   {
    "duration": 13,
    "start_time": "2022-12-07T10:59:36.044Z"
   },
   {
    "duration": 6,
    "start_time": "2022-12-07T10:59:36.220Z"
   },
   {
    "duration": 3,
    "start_time": "2022-12-07T10:59:36.396Z"
   },
   {
    "duration": 6,
    "start_time": "2022-12-07T10:59:36.565Z"
   },
   {
    "duration": 7,
    "start_time": "2022-12-07T10:59:36.732Z"
   },
   {
    "duration": 10,
    "start_time": "2022-12-07T10:59:37.076Z"
   },
   {
    "duration": 138,
    "start_time": "2022-12-07T10:59:37.236Z"
   },
   {
    "duration": 8,
    "start_time": "2022-12-07T10:59:37.586Z"
   },
   {
    "duration": 137,
    "start_time": "2022-12-07T10:59:37.756Z"
   },
   {
    "duration": 3,
    "start_time": "2022-12-07T10:59:38.100Z"
   },
   {
    "duration": 16,
    "start_time": "2022-12-07T10:59:38.277Z"
   },
   {
    "duration": 19,
    "start_time": "2022-12-07T10:59:38.813Z"
   },
   {
    "duration": 27,
    "start_time": "2022-12-07T10:59:39.350Z"
   },
   {
    "duration": 7,
    "start_time": "2022-12-07T10:59:39.516Z"
   },
   {
    "duration": 4,
    "start_time": "2022-12-07T10:59:39.684Z"
   },
   {
    "duration": 6,
    "start_time": "2022-12-07T10:59:39.863Z"
   },
   {
    "duration": 18,
    "start_time": "2022-12-07T10:59:40.076Z"
   },
   {
    "duration": 54,
    "start_time": "2022-12-07T10:59:40.957Z"
   },
   {
    "duration": 111,
    "start_time": "2022-12-07T11:00:58.643Z"
   },
   {
    "duration": 44,
    "start_time": "2022-12-07T11:01:05.588Z"
   },
   {
    "duration": 52,
    "start_time": "2022-12-07T11:01:59.387Z"
   },
   {
    "duration": 48,
    "start_time": "2022-12-07T11:03:05.362Z"
   },
   {
    "duration": 61,
    "start_time": "2022-12-07T11:03:16.386Z"
   },
   {
    "duration": 1450,
    "start_time": "2022-12-07T11:03:31.205Z"
   },
   {
    "duration": 48,
    "start_time": "2022-12-07T11:03:32.658Z"
   },
   {
    "duration": 8,
    "start_time": "2022-12-07T11:03:32.708Z"
   },
   {
    "duration": 16,
    "start_time": "2022-12-07T11:03:32.718Z"
   },
   {
    "duration": 6,
    "start_time": "2022-12-07T11:03:32.736Z"
   },
   {
    "duration": 4,
    "start_time": "2022-12-07T11:03:32.744Z"
   },
   {
    "duration": 7,
    "start_time": "2022-12-07T11:03:32.750Z"
   },
   {
    "duration": 16,
    "start_time": "2022-12-07T11:03:32.759Z"
   },
   {
    "duration": 19,
    "start_time": "2022-12-07T11:03:32.777Z"
   },
   {
    "duration": 152,
    "start_time": "2022-12-07T11:03:32.813Z"
   },
   {
    "duration": 7,
    "start_time": "2022-12-07T11:03:32.967Z"
   },
   {
    "duration": 164,
    "start_time": "2022-12-07T11:03:32.976Z"
   },
   {
    "duration": 3,
    "start_time": "2022-12-07T11:03:33.142Z"
   },
   {
    "duration": 18,
    "start_time": "2022-12-07T11:03:33.147Z"
   },
   {
    "duration": 19,
    "start_time": "2022-12-07T11:03:33.167Z"
   },
   {
    "duration": 47,
    "start_time": "2022-12-07T11:03:33.188Z"
   },
   {
    "duration": 8,
    "start_time": "2022-12-07T11:03:33.236Z"
   },
   {
    "duration": 7,
    "start_time": "2022-12-07T11:03:33.245Z"
   },
   {
    "duration": 26,
    "start_time": "2022-12-07T11:03:33.254Z"
   },
   {
    "duration": 38,
    "start_time": "2022-12-07T11:03:33.282Z"
   },
   {
    "duration": 48,
    "start_time": "2022-12-07T11:03:33.322Z"
   },
   {
    "duration": 122,
    "start_time": "2022-12-07T11:10:11.427Z"
   },
   {
    "duration": 26,
    "start_time": "2022-12-07T11:12:27.577Z"
   },
   {
    "duration": 1453,
    "start_time": "2022-12-07T11:12:33.510Z"
   },
   {
    "duration": 49,
    "start_time": "2022-12-07T11:12:34.965Z"
   },
   {
    "duration": 7,
    "start_time": "2022-12-07T11:12:35.015Z"
   },
   {
    "duration": 23,
    "start_time": "2022-12-07T11:12:35.025Z"
   },
   {
    "duration": 7,
    "start_time": "2022-12-07T11:12:35.050Z"
   },
   {
    "duration": 10,
    "start_time": "2022-12-07T11:12:35.059Z"
   },
   {
    "duration": 18,
    "start_time": "2022-12-07T11:12:35.070Z"
   },
   {
    "duration": 12,
    "start_time": "2022-12-07T11:12:35.090Z"
   },
   {
    "duration": 15,
    "start_time": "2022-12-07T11:12:35.105Z"
   },
   {
    "duration": 171,
    "start_time": "2022-12-07T11:12:35.123Z"
   },
   {
    "duration": 16,
    "start_time": "2022-12-07T11:12:35.296Z"
   },
   {
    "duration": 149,
    "start_time": "2022-12-07T11:12:35.314Z"
   },
   {
    "duration": 4,
    "start_time": "2022-12-07T11:12:35.465Z"
   },
   {
    "duration": 19,
    "start_time": "2022-12-07T11:12:35.471Z"
   },
   {
    "duration": 32,
    "start_time": "2022-12-07T11:12:35.493Z"
   },
   {
    "duration": 24,
    "start_time": "2022-12-07T11:12:35.527Z"
   },
   {
    "duration": 7,
    "start_time": "2022-12-07T11:12:35.553Z"
   },
   {
    "duration": 6,
    "start_time": "2022-12-07T11:12:35.562Z"
   },
   {
    "duration": 15,
    "start_time": "2022-12-07T11:12:35.569Z"
   },
   {
    "duration": 40,
    "start_time": "2022-12-07T11:12:35.586Z"
   },
   {
    "duration": 387,
    "start_time": "2022-12-07T11:12:35.628Z"
   },
   {
    "duration": 120,
    "start_time": "2022-12-07T11:14:42.366Z"
   },
   {
    "duration": 3789,
    "start_time": "2022-12-07T11:15:02.133Z"
   },
   {
    "duration": 3761,
    "start_time": "2022-12-07T11:16:01.572Z"
   },
   {
    "duration": 3784,
    "start_time": "2022-12-07T11:16:19.628Z"
   },
   {
    "duration": 3823,
    "start_time": "2022-12-07T11:17:10.563Z"
   },
   {
    "duration": 196,
    "start_time": "2022-12-07T11:17:27.339Z"
   },
   {
    "duration": 198,
    "start_time": "2022-12-07T11:22:00.840Z"
   },
   {
    "duration": 498,
    "start_time": "2022-12-07T11:24:19.285Z"
   },
   {
    "duration": 479,
    "start_time": "2022-12-07T11:24:28.346Z"
   },
   {
    "duration": 490,
    "start_time": "2022-12-07T11:25:18.875Z"
   },
   {
    "duration": 487,
    "start_time": "2022-12-07T11:26:23.290Z"
   },
   {
    "duration": 43905,
    "start_time": "2022-12-07T11:27:41.104Z"
   },
   {
    "duration": 42720,
    "start_time": "2022-12-07T11:30:35.990Z"
   },
   {
    "duration": 203,
    "start_time": "2022-12-07T11:31:28.124Z"
   },
   {
    "duration": 10537,
    "start_time": "2022-12-07T11:32:08.284Z"
   },
   {
    "duration": 1756,
    "start_time": "2022-12-07T11:32:23.884Z"
   },
   {
    "duration": 469,
    "start_time": "2022-12-07T11:32:42.620Z"
   },
   {
    "duration": 10688,
    "start_time": "2022-12-07T11:32:48.056Z"
   },
   {
    "duration": 10718,
    "start_time": "2022-12-07T11:34:55.625Z"
   },
   {
    "duration": 13,
    "start_time": "2022-12-07T11:39:39.473Z"
   },
   {
    "duration": 134,
    "start_time": "2022-12-07T11:39:47.581Z"
   },
   {
    "duration": 427,
    "start_time": "2022-12-07T11:40:39.470Z"
   },
   {
    "duration": 437,
    "start_time": "2022-12-07T11:41:27.556Z"
   },
   {
    "duration": 1494,
    "start_time": "2022-12-08T09:53:57.830Z"
   },
   {
    "duration": 375,
    "start_time": "2022-12-08T09:53:59.326Z"
   },
   {
    "duration": 6,
    "start_time": "2022-12-08T09:53:59.703Z"
   },
   {
    "duration": 28,
    "start_time": "2022-12-08T09:53:59.711Z"
   },
   {
    "duration": 6,
    "start_time": "2022-12-08T09:53:59.741Z"
   },
   {
    "duration": 24,
    "start_time": "2022-12-08T09:53:59.749Z"
   },
   {
    "duration": 11,
    "start_time": "2022-12-08T09:53:59.774Z"
   },
   {
    "duration": 18,
    "start_time": "2022-12-08T09:53:59.786Z"
   },
   {
    "duration": 20,
    "start_time": "2022-12-08T09:53:59.805Z"
   },
   {
    "duration": 136,
    "start_time": "2022-12-08T09:53:59.826Z"
   },
   {
    "duration": 6,
    "start_time": "2022-12-08T09:53:59.963Z"
   },
   {
    "duration": 130,
    "start_time": "2022-12-08T09:53:59.977Z"
   },
   {
    "duration": 3,
    "start_time": "2022-12-08T09:54:00.108Z"
   },
   {
    "duration": 39,
    "start_time": "2022-12-08T09:54:00.114Z"
   },
   {
    "duration": 35,
    "start_time": "2022-12-08T09:54:00.155Z"
   },
   {
    "duration": 35,
    "start_time": "2022-12-08T09:54:00.192Z"
   },
   {
    "duration": 19,
    "start_time": "2022-12-08T09:54:00.229Z"
   },
   {
    "duration": 28,
    "start_time": "2022-12-08T09:54:00.250Z"
   },
   {
    "duration": 69,
    "start_time": "2022-12-08T09:54:00.280Z"
   },
   {
    "duration": 52,
    "start_time": "2022-12-08T09:54:00.350Z"
   },
   {
    "duration": 219,
    "start_time": "2022-12-08T09:54:00.404Z"
   },
   {
    "duration": 9425,
    "start_time": "2022-12-08T09:54:00.625Z"
   },
   {
    "duration": 489,
    "start_time": "2022-12-08T09:54:10.052Z"
   },
   {
    "duration": 15,
    "start_time": "2022-12-08T09:59:35.320Z"
   },
   {
    "duration": 9358,
    "start_time": "2022-12-08T10:32:45.326Z"
   },
   {
    "duration": 108,
    "start_time": "2022-12-08T10:37:26.112Z"
   },
   {
    "duration": 12,
    "start_time": "2022-12-08T10:41:10.876Z"
   },
   {
    "duration": 18,
    "start_time": "2022-12-08T10:49:17.707Z"
   },
   {
    "duration": 10,
    "start_time": "2022-12-08T10:50:25.915Z"
   },
   {
    "duration": 104,
    "start_time": "2022-12-08T10:58:43.844Z"
   },
   {
    "duration": 18027,
    "start_time": "2022-12-08T10:58:53.125Z"
   },
   {
    "duration": 305,
    "start_time": "2022-12-08T11:00:45.161Z"
   },
   {
    "duration": 19014,
    "start_time": "2022-12-08T11:01:51.617Z"
   },
   {
    "duration": 670,
    "start_time": "2022-12-08T11:24:06.943Z"
   },
   {
    "duration": 14,
    "start_time": "2022-12-08T11:26:28.201Z"
   },
   {
    "duration": 9,
    "start_time": "2022-12-08T11:28:21.389Z"
   },
   {
    "duration": 4,
    "start_time": "2022-12-08T11:29:33.333Z"
   },
   {
    "duration": 46,
    "start_time": "2022-12-08T11:29:33.591Z"
   },
   {
    "duration": 5,
    "start_time": "2022-12-08T11:29:33.766Z"
   },
   {
    "duration": 20,
    "start_time": "2022-12-08T11:29:33.934Z"
   },
   {
    "duration": 7,
    "start_time": "2022-12-08T11:29:34.096Z"
   },
   {
    "duration": 3,
    "start_time": "2022-12-08T11:29:34.261Z"
   },
   {
    "duration": 4,
    "start_time": "2022-12-08T11:29:34.429Z"
   },
   {
    "duration": 7,
    "start_time": "2022-12-08T11:29:34.605Z"
   },
   {
    "duration": 8,
    "start_time": "2022-12-08T11:29:34.932Z"
   },
   {
    "duration": 133,
    "start_time": "2022-12-08T11:29:35.100Z"
   },
   {
    "duration": 6,
    "start_time": "2022-12-08T11:29:35.435Z"
   },
   {
    "duration": 192,
    "start_time": "2022-12-08T11:29:35.619Z"
   },
   {
    "duration": 1382,
    "start_time": "2022-12-08T11:29:39.850Z"
   },
   {
    "duration": 53,
    "start_time": "2022-12-08T11:29:41.234Z"
   },
   {
    "duration": 7,
    "start_time": "2022-12-08T11:29:41.292Z"
   },
   {
    "duration": 14,
    "start_time": "2022-12-08T11:29:41.301Z"
   },
   {
    "duration": 6,
    "start_time": "2022-12-08T11:29:41.317Z"
   },
   {
    "duration": 5,
    "start_time": "2022-12-08T11:29:41.324Z"
   },
   {
    "duration": 9,
    "start_time": "2022-12-08T11:29:41.331Z"
   },
   {
    "duration": 10,
    "start_time": "2022-12-08T11:29:41.341Z"
   },
   {
    "duration": 8,
    "start_time": "2022-12-08T11:29:41.353Z"
   },
   {
    "duration": 157,
    "start_time": "2022-12-08T11:29:41.378Z"
   },
   {
    "duration": 6,
    "start_time": "2022-12-08T11:29:41.536Z"
   },
   {
    "duration": 144,
    "start_time": "2022-12-08T11:29:41.544Z"
   },
   {
    "duration": 2,
    "start_time": "2022-12-08T11:29:41.690Z"
   },
   {
    "duration": 19,
    "start_time": "2022-12-08T11:29:41.695Z"
   },
   {
    "duration": 16,
    "start_time": "2022-12-08T11:29:41.715Z"
   },
   {
    "duration": 22,
    "start_time": "2022-12-08T11:29:41.733Z"
   },
   {
    "duration": 26,
    "start_time": "2022-12-08T11:29:41.757Z"
   },
   {
    "duration": 3,
    "start_time": "2022-12-08T11:29:41.787Z"
   },
   {
    "duration": 9,
    "start_time": "2022-12-08T11:29:41.792Z"
   },
   {
    "duration": 16,
    "start_time": "2022-12-08T11:29:41.803Z"
   },
   {
    "duration": 180,
    "start_time": "2022-12-08T11:29:41.821Z"
   },
   {
    "duration": 9991,
    "start_time": "2022-12-08T11:29:42.002Z"
   },
   {
    "duration": 494,
    "start_time": "2022-12-08T11:29:51.994Z"
   },
   {
    "duration": 17,
    "start_time": "2022-12-08T11:29:52.489Z"
   },
   {
    "duration": 9,
    "start_time": "2022-12-08T11:29:52.508Z"
   },
   {
    "duration": 354,
    "start_time": "2022-12-08T11:29:52.519Z"
   },
   {
    "duration": 18720,
    "start_time": "2022-12-08T11:29:52.877Z"
   },
   {
    "duration": 723,
    "start_time": "2022-12-08T11:30:11.599Z"
   },
   {
    "duration": 13,
    "start_time": "2022-12-08T11:30:12.323Z"
   },
   {
    "duration": 116,
    "start_time": "2022-12-08T11:30:12.337Z"
   },
   {
    "duration": 18,
    "start_time": "2022-12-08T11:30:20.668Z"
   },
   {
    "duration": 16,
    "start_time": "2022-12-08T11:34:08.633Z"
   },
   {
    "duration": 119,
    "start_time": "2022-12-08T11:34:36.138Z"
   },
   {
    "duration": 140,
    "start_time": "2022-12-08T11:37:52.860Z"
   },
   {
    "duration": 1324,
    "start_time": "2022-12-08T11:52:58.334Z"
   },
   {
    "duration": 51,
    "start_time": "2022-12-08T11:52:59.660Z"
   },
   {
    "duration": 7,
    "start_time": "2022-12-08T11:52:59.713Z"
   },
   {
    "duration": 13,
    "start_time": "2022-12-08T11:52:59.722Z"
   },
   {
    "duration": 5,
    "start_time": "2022-12-08T11:52:59.737Z"
   },
   {
    "duration": 5,
    "start_time": "2022-12-08T11:52:59.744Z"
   },
   {
    "duration": 6,
    "start_time": "2022-12-08T11:52:59.751Z"
   },
   {
    "duration": 24,
    "start_time": "2022-12-08T11:52:59.758Z"
   },
   {
    "duration": 10,
    "start_time": "2022-12-08T11:52:59.784Z"
   },
   {
    "duration": 151,
    "start_time": "2022-12-08T11:52:59.799Z"
   },
   {
    "duration": 7,
    "start_time": "2022-12-08T11:52:59.952Z"
   },
   {
    "duration": 169,
    "start_time": "2022-12-08T11:52:59.960Z"
   },
   {
    "duration": 2,
    "start_time": "2022-12-08T11:53:00.131Z"
   },
   {
    "duration": 53,
    "start_time": "2022-12-08T11:53:00.135Z"
   },
   {
    "duration": 73,
    "start_time": "2022-12-08T11:53:00.189Z"
   },
   {
    "duration": 77,
    "start_time": "2022-12-08T11:53:00.263Z"
   },
   {
    "duration": 51,
    "start_time": "2022-12-08T11:53:00.342Z"
   },
   {
    "duration": 20,
    "start_time": "2022-12-08T11:53:00.395Z"
   },
   {
    "duration": 44,
    "start_time": "2022-12-08T11:53:00.416Z"
   },
   {
    "duration": 76,
    "start_time": "2022-12-08T11:53:00.462Z"
   },
   {
    "duration": 221,
    "start_time": "2022-12-08T11:53:00.540Z"
   },
   {
    "duration": 9704,
    "start_time": "2022-12-08T11:53:00.763Z"
   },
   {
    "duration": 396,
    "start_time": "2022-12-08T11:53:10.469Z"
   },
   {
    "duration": 26,
    "start_time": "2022-12-08T11:53:10.867Z"
   },
   {
    "duration": 11,
    "start_time": "2022-12-08T11:53:10.894Z"
   },
   {
    "duration": 327,
    "start_time": "2022-12-08T11:53:10.907Z"
   },
   {
    "duration": 18632,
    "start_time": "2022-12-08T11:53:11.236Z"
   },
   {
    "duration": 683,
    "start_time": "2022-12-08T11:53:29.871Z"
   },
   {
    "duration": 22,
    "start_time": "2022-12-08T11:53:30.556Z"
   },
   {
    "duration": 145,
    "start_time": "2022-12-08T11:53:30.580Z"
   },
   {
    "duration": 72611,
    "start_time": "2022-12-08T11:59:41.213Z"
   },
   {
    "duration": 5,
    "start_time": "2022-12-08T12:00:53.825Z"
   },
   {
    "duration": 55,
    "start_time": "2022-12-08T12:03:35.018Z"
   },
   {
    "duration": 2,
    "start_time": "2022-12-08T12:05:33.840Z"
   },
   {
    "duration": 121,
    "start_time": "2022-12-08T12:05:35.768Z"
   },
   {
    "duration": 4,
    "start_time": "2022-12-08T12:05:45.457Z"
   },
   {
    "duration": 82,
    "start_time": "2022-12-08T12:05:45.463Z"
   },
   {
    "duration": 6,
    "start_time": "2022-12-08T12:05:45.547Z"
   },
   {
    "duration": 29,
    "start_time": "2022-12-08T12:05:45.555Z"
   },
   {
    "duration": 24,
    "start_time": "2022-12-08T12:05:45.586Z"
   },
   {
    "duration": 13,
    "start_time": "2022-12-08T12:05:45.612Z"
   },
   {
    "duration": 29,
    "start_time": "2022-12-08T12:05:45.626Z"
   },
   {
    "duration": 39,
    "start_time": "2022-12-08T12:05:45.657Z"
   },
   {
    "duration": 33,
    "start_time": "2022-12-08T12:05:45.698Z"
   },
   {
    "duration": 143,
    "start_time": "2022-12-08T12:05:45.732Z"
   },
   {
    "duration": 12,
    "start_time": "2022-12-08T12:05:45.877Z"
   },
   {
    "duration": 162,
    "start_time": "2022-12-08T12:05:45.891Z"
   },
   {
    "duration": 3,
    "start_time": "2022-12-08T12:05:46.054Z"
   },
   {
    "duration": 43,
    "start_time": "2022-12-08T12:05:46.060Z"
   },
   {
    "duration": 28,
    "start_time": "2022-12-08T12:05:46.104Z"
   },
   {
    "duration": 7,
    "start_time": "2022-12-08T12:05:46.134Z"
   },
   {
    "duration": 48,
    "start_time": "2022-12-08T12:05:46.142Z"
   },
   {
    "duration": 37,
    "start_time": "2022-12-08T12:05:46.192Z"
   },
   {
    "duration": 24,
    "start_time": "2022-12-08T12:05:46.230Z"
   },
   {
    "duration": 23,
    "start_time": "2022-12-08T12:05:46.256Z"
   },
   {
    "duration": 28,
    "start_time": "2022-12-08T12:05:46.288Z"
   },
   {
    "duration": 181,
    "start_time": "2022-12-08T12:05:46.318Z"
   },
   {
    "duration": 10906,
    "start_time": "2022-12-08T12:05:46.501Z"
   },
   {
    "duration": 443,
    "start_time": "2022-12-08T12:05:57.409Z"
   },
   {
    "duration": 12,
    "start_time": "2022-12-08T12:05:57.853Z"
   },
   {
    "duration": 29,
    "start_time": "2022-12-08T12:05:57.879Z"
   },
   {
    "duration": 327,
    "start_time": "2022-12-08T12:05:57.910Z"
   },
   {
    "duration": 18535,
    "start_time": "2022-12-08T12:05:58.239Z"
   },
   {
    "duration": 633,
    "start_time": "2022-12-08T12:06:16.776Z"
   },
   {
    "duration": 13,
    "start_time": "2022-12-08T12:06:17.411Z"
   },
   {
    "duration": 126,
    "start_time": "2022-12-08T12:06:17.426Z"
   },
   {
    "duration": 3,
    "start_time": "2022-12-08T12:14:33.632Z"
   },
   {
    "duration": 44,
    "start_time": "2022-12-08T12:14:33.791Z"
   },
   {
    "duration": 11,
    "start_time": "2022-12-08T12:14:33.979Z"
   },
   {
    "duration": 12,
    "start_time": "2022-12-08T12:14:34.151Z"
   },
   {
    "duration": 1391,
    "start_time": "2022-12-08T12:14:39.715Z"
   },
   {
    "duration": 48,
    "start_time": "2022-12-08T12:14:41.108Z"
   },
   {
    "duration": 7,
    "start_time": "2022-12-08T12:14:41.158Z"
   },
   {
    "duration": 15,
    "start_time": "2022-12-08T12:14:41.167Z"
   },
   {
    "duration": 16,
    "start_time": "2022-12-08T12:14:41.183Z"
   },
   {
    "duration": 5,
    "start_time": "2022-12-08T12:14:41.201Z"
   },
   {
    "duration": 11,
    "start_time": "2022-12-08T12:14:41.207Z"
   },
   {
    "duration": 9,
    "start_time": "2022-12-08T12:14:41.219Z"
   },
   {
    "duration": 8,
    "start_time": "2022-12-08T12:14:41.229Z"
   },
   {
    "duration": 150,
    "start_time": "2022-12-08T12:14:41.239Z"
   },
   {
    "duration": 5,
    "start_time": "2022-12-08T12:14:41.391Z"
   },
   {
    "duration": 120,
    "start_time": "2022-12-08T12:14:41.398Z"
   },
   {
    "duration": 3,
    "start_time": "2022-12-08T12:14:41.519Z"
   },
   {
    "duration": 17,
    "start_time": "2022-12-08T12:14:41.523Z"
   },
   {
    "duration": 20,
    "start_time": "2022-12-08T12:14:41.541Z"
   },
   {
    "duration": 20,
    "start_time": "2022-12-08T12:14:41.562Z"
   },
   {
    "duration": 27,
    "start_time": "2022-12-08T12:14:41.583Z"
   },
   {
    "duration": 7,
    "start_time": "2022-12-08T12:14:41.612Z"
   },
   {
    "duration": 3,
    "start_time": "2022-12-08T12:14:41.621Z"
   },
   {
    "duration": 11,
    "start_time": "2022-12-08T12:14:41.625Z"
   },
   {
    "duration": 24,
    "start_time": "2022-12-08T12:14:41.638Z"
   },
   {
    "duration": 190,
    "start_time": "2022-12-08T12:14:41.663Z"
   },
   {
    "duration": 9841,
    "start_time": "2022-12-08T12:14:41.855Z"
   },
   {
    "duration": 459,
    "start_time": "2022-12-08T12:14:51.697Z"
   },
   {
    "duration": 32,
    "start_time": "2022-12-08T12:14:52.158Z"
   },
   {
    "duration": 12,
    "start_time": "2022-12-08T12:14:52.193Z"
   },
   {
    "duration": 326,
    "start_time": "2022-12-08T12:14:52.206Z"
   },
   {
    "duration": 19088,
    "start_time": "2022-12-08T12:14:52.534Z"
   },
   {
    "duration": 690,
    "start_time": "2022-12-08T12:15:11.623Z"
   },
   {
    "duration": 14,
    "start_time": "2022-12-08T12:15:12.314Z"
   },
   {
    "duration": 127,
    "start_time": "2022-12-08T12:15:12.329Z"
   },
   {
    "duration": 48,
    "start_time": "2022-12-08T12:48:13.410Z"
   },
   {
    "duration": 48,
    "start_time": "2022-12-09T10:02:49.738Z"
   },
   {
    "duration": 1511,
    "start_time": "2022-12-09T10:02:54.600Z"
   },
   {
    "duration": 106,
    "start_time": "2022-12-09T10:02:56.113Z"
   },
   {
    "duration": 7,
    "start_time": "2022-12-09T10:02:56.221Z"
   },
   {
    "duration": 26,
    "start_time": "2022-12-09T10:02:56.230Z"
   },
   {
    "duration": 7,
    "start_time": "2022-12-09T10:02:56.258Z"
   },
   {
    "duration": 12,
    "start_time": "2022-12-09T10:02:56.267Z"
   },
   {
    "duration": 19,
    "start_time": "2022-12-09T10:02:56.281Z"
   },
   {
    "duration": 23,
    "start_time": "2022-12-09T10:02:56.302Z"
   },
   {
    "duration": 15,
    "start_time": "2022-12-09T10:02:56.327Z"
   },
   {
    "duration": 154,
    "start_time": "2022-12-09T10:02:56.345Z"
   },
   {
    "duration": 7,
    "start_time": "2022-12-09T10:02:56.502Z"
   },
   {
    "duration": 171,
    "start_time": "2022-12-09T10:02:56.511Z"
   },
   {
    "duration": 2,
    "start_time": "2022-12-09T10:02:56.684Z"
   },
   {
    "duration": 23,
    "start_time": "2022-12-09T10:02:56.688Z"
   },
   {
    "duration": 25,
    "start_time": "2022-12-09T10:02:56.713Z"
   },
   {
    "duration": 2,
    "start_time": "2022-12-09T10:02:56.741Z"
   },
   {
    "duration": 53,
    "start_time": "2022-12-09T10:02:56.744Z"
   },
   {
    "duration": 8,
    "start_time": "2022-12-09T10:02:56.799Z"
   },
   {
    "duration": 9,
    "start_time": "2022-12-09T10:02:56.808Z"
   },
   {
    "duration": 3235,
    "start_time": "2022-12-09T10:02:56.819Z"
   },
   {
    "duration": 0,
    "start_time": "2022-12-09T10:03:00.057Z"
   },
   {
    "duration": 0,
    "start_time": "2022-12-09T10:03:00.059Z"
   },
   {
    "duration": 0,
    "start_time": "2022-12-09T10:03:00.061Z"
   },
   {
    "duration": 0,
    "start_time": "2022-12-09T10:03:00.063Z"
   },
   {
    "duration": 0,
    "start_time": "2022-12-09T10:03:00.064Z"
   },
   {
    "duration": 0,
    "start_time": "2022-12-09T10:03:00.065Z"
   },
   {
    "duration": 0,
    "start_time": "2022-12-09T10:03:00.067Z"
   },
   {
    "duration": 0,
    "start_time": "2022-12-09T10:03:00.068Z"
   },
   {
    "duration": 0,
    "start_time": "2022-12-09T10:03:00.069Z"
   },
   {
    "duration": 0,
    "start_time": "2022-12-09T10:03:00.098Z"
   },
   {
    "duration": 0,
    "start_time": "2022-12-09T10:03:00.099Z"
   },
   {
    "duration": 0,
    "start_time": "2022-12-09T10:03:00.101Z"
   },
   {
    "duration": 0,
    "start_time": "2022-12-09T10:03:00.103Z"
   },
   {
    "duration": 2140,
    "start_time": "2022-12-09T10:06:59.767Z"
   },
   {
    "duration": 2136,
    "start_time": "2022-12-09T10:07:07.622Z"
   },
   {
    "duration": 4,
    "start_time": "2022-12-09T10:07:18.758Z"
   },
   {
    "duration": 1515,
    "start_time": "2022-12-09T10:07:47.619Z"
   },
   {
    "duration": 89,
    "start_time": "2022-12-09T10:07:49.136Z"
   },
   {
    "duration": 8,
    "start_time": "2022-12-09T10:07:49.229Z"
   },
   {
    "duration": 66,
    "start_time": "2022-12-09T10:07:49.239Z"
   },
   {
    "duration": 5,
    "start_time": "2022-12-09T10:07:49.307Z"
   },
   {
    "duration": 5,
    "start_time": "2022-12-09T10:07:49.314Z"
   },
   {
    "duration": 8,
    "start_time": "2022-12-09T10:07:49.320Z"
   },
   {
    "duration": 20,
    "start_time": "2022-12-09T10:07:49.329Z"
   },
   {
    "duration": 49,
    "start_time": "2022-12-09T10:07:49.351Z"
   },
   {
    "duration": 299,
    "start_time": "2022-12-09T10:07:49.402Z"
   },
   {
    "duration": 7,
    "start_time": "2022-12-09T10:07:49.703Z"
   },
   {
    "duration": 300,
    "start_time": "2022-12-09T10:07:49.712Z"
   },
   {
    "duration": 3,
    "start_time": "2022-12-09T10:07:50.014Z"
   },
   {
    "duration": 80,
    "start_time": "2022-12-09T10:07:50.019Z"
   },
   {
    "duration": 26,
    "start_time": "2022-12-09T10:07:50.101Z"
   },
   {
    "duration": 3,
    "start_time": "2022-12-09T10:07:50.130Z"
   },
   {
    "duration": 80,
    "start_time": "2022-12-09T10:07:50.134Z"
   },
   {
    "duration": 2264,
    "start_time": "2022-12-09T10:07:50.216Z"
   },
   {
    "duration": 116,
    "start_time": "2022-12-09T10:07:52.482Z"
   },
   {
    "duration": 0,
    "start_time": "2022-12-09T10:07:52.600Z"
   },
   {
    "duration": 0,
    "start_time": "2022-12-09T10:07:52.601Z"
   },
   {
    "duration": 0,
    "start_time": "2022-12-09T10:07:52.602Z"
   },
   {
    "duration": 0,
    "start_time": "2022-12-09T10:07:52.603Z"
   },
   {
    "duration": 0,
    "start_time": "2022-12-09T10:07:52.604Z"
   },
   {
    "duration": 0,
    "start_time": "2022-12-09T10:07:52.605Z"
   },
   {
    "duration": 0,
    "start_time": "2022-12-09T10:07:52.606Z"
   },
   {
    "duration": 0,
    "start_time": "2022-12-09T10:07:52.608Z"
   },
   {
    "duration": 0,
    "start_time": "2022-12-09T10:07:52.609Z"
   },
   {
    "duration": 0,
    "start_time": "2022-12-09T10:07:52.610Z"
   },
   {
    "duration": 0,
    "start_time": "2022-12-09T10:07:52.610Z"
   },
   {
    "duration": 0,
    "start_time": "2022-12-09T10:07:52.612Z"
   },
   {
    "duration": 0,
    "start_time": "2022-12-09T10:07:52.613Z"
   },
   {
    "duration": 0,
    "start_time": "2022-12-09T10:07:52.615Z"
   },
   {
    "duration": 7,
    "start_time": "2022-12-09T10:09:11.396Z"
   },
   {
    "duration": 3,
    "start_time": "2022-12-09T10:09:13.364Z"
   },
   {
    "duration": 2034,
    "start_time": "2022-12-09T10:09:31.251Z"
   },
   {
    "duration": 2031,
    "start_time": "2022-12-09T10:09:41.787Z"
   },
   {
    "duration": 6,
    "start_time": "2022-12-09T10:09:48.334Z"
   },
   {
    "duration": 21,
    "start_time": "2022-12-09T10:09:48.978Z"
   },
   {
    "duration": 174,
    "start_time": "2022-12-09T10:09:52.882Z"
   },
   {
    "duration": 1337,
    "start_time": "2022-12-09T10:10:01.012Z"
   },
   {
    "duration": 50,
    "start_time": "2022-12-09T10:10:02.351Z"
   },
   {
    "duration": 6,
    "start_time": "2022-12-09T10:10:02.403Z"
   },
   {
    "duration": 24,
    "start_time": "2022-12-09T10:10:02.411Z"
   },
   {
    "duration": 5,
    "start_time": "2022-12-09T10:10:02.438Z"
   },
   {
    "duration": 10,
    "start_time": "2022-12-09T10:10:02.445Z"
   },
   {
    "duration": 15,
    "start_time": "2022-12-09T10:10:02.457Z"
   },
   {
    "duration": 10,
    "start_time": "2022-12-09T10:10:02.474Z"
   },
   {
    "duration": 17,
    "start_time": "2022-12-09T10:10:02.485Z"
   },
   {
    "duration": 143,
    "start_time": "2022-12-09T10:10:02.504Z"
   },
   {
    "duration": 7,
    "start_time": "2022-12-09T10:10:02.649Z"
   },
   {
    "duration": 152,
    "start_time": "2022-12-09T10:10:02.657Z"
   },
   {
    "duration": 3,
    "start_time": "2022-12-09T10:10:02.811Z"
   },
   {
    "duration": 18,
    "start_time": "2022-12-09T10:10:02.816Z"
   },
   {
    "duration": 17,
    "start_time": "2022-12-09T10:10:02.836Z"
   },
   {
    "duration": 3,
    "start_time": "2022-12-09T10:10:02.854Z"
   },
   {
    "duration": 43,
    "start_time": "2022-12-09T10:10:02.858Z"
   },
   {
    "duration": 6,
    "start_time": "2022-12-09T10:10:02.903Z"
   },
   {
    "duration": 25,
    "start_time": "2022-12-09T10:10:02.910Z"
   },
   {
    "duration": 2285,
    "start_time": "2022-12-09T10:10:02.937Z"
   },
   {
    "duration": 8,
    "start_time": "2022-12-09T10:10:05.224Z"
   },
   {
    "duration": 33,
    "start_time": "2022-12-09T10:10:05.235Z"
   },
   {
    "duration": 201,
    "start_time": "2022-12-09T10:10:05.269Z"
   },
   {
    "duration": 10883,
    "start_time": "2022-12-09T10:10:05.472Z"
   },
   {
    "duration": 454,
    "start_time": "2022-12-09T10:10:16.357Z"
   },
   {
    "duration": 17,
    "start_time": "2022-12-09T10:10:16.813Z"
   },
   {
    "duration": 10,
    "start_time": "2022-12-09T10:10:16.832Z"
   },
   {
    "duration": 393,
    "start_time": "2022-12-09T10:10:16.843Z"
   },
   {
    "duration": 18161,
    "start_time": "2022-12-09T10:10:17.238Z"
   },
   {
    "duration": 646,
    "start_time": "2022-12-09T10:10:35.400Z"
   },
   {
    "duration": 12,
    "start_time": "2022-12-09T10:10:36.048Z"
   },
   {
    "duration": 20,
    "start_time": "2022-12-09T10:10:36.062Z"
   },
   {
    "duration": 198,
    "start_time": "2022-12-09T10:10:36.083Z"
   },
   {
    "duration": 12,
    "start_time": "2022-12-09T10:11:12.829Z"
   },
   {
    "duration": 102,
    "start_time": "2022-12-09T10:18:06.434Z"
   },
   {
    "duration": 4493,
    "start_time": "2022-12-09T10:18:36.978Z"
   },
   {
    "duration": 601,
    "start_time": "2022-12-09T10:19:15.905Z"
   },
   {
    "duration": 122,
    "start_time": "2022-12-09T10:30:14.414Z"
   },
   {
    "duration": 4,
    "start_time": "2022-12-09T10:30:41.125Z"
   },
   {
    "duration": 11,
    "start_time": "2022-12-09T10:30:49.126Z"
   },
   {
    "duration": 12,
    "start_time": "2022-12-09T10:31:22.073Z"
   },
   {
    "duration": 10,
    "start_time": "2022-12-09T10:31:32.997Z"
   },
   {
    "duration": 9,
    "start_time": "2022-12-09T10:31:49.525Z"
   },
   {
    "duration": 199,
    "start_time": "2022-12-09T10:31:52.189Z"
   },
   {
    "duration": 9,
    "start_time": "2022-12-09T10:31:54.061Z"
   },
   {
    "duration": 11,
    "start_time": "2022-12-09T10:32:20.572Z"
   },
   {
    "duration": 88,
    "start_time": "2022-12-09T10:45:23.511Z"
   },
   {
    "duration": 173,
    "start_time": "2022-12-09T10:45:37.111Z"
   },
   {
    "duration": 1311,
    "start_time": "2022-12-09T10:47:40.780Z"
   },
   {
    "duration": 47,
    "start_time": "2022-12-09T10:47:42.093Z"
   },
   {
    "duration": 20,
    "start_time": "2022-12-09T10:47:42.141Z"
   },
   {
    "duration": 29,
    "start_time": "2022-12-09T10:47:42.164Z"
   },
   {
    "duration": 19,
    "start_time": "2022-12-09T10:47:42.195Z"
   },
   {
    "duration": 31,
    "start_time": "2022-12-09T10:47:42.216Z"
   },
   {
    "duration": 33,
    "start_time": "2022-12-09T10:47:42.249Z"
   },
   {
    "duration": 39,
    "start_time": "2022-12-09T10:47:42.283Z"
   },
   {
    "duration": 52,
    "start_time": "2022-12-09T10:47:42.323Z"
   },
   {
    "duration": 139,
    "start_time": "2022-12-09T10:47:42.377Z"
   },
   {
    "duration": 6,
    "start_time": "2022-12-09T10:47:42.518Z"
   },
   {
    "duration": 131,
    "start_time": "2022-12-09T10:47:42.526Z"
   },
   {
    "duration": 3,
    "start_time": "2022-12-09T10:47:42.659Z"
   },
   {
    "duration": 31,
    "start_time": "2022-12-09T10:47:42.663Z"
   },
   {
    "duration": 33,
    "start_time": "2022-12-09T10:47:42.695Z"
   },
   {
    "duration": 17,
    "start_time": "2022-12-09T10:47:42.730Z"
   },
   {
    "duration": 48,
    "start_time": "2022-12-09T10:47:42.748Z"
   },
   {
    "duration": 12,
    "start_time": "2022-12-09T10:47:42.798Z"
   },
   {
    "duration": 45,
    "start_time": "2022-12-09T10:47:42.812Z"
   },
   {
    "duration": 2106,
    "start_time": "2022-12-09T10:47:42.858Z"
   },
   {
    "duration": 6,
    "start_time": "2022-12-09T10:47:44.967Z"
   },
   {
    "duration": 29,
    "start_time": "2022-12-09T10:47:44.975Z"
   },
   {
    "duration": 180,
    "start_time": "2022-12-09T10:47:45.005Z"
   },
   {
    "duration": 9275,
    "start_time": "2022-12-09T10:47:45.186Z"
   },
   {
    "duration": 508,
    "start_time": "2022-12-09T10:47:54.463Z"
   },
   {
    "duration": 26,
    "start_time": "2022-12-09T10:47:54.973Z"
   },
   {
    "duration": 11,
    "start_time": "2022-12-09T10:47:55.001Z"
   },
   {
    "duration": 313,
    "start_time": "2022-12-09T10:47:55.015Z"
   },
   {
    "duration": 18129,
    "start_time": "2022-12-09T10:47:55.329Z"
   },
   {
    "duration": 665,
    "start_time": "2022-12-09T10:48:13.459Z"
   },
   {
    "duration": 11,
    "start_time": "2022-12-09T10:48:14.125Z"
   },
   {
    "duration": 120,
    "start_time": "2022-12-09T10:48:14.138Z"
   },
   {
    "duration": 4497,
    "start_time": "2022-12-09T10:48:14.260Z"
   },
   {
    "duration": 602,
    "start_time": "2022-12-09T10:48:18.758Z"
   },
   {
    "duration": 69,
    "start_time": "2022-12-09T10:48:19.361Z"
   },
   {
    "duration": 161,
    "start_time": "2022-12-09T10:48:19.431Z"
   },
   {
    "duration": 133,
    "start_time": "2022-12-09T10:48:56.275Z"
   },
   {
    "duration": 14,
    "start_time": "2022-12-09T10:49:08.683Z"
   },
   {
    "duration": 14,
    "start_time": "2022-12-09T10:49:15.782Z"
   },
   {
    "duration": 4,
    "start_time": "2022-12-09T10:49:23.443Z"
   },
   {
    "duration": 46,
    "start_time": "2022-12-09T10:49:23.984Z"
   },
   {
    "duration": 5,
    "start_time": "2022-12-09T10:49:24.291Z"
   },
   {
    "duration": 14,
    "start_time": "2022-12-09T10:49:24.641Z"
   },
   {
    "duration": 6,
    "start_time": "2022-12-09T10:49:24.955Z"
   },
   {
    "duration": 3,
    "start_time": "2022-12-09T10:49:25.283Z"
   },
   {
    "duration": 4,
    "start_time": "2022-12-09T10:49:26.060Z"
   },
   {
    "duration": 7,
    "start_time": "2022-12-09T10:49:29.892Z"
   },
   {
    "duration": 1312,
    "start_time": "2022-12-09T10:49:36.267Z"
   },
   {
    "duration": 47,
    "start_time": "2022-12-09T10:49:37.581Z"
   },
   {
    "duration": 7,
    "start_time": "2022-12-09T10:49:37.630Z"
   },
   {
    "duration": 15,
    "start_time": "2022-12-09T10:49:37.638Z"
   },
   {
    "duration": 5,
    "start_time": "2022-12-09T10:49:37.655Z"
   },
   {
    "duration": 5,
    "start_time": "2022-12-09T10:49:37.661Z"
   },
   {
    "duration": 12,
    "start_time": "2022-12-09T10:49:37.667Z"
   },
   {
    "duration": 12,
    "start_time": "2022-12-09T10:49:37.680Z"
   },
   {
    "duration": 12,
    "start_time": "2022-12-09T10:49:37.697Z"
   },
   {
    "duration": 136,
    "start_time": "2022-12-09T10:49:37.711Z"
   },
   {
    "duration": 7,
    "start_time": "2022-12-09T10:49:37.849Z"
   },
   {
    "duration": 160,
    "start_time": "2022-12-09T10:49:37.858Z"
   },
   {
    "duration": 3,
    "start_time": "2022-12-09T10:49:38.020Z"
   },
   {
    "duration": 28,
    "start_time": "2022-12-09T10:49:38.026Z"
   },
   {
    "duration": 22,
    "start_time": "2022-12-09T10:49:38.056Z"
   },
   {
    "duration": 17,
    "start_time": "2022-12-09T10:49:38.080Z"
   },
   {
    "duration": 28,
    "start_time": "2022-12-09T10:49:38.099Z"
   },
   {
    "duration": 16,
    "start_time": "2022-12-09T10:49:38.129Z"
   },
   {
    "duration": 21,
    "start_time": "2022-12-09T10:49:38.147Z"
   },
   {
    "duration": 2993,
    "start_time": "2022-12-09T10:49:38.170Z"
   },
   {
    "duration": 7,
    "start_time": "2022-12-09T10:49:41.167Z"
   },
   {
    "duration": 31,
    "start_time": "2022-12-09T10:49:41.175Z"
   },
   {
    "duration": 163,
    "start_time": "2022-12-09T10:49:41.208Z"
   },
   {
    "duration": 9622,
    "start_time": "2022-12-09T10:49:41.375Z"
   },
   {
    "duration": 514,
    "start_time": "2022-12-09T10:49:51.000Z"
   },
   {
    "duration": 15,
    "start_time": "2022-12-09T10:49:51.516Z"
   },
   {
    "duration": 13,
    "start_time": "2022-12-09T10:49:51.533Z"
   },
   {
    "duration": 294,
    "start_time": "2022-12-09T10:49:51.547Z"
   },
   {
    "duration": 16866,
    "start_time": "2022-12-09T10:49:51.843Z"
   },
   {
    "duration": 641,
    "start_time": "2022-12-09T10:50:08.711Z"
   },
   {
    "duration": 12,
    "start_time": "2022-12-09T10:50:09.353Z"
   },
   {
    "duration": 123,
    "start_time": "2022-12-09T10:50:09.367Z"
   },
   {
    "duration": 4518,
    "start_time": "2022-12-09T10:50:09.491Z"
   },
   {
    "duration": 701,
    "start_time": "2022-12-09T10:50:14.010Z"
   },
   {
    "duration": 113,
    "start_time": "2022-12-09T10:50:14.714Z"
   },
   {
    "duration": 171,
    "start_time": "2022-12-09T10:50:14.829Z"
   },
   {
    "duration": 50,
    "start_time": "2023-04-30T11:08:57.477Z"
   },
   {
    "duration": 1634,
    "start_time": "2023-05-01T12:47:36.501Z"
   },
   {
    "duration": 187,
    "start_time": "2023-05-01T12:47:38.137Z"
   },
   {
    "duration": 9,
    "start_time": "2023-05-01T12:47:38.332Z"
   },
   {
    "duration": 23,
    "start_time": "2023-05-01T12:47:38.342Z"
   },
   {
    "duration": 30,
    "start_time": "2023-05-01T12:47:38.368Z"
   },
   {
    "duration": 16,
    "start_time": "2023-05-01T12:47:38.400Z"
   },
   {
    "duration": 44,
    "start_time": "2023-05-01T12:47:38.419Z"
   },
   {
    "duration": 13,
    "start_time": "2023-05-01T12:47:38.465Z"
   },
   {
    "duration": 9,
    "start_time": "2023-05-01T12:47:38.480Z"
   },
   {
    "duration": 184,
    "start_time": "2023-05-01T12:47:38.491Z"
   },
   {
    "duration": 6,
    "start_time": "2023-05-01T12:47:38.678Z"
   },
   {
    "duration": 175,
    "start_time": "2023-05-01T12:47:38.686Z"
   },
   {
    "duration": 3,
    "start_time": "2023-05-01T12:47:38.862Z"
   },
   {
    "duration": 57,
    "start_time": "2023-05-01T12:47:38.868Z"
   },
   {
    "duration": 44,
    "start_time": "2023-05-01T12:47:38.927Z"
   },
   {
    "duration": 12,
    "start_time": "2023-05-01T12:47:38.973Z"
   },
   {
    "duration": 61,
    "start_time": "2023-05-01T12:47:38.987Z"
   },
   {
    "duration": 9,
    "start_time": "2023-05-01T12:47:39.050Z"
   },
   {
    "duration": 5,
    "start_time": "2023-05-01T12:47:39.061Z"
   },
   {
    "duration": 5103,
    "start_time": "2023-05-01T12:47:39.068Z"
   },
   {
    "duration": 7,
    "start_time": "2023-05-01T12:47:44.173Z"
   },
   {
    "duration": 24,
    "start_time": "2023-05-01T12:47:44.182Z"
   },
   {
    "duration": 196,
    "start_time": "2023-05-01T12:47:44.208Z"
   },
   {
    "duration": 11965,
    "start_time": "2023-05-01T12:47:44.406Z"
   },
   {
    "duration": 621,
    "start_time": "2023-05-01T12:47:56.372Z"
   },
   {
    "duration": 39,
    "start_time": "2023-05-01T12:47:56.996Z"
   },
   {
    "duration": 13,
    "start_time": "2023-05-01T12:47:57.037Z"
   },
   {
    "duration": 334,
    "start_time": "2023-05-01T12:47:57.052Z"
   },
   {
    "duration": 20951,
    "start_time": "2023-05-01T12:47:57.388Z"
   },
   {
    "duration": 816,
    "start_time": "2023-05-01T12:48:18.341Z"
   },
   {
    "duration": 12,
    "start_time": "2023-05-01T12:48:19.159Z"
   },
   {
    "duration": 156,
    "start_time": "2023-05-01T12:48:19.173Z"
   },
   {
    "duration": 5397,
    "start_time": "2023-05-01T12:48:19.332Z"
   },
   {
    "duration": 827,
    "start_time": "2023-05-01T12:48:24.731Z"
   },
   {
    "duration": 82,
    "start_time": "2023-05-01T12:48:25.559Z"
   },
   {
    "duration": 188,
    "start_time": "2023-05-01T12:48:25.643Z"
   },
   {
    "duration": 1720,
    "start_time": "2023-06-02T11:09:10.576Z"
   },
   {
    "duration": 103,
    "start_time": "2023-06-02T11:09:22.188Z"
   },
   {
    "duration": 46,
    "start_time": "2023-06-02T11:09:28.564Z"
   },
   {
    "duration": 43,
    "start_time": "2023-06-02T11:09:36.867Z"
   },
   {
    "duration": 4,
    "start_time": "2023-06-02T11:09:50.472Z"
   },
   {
    "duration": 68,
    "start_time": "2023-06-02T11:09:50.477Z"
   },
   {
    "duration": 8,
    "start_time": "2023-06-02T11:09:50.547Z"
   },
   {
    "duration": 19,
    "start_time": "2023-06-02T11:09:50.557Z"
   },
   {
    "duration": 6,
    "start_time": "2023-06-02T11:09:50.577Z"
   },
   {
    "duration": 11,
    "start_time": "2023-06-02T11:09:50.585Z"
   },
   {
    "duration": 15,
    "start_time": "2023-06-02T11:09:50.597Z"
   },
   {
    "duration": 23,
    "start_time": "2023-06-02T11:09:50.613Z"
   },
   {
    "duration": 47,
    "start_time": "2023-06-02T11:09:50.638Z"
   },
   {
    "duration": 167,
    "start_time": "2023-06-02T11:09:50.688Z"
   },
   {
    "duration": 8,
    "start_time": "2023-06-02T11:09:50.858Z"
   },
   {
    "duration": 191,
    "start_time": "2023-06-02T11:09:50.868Z"
   },
   {
    "duration": 11,
    "start_time": "2023-06-02T11:09:51.063Z"
   },
   {
    "duration": 33,
    "start_time": "2023-06-02T11:09:51.081Z"
   },
   {
    "duration": 54,
    "start_time": "2023-06-02T11:09:51.115Z"
   },
   {
    "duration": 36,
    "start_time": "2023-06-02T11:09:51.171Z"
   },
   {
    "duration": 72,
    "start_time": "2023-06-02T11:09:51.209Z"
   },
   {
    "duration": 8,
    "start_time": "2023-06-02T11:09:51.283Z"
   },
   {
    "duration": 58,
    "start_time": "2023-06-02T11:09:51.293Z"
   },
   {
    "duration": 21,
    "start_time": "2023-06-02T11:09:51.353Z"
   },
   {
    "duration": 0,
    "start_time": "2023-06-02T11:09:51.376Z"
   },
   {
    "duration": 0,
    "start_time": "2023-06-02T11:09:51.377Z"
   },
   {
    "duration": 0,
    "start_time": "2023-06-02T11:09:51.379Z"
   },
   {
    "duration": 0,
    "start_time": "2023-06-02T11:09:51.380Z"
   },
   {
    "duration": 0,
    "start_time": "2023-06-02T11:09:51.382Z"
   },
   {
    "duration": 0,
    "start_time": "2023-06-02T11:09:51.383Z"
   },
   {
    "duration": 0,
    "start_time": "2023-06-02T11:09:51.384Z"
   },
   {
    "duration": 0,
    "start_time": "2023-06-02T11:09:51.387Z"
   },
   {
    "duration": 0,
    "start_time": "2023-06-02T11:09:51.387Z"
   },
   {
    "duration": 0,
    "start_time": "2023-06-02T11:09:51.388Z"
   },
   {
    "duration": 0,
    "start_time": "2023-06-02T11:09:51.389Z"
   },
   {
    "duration": 0,
    "start_time": "2023-06-02T11:09:51.391Z"
   },
   {
    "duration": 0,
    "start_time": "2023-06-02T11:09:51.392Z"
   },
   {
    "duration": 0,
    "start_time": "2023-06-02T11:09:51.393Z"
   },
   {
    "duration": 0,
    "start_time": "2023-06-02T11:09:51.394Z"
   },
   {
    "duration": 0,
    "start_time": "2023-06-02T11:09:51.395Z"
   },
   {
    "duration": 5,
    "start_time": "2023-06-02T11:10:11.652Z"
   },
   {
    "duration": 95,
    "start_time": "2023-06-02T11:10:11.660Z"
   },
   {
    "duration": 18,
    "start_time": "2023-06-02T11:10:11.757Z"
   },
   {
    "duration": 35,
    "start_time": "2023-06-02T11:10:11.776Z"
   },
   {
    "duration": 59,
    "start_time": "2023-06-02T11:10:11.814Z"
   },
   {
    "duration": 9,
    "start_time": "2023-06-02T11:10:11.875Z"
   },
   {
    "duration": 19,
    "start_time": "2023-06-02T11:10:11.886Z"
   },
   {
    "duration": 51,
    "start_time": "2023-06-02T11:10:11.906Z"
   },
   {
    "duration": 21,
    "start_time": "2023-06-02T11:10:11.959Z"
   },
   {
    "duration": 150,
    "start_time": "2023-06-02T11:10:11.981Z"
   },
   {
    "duration": 9,
    "start_time": "2023-06-02T11:10:12.133Z"
   },
   {
    "duration": 155,
    "start_time": "2023-06-02T11:10:12.144Z"
   },
   {
    "duration": 3,
    "start_time": "2023-06-02T11:10:12.301Z"
   },
   {
    "duration": 76,
    "start_time": "2023-06-02T11:10:12.308Z"
   },
   {
    "duration": 26,
    "start_time": "2023-06-02T11:10:12.386Z"
   },
   {
    "duration": 3,
    "start_time": "2023-06-02T11:10:12.413Z"
   },
   {
    "duration": 67,
    "start_time": "2023-06-02T11:10:12.417Z"
   },
   {
    "duration": 21,
    "start_time": "2023-06-02T11:10:12.486Z"
   },
   {
    "duration": 47,
    "start_time": "2023-06-02T11:10:12.508Z"
   },
   {
    "duration": 5344,
    "start_time": "2023-06-02T11:10:12.557Z"
   },
   {
    "duration": 5,
    "start_time": "2023-06-02T11:10:17.903Z"
   },
   {
    "duration": 65,
    "start_time": "2023-06-02T11:10:17.910Z"
   },
   {
    "duration": 172,
    "start_time": "2023-06-02T11:10:17.977Z"
   },
   {
    "duration": 9701,
    "start_time": "2023-06-02T11:10:18.156Z"
   },
   {
    "duration": 718,
    "start_time": "2023-06-02T11:10:27.858Z"
   },
   {
    "duration": 57,
    "start_time": "2023-06-02T11:10:28.578Z"
   },
   {
    "duration": 17,
    "start_time": "2023-06-02T11:10:28.637Z"
   },
   {
    "duration": 270,
    "start_time": "2023-06-02T11:10:28.655Z"
   },
   {
    "duration": 17656,
    "start_time": "2023-06-02T11:10:28.930Z"
   },
   {
    "duration": 602,
    "start_time": "2023-06-02T11:10:46.587Z"
   },
   {
    "duration": 11,
    "start_time": "2023-06-02T11:10:47.191Z"
   },
   {
    "duration": 115,
    "start_time": "2023-06-02T11:10:47.203Z"
   },
   {
    "duration": 4482,
    "start_time": "2023-06-02T11:10:47.324Z"
   },
   {
    "duration": 561,
    "start_time": "2023-06-02T11:10:51.808Z"
   },
   {
    "duration": 93,
    "start_time": "2023-06-02T11:10:52.370Z"
   },
   {
    "duration": 158,
    "start_time": "2023-06-02T11:10:52.464Z"
   }
  ],
  "kernelspec": {
   "display_name": "Python 3 (ipykernel)",
   "language": "python",
   "name": "python3"
  },
  "language_info": {
   "codemirror_mode": {
    "name": "ipython",
    "version": 3
   },
   "file_extension": ".py",
   "mimetype": "text/x-python",
   "name": "python",
   "nbconvert_exporter": "python",
   "pygments_lexer": "ipython3",
   "version": "3.9.5"
  },
  "toc": {
   "base_numbering": 1,
   "nav_menu": {},
   "number_sections": true,
   "sideBar": true,
   "skip_h1_title": true,
   "title_cell": "Содержание",
   "title_sidebar": "Contents",
   "toc_cell": true,
   "toc_position": {
    "height": "calc(100% - 180px)",
    "left": "10px",
    "top": "150px",
    "width": "281.75px"
   },
   "toc_section_display": true,
   "toc_window_display": true
  }
 },
 "nbformat": 4,
 "nbformat_minor": 2
}
