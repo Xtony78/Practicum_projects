{
 "cells": [
  {
   "attachments": {},
   "cell_type": "markdown",
   "metadata": {},
   "source": [
    "# Телеком — задача проекта\n",
    "\n",
    "Оператор связи «Ниединогоразрыва.ком» хочет научиться прогнозировать отток клиентов. Если выяснится, что пользователь планирует уйти, ему будут предложены промокоды и специальные условия. Команда оператора собрала персональные данные о некоторых клиентах, информацию об их тарифах и договорах."
   ]
  },
  {
   "attachments": {},
   "cell_type": "markdown",
   "metadata": {},
   "source": [
    "### Цель проекта"
   ]
  },
  {
   "attachments": {},
   "cell_type": "markdown",
   "metadata": {},
   "source": [
    "Создать модель, которая будет предсказывать вероятность ухода клиента."
   ]
  },
  {
   "attachments": {},
   "cell_type": "markdown",
   "metadata": {},
   "source": [
    "### Описание данных\n",
    "\n",
    "Данные состоят из файлов, полученных из разных источников:\n",
    "\n",
    "- `contract_new.csv` — информация о договоре;\n",
    "- `personal_new.csv` — персональные данные клиента;\n",
    "- `internet_new.csv` — информация об интернет-услугах;\n",
    "- `phone_new.csv` — информация об услугах телефонии.\n",
    "\n",
    "Во всех файлах столбец `customerID` содержит код клиента.\n",
    "\n",
    "Информация о договорах актуальна на 1 февраля 2020."
   ]
  },
  {
   "attachments": {},
   "cell_type": "markdown",
   "metadata": {},
   "source": [
    "**Описание полей:**\n",
    "\n",
    "BeginDate – дата начала пользования услугами\n",
    "\n",
    "EndDate – дата окончания пользования услугами\n",
    "\n",
    "Type – тип оплаты: ежемесячный, годовой и тд\n",
    "\n",
    "PaperlessBilling – безналичный расчет\n",
    "\n",
    "PaymentMethod – способ оплаты\n",
    "\n",
    "MonthlyCharges – ежемесячные траты на услуги\n",
    "\n",
    "TotalCharges – всего потрачено денег на услуги\n",
    "\n",
    "Dependents – наличие иждивенцев\n",
    "\n",
    "Senior Citizen – наличие пенсионного статуса по возрасту\n",
    "\n",
    "Partner – наличие супруга(и)\n",
    "\n",
    "MultipleLines – наличие возможности ведения параллельных линий во время звонка"
   ]
  },
  {
   "attachments": {},
   "cell_type": "markdown",
   "metadata": {},
   "source": [
    "### План проекта"
   ]
  },
  {
   "attachments": {},
   "cell_type": "markdown",
   "metadata": {},
   "source": [
    "- Постановка задачи и определение конечного результата.\n",
    "- Загрузка и анализ данных\n",
    " - Выводы по итогу анализа данных\n",
    "- Предобработка\n",
    " - Удаление/замена пропусков в данных\n",
    " - Работа с дубликатами и типами данных\n",
    "- Исследовательский анализ\n",
    "- Сгенерировать дополнительные признаки и целевую переменную\n",
    "- Построение модели на тренировочных данных(отбор 2-3 моделей, подбор гиперапараметров, обучение)\n",
    "- Проверка лучшей модели на тестовой выборке\n",
    "- Общий вывод"
   ]
  },
  {
   "attachments": {},
   "cell_type": "markdown",
   "metadata": {},
   "source": [
    "### Предварительный анализ данных"
   ]
  },
  {
   "cell_type": "code",
   "execution_count": 1,
   "metadata": {},
   "outputs": [
    {
     "name": "stdout",
     "output_type": "stream",
     "text": [
      "Requirement already satisfied: phik in c:\\users\\anton\\anaconda3\\envs\\ds_practicum_env\\lib\\site-packages (0.12.3)\n",
      "Requirement already satisfied: scipy>=1.5.2 in c:\\users\\anton\\anaconda3\\envs\\ds_practicum_env\\lib\\site-packages (from phik) (1.8.0)\n",
      "Requirement already satisfied: matplotlib>=2.2.3 in c:\\users\\anton\\anaconda3\\envs\\ds_practicum_env\\lib\\site-packages (from phik) (3.3.4)\n",
      "Requirement already satisfied: joblib>=0.14.1 in c:\\users\\anton\\anaconda3\\envs\\ds_practicum_env\\lib\\site-packages (from phik) (1.2.0)\n",
      "Requirement already satisfied: pandas>=0.25.1 in c:\\users\\anton\\anaconda3\\envs\\ds_practicum_env\\lib\\site-packages (from phik) (1.2.4)\n",
      "Requirement already satisfied: numpy>=1.18.0 in c:\\users\\anton\\anaconda3\\envs\\ds_practicum_env\\lib\\site-packages (from phik) (1.20.1)\n",
      "Requirement already satisfied: pyparsing!=2.0.4,!=2.1.2,!=2.1.6,>=2.0.3 in c:\\users\\anton\\anaconda3\\envs\\ds_practicum_env\\lib\\site-packages (from matplotlib>=2.2.3->phik) (3.0.9)\n",
      "Requirement already satisfied: python-dateutil>=2.1 in c:\\users\\anton\\anaconda3\\envs\\ds_practicum_env\\lib\\site-packages (from matplotlib>=2.2.3->phik) (2.8.2)\n",
      "Requirement already satisfied: cycler>=0.10 in c:\\users\\anton\\anaconda3\\envs\\ds_practicum_env\\lib\\site-packages (from matplotlib>=2.2.3->phik) (0.11.0)\n",
      "Requirement already satisfied: pillow>=6.2.0 in c:\\users\\anton\\anaconda3\\envs\\ds_practicum_env\\lib\\site-packages (from matplotlib>=2.2.3->phik) (8.4.0)\n",
      "Requirement already satisfied: kiwisolver>=1.0.1 in c:\\users\\anton\\anaconda3\\envs\\ds_practicum_env\\lib\\site-packages (from matplotlib>=2.2.3->phik) (1.4.4)\n",
      "Requirement already satisfied: pytz>=2017.3 in c:\\users\\anton\\anaconda3\\envs\\ds_practicum_env\\lib\\site-packages (from pandas>=0.25.1->phik) (2022.7.1)\n",
      "Requirement already satisfied: six>=1.5 in c:\\users\\anton\\anaconda3\\envs\\ds_practicum_env\\lib\\site-packages (from python-dateutil>=2.1->matplotlib>=2.2.3->phik) (1.16.0)\n",
      "Note: you may need to restart the kernel to use updated packages.\n"
     ]
    }
   ],
   "source": [
    "%pip install phik"
   ]
  },
  {
   "cell_type": "code",
   "execution_count": 2,
   "metadata": {
    "scrolled": true
   },
   "outputs": [],
   "source": [
    "import warnings\n",
    "warnings.filterwarnings(\"ignore\")\n",
    "\n",
    "import pandas as pd\n",
    "import seaborn as sns\n",
    "import matplotlib.pyplot as plt\n",
    "import numpy as np\n",
    "from sklearn.model_selection import train_test_split\n",
    "from sklearn.preprocessing import StandardScaler\n",
    "from sklearn.preprocessing import OneHotEncoder\n",
    "\n",
    "\n",
    "from sklearn.linear_model import LogisticRegression\n",
    "from sklearn.ensemble import RandomForestClassifier\n",
    "from lightgbm import LGBMClassifier\n",
    "\n",
    "from sklearn.model_selection import train_test_split, RandomizedSearchCV\n",
    "from sklearn.metrics import roc_auc_score, accuracy_score, roc_curve\n",
    "from sklearn.model_selection import cross_val_score\n",
    "\n",
    "import phik\n",
    "\n",
    "import time"
   ]
  },
  {
   "cell_type": "code",
   "execution_count": 3,
   "metadata": {},
   "outputs": [
    {
     "name": "stdout",
     "output_type": "stream",
     "text": [
      "Requirement already satisfied: scikit-learn==1.1.3 in c:\\users\\anton\\anaconda3\\envs\\ds_practicum_env\\lib\\site-packages (1.1.3)\n",
      "Requirement already satisfied: joblib>=1.0.0 in c:\\users\\anton\\anaconda3\\envs\\ds_practicum_env\\lib\\site-packages (from scikit-learn==1.1.3) (1.2.0)\n",
      "Requirement already satisfied: threadpoolctl>=2.0.0 in c:\\users\\anton\\anaconda3\\envs\\ds_practicum_env\\lib\\site-packages (from scikit-learn==1.1.3) (3.1.0)\n",
      "Requirement already satisfied: scipy>=1.3.2 in c:\\users\\anton\\anaconda3\\envs\\ds_practicum_env\\lib\\site-packages (from scikit-learn==1.1.3) (1.8.0)\n",
      "Requirement already satisfied: numpy>=1.17.3 in c:\\users\\anton\\anaconda3\\envs\\ds_practicum_env\\lib\\site-packages (from scikit-learn==1.1.3) (1.20.1)\n",
      "Note: you may need to restart the kernel to use updated packages.\n"
     ]
    }
   ],
   "source": [
    "%pip install scikit-learn==1.1.3"
   ]
  },
  {
   "cell_type": "code",
   "execution_count": 4,
   "metadata": {
    "scrolled": true
   },
   "outputs": [],
   "source": [
    "try:\n",
    "    contract = pd.read_csv('/datasets/contract_new.csv')\n",
    "    personal = pd.read_csv('/datasets/personal_new.csv')\n",
    "    internet = pd.read_csv('/datasets/internet_new.csv')\n",
    "    phone = pd.read_csv('/datasets/phone_new.csv')\n",
    "except:\n",
    "    contract = pd.read_csv('https://code.s3.yandex.net/datasets/contract_new.csv')\n",
    "    personal = pd.read_csv('https://code.s3.yandex.net/datasets/personal_new.csv')\n",
    "    internet = pd.read_csv('https://code.s3.yandex.net/datasets/internet_new.csv')\n",
    "    phone = pd.read_csv('https://code.s3.yandex.net/datasets/phone_new.csv')\n",
    "\n",
    "\n",
    "\n",
    "\n"
   ]
  },
  {
   "cell_type": "code",
   "execution_count": 5,
   "metadata": {
    "scrolled": true
   },
   "outputs": [
    {
     "data": {
      "text/html": [
       "<div>\n",
       "<style scoped>\n",
       "    .dataframe tbody tr th:only-of-type {\n",
       "        vertical-align: middle;\n",
       "    }\n",
       "\n",
       "    .dataframe tbody tr th {\n",
       "        vertical-align: top;\n",
       "    }\n",
       "\n",
       "    .dataframe thead th {\n",
       "        text-align: right;\n",
       "    }\n",
       "</style>\n",
       "<table border=\"1\" class=\"dataframe\">\n",
       "  <thead>\n",
       "    <tr style=\"text-align: right;\">\n",
       "      <th></th>\n",
       "      <th>customerID</th>\n",
       "      <th>BeginDate</th>\n",
       "      <th>EndDate</th>\n",
       "      <th>Type</th>\n",
       "      <th>PaperlessBilling</th>\n",
       "      <th>PaymentMethod</th>\n",
       "      <th>MonthlyCharges</th>\n",
       "      <th>TotalCharges</th>\n",
       "    </tr>\n",
       "  </thead>\n",
       "  <tbody>\n",
       "    <tr>\n",
       "      <th>0</th>\n",
       "      <td>7590-VHVEG</td>\n",
       "      <td>2020-01-01</td>\n",
       "      <td>No</td>\n",
       "      <td>Month-to-month</td>\n",
       "      <td>Yes</td>\n",
       "      <td>Electronic check</td>\n",
       "      <td>29.85</td>\n",
       "      <td>31.04</td>\n",
       "    </tr>\n",
       "    <tr>\n",
       "      <th>1</th>\n",
       "      <td>5575-GNVDE</td>\n",
       "      <td>2017-04-01</td>\n",
       "      <td>No</td>\n",
       "      <td>One year</td>\n",
       "      <td>No</td>\n",
       "      <td>Mailed check</td>\n",
       "      <td>56.95</td>\n",
       "      <td>2071.84</td>\n",
       "    </tr>\n",
       "    <tr>\n",
       "      <th>2</th>\n",
       "      <td>3668-QPYBK</td>\n",
       "      <td>2019-10-01</td>\n",
       "      <td>No</td>\n",
       "      <td>Month-to-month</td>\n",
       "      <td>Yes</td>\n",
       "      <td>Mailed check</td>\n",
       "      <td>53.85</td>\n",
       "      <td>226.17</td>\n",
       "    </tr>\n",
       "    <tr>\n",
       "      <th>3</th>\n",
       "      <td>7795-CFOCW</td>\n",
       "      <td>2016-05-01</td>\n",
       "      <td>No</td>\n",
       "      <td>One year</td>\n",
       "      <td>No</td>\n",
       "      <td>Bank transfer (automatic)</td>\n",
       "      <td>42.30</td>\n",
       "      <td>1960.6</td>\n",
       "    </tr>\n",
       "    <tr>\n",
       "      <th>4</th>\n",
       "      <td>9237-HQITU</td>\n",
       "      <td>2019-09-01</td>\n",
       "      <td>No</td>\n",
       "      <td>Month-to-month</td>\n",
       "      <td>Yes</td>\n",
       "      <td>Electronic check</td>\n",
       "      <td>70.70</td>\n",
       "      <td>353.5</td>\n",
       "    </tr>\n",
       "    <tr>\n",
       "      <th>5</th>\n",
       "      <td>9305-CDSKC</td>\n",
       "      <td>2019-03-01</td>\n",
       "      <td>No</td>\n",
       "      <td>Month-to-month</td>\n",
       "      <td>Yes</td>\n",
       "      <td>Electronic check</td>\n",
       "      <td>99.65</td>\n",
       "      <td>1150.96</td>\n",
       "    </tr>\n",
       "    <tr>\n",
       "      <th>6</th>\n",
       "      <td>1452-KIOVK</td>\n",
       "      <td>2018-04-01</td>\n",
       "      <td>No</td>\n",
       "      <td>Month-to-month</td>\n",
       "      <td>Yes</td>\n",
       "      <td>Credit card (automatic)</td>\n",
       "      <td>89.10</td>\n",
       "      <td>2058.21</td>\n",
       "    </tr>\n",
       "    <tr>\n",
       "      <th>7</th>\n",
       "      <td>6713-OKOMC</td>\n",
       "      <td>2019-04-01</td>\n",
       "      <td>No</td>\n",
       "      <td>Month-to-month</td>\n",
       "      <td>No</td>\n",
       "      <td>Mailed check</td>\n",
       "      <td>29.75</td>\n",
       "      <td>300.48</td>\n",
       "    </tr>\n",
       "    <tr>\n",
       "      <th>8</th>\n",
       "      <td>7892-POOKP</td>\n",
       "      <td>2017-07-01</td>\n",
       "      <td>No</td>\n",
       "      <td>Month-to-month</td>\n",
       "      <td>Yes</td>\n",
       "      <td>Electronic check</td>\n",
       "      <td>104.80</td>\n",
       "      <td>3573.68</td>\n",
       "    </tr>\n",
       "    <tr>\n",
       "      <th>9</th>\n",
       "      <td>6388-TABGU</td>\n",
       "      <td>2014-12-01</td>\n",
       "      <td>2017-05-01</td>\n",
       "      <td>One year</td>\n",
       "      <td>No</td>\n",
       "      <td>Bank transfer (automatic)</td>\n",
       "      <td>56.15</td>\n",
       "      <td>1628.35</td>\n",
       "    </tr>\n",
       "  </tbody>\n",
       "</table>\n",
       "</div>"
      ],
      "text/plain": [
       "   customerID   BeginDate     EndDate            Type PaperlessBilling  \\\n",
       "0  7590-VHVEG  2020-01-01          No  Month-to-month              Yes   \n",
       "1  5575-GNVDE  2017-04-01          No        One year               No   \n",
       "2  3668-QPYBK  2019-10-01          No  Month-to-month              Yes   \n",
       "3  7795-CFOCW  2016-05-01          No        One year               No   \n",
       "4  9237-HQITU  2019-09-01          No  Month-to-month              Yes   \n",
       "5  9305-CDSKC  2019-03-01          No  Month-to-month              Yes   \n",
       "6  1452-KIOVK  2018-04-01          No  Month-to-month              Yes   \n",
       "7  6713-OKOMC  2019-04-01          No  Month-to-month               No   \n",
       "8  7892-POOKP  2017-07-01          No  Month-to-month              Yes   \n",
       "9  6388-TABGU  2014-12-01  2017-05-01        One year               No   \n",
       "\n",
       "               PaymentMethod  MonthlyCharges TotalCharges  \n",
       "0           Electronic check           29.85        31.04  \n",
       "1               Mailed check           56.95      2071.84  \n",
       "2               Mailed check           53.85       226.17  \n",
       "3  Bank transfer (automatic)           42.30       1960.6  \n",
       "4           Electronic check           70.70        353.5  \n",
       "5           Electronic check           99.65      1150.96  \n",
       "6    Credit card (automatic)           89.10      2058.21  \n",
       "7               Mailed check           29.75       300.48  \n",
       "8           Electronic check          104.80      3573.68  \n",
       "9  Bank transfer (automatic)           56.15      1628.35  "
      ]
     },
     "execution_count": 5,
     "metadata": {},
     "output_type": "execute_result"
    }
   ],
   "source": [
    "contract.head(10)"
   ]
  },
  {
   "cell_type": "code",
   "execution_count": 6,
   "metadata": {
    "scrolled": true
   },
   "outputs": [
    {
     "name": "stdout",
     "output_type": "stream",
     "text": [
      "<class 'pandas.core.frame.DataFrame'>\n",
      "RangeIndex: 7043 entries, 0 to 7042\n",
      "Data columns (total 8 columns):\n",
      " #   Column            Non-Null Count  Dtype  \n",
      "---  ------            --------------  -----  \n",
      " 0   customerID        7043 non-null   object \n",
      " 1   BeginDate         7043 non-null   object \n",
      " 2   EndDate           7043 non-null   object \n",
      " 3   Type              7043 non-null   object \n",
      " 4   PaperlessBilling  7043 non-null   object \n",
      " 5   PaymentMethod     7043 non-null   object \n",
      " 6   MonthlyCharges    7043 non-null   float64\n",
      " 7   TotalCharges      7043 non-null   object \n",
      "dtypes: float64(1), object(7)\n",
      "memory usage: 440.3+ KB\n"
     ]
    }
   ],
   "source": [
    "contract.info()"
   ]
  },
  {
   "cell_type": "code",
   "execution_count": 7,
   "metadata": {
    "scrolled": true
   },
   "outputs": [
    {
     "data": {
      "text/html": [
       "<div>\n",
       "<style scoped>\n",
       "    .dataframe tbody tr th:only-of-type {\n",
       "        vertical-align: middle;\n",
       "    }\n",
       "\n",
       "    .dataframe tbody tr th {\n",
       "        vertical-align: top;\n",
       "    }\n",
       "\n",
       "    .dataframe thead th {\n",
       "        text-align: right;\n",
       "    }\n",
       "</style>\n",
       "<table border=\"1\" class=\"dataframe\">\n",
       "  <thead>\n",
       "    <tr style=\"text-align: right;\">\n",
       "      <th></th>\n",
       "      <th>MonthlyCharges</th>\n",
       "    </tr>\n",
       "  </thead>\n",
       "  <tbody>\n",
       "    <tr>\n",
       "      <th>count</th>\n",
       "      <td>7043.000000</td>\n",
       "    </tr>\n",
       "    <tr>\n",
       "      <th>mean</th>\n",
       "      <td>64.761692</td>\n",
       "    </tr>\n",
       "    <tr>\n",
       "      <th>std</th>\n",
       "      <td>30.090047</td>\n",
       "    </tr>\n",
       "    <tr>\n",
       "      <th>min</th>\n",
       "      <td>18.250000</td>\n",
       "    </tr>\n",
       "    <tr>\n",
       "      <th>25%</th>\n",
       "      <td>35.500000</td>\n",
       "    </tr>\n",
       "    <tr>\n",
       "      <th>50%</th>\n",
       "      <td>70.350000</td>\n",
       "    </tr>\n",
       "    <tr>\n",
       "      <th>75%</th>\n",
       "      <td>89.850000</td>\n",
       "    </tr>\n",
       "    <tr>\n",
       "      <th>max</th>\n",
       "      <td>118.750000</td>\n",
       "    </tr>\n",
       "  </tbody>\n",
       "</table>\n",
       "</div>"
      ],
      "text/plain": [
       "       MonthlyCharges\n",
       "count     7043.000000\n",
       "mean        64.761692\n",
       "std         30.090047\n",
       "min         18.250000\n",
       "25%         35.500000\n",
       "50%         70.350000\n",
       "75%         89.850000\n",
       "max        118.750000"
      ]
     },
     "execution_count": 7,
     "metadata": {},
     "output_type": "execute_result"
    }
   ],
   "source": [
    "contract.describe()"
   ]
  },
  {
   "attachments": {},
   "cell_type": "markdown",
   "metadata": {},
   "source": [
    "1. Пропуски в данных отсутствуют\n",
    "\n",
    "2. Требуется изменить формат данных в колонках \"BeginDate\" и \"EndDate\" на datetime64, \"TotalCharges\" на float64.\n"
   ]
  },
  {
   "cell_type": "code",
   "execution_count": 8,
   "metadata": {
    "scrolled": true
   },
   "outputs": [
    {
     "data": {
      "text/html": [
       "<div>\n",
       "<style scoped>\n",
       "    .dataframe tbody tr th:only-of-type {\n",
       "        vertical-align: middle;\n",
       "    }\n",
       "\n",
       "    .dataframe tbody tr th {\n",
       "        vertical-align: top;\n",
       "    }\n",
       "\n",
       "    .dataframe thead th {\n",
       "        text-align: right;\n",
       "    }\n",
       "</style>\n",
       "<table border=\"1\" class=\"dataframe\">\n",
       "  <thead>\n",
       "    <tr style=\"text-align: right;\">\n",
       "      <th></th>\n",
       "      <th>customerID</th>\n",
       "      <th>gender</th>\n",
       "      <th>SeniorCitizen</th>\n",
       "      <th>Partner</th>\n",
       "      <th>Dependents</th>\n",
       "    </tr>\n",
       "  </thead>\n",
       "  <tbody>\n",
       "    <tr>\n",
       "      <th>0</th>\n",
       "      <td>7590-VHVEG</td>\n",
       "      <td>Female</td>\n",
       "      <td>0</td>\n",
       "      <td>Yes</td>\n",
       "      <td>No</td>\n",
       "    </tr>\n",
       "    <tr>\n",
       "      <th>1</th>\n",
       "      <td>5575-GNVDE</td>\n",
       "      <td>Male</td>\n",
       "      <td>0</td>\n",
       "      <td>No</td>\n",
       "      <td>No</td>\n",
       "    </tr>\n",
       "    <tr>\n",
       "      <th>2</th>\n",
       "      <td>3668-QPYBK</td>\n",
       "      <td>Male</td>\n",
       "      <td>0</td>\n",
       "      <td>No</td>\n",
       "      <td>No</td>\n",
       "    </tr>\n",
       "    <tr>\n",
       "      <th>3</th>\n",
       "      <td>7795-CFOCW</td>\n",
       "      <td>Male</td>\n",
       "      <td>0</td>\n",
       "      <td>No</td>\n",
       "      <td>No</td>\n",
       "    </tr>\n",
       "    <tr>\n",
       "      <th>4</th>\n",
       "      <td>9237-HQITU</td>\n",
       "      <td>Female</td>\n",
       "      <td>0</td>\n",
       "      <td>No</td>\n",
       "      <td>No</td>\n",
       "    </tr>\n",
       "  </tbody>\n",
       "</table>\n",
       "</div>"
      ],
      "text/plain": [
       "   customerID  gender  SeniorCitizen Partner Dependents\n",
       "0  7590-VHVEG  Female              0     Yes         No\n",
       "1  5575-GNVDE    Male              0      No         No\n",
       "2  3668-QPYBK    Male              0      No         No\n",
       "3  7795-CFOCW    Male              0      No         No\n",
       "4  9237-HQITU  Female              0      No         No"
      ]
     },
     "execution_count": 8,
     "metadata": {},
     "output_type": "execute_result"
    }
   ],
   "source": [
    "personal.head()"
   ]
  },
  {
   "cell_type": "code",
   "execution_count": 9,
   "metadata": {
    "scrolled": true
   },
   "outputs": [
    {
     "name": "stdout",
     "output_type": "stream",
     "text": [
      "<class 'pandas.core.frame.DataFrame'>\n",
      "RangeIndex: 7043 entries, 0 to 7042\n",
      "Data columns (total 5 columns):\n",
      " #   Column         Non-Null Count  Dtype \n",
      "---  ------         --------------  ----- \n",
      " 0   customerID     7043 non-null   object\n",
      " 1   gender         7043 non-null   object\n",
      " 2   SeniorCitizen  7043 non-null   int64 \n",
      " 3   Partner        7043 non-null   object\n",
      " 4   Dependents     7043 non-null   object\n",
      "dtypes: int64(1), object(4)\n",
      "memory usage: 275.2+ KB\n"
     ]
    }
   ],
   "source": [
    "personal.info()"
   ]
  },
  {
   "cell_type": "code",
   "execution_count": 10,
   "metadata": {
    "scrolled": true
   },
   "outputs": [
    {
     "data": {
      "text/html": [
       "<div>\n",
       "<style scoped>\n",
       "    .dataframe tbody tr th:only-of-type {\n",
       "        vertical-align: middle;\n",
       "    }\n",
       "\n",
       "    .dataframe tbody tr th {\n",
       "        vertical-align: top;\n",
       "    }\n",
       "\n",
       "    .dataframe thead th {\n",
       "        text-align: right;\n",
       "    }\n",
       "</style>\n",
       "<table border=\"1\" class=\"dataframe\">\n",
       "  <thead>\n",
       "    <tr style=\"text-align: right;\">\n",
       "      <th></th>\n",
       "      <th>SeniorCitizen</th>\n",
       "    </tr>\n",
       "  </thead>\n",
       "  <tbody>\n",
       "    <tr>\n",
       "      <th>count</th>\n",
       "      <td>7043.000000</td>\n",
       "    </tr>\n",
       "    <tr>\n",
       "      <th>mean</th>\n",
       "      <td>0.162147</td>\n",
       "    </tr>\n",
       "    <tr>\n",
       "      <th>std</th>\n",
       "      <td>0.368612</td>\n",
       "    </tr>\n",
       "    <tr>\n",
       "      <th>min</th>\n",
       "      <td>0.000000</td>\n",
       "    </tr>\n",
       "    <tr>\n",
       "      <th>25%</th>\n",
       "      <td>0.000000</td>\n",
       "    </tr>\n",
       "    <tr>\n",
       "      <th>50%</th>\n",
       "      <td>0.000000</td>\n",
       "    </tr>\n",
       "    <tr>\n",
       "      <th>75%</th>\n",
       "      <td>0.000000</td>\n",
       "    </tr>\n",
       "    <tr>\n",
       "      <th>max</th>\n",
       "      <td>1.000000</td>\n",
       "    </tr>\n",
       "  </tbody>\n",
       "</table>\n",
       "</div>"
      ],
      "text/plain": [
       "       SeniorCitizen\n",
       "count    7043.000000\n",
       "mean        0.162147\n",
       "std         0.368612\n",
       "min         0.000000\n",
       "25%         0.000000\n",
       "50%         0.000000\n",
       "75%         0.000000\n",
       "max         1.000000"
      ]
     },
     "execution_count": 10,
     "metadata": {},
     "output_type": "execute_result"
    }
   ],
   "source": [
    "personal.describe()"
   ]
  },
  {
   "attachments": {},
   "cell_type": "markdown",
   "metadata": {},
   "source": [
    "Пропуски в данных отсутствуют"
   ]
  },
  {
   "cell_type": "code",
   "execution_count": 11,
   "metadata": {
    "scrolled": true
   },
   "outputs": [
    {
     "data": {
      "text/html": [
       "<div>\n",
       "<style scoped>\n",
       "    .dataframe tbody tr th:only-of-type {\n",
       "        vertical-align: middle;\n",
       "    }\n",
       "\n",
       "    .dataframe tbody tr th {\n",
       "        vertical-align: top;\n",
       "    }\n",
       "\n",
       "    .dataframe thead th {\n",
       "        text-align: right;\n",
       "    }\n",
       "</style>\n",
       "<table border=\"1\" class=\"dataframe\">\n",
       "  <thead>\n",
       "    <tr style=\"text-align: right;\">\n",
       "      <th></th>\n",
       "      <th>customerID</th>\n",
       "      <th>InternetService</th>\n",
       "      <th>OnlineSecurity</th>\n",
       "      <th>OnlineBackup</th>\n",
       "      <th>DeviceProtection</th>\n",
       "      <th>TechSupport</th>\n",
       "      <th>StreamingTV</th>\n",
       "      <th>StreamingMovies</th>\n",
       "    </tr>\n",
       "  </thead>\n",
       "  <tbody>\n",
       "    <tr>\n",
       "      <th>0</th>\n",
       "      <td>7590-VHVEG</td>\n",
       "      <td>DSL</td>\n",
       "      <td>No</td>\n",
       "      <td>Yes</td>\n",
       "      <td>No</td>\n",
       "      <td>No</td>\n",
       "      <td>No</td>\n",
       "      <td>No</td>\n",
       "    </tr>\n",
       "    <tr>\n",
       "      <th>1</th>\n",
       "      <td>5575-GNVDE</td>\n",
       "      <td>DSL</td>\n",
       "      <td>Yes</td>\n",
       "      <td>No</td>\n",
       "      <td>Yes</td>\n",
       "      <td>No</td>\n",
       "      <td>No</td>\n",
       "      <td>No</td>\n",
       "    </tr>\n",
       "    <tr>\n",
       "      <th>2</th>\n",
       "      <td>3668-QPYBK</td>\n",
       "      <td>DSL</td>\n",
       "      <td>Yes</td>\n",
       "      <td>Yes</td>\n",
       "      <td>No</td>\n",
       "      <td>No</td>\n",
       "      <td>No</td>\n",
       "      <td>No</td>\n",
       "    </tr>\n",
       "    <tr>\n",
       "      <th>3</th>\n",
       "      <td>7795-CFOCW</td>\n",
       "      <td>DSL</td>\n",
       "      <td>Yes</td>\n",
       "      <td>No</td>\n",
       "      <td>Yes</td>\n",
       "      <td>Yes</td>\n",
       "      <td>No</td>\n",
       "      <td>No</td>\n",
       "    </tr>\n",
       "    <tr>\n",
       "      <th>4</th>\n",
       "      <td>9237-HQITU</td>\n",
       "      <td>Fiber optic</td>\n",
       "      <td>No</td>\n",
       "      <td>No</td>\n",
       "      <td>No</td>\n",
       "      <td>No</td>\n",
       "      <td>No</td>\n",
       "      <td>No</td>\n",
       "    </tr>\n",
       "  </tbody>\n",
       "</table>\n",
       "</div>"
      ],
      "text/plain": [
       "   customerID InternetService OnlineSecurity OnlineBackup DeviceProtection  \\\n",
       "0  7590-VHVEG             DSL             No          Yes               No   \n",
       "1  5575-GNVDE             DSL            Yes           No              Yes   \n",
       "2  3668-QPYBK             DSL            Yes          Yes               No   \n",
       "3  7795-CFOCW             DSL            Yes           No              Yes   \n",
       "4  9237-HQITU     Fiber optic             No           No               No   \n",
       "\n",
       "  TechSupport StreamingTV StreamingMovies  \n",
       "0          No          No              No  \n",
       "1          No          No              No  \n",
       "2          No          No              No  \n",
       "3         Yes          No              No  \n",
       "4          No          No              No  "
      ]
     },
     "execution_count": 11,
     "metadata": {},
     "output_type": "execute_result"
    }
   ],
   "source": [
    "internet.head()"
   ]
  },
  {
   "cell_type": "code",
   "execution_count": 12,
   "metadata": {
    "scrolled": true
   },
   "outputs": [
    {
     "name": "stdout",
     "output_type": "stream",
     "text": [
      "<class 'pandas.core.frame.DataFrame'>\n",
      "RangeIndex: 5517 entries, 0 to 5516\n",
      "Data columns (total 8 columns):\n",
      " #   Column            Non-Null Count  Dtype \n",
      "---  ------            --------------  ----- \n",
      " 0   customerID        5517 non-null   object\n",
      " 1   InternetService   5517 non-null   object\n",
      " 2   OnlineSecurity    5517 non-null   object\n",
      " 3   OnlineBackup      5517 non-null   object\n",
      " 4   DeviceProtection  5517 non-null   object\n",
      " 5   TechSupport       5517 non-null   object\n",
      " 6   StreamingTV       5517 non-null   object\n",
      " 7   StreamingMovies   5517 non-null   object\n",
      "dtypes: object(8)\n",
      "memory usage: 344.9+ KB\n"
     ]
    }
   ],
   "source": [
    "internet.info()"
   ]
  },
  {
   "cell_type": "code",
   "execution_count": 13,
   "metadata": {
    "scrolled": true
   },
   "outputs": [
    {
     "data": {
      "text/html": [
       "<div>\n",
       "<style scoped>\n",
       "    .dataframe tbody tr th:only-of-type {\n",
       "        vertical-align: middle;\n",
       "    }\n",
       "\n",
       "    .dataframe tbody tr th {\n",
       "        vertical-align: top;\n",
       "    }\n",
       "\n",
       "    .dataframe thead th {\n",
       "        text-align: right;\n",
       "    }\n",
       "</style>\n",
       "<table border=\"1\" class=\"dataframe\">\n",
       "  <thead>\n",
       "    <tr style=\"text-align: right;\">\n",
       "      <th></th>\n",
       "      <th>customerID</th>\n",
       "      <th>InternetService</th>\n",
       "      <th>OnlineSecurity</th>\n",
       "      <th>OnlineBackup</th>\n",
       "      <th>DeviceProtection</th>\n",
       "      <th>TechSupport</th>\n",
       "      <th>StreamingTV</th>\n",
       "      <th>StreamingMovies</th>\n",
       "    </tr>\n",
       "  </thead>\n",
       "  <tbody>\n",
       "    <tr>\n",
       "      <th>count</th>\n",
       "      <td>5517</td>\n",
       "      <td>5517</td>\n",
       "      <td>5517</td>\n",
       "      <td>5517</td>\n",
       "      <td>5517</td>\n",
       "      <td>5517</td>\n",
       "      <td>5517</td>\n",
       "      <td>5517</td>\n",
       "    </tr>\n",
       "    <tr>\n",
       "      <th>unique</th>\n",
       "      <td>5517</td>\n",
       "      <td>2</td>\n",
       "      <td>2</td>\n",
       "      <td>2</td>\n",
       "      <td>2</td>\n",
       "      <td>2</td>\n",
       "      <td>2</td>\n",
       "      <td>2</td>\n",
       "    </tr>\n",
       "    <tr>\n",
       "      <th>top</th>\n",
       "      <td>1032-MAELW</td>\n",
       "      <td>Fiber optic</td>\n",
       "      <td>No</td>\n",
       "      <td>No</td>\n",
       "      <td>No</td>\n",
       "      <td>No</td>\n",
       "      <td>No</td>\n",
       "      <td>No</td>\n",
       "    </tr>\n",
       "    <tr>\n",
       "      <th>freq</th>\n",
       "      <td>1</td>\n",
       "      <td>3096</td>\n",
       "      <td>3498</td>\n",
       "      <td>3088</td>\n",
       "      <td>3095</td>\n",
       "      <td>3473</td>\n",
       "      <td>2810</td>\n",
       "      <td>2785</td>\n",
       "    </tr>\n",
       "  </tbody>\n",
       "</table>\n",
       "</div>"
      ],
      "text/plain": [
       "        customerID InternetService OnlineSecurity OnlineBackup  \\\n",
       "count         5517            5517           5517         5517   \n",
       "unique        5517               2              2            2   \n",
       "top     1032-MAELW     Fiber optic             No           No   \n",
       "freq             1            3096           3498         3088   \n",
       "\n",
       "       DeviceProtection TechSupport StreamingTV StreamingMovies  \n",
       "count              5517        5517        5517            5517  \n",
       "unique                2           2           2               2  \n",
       "top                  No          No          No              No  \n",
       "freq               3095        3473        2810            2785  "
      ]
     },
     "execution_count": 13,
     "metadata": {},
     "output_type": "execute_result"
    }
   ],
   "source": [
    "internet.describe()"
   ]
  },
  {
   "attachments": {},
   "cell_type": "markdown",
   "metadata": {},
   "source": [
    "Пропуски в данных отсутствуют"
   ]
  },
  {
   "cell_type": "code",
   "execution_count": 14,
   "metadata": {
    "scrolled": true
   },
   "outputs": [
    {
     "data": {
      "text/html": [
       "<div>\n",
       "<style scoped>\n",
       "    .dataframe tbody tr th:only-of-type {\n",
       "        vertical-align: middle;\n",
       "    }\n",
       "\n",
       "    .dataframe tbody tr th {\n",
       "        vertical-align: top;\n",
       "    }\n",
       "\n",
       "    .dataframe thead th {\n",
       "        text-align: right;\n",
       "    }\n",
       "</style>\n",
       "<table border=\"1\" class=\"dataframe\">\n",
       "  <thead>\n",
       "    <tr style=\"text-align: right;\">\n",
       "      <th></th>\n",
       "      <th>customerID</th>\n",
       "      <th>MultipleLines</th>\n",
       "    </tr>\n",
       "  </thead>\n",
       "  <tbody>\n",
       "    <tr>\n",
       "      <th>0</th>\n",
       "      <td>5575-GNVDE</td>\n",
       "      <td>No</td>\n",
       "    </tr>\n",
       "    <tr>\n",
       "      <th>1</th>\n",
       "      <td>3668-QPYBK</td>\n",
       "      <td>No</td>\n",
       "    </tr>\n",
       "    <tr>\n",
       "      <th>2</th>\n",
       "      <td>9237-HQITU</td>\n",
       "      <td>No</td>\n",
       "    </tr>\n",
       "    <tr>\n",
       "      <th>3</th>\n",
       "      <td>9305-CDSKC</td>\n",
       "      <td>Yes</td>\n",
       "    </tr>\n",
       "    <tr>\n",
       "      <th>4</th>\n",
       "      <td>1452-KIOVK</td>\n",
       "      <td>Yes</td>\n",
       "    </tr>\n",
       "  </tbody>\n",
       "</table>\n",
       "</div>"
      ],
      "text/plain": [
       "   customerID MultipleLines\n",
       "0  5575-GNVDE            No\n",
       "1  3668-QPYBK            No\n",
       "2  9237-HQITU            No\n",
       "3  9305-CDSKC           Yes\n",
       "4  1452-KIOVK           Yes"
      ]
     },
     "execution_count": 14,
     "metadata": {},
     "output_type": "execute_result"
    }
   ],
   "source": [
    "phone.head()"
   ]
  },
  {
   "cell_type": "code",
   "execution_count": 15,
   "metadata": {
    "scrolled": true
   },
   "outputs": [
    {
     "name": "stdout",
     "output_type": "stream",
     "text": [
      "<class 'pandas.core.frame.DataFrame'>\n",
      "RangeIndex: 6361 entries, 0 to 6360\n",
      "Data columns (total 2 columns):\n",
      " #   Column         Non-Null Count  Dtype \n",
      "---  ------         --------------  ----- \n",
      " 0   customerID     6361 non-null   object\n",
      " 1   MultipleLines  6361 non-null   object\n",
      "dtypes: object(2)\n",
      "memory usage: 99.5+ KB\n"
     ]
    }
   ],
   "source": [
    "phone.info()"
   ]
  },
  {
   "cell_type": "code",
   "execution_count": 16,
   "metadata": {
    "scrolled": true
   },
   "outputs": [
    {
     "data": {
      "text/html": [
       "<div>\n",
       "<style scoped>\n",
       "    .dataframe tbody tr th:only-of-type {\n",
       "        vertical-align: middle;\n",
       "    }\n",
       "\n",
       "    .dataframe tbody tr th {\n",
       "        vertical-align: top;\n",
       "    }\n",
       "\n",
       "    .dataframe thead th {\n",
       "        text-align: right;\n",
       "    }\n",
       "</style>\n",
       "<table border=\"1\" class=\"dataframe\">\n",
       "  <thead>\n",
       "    <tr style=\"text-align: right;\">\n",
       "      <th></th>\n",
       "      <th>customerID</th>\n",
       "      <th>MultipleLines</th>\n",
       "    </tr>\n",
       "  </thead>\n",
       "  <tbody>\n",
       "    <tr>\n",
       "      <th>count</th>\n",
       "      <td>6361</td>\n",
       "      <td>6361</td>\n",
       "    </tr>\n",
       "    <tr>\n",
       "      <th>unique</th>\n",
       "      <td>6361</td>\n",
       "      <td>2</td>\n",
       "    </tr>\n",
       "    <tr>\n",
       "      <th>top</th>\n",
       "      <td>2683-BPJSO</td>\n",
       "      <td>No</td>\n",
       "    </tr>\n",
       "    <tr>\n",
       "      <th>freq</th>\n",
       "      <td>1</td>\n",
       "      <td>3390</td>\n",
       "    </tr>\n",
       "  </tbody>\n",
       "</table>\n",
       "</div>"
      ],
      "text/plain": [
       "        customerID MultipleLines\n",
       "count         6361          6361\n",
       "unique        6361             2\n",
       "top     2683-BPJSO            No\n",
       "freq             1          3390"
      ]
     },
     "execution_count": 16,
     "metadata": {},
     "output_type": "execute_result"
    }
   ],
   "source": [
    "phone.describe()"
   ]
  },
  {
   "attachments": {},
   "cell_type": "markdown",
   "metadata": {},
   "source": [
    "Пропуски в данных отсутствуют"
   ]
  },
  {
   "attachments": {},
   "cell_type": "markdown",
   "metadata": {},
   "source": [
    "# Вывод"
   ]
  },
  {
   "attachments": {},
   "cell_type": "markdown",
   "metadata": {},
   "source": [
    "1. Пропуски отсутствуют во всех наборах данных.\n",
    "2. Количество записей не совпадает. В датасетах phone и internet содержится меньше записей, чем в contract и personal. Вероятной причиной может быть то, что некоторые пользователи не используют один из видов связи.  \n",
    "3. Требуется корректировка названий колонок в датасетах с учетом метода \"snake_case\".\n",
    "4. Нужно поменять тип данных в некоторых столбцах contract"
   ]
  },
  {
   "attachments": {},
   "cell_type": "markdown",
   "metadata": {},
   "source": [
    "### Предобработка данных"
   ]
  },
  {
   "attachments": {},
   "cell_type": "markdown",
   "metadata": {},
   "source": [
    "Соединим датасеты воедино"
   ]
  },
  {
   "cell_type": "code",
   "execution_count": 17,
   "metadata": {
    "scrolled": true
   },
   "outputs": [
    {
     "data": {
      "text/html": [
       "<div>\n",
       "<style scoped>\n",
       "    .dataframe tbody tr th:only-of-type {\n",
       "        vertical-align: middle;\n",
       "    }\n",
       "\n",
       "    .dataframe tbody tr th {\n",
       "        vertical-align: top;\n",
       "    }\n",
       "\n",
       "    .dataframe thead th {\n",
       "        text-align: right;\n",
       "    }\n",
       "</style>\n",
       "<table border=\"1\" class=\"dataframe\">\n",
       "  <thead>\n",
       "    <tr style=\"text-align: right;\">\n",
       "      <th></th>\n",
       "      <th>customerID</th>\n",
       "      <th>BeginDate</th>\n",
       "      <th>EndDate</th>\n",
       "      <th>Type</th>\n",
       "      <th>PaperlessBilling</th>\n",
       "      <th>PaymentMethod</th>\n",
       "      <th>MonthlyCharges</th>\n",
       "      <th>TotalCharges</th>\n",
       "      <th>gender</th>\n",
       "      <th>SeniorCitizen</th>\n",
       "      <th>Partner</th>\n",
       "      <th>Dependents</th>\n",
       "      <th>InternetService</th>\n",
       "      <th>OnlineSecurity</th>\n",
       "      <th>OnlineBackup</th>\n",
       "      <th>DeviceProtection</th>\n",
       "      <th>TechSupport</th>\n",
       "      <th>StreamingTV</th>\n",
       "      <th>StreamingMovies</th>\n",
       "      <th>MultipleLines</th>\n",
       "    </tr>\n",
       "  </thead>\n",
       "  <tbody>\n",
       "    <tr>\n",
       "      <th>0</th>\n",
       "      <td>7590-VHVEG</td>\n",
       "      <td>2020-01-01</td>\n",
       "      <td>No</td>\n",
       "      <td>Month-to-month</td>\n",
       "      <td>Yes</td>\n",
       "      <td>Electronic check</td>\n",
       "      <td>29.85</td>\n",
       "      <td>31.04</td>\n",
       "      <td>Female</td>\n",
       "      <td>0</td>\n",
       "      <td>Yes</td>\n",
       "      <td>No</td>\n",
       "      <td>DSL</td>\n",
       "      <td>No</td>\n",
       "      <td>Yes</td>\n",
       "      <td>No</td>\n",
       "      <td>No</td>\n",
       "      <td>No</td>\n",
       "      <td>No</td>\n",
       "      <td>NaN</td>\n",
       "    </tr>\n",
       "    <tr>\n",
       "      <th>1</th>\n",
       "      <td>5575-GNVDE</td>\n",
       "      <td>2017-04-01</td>\n",
       "      <td>No</td>\n",
       "      <td>One year</td>\n",
       "      <td>No</td>\n",
       "      <td>Mailed check</td>\n",
       "      <td>56.95</td>\n",
       "      <td>2071.84</td>\n",
       "      <td>Male</td>\n",
       "      <td>0</td>\n",
       "      <td>No</td>\n",
       "      <td>No</td>\n",
       "      <td>DSL</td>\n",
       "      <td>Yes</td>\n",
       "      <td>No</td>\n",
       "      <td>Yes</td>\n",
       "      <td>No</td>\n",
       "      <td>No</td>\n",
       "      <td>No</td>\n",
       "      <td>No</td>\n",
       "    </tr>\n",
       "    <tr>\n",
       "      <th>2</th>\n",
       "      <td>3668-QPYBK</td>\n",
       "      <td>2019-10-01</td>\n",
       "      <td>No</td>\n",
       "      <td>Month-to-month</td>\n",
       "      <td>Yes</td>\n",
       "      <td>Mailed check</td>\n",
       "      <td>53.85</td>\n",
       "      <td>226.17</td>\n",
       "      <td>Male</td>\n",
       "      <td>0</td>\n",
       "      <td>No</td>\n",
       "      <td>No</td>\n",
       "      <td>DSL</td>\n",
       "      <td>Yes</td>\n",
       "      <td>Yes</td>\n",
       "      <td>No</td>\n",
       "      <td>No</td>\n",
       "      <td>No</td>\n",
       "      <td>No</td>\n",
       "      <td>No</td>\n",
       "    </tr>\n",
       "    <tr>\n",
       "      <th>3</th>\n",
       "      <td>7795-CFOCW</td>\n",
       "      <td>2016-05-01</td>\n",
       "      <td>No</td>\n",
       "      <td>One year</td>\n",
       "      <td>No</td>\n",
       "      <td>Bank transfer (automatic)</td>\n",
       "      <td>42.30</td>\n",
       "      <td>1960.6</td>\n",
       "      <td>Male</td>\n",
       "      <td>0</td>\n",
       "      <td>No</td>\n",
       "      <td>No</td>\n",
       "      <td>DSL</td>\n",
       "      <td>Yes</td>\n",
       "      <td>No</td>\n",
       "      <td>Yes</td>\n",
       "      <td>Yes</td>\n",
       "      <td>No</td>\n",
       "      <td>No</td>\n",
       "      <td>NaN</td>\n",
       "    </tr>\n",
       "    <tr>\n",
       "      <th>4</th>\n",
       "      <td>9237-HQITU</td>\n",
       "      <td>2019-09-01</td>\n",
       "      <td>No</td>\n",
       "      <td>Month-to-month</td>\n",
       "      <td>Yes</td>\n",
       "      <td>Electronic check</td>\n",
       "      <td>70.70</td>\n",
       "      <td>353.5</td>\n",
       "      <td>Female</td>\n",
       "      <td>0</td>\n",
       "      <td>No</td>\n",
       "      <td>No</td>\n",
       "      <td>Fiber optic</td>\n",
       "      <td>No</td>\n",
       "      <td>No</td>\n",
       "      <td>No</td>\n",
       "      <td>No</td>\n",
       "      <td>No</td>\n",
       "      <td>No</td>\n",
       "      <td>No</td>\n",
       "    </tr>\n",
       "  </tbody>\n",
       "</table>\n",
       "</div>"
      ],
      "text/plain": [
       "   customerID   BeginDate EndDate            Type PaperlessBilling  \\\n",
       "0  7590-VHVEG  2020-01-01      No  Month-to-month              Yes   \n",
       "1  5575-GNVDE  2017-04-01      No        One year               No   \n",
       "2  3668-QPYBK  2019-10-01      No  Month-to-month              Yes   \n",
       "3  7795-CFOCW  2016-05-01      No        One year               No   \n",
       "4  9237-HQITU  2019-09-01      No  Month-to-month              Yes   \n",
       "\n",
       "               PaymentMethod  MonthlyCharges TotalCharges  gender  \\\n",
       "0           Electronic check           29.85        31.04  Female   \n",
       "1               Mailed check           56.95      2071.84    Male   \n",
       "2               Mailed check           53.85       226.17    Male   \n",
       "3  Bank transfer (automatic)           42.30       1960.6    Male   \n",
       "4           Electronic check           70.70        353.5  Female   \n",
       "\n",
       "   SeniorCitizen Partner Dependents InternetService OnlineSecurity  \\\n",
       "0              0     Yes         No             DSL             No   \n",
       "1              0      No         No             DSL            Yes   \n",
       "2              0      No         No             DSL            Yes   \n",
       "3              0      No         No             DSL            Yes   \n",
       "4              0      No         No     Fiber optic             No   \n",
       "\n",
       "  OnlineBackup DeviceProtection TechSupport StreamingTV StreamingMovies  \\\n",
       "0          Yes               No          No          No              No   \n",
       "1           No              Yes          No          No              No   \n",
       "2          Yes               No          No          No              No   \n",
       "3           No              Yes         Yes          No              No   \n",
       "4           No               No          No          No              No   \n",
       "\n",
       "  MultipleLines  \n",
       "0           NaN  \n",
       "1            No  \n",
       "2            No  \n",
       "3           NaN  \n",
       "4            No  "
      ]
     },
     "execution_count": 17,
     "metadata": {},
     "output_type": "execute_result"
    }
   ],
   "source": [
    "df_full = contract.merge(personal, on = 'customerID',how='outer')\n",
    "df_full = df_full.merge(internet, on = 'customerID',how='outer')\n",
    "df_full = df_full.merge(phone, on = 'customerID',how='outer')\n",
    "df_full.head()"
   ]
  },
  {
   "cell_type": "code",
   "execution_count": 18,
   "metadata": {
    "scrolled": true
   },
   "outputs": [
    {
     "name": "stdout",
     "output_type": "stream",
     "text": [
      "<class 'pandas.core.frame.DataFrame'>\n",
      "Int64Index: 7043 entries, 0 to 7042\n",
      "Data columns (total 20 columns):\n",
      " #   Column            Non-Null Count  Dtype  \n",
      "---  ------            --------------  -----  \n",
      " 0   customerID        7043 non-null   object \n",
      " 1   BeginDate         7043 non-null   object \n",
      " 2   EndDate           7043 non-null   object \n",
      " 3   Type              7043 non-null   object \n",
      " 4   PaperlessBilling  7043 non-null   object \n",
      " 5   PaymentMethod     7043 non-null   object \n",
      " 6   MonthlyCharges    7043 non-null   float64\n",
      " 7   TotalCharges      7043 non-null   object \n",
      " 8   gender            7043 non-null   object \n",
      " 9   SeniorCitizen     7043 non-null   int64  \n",
      " 10  Partner           7043 non-null   object \n",
      " 11  Dependents        7043 non-null   object \n",
      " 12  InternetService   5517 non-null   object \n",
      " 13  OnlineSecurity    5517 non-null   object \n",
      " 14  OnlineBackup      5517 non-null   object \n",
      " 15  DeviceProtection  5517 non-null   object \n",
      " 16  TechSupport       5517 non-null   object \n",
      " 17  StreamingTV       5517 non-null   object \n",
      " 18  StreamingMovies   5517 non-null   object \n",
      " 19  MultipleLines     6361 non-null   object \n",
      "dtypes: float64(1), int64(1), object(18)\n",
      "memory usage: 1.1+ MB\n"
     ]
    }
   ],
   "source": [
    "df_full.info()"
   ]
  },
  {
   "cell_type": "code",
   "execution_count": 19,
   "metadata": {
    "scrolled": true
   },
   "outputs": [
    {
     "data": {
      "text/html": [
       "<div>\n",
       "<style scoped>\n",
       "    .dataframe tbody tr th:only-of-type {\n",
       "        vertical-align: middle;\n",
       "    }\n",
       "\n",
       "    .dataframe tbody tr th {\n",
       "        vertical-align: top;\n",
       "    }\n",
       "\n",
       "    .dataframe thead th {\n",
       "        text-align: right;\n",
       "    }\n",
       "</style>\n",
       "<table border=\"1\" class=\"dataframe\">\n",
       "  <thead>\n",
       "    <tr style=\"text-align: right;\">\n",
       "      <th></th>\n",
       "      <th>MonthlyCharges</th>\n",
       "      <th>SeniorCitizen</th>\n",
       "    </tr>\n",
       "  </thead>\n",
       "  <tbody>\n",
       "    <tr>\n",
       "      <th>count</th>\n",
       "      <td>7043.000000</td>\n",
       "      <td>7043.000000</td>\n",
       "    </tr>\n",
       "    <tr>\n",
       "      <th>mean</th>\n",
       "      <td>64.761692</td>\n",
       "      <td>0.162147</td>\n",
       "    </tr>\n",
       "    <tr>\n",
       "      <th>std</th>\n",
       "      <td>30.090047</td>\n",
       "      <td>0.368612</td>\n",
       "    </tr>\n",
       "    <tr>\n",
       "      <th>min</th>\n",
       "      <td>18.250000</td>\n",
       "      <td>0.000000</td>\n",
       "    </tr>\n",
       "    <tr>\n",
       "      <th>25%</th>\n",
       "      <td>35.500000</td>\n",
       "      <td>0.000000</td>\n",
       "    </tr>\n",
       "    <tr>\n",
       "      <th>50%</th>\n",
       "      <td>70.350000</td>\n",
       "      <td>0.000000</td>\n",
       "    </tr>\n",
       "    <tr>\n",
       "      <th>75%</th>\n",
       "      <td>89.850000</td>\n",
       "      <td>0.000000</td>\n",
       "    </tr>\n",
       "    <tr>\n",
       "      <th>max</th>\n",
       "      <td>118.750000</td>\n",
       "      <td>1.000000</td>\n",
       "    </tr>\n",
       "  </tbody>\n",
       "</table>\n",
       "</div>"
      ],
      "text/plain": [
       "       MonthlyCharges  SeniorCitizen\n",
       "count     7043.000000    7043.000000\n",
       "mean        64.761692       0.162147\n",
       "std         30.090047       0.368612\n",
       "min         18.250000       0.000000\n",
       "25%         35.500000       0.000000\n",
       "50%         70.350000       0.000000\n",
       "75%         89.850000       0.000000\n",
       "max        118.750000       1.000000"
      ]
     },
     "execution_count": 19,
     "metadata": {},
     "output_type": "execute_result"
    }
   ],
   "source": [
    "df_full.describe()"
   ]
  },
  {
   "attachments": {},
   "cell_type": "markdown",
   "metadata": {},
   "source": [
    "Исправим названия колонок"
   ]
  },
  {
   "cell_type": "code",
   "execution_count": 20,
   "metadata": {
    "scrolled": false
   },
   "outputs": [
    {
     "data": {
      "text/plain": [
       "Index(['customerID', 'BeginDate', 'EndDate', 'Type', 'PaperlessBilling',\n",
       "       'PaymentMethod', 'MonthlyCharges', 'TotalCharges', 'gender',\n",
       "       'SeniorCitizen', 'Partner', 'Dependents', 'InternetService',\n",
       "       'OnlineSecurity', 'OnlineBackup', 'DeviceProtection', 'TechSupport',\n",
       "       'StreamingTV', 'StreamingMovies', 'MultipleLines'],\n",
       "      dtype='object')"
      ]
     },
     "execution_count": 20,
     "metadata": {},
     "output_type": "execute_result"
    }
   ],
   "source": [
    "df_full.columns"
   ]
  },
  {
   "cell_type": "code",
   "execution_count": 21,
   "metadata": {
    "scrolled": true
   },
   "outputs": [
    {
     "data": {
      "text/plain": [
       "['customer_id',\n",
       " 'begin_date',\n",
       " 'end_date',\n",
       " 'type',\n",
       " 'paperless_billing',\n",
       " 'payment_method',\n",
       " 'monthly_charges',\n",
       " 'total_charges',\n",
       " 'gender',\n",
       " 'senior_citizen',\n",
       " 'partner',\n",
       " 'dependents',\n",
       " 'internet_service',\n",
       " 'online_security',\n",
       " 'online_backup',\n",
       " 'device_protection',\n",
       " 'tech_support',\n",
       " 'streaming_tv',\n",
       " 'streaming_movies',\n",
       " 'multiple_lines']"
      ]
     },
     "execution_count": 21,
     "metadata": {},
     "output_type": "execute_result"
    }
   ],
   "source": [
    "\n",
    "df_full.columns = ['customer_id', 'begin_date', 'end_date', 'type', \n",
    "                   'paperless_billing', 'payment_method', 'monthly_charges', \n",
    "                   'total_charges', 'gender', 'senior_citizen', \n",
    "                   'partner', 'dependents', 'internet_service', 'online_security', 'online_backup', \n",
    "                   'device_protection', 'tech_support', 'streaming_tv', 'streaming_movies' , 'multiple_lines']\n",
    "list(df_full)\n"
   ]
  },
  {
   "cell_type": "code",
   "execution_count": 22,
   "metadata": {},
   "outputs": [
    {
     "data": {
      "text/plain": [
       "customer_id             0\n",
       "begin_date              0\n",
       "end_date                0\n",
       "type                    0\n",
       "paperless_billing       0\n",
       "payment_method          0\n",
       "monthly_charges         0\n",
       "total_charges           0\n",
       "gender                  0\n",
       "senior_citizen          0\n",
       "partner                 0\n",
       "dependents              0\n",
       "internet_service     1526\n",
       "online_security      1526\n",
       "online_backup        1526\n",
       "device_protection    1526\n",
       "tech_support         1526\n",
       "streaming_tv         1526\n",
       "streaming_movies     1526\n",
       "multiple_lines        682\n",
       "dtype: int64"
      ]
     },
     "execution_count": 22,
     "metadata": {},
     "output_type": "execute_result"
    }
   ],
   "source": [
    "df_full.isna().sum()"
   ]
  },
  {
   "attachments": {},
   "cell_type": "markdown",
   "metadata": {},
   "source": [
    "Уберем пропуски в данных, заменив их на значение \"No\""
   ]
  },
  {
   "cell_type": "code",
   "execution_count": 23,
   "metadata": {
    "scrolled": true
   },
   "outputs": [
    {
     "name": "stdout",
     "output_type": "stream",
     "text": [
      "\n",
      " Кол-во пропусков:  0\n"
     ]
    }
   ],
   "source": [
    "df_full.fillna('No', inplace=True)\n",
    "print('\\n Кол-во пропусков: ', df_full.isna().sum().sum())"
   ]
  },
  {
   "attachments": {},
   "cell_type": "markdown",
   "metadata": {},
   "source": [
    "Изменим типы данных в соответствии с вышеуказанным."
   ]
  },
  {
   "attachments": {},
   "cell_type": "markdown",
   "metadata": {},
   "source": [
    "Пропуски в колонке end_date заменим датой, указанной в задании как актуальной, то есть \"2020-02-01\". Логично предположить, что если отстутсвует дата окончания, значит на момент выгрузки пользователь является клиентом."
   ]
  },
  {
   "cell_type": "code",
   "execution_count": 24,
   "metadata": {
    "scrolled": true
   },
   "outputs": [],
   "source": [
    "df_full['begin_date'] = df_full['begin_date'].astype('datetime64')\n",
    "\n",
    "df_full['end_date'] = pd.to_datetime(df_full['end_date'], format='%Y-%m-%d %H:%M:%S', errors='coerce').dt.date\n",
    "df_full['end_date'] = df_full['end_date'].fillna('2020-02-01')\n",
    "df_full['end_date'] = df_full['end_date'].astype('datetime64')\n",
    "\n",
    "df_full['total_charges'] = pd.to_numeric(df_full['total_charges'], errors='coerce')"
   ]
  },
  {
   "cell_type": "code",
   "execution_count": 25,
   "metadata": {
    "scrolled": false
   },
   "outputs": [
    {
     "data": {
      "text/plain": [
       "11"
      ]
     },
     "execution_count": 25,
     "metadata": {},
     "output_type": "execute_result"
    }
   ],
   "source": [
    "df_full['total_charges'].isna().sum()"
   ]
  },
  {
   "cell_type": "code",
   "execution_count": 26,
   "metadata": {
    "scrolled": true
   },
   "outputs": [
    {
     "data": {
      "text/plain": [
       "customer_id           0\n",
       "begin_date            0\n",
       "end_date              0\n",
       "type                  0\n",
       "paperless_billing     0\n",
       "payment_method        0\n",
       "monthly_charges       0\n",
       "total_charges        11\n",
       "gender                0\n",
       "senior_citizen        0\n",
       "partner               0\n",
       "dependents            0\n",
       "internet_service      0\n",
       "online_security       0\n",
       "online_backup         0\n",
       "device_protection     0\n",
       "tech_support          0\n",
       "streaming_tv          0\n",
       "streaming_movies      0\n",
       "multiple_lines        0\n",
       "dtype: int64"
      ]
     },
     "execution_count": 26,
     "metadata": {},
     "output_type": "execute_result"
    }
   ],
   "source": [
    "df_full.isna().sum()"
   ]
  },
  {
   "attachments": {},
   "cell_type": "markdown",
   "metadata": {},
   "source": [
    "Пропусков незначительное количество , поэтому можно удалить."
   ]
  },
  {
   "cell_type": "code",
   "execution_count": 27,
   "metadata": {},
   "outputs": [],
   "source": [
    "df_full = df_full.dropna()"
   ]
  },
  {
   "attachments": {},
   "cell_type": "markdown",
   "metadata": {},
   "source": [
    "Рассмотрим, есть ли в данных явные дубликаты:"
   ]
  },
  {
   "cell_type": "code",
   "execution_count": 28,
   "metadata": {
    "scrolled": true
   },
   "outputs": [
    {
     "data": {
      "text/plain": [
       "0"
      ]
     },
     "execution_count": 28,
     "metadata": {},
     "output_type": "execute_result"
    }
   ],
   "source": [
    "df_full.index.duplicated().sum()"
   ]
  },
  {
   "attachments": {},
   "cell_type": "markdown",
   "metadata": {},
   "source": [
    "**Вывод по предобработке**  \n",
    "\n"
   ]
  },
  {
   "attachments": {},
   "cell_type": "markdown",
   "metadata": {
    "scrolled": true
   },
   "source": [
    "В ходе работы с данными выполнено:\n",
    " - исправлены названия признаков на sanil_case и нижний регистр;\n",
    " - пропуски возникшие при соединении датасетов заменены на значение \"No\"\n",
    " - пропуски в колонке end_date удалены\n",
    " - данные исследованы на дубликаты - не обнаружено  \n",
    " \n",
    "Можно приступать к исследовательскому анализу данных"
   ]
  },
  {
   "attachments": {},
   "cell_type": "markdown",
   "metadata": {},
   "source": [
    "### Исследовательский анализ"
   ]
  },
  {
   "attachments": {},
   "cell_type": "markdown",
   "metadata": {},
   "source": [
    "Добавим целевой признак target, если клиент покинул компанию - 1, если нет - 0"
   ]
  },
  {
   "cell_type": "code",
   "execution_count": 29,
   "metadata": {
    "scrolled": true
   },
   "outputs": [],
   "source": [
    "df_full['target'] = 1\n",
    "df_full.loc[df_full['end_date'] == '2020-02-01', 'target'] = 0"
   ]
  },
  {
   "attachments": {},
   "cell_type": "markdown",
   "metadata": {},
   "source": [
    "Рассмотрим предоставленные данные в графике"
   ]
  },
  {
   "attachments": {},
   "cell_type": "markdown",
   "metadata": {},
   "source": [
    "Проанализируем соотношение ушедших и присутствующих клиентов:"
   ]
  },
  {
   "cell_type": "code",
   "execution_count": 30,
   "metadata": {
    "scrolled": true
   },
   "outputs": [
    {
     "data": {
      "text/plain": [
       "<seaborn.axisgrid.FacetGrid at 0x2702b066fa0>"
      ]
     },
     "execution_count": 30,
     "metadata": {},
     "output_type": "execute_result"
    },
    {
     "data": {
      "image/png": "[encoded data removed]",
      "text/plain": [
       "<Figure size 500x500 with 1 Axes>"
      ]
     },
     "metadata": {},
     "output_type": "display_data"
    }
   ],
   "source": [
    "sns.catplot(x='target',data=df_full, kind='count')"
   ]
  },
  {
   "attachments": {},
   "cell_type": "markdown",
   "metadata": {},
   "source": [
    "Ушедших клиентов 1/6 доля от всех"
   ]
  },
  {
   "attachments": {},
   "cell_type": "markdown",
   "metadata": {},
   "source": [
    "Взглянем на динамику прихода новых клиентов и сравним с уходом."
   ]
  },
  {
   "cell_type": "code",
   "execution_count": 31,
   "metadata": {},
   "outputs": [
    {
     "data": {
      "text/plain": [
       "<AxesSubplot:>"
      ]
     },
     "execution_count": 31,
     "metadata": {},
     "output_type": "execute_result"
    },
    {
     "data": {
      "image/png": "[encoded data removed]",
      "text/plain": [
       "<Figure size 640x480 with 1 Axes>"
      ]
     },
     "metadata": {},
     "output_type": "display_data"
    }
   ],
   "source": [
    "series = df_full['begin_date']\n",
    "series.hist(bins=50)"
   ]
  },
  {
   "attachments": {},
   "cell_type": "markdown",
   "metadata": {},
   "source": [
    "Посмотрим динамику ухода клиентов"
   ]
  },
  {
   "cell_type": "code",
   "execution_count": 32,
   "metadata": {
    "scrolled": false
   },
   "outputs": [
    {
     "data": {
      "text/plain": [
       "<AxesSubplot:>"
      ]
     },
     "execution_count": 32,
     "metadata": {},
     "output_type": "execute_result"
    },
    {
     "data": {
      "image/png": "[encoded data removed]",
      "text/plain": [
       "<Figure size 640x480 with 1 Axes>"
      ]
     },
     "metadata": {},
     "output_type": "display_data"
    }
   ],
   "source": [
    "\n",
    "series = df_full['end_date'].loc[df_full['end_date']!= '2020-02-01']\n",
    "series.hist(bins=50)\n",
    "\n"
   ]
  },
  {
   "cell_type": "code",
   "execution_count": 33,
   "metadata": {},
   "outputs": [],
   "source": [
    "target = df_full.loc[df_full['target'] == 1]"
   ]
  },
  {
   "cell_type": "code",
   "execution_count": 34,
   "metadata": {},
   "outputs": [],
   "source": [
    "not_target = df_full.loc[df_full['target'] == 0]"
   ]
  },
  {
   "cell_type": "code",
   "execution_count": 35,
   "metadata": {
    "scrolled": true
   },
   "outputs": [
    {
     "data": {
      "image/png": "[encoded data removed]",
      "text/plain": [
       "<Figure size 1280x800 with 1 Axes>"
      ]
     },
     "metadata": {},
     "output_type": "display_data"
    }
   ],
   "source": [
    "plt.figure(figsize=(16,10), dpi= 80)\n",
    "sns.distplot(target['monthly_charges'], color=\"red\", label=\"Ушли\")\n",
    "sns.distplot(df_full['monthly_charges'], color=\"black\", label=\"Все\")\n",
    "\n",
    "plt.title('Сравнение распределений ежемесячных платежей ушедших и всех клиентов', fontsize=22)\n",
    "plt.legend()\n",
    "plt.xlabel('Сумма')\n",
    "plt.ylabel('Плотность')\n",
    "plt.show()"
   ]
  },
  {
   "attachments": {},
   "cell_type": "markdown",
   "metadata": {},
   "source": [
    "Из графика видно, что ушедшие клиенты платили больше оставшихся. Из этого можно сделать вывод, что цена услуг является определяющей для пользователей"
   ]
  },
  {
   "cell_type": "code",
   "execution_count": 36,
   "metadata": {
    "scrolled": false
   },
   "outputs": [
    {
     "data": {
      "image/png": "[encoded data removed]",
      "text/plain": [
       "<Figure size 500x500 with 1 Axes>"
      ]
     },
     "metadata": {},
     "output_type": "display_data"
    },
    {
     "data": {
      "image/png": "[encoded data removed]",
      "text/plain": [
       "<Figure size 500x500 with 1 Axes>"
      ]
     },
     "metadata": {},
     "output_type": "display_data"
    }
   ],
   "source": [
    "gone =  target.groupby('internet_service')[['target']].count()\n",
    "not_gone =  not_target.groupby('internet_service')[['target']].count()\n",
    "\n",
    "gone.plot(kind='pie', subplots=True, figsize=(5, 5))\n",
    "plt.title(\"Круговая диаграмма по типу интернета (ушедшие)\")\n",
    "not_gone.plot(kind='pie', subplots=True, figsize=(5, 5))\n",
    "plt.title(\"Круговая диаграмма по типу интернета (не ушедшие)\")\n",
    "plt.ylabel(\"\")\n",
    "plt.show()"
   ]
  },
  {
   "attachments": {},
   "cell_type": "markdown",
   "metadata": {},
   "source": [
    "Ушедшие клиенты больше пользовались кабельным интернетом, оставшиеся клиенты в рамных долях используют оба типа подключения"
   ]
  },
  {
   "cell_type": "code",
   "execution_count": 37,
   "metadata": {
    "scrolled": true
   },
   "outputs": [
    {
     "data": {
      "image/png": "[encoded data removed]",
      "text/plain": [
       "<Figure size 500x500 with 1 Axes>"
      ]
     },
     "metadata": {},
     "output_type": "display_data"
    },
    {
     "data": {
      "image/png": "[encoded data removed]",
      "text/plain": [
       "<Figure size 500x500 with 1 Axes>"
      ]
     },
     "metadata": {},
     "output_type": "display_data"
    }
   ],
   "source": [
    "gone =  target.groupby('dependents')[['target']].count()\n",
    "not_gone =  not_target.groupby('dependents')[['target']].count()\n",
    "\n",
    "gone.plot(kind='pie', subplots=True, figsize=(5, 5))\n",
    "plt.title(\"Круговая диаграмма по наличию иждивенца (ушедшие)\")\n",
    "not_gone.plot(kind='pie', subplots=True, figsize=(5, 5))\n",
    "plt.title(\"Круговая диаграмма ппо наличию иждивенца (не ушедшие)\")\n",
    "plt.ylabel(\"\")\n",
    "plt.show()"
   ]
  },
  {
   "attachments": {},
   "cell_type": "markdown",
   "metadata": {},
   "source": [
    "В данных преобладают клиенты без иждивенцев, как в случае ушедших, так в оставшихся"
   ]
  },
  {
   "attachments": {},
   "cell_type": "markdown",
   "metadata": {},
   "source": [
    "Посмотрим на баланс классов"
   ]
  },
  {
   "cell_type": "code",
   "execution_count": 38,
   "metadata": {
    "scrolled": true
   },
   "outputs": [
    {
     "data": {
      "image/png": "[encoded data removed]",
      "text/plain": [
       "<Figure size 1700x400 with 1 Axes>"
      ]
     },
     "metadata": {},
     "output_type": "display_data"
    }
   ],
   "source": [
    "\n",
    "plt.figure(figsize=[17, 4])\n",
    "plt.title('ГРАФИК БАЛАНСА КЛАССОВ В ЦЕЛЕВОМ ПРИЗНАКЕ', fontsize=15)\n",
    "sns.barplot(x=df_full['target'].value_counts().index,\n",
    "            y=df_full['target'].value_counts(),\n",
    "            hue=df_full['target'].value_counts().index)\n",
    "plt.ylabel('Количество', fontsize=13)\n",
    "plt.xlabel('Классы', fontsize=13)\n",
    "plt.grid(True)\n",
    "negative_class = df_full['target'].value_counts(normalize=True)[0]\n",
    "positive_class = df_full['target'].value_counts(normalize=True)[1]\n",
    "plt.legend(title=f'Отрицательный класс - {negative_class:.2f}%, Положительный класс - {positive_class:.2f}%', \n",
    "           bbox_to_anchor=(0.5, -0.25))\n",
    "plt.show();"
   ]
  },
  {
   "attachments": {},
   "cell_type": "markdown",
   "metadata": {},
   "source": [
    "Присутствует дисбаланс классов"
   ]
  },
  {
   "attachments": {},
   "cell_type": "markdown",
   "metadata": {},
   "source": [
    "Добавим признак показывающий продолжительность пользования услугами"
   ]
  },
  {
   "cell_type": "code",
   "execution_count": 39,
   "metadata": {
    "scrolled": true
   },
   "outputs": [
    {
     "data": {
      "text/html": [
       "<div>\n",
       "<style scoped>\n",
       "    .dataframe tbody tr th:only-of-type {\n",
       "        vertical-align: middle;\n",
       "    }\n",
       "\n",
       "    .dataframe tbody tr th {\n",
       "        vertical-align: top;\n",
       "    }\n",
       "\n",
       "    .dataframe thead th {\n",
       "        text-align: right;\n",
       "    }\n",
       "</style>\n",
       "<table border=\"1\" class=\"dataframe\">\n",
       "  <thead>\n",
       "    <tr style=\"text-align: right;\">\n",
       "      <th></th>\n",
       "      <th>customer_id</th>\n",
       "      <th>begin_date</th>\n",
       "      <th>end_date</th>\n",
       "      <th>type</th>\n",
       "      <th>paperless_billing</th>\n",
       "      <th>payment_method</th>\n",
       "      <th>monthly_charges</th>\n",
       "      <th>total_charges</th>\n",
       "      <th>gender</th>\n",
       "      <th>senior_citizen</th>\n",
       "      <th>...</th>\n",
       "      <th>internet_service</th>\n",
       "      <th>online_security</th>\n",
       "      <th>online_backup</th>\n",
       "      <th>device_protection</th>\n",
       "      <th>tech_support</th>\n",
       "      <th>streaming_tv</th>\n",
       "      <th>streaming_movies</th>\n",
       "      <th>multiple_lines</th>\n",
       "      <th>target</th>\n",
       "      <th>duration</th>\n",
       "    </tr>\n",
       "  </thead>\n",
       "  <tbody>\n",
       "    <tr>\n",
       "      <th>0</th>\n",
       "      <td>7590-VHVEG</td>\n",
       "      <td>2020-01-01</td>\n",
       "      <td>2020-02-01</td>\n",
       "      <td>Month-to-month</td>\n",
       "      <td>Yes</td>\n",
       "      <td>Electronic check</td>\n",
       "      <td>29.85</td>\n",
       "      <td>31.04</td>\n",
       "      <td>Female</td>\n",
       "      <td>0</td>\n",
       "      <td>...</td>\n",
       "      <td>DSL</td>\n",
       "      <td>No</td>\n",
       "      <td>Yes</td>\n",
       "      <td>No</td>\n",
       "      <td>No</td>\n",
       "      <td>No</td>\n",
       "      <td>No</td>\n",
       "      <td>No</td>\n",
       "      <td>0</td>\n",
       "      <td>31 days</td>\n",
       "    </tr>\n",
       "    <tr>\n",
       "      <th>1</th>\n",
       "      <td>5575-GNVDE</td>\n",
       "      <td>2017-04-01</td>\n",
       "      <td>2020-02-01</td>\n",
       "      <td>One year</td>\n",
       "      <td>No</td>\n",
       "      <td>Mailed check</td>\n",
       "      <td>56.95</td>\n",
       "      <td>2071.84</td>\n",
       "      <td>Male</td>\n",
       "      <td>0</td>\n",
       "      <td>...</td>\n",
       "      <td>DSL</td>\n",
       "      <td>Yes</td>\n",
       "      <td>No</td>\n",
       "      <td>Yes</td>\n",
       "      <td>No</td>\n",
       "      <td>No</td>\n",
       "      <td>No</td>\n",
       "      <td>No</td>\n",
       "      <td>0</td>\n",
       "      <td>1036 days</td>\n",
       "    </tr>\n",
       "    <tr>\n",
       "      <th>2</th>\n",
       "      <td>3668-QPYBK</td>\n",
       "      <td>2019-10-01</td>\n",
       "      <td>2020-02-01</td>\n",
       "      <td>Month-to-month</td>\n",
       "      <td>Yes</td>\n",
       "      <td>Mailed check</td>\n",
       "      <td>53.85</td>\n",
       "      <td>226.17</td>\n",
       "      <td>Male</td>\n",
       "      <td>0</td>\n",
       "      <td>...</td>\n",
       "      <td>DSL</td>\n",
       "      <td>Yes</td>\n",
       "      <td>Yes</td>\n",
       "      <td>No</td>\n",
       "      <td>No</td>\n",
       "      <td>No</td>\n",
       "      <td>No</td>\n",
       "      <td>No</td>\n",
       "      <td>0</td>\n",
       "      <td>123 days</td>\n",
       "    </tr>\n",
       "  </tbody>\n",
       "</table>\n",
       "<p>3 rows × 22 columns</p>\n",
       "</div>"
      ],
      "text/plain": [
       "  customer_id begin_date   end_date            type paperless_billing  \\\n",
       "0  7590-VHVEG 2020-01-01 2020-02-01  Month-to-month               Yes   \n",
       "1  5575-GNVDE 2017-04-01 2020-02-01        One year                No   \n",
       "2  3668-QPYBK 2019-10-01 2020-02-01  Month-to-month               Yes   \n",
       "\n",
       "     payment_method  monthly_charges  total_charges  gender  senior_citizen  \\\n",
       "0  Electronic check            29.85          31.04  Female               0   \n",
       "1      Mailed check            56.95        2071.84    Male               0   \n",
       "2      Mailed check            53.85         226.17    Male               0   \n",
       "\n",
       "   ... internet_service online_security online_backup device_protection  \\\n",
       "0  ...              DSL              No           Yes                No   \n",
       "1  ...              DSL             Yes            No               Yes   \n",
       "2  ...              DSL             Yes           Yes                No   \n",
       "\n",
       "  tech_support streaming_tv streaming_movies multiple_lines target  duration  \n",
       "0           No           No               No             No      0   31 days  \n",
       "1           No           No               No             No      0 1036 days  \n",
       "2           No           No               No             No      0  123 days  \n",
       "\n",
       "[3 rows x 22 columns]"
      ]
     },
     "execution_count": 39,
     "metadata": {},
     "output_type": "execute_result"
    }
   ],
   "source": [
    "df_full['duration'] = df_full['end_date'] - df_full['begin_date']\n",
    "df_full.head(3)"
   ]
  },
  {
   "cell_type": "code",
   "execution_count": 40,
   "metadata": {},
   "outputs": [],
   "source": [
    "df_full['duration'] = df_full['duration'].dt.days"
   ]
  },
  {
   "cell_type": "code",
   "execution_count": 41,
   "metadata": {
    "scrolled": true
   },
   "outputs": [
    {
     "data": {
      "text/plain": [
       "count    7032.000000\n",
       "mean      899.961320\n",
       "std       682.738777\n",
       "min        28.000000\n",
       "25%       276.000000\n",
       "50%       761.000000\n",
       "75%      1461.000000\n",
       "max      2314.000000\n",
       "Name: duration, dtype: float64"
      ]
     },
     "execution_count": 41,
     "metadata": {},
     "output_type": "execute_result"
    }
   ],
   "source": [
    "df_full['duration'].describe()"
   ]
  },
  {
   "cell_type": "code",
   "execution_count": 42,
   "metadata": {},
   "outputs": [],
   "source": [
    "cols_cat = ['type', 'paperless_billing', 'payment_method', 'partner', 'dependents', \n",
    "           'internet_service', 'online_security', 'online_backup', 'device_protection', 'tech_support',\n",
    "           'streaming_tv', 'streaming_movies', 'multiple_lines']"
   ]
  },
  {
   "cell_type": "code",
   "execution_count": 43,
   "metadata": {},
   "outputs": [
    {
     "data": {
      "text/html": [
       "<div>\n",
       "<style scoped>\n",
       "    .dataframe tbody tr th:only-of-type {\n",
       "        vertical-align: middle;\n",
       "    }\n",
       "\n",
       "    .dataframe tbody tr th {\n",
       "        vertical-align: top;\n",
       "    }\n",
       "\n",
       "    .dataframe thead th {\n",
       "        text-align: right;\n",
       "    }\n",
       "</style>\n",
       "<table border=\"1\" class=\"dataframe\">\n",
       "  <thead>\n",
       "    <tr style=\"text-align: right;\">\n",
       "      <th></th>\n",
       "      <th>type</th>\n",
       "      <th>paperless_billing</th>\n",
       "      <th>payment_method</th>\n",
       "      <th>partner</th>\n",
       "      <th>dependents</th>\n",
       "      <th>internet_service</th>\n",
       "      <th>online_security</th>\n",
       "      <th>online_backup</th>\n",
       "      <th>device_protection</th>\n",
       "      <th>tech_support</th>\n",
       "      <th>streaming_tv</th>\n",
       "      <th>streaming_movies</th>\n",
       "      <th>multiple_lines</th>\n",
       "    </tr>\n",
       "  </thead>\n",
       "  <tbody>\n",
       "    <tr>\n",
       "      <th>type</th>\n",
       "      <td>1.00</td>\n",
       "      <td>0.11</td>\n",
       "      <td>0.28</td>\n",
       "      <td>0.18</td>\n",
       "      <td>0.15</td>\n",
       "      <td>0.50</td>\n",
       "      <td>0.15</td>\n",
       "      <td>0.10</td>\n",
       "      <td>0.14</td>\n",
       "      <td>0.18</td>\n",
       "      <td>0.07</td>\n",
       "      <td>0.07</td>\n",
       "      <td>0.07</td>\n",
       "    </tr>\n",
       "    <tr>\n",
       "      <th>paperless_billing</th>\n",
       "      <td>0.11</td>\n",
       "      <td>1.00</td>\n",
       "      <td>0.37</td>\n",
       "      <td>0.01</td>\n",
       "      <td>0.17</td>\n",
       "      <td>0.23</td>\n",
       "      <td>0.00</td>\n",
       "      <td>0.20</td>\n",
       "      <td>0.16</td>\n",
       "      <td>0.06</td>\n",
       "      <td>0.34</td>\n",
       "      <td>0.33</td>\n",
       "      <td>0.25</td>\n",
       "    </tr>\n",
       "    <tr>\n",
       "      <th>payment_method</th>\n",
       "      <td>0.28</td>\n",
       "      <td>0.37</td>\n",
       "      <td>1.00</td>\n",
       "      <td>0.24</td>\n",
       "      <td>0.22</td>\n",
       "      <td>0.32</td>\n",
       "      <td>0.26</td>\n",
       "      <td>0.28</td>\n",
       "      <td>0.31</td>\n",
       "      <td>0.27</td>\n",
       "      <td>0.38</td>\n",
       "      <td>0.38</td>\n",
       "      <td>0.34</td>\n",
       "    </tr>\n",
       "    <tr>\n",
       "      <th>partner</th>\n",
       "      <td>0.18</td>\n",
       "      <td>0.01</td>\n",
       "      <td>0.24</td>\n",
       "      <td>1.00</td>\n",
       "      <td>0.65</td>\n",
       "      <td>0.00</td>\n",
       "      <td>0.22</td>\n",
       "      <td>0.22</td>\n",
       "      <td>0.24</td>\n",
       "      <td>0.19</td>\n",
       "      <td>0.19</td>\n",
       "      <td>0.18</td>\n",
       "      <td>0.22</td>\n",
       "    </tr>\n",
       "    <tr>\n",
       "      <th>dependents</th>\n",
       "      <td>0.15</td>\n",
       "      <td>0.17</td>\n",
       "      <td>0.22</td>\n",
       "      <td>0.65</td>\n",
       "      <td>1.00</td>\n",
       "      <td>0.11</td>\n",
       "      <td>0.12</td>\n",
       "      <td>0.03</td>\n",
       "      <td>0.01</td>\n",
       "      <td>0.10</td>\n",
       "      <td>0.02</td>\n",
       "      <td>0.06</td>\n",
       "      <td>0.03</td>\n",
       "    </tr>\n",
       "    <tr>\n",
       "      <th>internet_service</th>\n",
       "      <td>0.50</td>\n",
       "      <td>0.23</td>\n",
       "      <td>0.32</td>\n",
       "      <td>0.00</td>\n",
       "      <td>0.11</td>\n",
       "      <td>1.00</td>\n",
       "      <td>0.24</td>\n",
       "      <td>0.23</td>\n",
       "      <td>0.23</td>\n",
       "      <td>0.24</td>\n",
       "      <td>0.27</td>\n",
       "      <td>0.27</td>\n",
       "      <td>0.23</td>\n",
       "    </tr>\n",
       "    <tr>\n",
       "      <th>online_security</th>\n",
       "      <td>0.15</td>\n",
       "      <td>0.00</td>\n",
       "      <td>0.26</td>\n",
       "      <td>0.22</td>\n",
       "      <td>0.12</td>\n",
       "      <td>0.24</td>\n",
       "      <td>1.00</td>\n",
       "      <td>0.43</td>\n",
       "      <td>0.42</td>\n",
       "      <td>0.53</td>\n",
       "      <td>0.27</td>\n",
       "      <td>0.29</td>\n",
       "      <td>0.15</td>\n",
       "    </tr>\n",
       "    <tr>\n",
       "      <th>online_backup</th>\n",
       "      <td>0.10</td>\n",
       "      <td>0.20</td>\n",
       "      <td>0.28</td>\n",
       "      <td>0.22</td>\n",
       "      <td>0.03</td>\n",
       "      <td>0.23</td>\n",
       "      <td>0.43</td>\n",
       "      <td>1.00</td>\n",
       "      <td>0.46</td>\n",
       "      <td>0.44</td>\n",
       "      <td>0.43</td>\n",
       "      <td>0.42</td>\n",
       "      <td>0.31</td>\n",
       "    </tr>\n",
       "    <tr>\n",
       "      <th>device_protection</th>\n",
       "      <td>0.14</td>\n",
       "      <td>0.16</td>\n",
       "      <td>0.31</td>\n",
       "      <td>0.24</td>\n",
       "      <td>0.01</td>\n",
       "      <td>0.23</td>\n",
       "      <td>0.42</td>\n",
       "      <td>0.46</td>\n",
       "      <td>1.00</td>\n",
       "      <td>0.50</td>\n",
       "      <td>0.57</td>\n",
       "      <td>0.59</td>\n",
       "      <td>0.31</td>\n",
       "    </tr>\n",
       "    <tr>\n",
       "      <th>tech_support</th>\n",
       "      <td>0.18</td>\n",
       "      <td>0.06</td>\n",
       "      <td>0.27</td>\n",
       "      <td>0.19</td>\n",
       "      <td>0.10</td>\n",
       "      <td>0.24</td>\n",
       "      <td>0.53</td>\n",
       "      <td>0.44</td>\n",
       "      <td>0.50</td>\n",
       "      <td>1.00</td>\n",
       "      <td>0.42</td>\n",
       "      <td>0.43</td>\n",
       "      <td>0.16</td>\n",
       "    </tr>\n",
       "    <tr>\n",
       "      <th>streaming_tv</th>\n",
       "      <td>0.07</td>\n",
       "      <td>0.34</td>\n",
       "      <td>0.38</td>\n",
       "      <td>0.19</td>\n",
       "      <td>0.02</td>\n",
       "      <td>0.27</td>\n",
       "      <td>0.27</td>\n",
       "      <td>0.43</td>\n",
       "      <td>0.57</td>\n",
       "      <td>0.42</td>\n",
       "      <td>1.00</td>\n",
       "      <td>0.74</td>\n",
       "      <td>0.39</td>\n",
       "    </tr>\n",
       "    <tr>\n",
       "      <th>streaming_movies</th>\n",
       "      <td>0.07</td>\n",
       "      <td>0.33</td>\n",
       "      <td>0.38</td>\n",
       "      <td>0.18</td>\n",
       "      <td>0.06</td>\n",
       "      <td>0.27</td>\n",
       "      <td>0.29</td>\n",
       "      <td>0.42</td>\n",
       "      <td>0.59</td>\n",
       "      <td>0.43</td>\n",
       "      <td>0.74</td>\n",
       "      <td>1.00</td>\n",
       "      <td>0.40</td>\n",
       "    </tr>\n",
       "    <tr>\n",
       "      <th>multiple_lines</th>\n",
       "      <td>0.07</td>\n",
       "      <td>0.25</td>\n",
       "      <td>0.34</td>\n",
       "      <td>0.22</td>\n",
       "      <td>0.03</td>\n",
       "      <td>0.23</td>\n",
       "      <td>0.15</td>\n",
       "      <td>0.31</td>\n",
       "      <td>0.31</td>\n",
       "      <td>0.16</td>\n",
       "      <td>0.39</td>\n",
       "      <td>0.40</td>\n",
       "      <td>1.00</td>\n",
       "    </tr>\n",
       "  </tbody>\n",
       "</table>\n",
       "</div>"
      ],
      "text/plain": [
       "                   type  paperless_billing  payment_method  partner  \\\n",
       "type               1.00               0.11            0.28     0.18   \n",
       "paperless_billing  0.11               1.00            0.37     0.01   \n",
       "payment_method     0.28               0.37            1.00     0.24   \n",
       "partner            0.18               0.01            0.24     1.00   \n",
       "dependents         0.15               0.17            0.22     0.65   \n",
       "internet_service   0.50               0.23            0.32     0.00   \n",
       "online_security    0.15               0.00            0.26     0.22   \n",
       "online_backup      0.10               0.20            0.28     0.22   \n",
       "device_protection  0.14               0.16            0.31     0.24   \n",
       "tech_support       0.18               0.06            0.27     0.19   \n",
       "streaming_tv       0.07               0.34            0.38     0.19   \n",
       "streaming_movies   0.07               0.33            0.38     0.18   \n",
       "multiple_lines     0.07               0.25            0.34     0.22   \n",
       "\n",
       "                   dependents  internet_service  online_security  \\\n",
       "type                     0.15              0.50             0.15   \n",
       "paperless_billing        0.17              0.23             0.00   \n",
       "payment_method           0.22              0.32             0.26   \n",
       "partner                  0.65              0.00             0.22   \n",
       "dependents               1.00              0.11             0.12   \n",
       "internet_service         0.11              1.00             0.24   \n",
       "online_security          0.12              0.24             1.00   \n",
       "online_backup            0.03              0.23             0.43   \n",
       "device_protection        0.01              0.23             0.42   \n",
       "tech_support             0.10              0.24             0.53   \n",
       "streaming_tv             0.02              0.27             0.27   \n",
       "streaming_movies         0.06              0.27             0.29   \n",
       "multiple_lines           0.03              0.23             0.15   \n",
       "\n",
       "                   online_backup  device_protection  tech_support  \\\n",
       "type                        0.10               0.14          0.18   \n",
       "paperless_billing           0.20               0.16          0.06   \n",
       "payment_method              0.28               0.31          0.27   \n",
       "partner                     0.22               0.24          0.19   \n",
       "dependents                  0.03               0.01          0.10   \n",
       "internet_service            0.23               0.23          0.24   \n",
       "online_security             0.43               0.42          0.53   \n",
       "online_backup               1.00               0.46          0.44   \n",
       "device_protection           0.46               1.00          0.50   \n",
       "tech_support                0.44               0.50          1.00   \n",
       "streaming_tv                0.43               0.57          0.42   \n",
       "streaming_movies            0.42               0.59          0.43   \n",
       "multiple_lines              0.31               0.31          0.16   \n",
       "\n",
       "                   streaming_tv  streaming_movies  multiple_lines  \n",
       "type                       0.07              0.07            0.07  \n",
       "paperless_billing          0.34              0.33            0.25  \n",
       "payment_method             0.38              0.38            0.34  \n",
       "partner                    0.19              0.18            0.22  \n",
       "dependents                 0.02              0.06            0.03  \n",
       "internet_service           0.27              0.27            0.23  \n",
       "online_security            0.27              0.29            0.15  \n",
       "online_backup              0.43              0.42            0.31  \n",
       "device_protection          0.57              0.59            0.31  \n",
       "tech_support               0.42              0.43            0.16  \n",
       "streaming_tv               1.00              0.74            0.39  \n",
       "streaming_movies           0.74              1.00            0.40  \n",
       "multiple_lines             0.39              0.40            1.00  "
      ]
     },
     "execution_count": 43,
     "metadata": {},
     "output_type": "execute_result"
    }
   ],
   "source": [
    "df_phik = df_full[cols_cat]\n",
    "phik_overview = df_phik.phik_matrix()\n",
    "phik_overview.round(2)"
   ]
  },
  {
   "cell_type": "code",
   "execution_count": 44,
   "metadata": {},
   "outputs": [
    {
     "data": {
      "image/png": "[encoded data removed]",
      "text/plain": [
       "<Figure size 2000x1200 with 2 Axes>"
      ]
     },
     "metadata": {},
     "output_type": "display_data"
    }
   ],
   "source": [
    "numeric2 = ['monthly_charges','total_charges', 'target', 'duration']\n",
    "cor = df_full[numeric2].corr()\n",
    "fig, ax = plt.subplots(figsize=(20,12))\n",
    "plt.title('КОРРЕЛЯЦИЯ ПРИЗНАКОВ.', fontsize=20)\n",
    "sns.heatmap(cor, annot=True, cmap=\"coolwarm\",  fmt='.3g', linewidth=4)\n",
    "plt.grid(True);"
   ]
  },
  {
   "attachments": {},
   "cell_type": "markdown",
   "metadata": {},
   "source": [
    "Сильная кореляция замечена между признаками total_charges и duration , удалим столец total charges"
   ]
  },
  {
   "cell_type": "code",
   "execution_count": 45,
   "metadata": {},
   "outputs": [],
   "source": [
    "df_full.drop(['total_charges'], axis=1, inplace=True)"
   ]
  },
  {
   "attachments": {},
   "cell_type": "markdown",
   "metadata": {},
   "source": [
    "**Вывод по исследовательскому анализу**  \n",
    "\n",
    "Исследование данных дало следующие данные:\n",
    "- В данных преимущественно находятся оставшиеся на 1 февраля 2020 года пользователи, ушедших до этой даты примерно 1/6.\n",
    "- На графиках заметны периоды, когда пользователи уходили больше - скорее всего связано с повышением тарифов.\n",
    "- клиенты приходили в компанию в большом количестве в 2014-2015 годах и в 2019-2020"
   ]
  },
  {
   "attachments": {},
   "cell_type": "markdown",
   "metadata": {},
   "source": [
    "### Построение моделей"
   ]
  },
  {
   "attachments": {},
   "cell_type": "markdown",
   "metadata": {},
   "source": [
    "Удалим ненужные колонки"
   ]
  },
  {
   "cell_type": "code",
   "execution_count": 46,
   "metadata": {},
   "outputs": [],
   "source": [
    "df_full.drop(['customer_id', 'begin_date', 'end_date', 'gender'], axis= 1 , inplace= True )\n"
   ]
  },
  {
   "attachments": {},
   "cell_type": "markdown",
   "metadata": {},
   "source": [
    "Дату начало и окончания контракта удалим, так как вместо них добавил столбец с длительностью контракта."
   ]
  },
  {
   "attachments": {},
   "cell_type": "markdown",
   "metadata": {},
   "source": [
    "Признак идентификатора клиента и пол также не играют роли при обучении модели."
   ]
  },
  {
   "cell_type": "code",
   "execution_count": 47,
   "metadata": {},
   "outputs": [
    {
     "data": {
      "text/html": [
       "<div>\n",
       "<style scoped>\n",
       "    .dataframe tbody tr th:only-of-type {\n",
       "        vertical-align: middle;\n",
       "    }\n",
       "\n",
       "    .dataframe tbody tr th {\n",
       "        vertical-align: top;\n",
       "    }\n",
       "\n",
       "    .dataframe thead th {\n",
       "        text-align: right;\n",
       "    }\n",
       "</style>\n",
       "<table border=\"1\" class=\"dataframe\">\n",
       "  <thead>\n",
       "    <tr style=\"text-align: right;\">\n",
       "      <th></th>\n",
       "      <th>type</th>\n",
       "      <th>paperless_billing</th>\n",
       "      <th>payment_method</th>\n",
       "      <th>monthly_charges</th>\n",
       "      <th>senior_citizen</th>\n",
       "      <th>partner</th>\n",
       "      <th>dependents</th>\n",
       "      <th>internet_service</th>\n",
       "      <th>online_security</th>\n",
       "      <th>online_backup</th>\n",
       "      <th>device_protection</th>\n",
       "      <th>tech_support</th>\n",
       "      <th>streaming_tv</th>\n",
       "      <th>streaming_movies</th>\n",
       "      <th>multiple_lines</th>\n",
       "      <th>target</th>\n",
       "      <th>duration</th>\n",
       "    </tr>\n",
       "  </thead>\n",
       "  <tbody>\n",
       "    <tr>\n",
       "      <th>0</th>\n",
       "      <td>Month-to-month</td>\n",
       "      <td>Yes</td>\n",
       "      <td>Electronic check</td>\n",
       "      <td>29.85</td>\n",
       "      <td>0</td>\n",
       "      <td>Yes</td>\n",
       "      <td>No</td>\n",
       "      <td>DSL</td>\n",
       "      <td>No</td>\n",
       "      <td>Yes</td>\n",
       "      <td>No</td>\n",
       "      <td>No</td>\n",
       "      <td>No</td>\n",
       "      <td>No</td>\n",
       "      <td>No</td>\n",
       "      <td>0</td>\n",
       "      <td>31</td>\n",
       "    </tr>\n",
       "    <tr>\n",
       "      <th>1</th>\n",
       "      <td>One year</td>\n",
       "      <td>No</td>\n",
       "      <td>Mailed check</td>\n",
       "      <td>56.95</td>\n",
       "      <td>0</td>\n",
       "      <td>No</td>\n",
       "      <td>No</td>\n",
       "      <td>DSL</td>\n",
       "      <td>Yes</td>\n",
       "      <td>No</td>\n",
       "      <td>Yes</td>\n",
       "      <td>No</td>\n",
       "      <td>No</td>\n",
       "      <td>No</td>\n",
       "      <td>No</td>\n",
       "      <td>0</td>\n",
       "      <td>1036</td>\n",
       "    </tr>\n",
       "    <tr>\n",
       "      <th>2</th>\n",
       "      <td>Month-to-month</td>\n",
       "      <td>Yes</td>\n",
       "      <td>Mailed check</td>\n",
       "      <td>53.85</td>\n",
       "      <td>0</td>\n",
       "      <td>No</td>\n",
       "      <td>No</td>\n",
       "      <td>DSL</td>\n",
       "      <td>Yes</td>\n",
       "      <td>Yes</td>\n",
       "      <td>No</td>\n",
       "      <td>No</td>\n",
       "      <td>No</td>\n",
       "      <td>No</td>\n",
       "      <td>No</td>\n",
       "      <td>0</td>\n",
       "      <td>123</td>\n",
       "    </tr>\n",
       "  </tbody>\n",
       "</table>\n",
       "</div>"
      ],
      "text/plain": [
       "             type paperless_billing    payment_method  monthly_charges  \\\n",
       "0  Month-to-month               Yes  Electronic check            29.85   \n",
       "1        One year                No      Mailed check            56.95   \n",
       "2  Month-to-month               Yes      Mailed check            53.85   \n",
       "\n",
       "   senior_citizen partner dependents internet_service online_security  \\\n",
       "0               0     Yes         No              DSL              No   \n",
       "1               0      No         No              DSL             Yes   \n",
       "2               0      No         No              DSL             Yes   \n",
       "\n",
       "  online_backup device_protection tech_support streaming_tv streaming_movies  \\\n",
       "0           Yes                No           No           No               No   \n",
       "1            No               Yes           No           No               No   \n",
       "2           Yes                No           No           No               No   \n",
       "\n",
       "  multiple_lines  target  duration  \n",
       "0             No       0        31  \n",
       "1             No       0      1036  \n",
       "2             No       0       123  "
      ]
     },
     "execution_count": 47,
     "metadata": {},
     "output_type": "execute_result"
    }
   ],
   "source": [
    "df_full.head(3)"
   ]
  },
  {
   "attachments": {},
   "cell_type": "markdown",
   "metadata": {},
   "source": [
    "Закодируем данные методом OHE"
   ]
  },
  {
   "cell_type": "code",
   "execution_count": 48,
   "metadata": {},
   "outputs": [],
   "source": [
    "target = df_full['target'].astype('int')\n",
    "features = df_full.drop(['target'], axis=1)"
   ]
  },
  {
   "cell_type": "code",
   "execution_count": 49,
   "metadata": {},
   "outputs": [],
   "source": [
    "features_train, features_test, target_train, target_test = train_test_split(\n",
    "    features, target, test_size=0.25, random_state=240423)"
   ]
  },
  {
   "cell_type": "code",
   "execution_count": 50,
   "metadata": {},
   "outputs": [],
   "source": [
    "cols_cat = ['type', 'paperless_billing', 'payment_method', 'partner', 'dependents', 'senior_citizen',\n",
    "           'internet_service', 'online_security', 'online_backup', 'device_protection', 'tech_support',\n",
    "           'streaming_tv', 'streaming_movies', 'multiple_lines']"
   ]
  },
  {
   "cell_type": "code",
   "execution_count": 51,
   "metadata": {
    "scrolled": true
   },
   "outputs": [
    {
     "data": {
      "text/html": [
       "<style>#sk-container-id-1 {color: black;background-color: white;}#sk-container-id-1 pre{padding: 0;}#sk-container-id-1 div.sk-toggleable {background-color: white;}#sk-container-id-1 label.sk-toggleable__label {cursor: pointer;display: block;width: 100%;margin-bottom: 0;padding: 0.3em;box-sizing: border-box;text-align: center;}#sk-container-id-1 label.sk-toggleable__label-arrow:before {content: \"▸\";float: left;margin-right: 0.25em;color: #696969;}#sk-container-id-1 label.sk-toggleable__label-arrow:hover:before {color: black;}#sk-container-id-1 div.sk-estimator:hover label.sk-toggleable__label-arrow:before {color: black;}#sk-container-id-1 div.sk-toggleable__content {max-height: 0;max-width: 0;overflow: hidden;text-align: left;background-color: #f0f8ff;}#sk-container-id-1 div.sk-toggleable__content pre {margin: 0.2em;color: black;border-radius: 0.25em;background-color: #f0f8ff;}#sk-container-id-1 input.sk-toggleable__control:checked~div.sk-toggleable__content {max-height: 200px;max-width: 100%;overflow: auto;}#sk-container-id-1 input.sk-toggleable__control:checked~label.sk-toggleable__label-arrow:before {content: \"▾\";}#sk-container-id-1 div.sk-estimator input.sk-toggleable__control:checked~label.sk-toggleable__label {background-color: #d4ebff;}#sk-container-id-1 div.sk-label input.sk-toggleable__control:checked~label.sk-toggleable__label {background-color: #d4ebff;}#sk-container-id-1 input.sk-hidden--visually {border: 0;clip: rect(1px 1px 1px 1px);clip: rect(1px, 1px, 1px, 1px);height: 1px;margin: -1px;overflow: hidden;padding: 0;position: absolute;width: 1px;}#sk-container-id-1 div.sk-estimator {font-family: monospace;background-color: #f0f8ff;border: 1px dotted black;border-radius: 0.25em;box-sizing: border-box;margin-bottom: 0.5em;}#sk-container-id-1 div.sk-estimator:hover {background-color: #d4ebff;}#sk-container-id-1 div.sk-parallel-item::after {content: \"\";width: 100%;border-bottom: 1px solid gray;flex-grow: 1;}#sk-container-id-1 div.sk-label:hover label.sk-toggleable__label {background-color: #d4ebff;}#sk-container-id-1 div.sk-serial::before {content: \"\";position: absolute;border-left: 1px solid gray;box-sizing: border-box;top: 0;bottom: 0;left: 50%;z-index: 0;}#sk-container-id-1 div.sk-serial {display: flex;flex-direction: column;align-items: center;background-color: white;padding-right: 0.2em;padding-left: 0.2em;position: relative;}#sk-container-id-1 div.sk-item {position: relative;z-index: 1;}#sk-container-id-1 div.sk-parallel {display: flex;align-items: stretch;justify-content: center;background-color: white;position: relative;}#sk-container-id-1 div.sk-item::before, #sk-container-id-1 div.sk-parallel-item::before {content: \"\";position: absolute;border-left: 1px solid gray;box-sizing: border-box;top: 0;bottom: 0;left: 50%;z-index: -1;}#sk-container-id-1 div.sk-parallel-item {display: flex;flex-direction: column;z-index: 1;position: relative;background-color: white;}#sk-container-id-1 div.sk-parallel-item:first-child::after {align-self: flex-end;width: 50%;}#sk-container-id-1 div.sk-parallel-item:last-child::after {align-self: flex-start;width: 50%;}#sk-container-id-1 div.sk-parallel-item:only-child::after {width: 0;}#sk-container-id-1 div.sk-dashed-wrapped {border: 1px dashed gray;margin: 0 0.4em 0.5em 0.4em;box-sizing: border-box;padding-bottom: 0.4em;background-color: white;}#sk-container-id-1 div.sk-label label {font-family: monospace;font-weight: bold;display: inline-block;line-height: 1.2em;}#sk-container-id-1 div.sk-label-container {text-align: center;}#sk-container-id-1 div.sk-container {/* jupyter's `normalize.less` sets `[hidden] { display: none; }` but bootstrap.min.css set `[hidden] { display: none !important; }` so we also need the `!important` here to be able to override the default hidden behavior on the sphinx rendered scikit-learn.org. See: https://github.com/scikit-learn/scikit-learn/issues/21755 */display: inline-block !important;position: relative;}#sk-container-id-1 div.sk-text-repr-fallback {display: none;}</style><div id=\"sk-container-id-1\" class=\"sk-top-container\"><div class=\"sk-text-repr-fallback\"><pre>OneHotEncoder(drop=&#x27;first&#x27;, sparse=False)</pre><b>In a Jupyter environment, please rerun this cell to show the HTML representation or trust the notebook. <br />On GitHub, the HTML representation is unable to render, please try loading this page with nbviewer.org.</b></div><div class=\"sk-container\" hidden><div class=\"sk-item\"><div class=\"sk-estimator sk-toggleable\"><input class=\"sk-toggleable__control sk-hidden--visually\" id=\"sk-estimator-id-1\" type=\"checkbox\" checked><label for=\"sk-estimator-id-1\" class=\"sk-toggleable__label sk-toggleable__label-arrow\">OneHotEncoder</label><div class=\"sk-toggleable__content\"><pre>OneHotEncoder(drop=&#x27;first&#x27;, sparse=False)</pre></div></div></div></div></div>"
      ],
      "text/plain": [
       "OneHotEncoder(drop='first', sparse=False)"
      ]
     },
     "execution_count": 51,
     "metadata": {},
     "output_type": "execute_result"
    }
   ],
   "source": [
    "encoder = OneHotEncoder(drop='first', handle_unknown='error', sparse=False)\n",
    "\n",
    "# обучаем энкодер на заданных категориальных признаках тренировочной выборки\n",
    "encoder.fit(features_train[cols_cat])"
   ]
  },
  {
   "cell_type": "code",
   "execution_count": 52,
   "metadata": {},
   "outputs": [],
   "source": [
    "# добавляем закодированные признаки\n",
    "features_train[\n",
    "    encoder.get_feature_names_out()\n",
    "] = encoder.transform(features_train[cols_cat])\n",
    "# удаляем незакодированные категориальные признаки (изначальные колонки)\n",
    "features_train= features_train.drop(cols_cat, axis=1)\n"
   ]
  },
  {
   "cell_type": "code",
   "execution_count": 53,
   "metadata": {
    "scrolled": false
   },
   "outputs": [],
   "source": [
    "#отмасштабируем количественные признаки\n",
    "numeric = ['monthly_charges','duration']\n",
    "\n",
    "scaler = StandardScaler()\n",
    "scaler.fit(features_train[numeric])\n",
    "\n",
    "features_train[numeric] = scaler.transform(features_train[numeric])\n"
   ]
  },
  {
   "attachments": {},
   "cell_type": "markdown",
   "metadata": {},
   "source": [
    "**LOGISTIC_REGRESSION**"
   ]
  },
  {
   "cell_type": "code",
   "execution_count": 54,
   "metadata": {
    "scrolled": true
   },
   "outputs": [
    {
     "name": "stdout",
     "output_type": "stream",
     "text": [
      "Время обучения:  3.69 сек\n",
      "Время предсказания:  0.0 сек\n",
      "ROC-AUC модели:  0.76\n",
      "Accuracy модели:  0.7\n"
     ]
    }
   ],
   "source": [
    "model_regress = LogisticRegression(solver = 'liblinear')\n",
    "\n",
    "penalty = ['l1', 'l2']\n",
    "C = np.logspace(-4, 4, 50)\n",
    "class_weight = [None, 'balanced']\n",
    "\n",
    "hyperparameters = dict(C=C, penalty=penalty, class_weight=class_weight)\n",
    "\n",
    "rs_regress = RandomizedSearchCV(model_regress, \n",
    "                                hyperparameters, \n",
    "                                cv = 5,\n",
    "                                n_iter = 10,\n",
    "                                random_state = 0,\n",
    "                                verbose = 0, \n",
    "                                n_jobs = 1, \n",
    "                                scoring = 'roc_auc')\n",
    "#обучение\n",
    "start = time.time()    \n",
    "rs_regress.fit(features_train, target_train)\n",
    "train_time_logreg = time.time() - start\n",
    "#предсказание\n",
    "start = time.time()  \n",
    "target_pred = rs_regress.predict(features_train)\n",
    "predict_time_logreg = time.time() - start\n",
    "#расчёт метрик\n",
    "roc_auc_logreg =  rs_regress.best_score_\n",
    "accuracy_logreg = cross_val_score(rs_regress.best_estimator_, features_train, target_train, scoring = 'accuracy').mean()\n",
    "\n",
    "\n",
    "\n",
    "print('Время обучения: ', round(train_time_logreg, 2), 'сек')\n",
    "print('Время предсказания: ', round(predict_time_logreg, 2), 'сек')\n",
    "print('ROC-AUC модели: ', round(roc_auc_logreg, 2))\n",
    "print('Accuracy модели: ', round(accuracy_logreg, 2))\n"
   ]
  },
  {
   "attachments": {},
   "cell_type": "markdown",
   "metadata": {},
   "source": [
    "Mетрика auc-roc не устраивает условию => 0.85"
   ]
  },
  {
   "attachments": {},
   "cell_type": "markdown",
   "metadata": {},
   "source": [
    "**RANDOM_FOREST_CLASSIFIER**"
   ]
  },
  {
   "cell_type": "code",
   "execution_count": 55,
   "metadata": {
    "scrolled": true
   },
   "outputs": [
    {
     "name": "stdout",
     "output_type": "stream",
     "text": [
      "Время обучения:  4.34 сек\n",
      "Время предсказания:  0.03 сек\n",
      "ROC-AUC модели:  0.81\n",
      "Accuracy модели:  0.85\n"
     ]
    }
   ],
   "source": [
    "model_forest = RandomForestClassifier()\n",
    "n_estimators = [int(x) for x in np.linspace(start = 5, stop = 50, num = 10)]\n",
    "max_features = ['log2', 'sqrt']\n",
    "max_depth = [int(x) for x in np.linspace(start = 1, stop = 15, num = 15)]\n",
    "min_samples_split = [int(x) for x in np.linspace(start = 2, stop = 50, num = 10)]\n",
    "min_samples_leaf = [int(x) for x in np.linspace(start = 1, stop = 50, num = 10)]\n",
    "criterion = ['gini', 'entropy']\n",
    "class_weight = [None, 'balanced']\n",
    "\n",
    "param_dist = {'n_estimators': n_estimators,\n",
    "               'max_features': max_features,\n",
    "               'max_depth': max_depth,\n",
    "               'min_samples_split': min_samples_split,\n",
    "               'min_samples_leaf': min_samples_leaf,\n",
    "               'criterion': criterion}\n",
    "\n",
    "rs_forest = RandomizedSearchCV(model_forest,\n",
    "                               param_dist,\n",
    "                               cv = 5,\n",
    "                               n_iter = 10,\n",
    "                               random_state = 0,\n",
    "                               verbose = 0, \n",
    "                               n_jobs= 1, \n",
    "                               scoring = 'roc_auc')\n",
    "#обучение\n",
    "start = time.time()    \n",
    "rs_forest.fit(features_train, target_train)\n",
    "train_time_forst = time.time() - start\n",
    "#предсказание\n",
    "start = time.time()  \n",
    "target_pred = rs_forest.predict(features_train)\n",
    "predict_time_forst = time.time() - start\n",
    "#расчёт метрик\n",
    "roc_auc_forst =  rs_forest.best_score_\n",
    "accuracy_forst = cross_val_score(rs_forest.best_estimator_, features_train, target_train, scoring = 'accuracy').mean()\n",
    "\n",
    "\n",
    "\n",
    "print('Время обучения: ', round(train_time_forst, 2), 'сек')\n",
    "print('Время предсказания: ', round(predict_time_forst, 2), 'сек')\n",
    "print('ROC-AUC модели: ', round(roc_auc_forst, 2))\n",
    "print('Accuracy модели: ', round(accuracy_forst, 2))\n"
   ]
  },
  {
   "attachments": {},
   "cell_type": "markdown",
   "metadata": {},
   "source": [
    "roc-auc всё еще меньше нужного"
   ]
  },
  {
   "attachments": {},
   "cell_type": "markdown",
   "metadata": {},
   "source": [
    "Третьей моделью выберу lGBM, модель бустинга, её отличие в ненадобности кодировки данных, нужно перевести данные в тип category"
   ]
  },
  {
   "attachments": {},
   "cell_type": "markdown",
   "metadata": {},
   "source": [
    "**LGBMClassifier**"
   ]
  },
  {
   "cell_type": "code",
   "execution_count": 56,
   "metadata": {},
   "outputs": [],
   "source": [
    "cols_cat = ['type', 'paperless_billing', 'payment_method', 'partner', 'dependents', 'senior_citizen',\n",
    "           'internet_service', 'online_security', 'online_backup', 'device_protection', 'tech_support',\n",
    "           'streaming_tv', 'streaming_movies', 'multiple_lines']\n",
    "for col in cols_cat:\n",
    "    df_full[col] = df_full[col].astype('category')"
   ]
  },
  {
   "cell_type": "code",
   "execution_count": 57,
   "metadata": {},
   "outputs": [
    {
     "name": "stdout",
     "output_type": "stream",
     "text": [
      "Размер таблицы признаков обучающей выборки:  (5274, 16)\n",
      "Размер таблицы признаков тестовой выборки:  (1758, 16)\n"
     ]
    }
   ],
   "source": [
    "target_boost = df_full['target']\n",
    "features_boost = df_full.drop('target', axis=1)\n",
    "\n",
    "features_train_boost, features_test_boost, target_train_boost, target_test_boost = train_test_split(\n",
    "                                      features_boost, target_boost, test_size=0.25, random_state = 240323)\n",
    "\n",
    "print('Размер таблицы признаков обучающей выборки: ', features_train_boost.shape)\n",
    "print('Размер таблицы признаков тестовой выборки: ', features_test_boost.shape)\n"
   ]
  },
  {
   "cell_type": "code",
   "execution_count": 58,
   "metadata": {},
   "outputs": [],
   "source": [
    "\n",
    "#Применим масштабирование числовых признаков:\n",
    "\n",
    "scaler.fit(features_train_boost[numeric])\n",
    "\n",
    "features_train_boost[numeric] = scaler.transform(features_train_boost[numeric])\n"
   ]
  },
  {
   "cell_type": "code",
   "execution_count": 59,
   "metadata": {
    "scrolled": false
   },
   "outputs": [
    {
     "name": "stdout",
     "output_type": "stream",
     "text": [
      "Время обучения:  2.27 сек\n",
      "Время предсказания:  0.06 сек\n",
      "ROC-AUC модели:  0.86\n",
      "Accuracy модели:  0.89\n"
     ]
    }
   ],
   "source": [
    "model = LGBMClassifier(objective='binary', metric='auc')\n",
    "\n",
    "params = [{'learning_rate': [1],\n",
    "                      'n_estimators': [300],\n",
    "                      'num_leaves': [20],\n",
    "                      'class_weight': ['balanced']}]\n",
    "\n",
    "\n",
    "rs_lgbm = RandomizedSearchCV(model, \n",
    "                        params, \n",
    "                        cv = 5, \n",
    "                        n_iter=5,\n",
    "                        random_state=240323,\n",
    "                        verbose = 0, \n",
    "                        n_jobs=1,\n",
    "                        scoring={'AUC':'roc_auc'},\n",
    "                        refit='AUC')\n",
    "\n",
    "#обучение\n",
    "start = time.time()    \n",
    "rs_lgbm.fit(features_train_boost, target_train_boost)\n",
    "train_time_lgbm = time.time() - start\n",
    "#предсказание\n",
    "start = time.time()  \n",
    "target_pred = rs_lgbm.predict(features_train_boost)\n",
    "predict_time_lgbm = time.time() - start\n",
    "#расчёт метрик\n",
    "roc_auc_lgbm = rs_lgbm.best_score_\n",
    "accuracy_lgbm = cross_val_score(rs_lgbm.best_estimator_, features_train_boost, target_train_boost, scoring = 'accuracy').mean()\n",
    "\n",
    "\n",
    "print('Время обучения: ', round(train_time_lgbm, 2), 'сек')\n",
    "print('Время предсказания: ', round(predict_time_lgbm, 2), 'сек')\n",
    "print('ROC-AUC модели: ', round(roc_auc_lgbm, 2))\n",
    "print('Accuracy модели: ', round(accuracy_lgbm, 2))\n"
   ]
  },
  {
   "attachments": {},
   "cell_type": "markdown",
   "metadata": {},
   "source": [
    "Нужные результаты достигнуты, auc-roc > 0.85"
   ]
  },
  {
   "attachments": {},
   "cell_type": "markdown",
   "metadata": {},
   "source": [
    "Составим сводную таблицу"
   ]
  },
  {
   "cell_type": "code",
   "execution_count": 60,
   "metadata": {},
   "outputs": [
    {
     "data": {
      "text/html": [
       "<div>\n",
       "<style scoped>\n",
       "    .dataframe tbody tr th:only-of-type {\n",
       "        vertical-align: middle;\n",
       "    }\n",
       "\n",
       "    .dataframe tbody tr th {\n",
       "        vertical-align: top;\n",
       "    }\n",
       "\n",
       "    .dataframe thead th {\n",
       "        text-align: right;\n",
       "    }\n",
       "</style>\n",
       "<table border=\"1\" class=\"dataframe\">\n",
       "  <thead>\n",
       "    <tr style=\"text-align: right;\">\n",
       "      <th></th>\n",
       "      <th>AUC-ROC</th>\n",
       "      <th>Accuracy</th>\n",
       "      <th>Train time, сек</th>\n",
       "      <th>Predict time, сек</th>\n",
       "    </tr>\n",
       "  </thead>\n",
       "  <tbody>\n",
       "    <tr>\n",
       "      <th>LogisticRegression</th>\n",
       "      <td>0.76</td>\n",
       "      <td>0.70</td>\n",
       "      <td>3.69</td>\n",
       "      <td>0.00</td>\n",
       "    </tr>\n",
       "    <tr>\n",
       "      <th>RandomForestClassifer</th>\n",
       "      <td>0.81</td>\n",
       "      <td>0.85</td>\n",
       "      <td>4.34</td>\n",
       "      <td>0.03</td>\n",
       "    </tr>\n",
       "    <tr>\n",
       "      <th>LGBMCLassifier</th>\n",
       "      <td>0.86</td>\n",
       "      <td>0.89</td>\n",
       "      <td>2.27</td>\n",
       "      <td>0.06</td>\n",
       "    </tr>\n",
       "  </tbody>\n",
       "</table>\n",
       "</div>"
      ],
      "text/plain": [
       "                       AUC-ROC  Accuracy  Train time, сек  Predict time, сек\n",
       "LogisticRegression        0.76      0.70             3.69               0.00\n",
       "RandomForestClassifer     0.81      0.85             4.34               0.03\n",
       "LGBMCLassifier            0.86      0.89             2.27               0.06"
      ]
     },
     "metadata": {},
     "output_type": "display_data"
    }
   ],
   "source": [
    "data = {'AUC-ROC':[roc_auc_logreg, roc_auc_forst, roc_auc_lgbm],\n",
    "        'Accuracy':[accuracy_logreg, accuracy_forst, accuracy_lgbm],\n",
    "       'Train time, сек':[train_time_logreg, train_time_forst, train_time_lgbm],\n",
    "       'Predict time, сек':[predict_time_logreg, predict_time_forst, predict_time_lgbm]}\n",
    "\n",
    "table_compare = pd.DataFrame(data)\n",
    "pd.set_option('display.float_format', '{:.2f}'.format)\n",
    "table_compare.index = ['LogisticRegression', 'RandomForestClassifer', 'LGBMCLassifier']\n",
    "display(table_compare)"
   ]
  },
  {
   "attachments": {},
   "cell_type": "markdown",
   "metadata": {},
   "source": [
    "Лучшая модель lgbmClasifier,однако обучение происходит на платформе с значительной продолжительностью(иногда 40 минут, иногда 10 и т.д). Её применим в тестировании"
   ]
  },
  {
   "attachments": {},
   "cell_type": "markdown",
   "metadata": {},
   "source": [
    "### Тест"
   ]
  },
  {
   "cell_type": "code",
   "execution_count": 61,
   "metadata": {},
   "outputs": [],
   "source": [
    "#Применим масштабирование числовых признаков:\n",
    "\n",
    "features_test_boost[numeric] = scaler.transform(features_test_boost[numeric])"
   ]
  },
  {
   "cell_type": "code",
   "execution_count": 62,
   "metadata": {
    "scrolled": true
   },
   "outputs": [
    {
     "name": "stdout",
     "output_type": "stream",
     "text": [
      "Метрика roc_auc : 0.901\n",
      "CPU times: total: 78.1 ms\n",
      "Wall time: 31.9 ms\n"
     ]
    }
   ],
   "source": [
    "%%time\n",
    "roc_auc_test = roc_auc_score(target_test_boost, rs_lgbm.best_estimator_.predict_proba(features_test_boost)[:, 1])\n",
    "print('Метрика roc_auc :', round(roc_auc_test, 3))"
   ]
  },
  {
   "cell_type": "code",
   "execution_count": 63,
   "metadata": {},
   "outputs": [
    {
     "name": "stdout",
     "output_type": "stream",
     "text": [
      "Метрика accuracy : 0.75\n",
      "CPU times: total: 109 ms\n",
      "Wall time: 76.8 ms\n"
     ]
    }
   ],
   "source": [
    "%%time\n",
    "accuracy_test = accuracy_score(target_test, rs_lgbm.best_estimator_.predict(features_test_boost))\n",
    "print('Метрика accuracy :', round(accuracy_test, 3))"
   ]
  },
  {
   "attachments": {},
   "cell_type": "markdown",
   "metadata": {},
   "source": [
    "Требуемая метрика auc-roc достигнута, задача выполнена."
   ]
  },
  {
   "attachments": {},
   "cell_type": "markdown",
   "metadata": {},
   "source": [
    "**Вывод**  \n",
    "\n",
    "- Данные проанализированы, исследованы зависимости признаков, удалены ненужные признаки, добавлен признак длительности контракта;\n",
    "- Данные закодированы и разделены на тренировочную и тестовую выборки, построены 3 модели: Логистическая регрессия, Случайный Лес и LGBM бустинг;\n",
    "- По итогам 3-я модель оказалась наиболее точной, на тестовой выборке достигнута требуемая метрика auc-roc,"
   ]
  },
  {
   "attachments": {},
   "cell_type": "markdown",
   "metadata": {},
   "source": [
    "### Отчёт"
   ]
  },
  {
   "attachments": {},
   "cell_type": "markdown",
   "metadata": {},
   "source": [
    "В ходе работы над задачей выполнил следующие действия исходя из поставленного плана:\n",
    "- **Проанализировал предоставленные датасеты contract, phone, personal и internet, которые содержали следующие признаки**\n",
    "  - contract: CustomerID - индикатор клиента, BeginDate – дата начала пользования услугами, EndDate – дата окончания пользования услугами, Type – тип оплаты: ежемесячный, годовой и тд, PaperlessBilling – безналичный расчет, PaymentMethod – способ оплаты, MonthlyCharges – ежемесячные траты на услуги, TotalCharges - итоговые затраты.\n",
    "  - phone: CustomerID - индикатор клиента, MultipleLines - многоканальная связь.\n",
    "  - personal: customerID, Dependents – наличие иждивенцев, Senior Citizen – наличие пенсионного статуса по возрасту, Partner – наличие супруга(и)\n",
    "  - internet: customerID, InternetService, OnlineSecurity - антивирус, OnlineBackup - резерв.копир., DeviceProtection - защита, TechSupport -поддержка, StreamingTV -тв, StreamingMovies -фильмы.\n",
    "- **Данные были объединены в общий датасет df_full, пропуски в данных были заменены на значение No, так как являлись отсутствием у клиента определенной функции**\n",
    "- **Для обучения моделей был сгенерирован целевой признак target, который показывает ушёл клиент или нет(1 ушел, 0 - нет)**\n",
    "- **После анализа данных пришёл к выводу, что не все признаки будут нужны для построения моделей, поэтому были удалены признаки:**\n",
    "  - begin_date и end_date - вместо них создал доп признак длительность контракта(duration)\n",
    "  - customer_id, gender - не играют роли при обучении\n",
    "  - total_charges - имеет сильную корреляцию с признаком duration\n",
    "- **Итого используемые признаки при обучении:** type,\tpaperless_billing, payment_method, monthly_charges,\tsenior_citizen,\tpartner\tdependents,\tinternet_service,\tonline_security,\tonline_backup,\tdevice_protection,\ttech_support,\tstreaming_tv,\tstreaming_movies,\tmultiple_lines,\ttarget,\tduration;\n",
    "  "
   ]
  },
  {
   "attachments": {},
   "cell_type": "markdown",
   "metadata": {},
   "source": [
    "**Лучшей моделью на тренировочных данных оказалась модель бустинга LGBMClassifier.**  \n",
    "**Eё параметры:**\n",
    "- learning_rate = 1,\n",
    "- n_estimators = 300,\n",
    "- num_leaves = 20\n",
    "- class_weight = \"balanced\"\n",
    "- n_jobs = 1\n",
    "- cv =5,\n",
    "- n_iter = 5 \n",
    "\n",
    "Random_state = 240423"
   ]
  },
  {
   "attachments": {},
   "cell_type": "markdown",
   "metadata": {},
   "source": [
    "Размер таблицы признаков тестовой выборки:  (1758, 16)"
   ]
  },
  {
   "attachments": {},
   "cell_type": "markdown",
   "metadata": {},
   "source": [
    "Отклонений от исходного плана нет."
   ]
  },
  {
   "attachments": {},
   "cell_type": "markdown",
   "metadata": {},
   "source": [
    "Самое трудное для меня было выбрать оптимальные показатели для визуализации в исследовательском анализе, подбор гипер параметров для моделей, чтобы добиться нужной метрики"
   ]
  },
  {
   "attachments": {},
   "cell_type": "markdown",
   "metadata": {},
   "source": [
    "Ключевыми этапами считаю анализ данных, добавление и удаление признаков, а также построение и выбор наилучшей модели обучения. В основном же проект -  как цельная работа, в котором важны все этапы."
   ]
  },
  {
   "cell_type": "code",
   "execution_count": null,
   "metadata": {},
   "outputs": [],
   "source": []
  }
 ],
 "metadata": {
  "ExecuteTimeLog": [
   {
    "duration": 118,
    "start_time": "2023-05-05T17:47:06.517Z"
   },
   {
    "duration": 49,
    "start_time": "2023-05-20T09:54:23.271Z"
   },
   {
    "duration": 1678,
    "start_time": "2023-05-20T09:54:33.482Z"
   },
   {
    "duration": 0,
    "start_time": "2023-05-20T09:54:35.163Z"
   },
   {
    "duration": 0,
    "start_time": "2023-05-20T09:54:35.164Z"
   },
   {
    "duration": 0,
    "start_time": "2023-05-20T09:54:35.165Z"
   },
   {
    "duration": 0,
    "start_time": "2023-05-20T09:54:35.166Z"
   },
   {
    "duration": 0,
    "start_time": "2023-05-20T09:54:35.167Z"
   },
   {
    "duration": 0,
    "start_time": "2023-05-20T09:54:35.168Z"
   },
   {
    "duration": 0,
    "start_time": "2023-05-20T09:54:35.169Z"
   },
   {
    "duration": 0,
    "start_time": "2023-05-20T09:54:35.170Z"
   },
   {
    "duration": 0,
    "start_time": "2023-05-20T09:54:35.170Z"
   },
   {
    "duration": 0,
    "start_time": "2023-05-20T09:54:35.172Z"
   },
   {
    "duration": 0,
    "start_time": "2023-05-20T09:54:35.173Z"
   },
   {
    "duration": 0,
    "start_time": "2023-05-20T09:54:35.173Z"
   },
   {
    "duration": 0,
    "start_time": "2023-05-20T09:54:35.174Z"
   },
   {
    "duration": 0,
    "start_time": "2023-05-20T09:54:35.176Z"
   },
   {
    "duration": 0,
    "start_time": "2023-05-20T09:54:35.197Z"
   },
   {
    "duration": 0,
    "start_time": "2023-05-20T09:54:35.198Z"
   },
   {
    "duration": 0,
    "start_time": "2023-05-20T09:54:35.199Z"
   },
   {
    "duration": 0,
    "start_time": "2023-05-20T09:54:35.200Z"
   },
   {
    "duration": 0,
    "start_time": "2023-05-20T09:54:35.201Z"
   },
   {
    "duration": 0,
    "start_time": "2023-05-20T09:54:35.202Z"
   },
   {
    "duration": 0,
    "start_time": "2023-05-20T09:54:35.203Z"
   },
   {
    "duration": 0,
    "start_time": "2023-05-20T09:54:35.204Z"
   },
   {
    "duration": 0,
    "start_time": "2023-05-20T09:54:35.205Z"
   },
   {
    "duration": 0,
    "start_time": "2023-05-20T09:54:35.206Z"
   },
   {
    "duration": 0,
    "start_time": "2023-05-20T09:54:35.207Z"
   },
   {
    "duration": 0,
    "start_time": "2023-05-20T09:54:35.208Z"
   },
   {
    "duration": 0,
    "start_time": "2023-05-20T09:54:35.209Z"
   },
   {
    "duration": 0,
    "start_time": "2023-05-20T09:54:35.210Z"
   },
   {
    "duration": 0,
    "start_time": "2023-05-20T09:54:35.211Z"
   },
   {
    "duration": 0,
    "start_time": "2023-05-20T09:54:35.212Z"
   },
   {
    "duration": 0,
    "start_time": "2023-05-20T09:54:35.213Z"
   },
   {
    "duration": 0,
    "start_time": "2023-05-20T09:54:35.214Z"
   },
   {
    "duration": 0,
    "start_time": "2023-05-20T09:54:35.215Z"
   },
   {
    "duration": 0,
    "start_time": "2023-05-20T09:54:35.216Z"
   },
   {
    "duration": 0,
    "start_time": "2023-05-20T09:54:35.217Z"
   },
   {
    "duration": 0,
    "start_time": "2023-05-20T09:54:35.218Z"
   },
   {
    "duration": 0,
    "start_time": "2023-05-20T09:54:35.219Z"
   },
   {
    "duration": 0,
    "start_time": "2023-05-20T09:54:35.220Z"
   },
   {
    "duration": 0,
    "start_time": "2023-05-20T09:54:35.221Z"
   },
   {
    "duration": 0,
    "start_time": "2023-05-20T09:54:35.222Z"
   },
   {
    "duration": 0,
    "start_time": "2023-05-20T09:54:35.223Z"
   },
   {
    "duration": 0,
    "start_time": "2023-05-20T09:54:35.224Z"
   },
   {
    "duration": 0,
    "start_time": "2023-05-20T09:54:35.225Z"
   },
   {
    "duration": 0,
    "start_time": "2023-05-20T09:54:35.226Z"
   },
   {
    "duration": 0,
    "start_time": "2023-05-20T09:54:35.227Z"
   },
   {
    "duration": 0,
    "start_time": "2023-05-20T09:54:35.228Z"
   },
   {
    "duration": 0,
    "start_time": "2023-05-20T09:54:35.230Z"
   },
   {
    "duration": 0,
    "start_time": "2023-05-20T09:54:35.230Z"
   },
   {
    "duration": 0,
    "start_time": "2023-05-20T09:54:35.232Z"
   },
   {
    "duration": 0,
    "start_time": "2023-05-20T09:54:35.232Z"
   },
   {
    "duration": 0,
    "start_time": "2023-05-20T09:54:35.234Z"
   },
   {
    "duration": 0,
    "start_time": "2023-05-20T09:54:35.235Z"
   },
   {
    "duration": 10,
    "start_time": "2023-05-20T09:54:55.008Z"
   },
   {
    "duration": 3318,
    "start_time": "2023-05-20T09:55:30.677Z"
   },
   {
    "duration": 16,
    "start_time": "2023-05-20T09:55:42.149Z"
   },
   {
    "duration": 2121,
    "start_time": "2023-05-20T09:55:50.694Z"
   },
   {
    "duration": 6,
    "start_time": "2023-05-20T09:55:52.817Z"
   },
   {
    "duration": 2123,
    "start_time": "2023-05-20T09:55:52.825Z"
   },
   {
    "duration": 306,
    "start_time": "2023-05-20T09:55:54.949Z"
   },
   {
    "duration": 16,
    "start_time": "2023-05-20T09:55:55.257Z"
   },
   {
    "duration": 13,
    "start_time": "2023-05-20T09:55:55.274Z"
   },
   {
    "duration": 12,
    "start_time": "2023-05-20T09:55:55.288Z"
   },
   {
    "duration": 10,
    "start_time": "2023-05-20T09:55:55.302Z"
   },
   {
    "duration": 16,
    "start_time": "2023-05-20T09:55:55.315Z"
   },
   {
    "duration": 14,
    "start_time": "2023-05-20T09:55:55.333Z"
   },
   {
    "duration": 10,
    "start_time": "2023-05-20T09:55:55.348Z"
   },
   {
    "duration": 12,
    "start_time": "2023-05-20T09:55:55.359Z"
   },
   {
    "duration": 55,
    "start_time": "2023-05-20T09:55:55.373Z"
   },
   {
    "duration": 8,
    "start_time": "2023-05-20T09:55:55.429Z"
   },
   {
    "duration": 20,
    "start_time": "2023-05-20T09:55:55.439Z"
   },
   {
    "duration": 23,
    "start_time": "2023-05-20T09:55:55.461Z"
   },
   {
    "duration": 56,
    "start_time": "2023-05-20T09:55:55.485Z"
   },
   {
    "duration": 15,
    "start_time": "2023-05-20T09:55:55.543Z"
   },
   {
    "duration": 38,
    "start_time": "2023-05-20T09:55:55.560Z"
   },
   {
    "duration": 5,
    "start_time": "2023-05-20T09:55:55.600Z"
   },
   {
    "duration": 9,
    "start_time": "2023-05-20T09:55:55.607Z"
   },
   {
    "duration": 20,
    "start_time": "2023-05-20T09:55:55.618Z"
   },
   {
    "duration": 19,
    "start_time": "2023-05-20T09:55:55.640Z"
   },
   {
    "duration": 14,
    "start_time": "2023-05-20T09:55:55.661Z"
   },
   {
    "duration": 22,
    "start_time": "2023-05-20T09:55:55.676Z"
   },
   {
    "duration": 19,
    "start_time": "2023-05-20T09:55:55.700Z"
   },
   {
    "duration": 14,
    "start_time": "2023-05-20T09:55:55.723Z"
   },
   {
    "duration": 4,
    "start_time": "2023-05-20T09:55:55.739Z"
   },
   {
    "duration": 12,
    "start_time": "2023-05-20T09:55:55.745Z"
   },
   {
    "duration": 384,
    "start_time": "2023-05-20T09:55:55.759Z"
   },
   {
    "duration": 338,
    "start_time": "2023-05-20T09:55:56.145Z"
   },
   {
    "duration": 242,
    "start_time": "2023-05-20T09:55:56.485Z"
   },
   {
    "duration": 6,
    "start_time": "2023-05-20T09:55:56.728Z"
   },
   {
    "duration": 18,
    "start_time": "2023-05-20T09:55:56.736Z"
   },
   {
    "duration": 337,
    "start_time": "2023-05-20T09:55:56.756Z"
   },
   {
    "duration": 271,
    "start_time": "2023-05-20T09:55:57.095Z"
   },
   {
    "duration": 255,
    "start_time": "2023-05-20T09:55:57.368Z"
   },
   {
    "duration": 179,
    "start_time": "2023-05-20T09:55:57.625Z"
   },
   {
    "duration": 20,
    "start_time": "2023-05-20T09:55:57.807Z"
   },
   {
    "duration": 4,
    "start_time": "2023-05-20T09:55:57.829Z"
   },
   {
    "duration": 9,
    "start_time": "2023-05-20T09:55:57.835Z"
   },
   {
    "duration": 3,
    "start_time": "2023-05-20T09:55:57.845Z"
   },
   {
    "duration": 478,
    "start_time": "2023-05-20T09:55:57.850Z"
   },
   {
    "duration": 367,
    "start_time": "2023-05-20T09:55:58.330Z"
   },
   {
    "duration": 4,
    "start_time": "2023-05-20T09:55:58.698Z"
   },
   {
    "duration": 13,
    "start_time": "2023-05-20T09:55:58.704Z"
   },
   {
    "duration": 16,
    "start_time": "2023-05-20T09:55:58.718Z"
   },
   {
    "duration": 5,
    "start_time": "2023-05-20T09:55:58.736Z"
   },
   {
    "duration": 11,
    "start_time": "2023-05-20T09:55:58.743Z"
   },
   {
    "duration": 5,
    "start_time": "2023-05-20T09:55:58.756Z"
   },
   {
    "duration": 12,
    "start_time": "2023-05-20T09:55:58.762Z"
   },
   {
    "duration": 50,
    "start_time": "2023-05-20T09:55:58.776Z"
   },
   {
    "duration": 0,
    "start_time": "2023-05-20T09:55:58.828Z"
   },
   {
    "duration": 0,
    "start_time": "2023-05-20T09:55:58.830Z"
   },
   {
    "duration": 0,
    "start_time": "2023-05-20T09:55:58.831Z"
   },
   {
    "duration": 0,
    "start_time": "2023-05-20T09:55:58.833Z"
   },
   {
    "duration": 0,
    "start_time": "2023-05-20T09:55:58.834Z"
   },
   {
    "duration": 0,
    "start_time": "2023-05-20T09:55:58.836Z"
   },
   {
    "duration": 0,
    "start_time": "2023-05-20T09:55:58.837Z"
   },
   {
    "duration": 0,
    "start_time": "2023-05-20T09:55:58.839Z"
   },
   {
    "duration": 0,
    "start_time": "2023-05-20T09:55:58.841Z"
   },
   {
    "duration": 0,
    "start_time": "2023-05-20T09:55:58.842Z"
   },
   {
    "duration": 0,
    "start_time": "2023-05-20T09:55:58.843Z"
   },
   {
    "duration": 2074,
    "start_time": "2023-05-20T09:56:18.603Z"
   },
   {
    "duration": 1227,
    "start_time": "2023-05-20T09:56:20.680Z"
   },
   {
    "duration": 2002,
    "start_time": "2023-05-20T09:56:21.909Z"
   },
   {
    "duration": 100,
    "start_time": "2023-05-20T09:56:23.913Z"
   },
   {
    "duration": 18,
    "start_time": "2023-05-20T09:56:24.016Z"
   },
   {
    "duration": 12,
    "start_time": "2023-05-20T09:56:24.036Z"
   },
   {
    "duration": 13,
    "start_time": "2023-05-20T09:56:24.050Z"
   },
   {
    "duration": 8,
    "start_time": "2023-05-20T09:56:24.064Z"
   },
   {
    "duration": 28,
    "start_time": "2023-05-20T09:56:24.073Z"
   },
   {
    "duration": 10,
    "start_time": "2023-05-20T09:56:24.103Z"
   },
   {
    "duration": 9,
    "start_time": "2023-05-20T09:56:24.115Z"
   },
   {
    "duration": 13,
    "start_time": "2023-05-20T09:56:24.125Z"
   },
   {
    "duration": 38,
    "start_time": "2023-05-20T09:56:24.139Z"
   },
   {
    "duration": 6,
    "start_time": "2023-05-20T09:56:24.199Z"
   },
   {
    "duration": 12,
    "start_time": "2023-05-20T09:56:24.207Z"
   },
   {
    "duration": 16,
    "start_time": "2023-05-20T09:56:24.220Z"
   },
   {
    "duration": 35,
    "start_time": "2023-05-20T09:56:24.237Z"
   },
   {
    "duration": 33,
    "start_time": "2023-05-20T09:56:24.273Z"
   },
   {
    "duration": 14,
    "start_time": "2023-05-20T09:56:24.308Z"
   },
   {
    "duration": 4,
    "start_time": "2023-05-20T09:56:24.324Z"
   },
   {
    "duration": 6,
    "start_time": "2023-05-20T09:56:24.330Z"
   },
   {
    "duration": 11,
    "start_time": "2023-05-20T09:56:24.337Z"
   },
   {
    "duration": 53,
    "start_time": "2023-05-20T09:56:24.350Z"
   },
   {
    "duration": 28,
    "start_time": "2023-05-20T09:56:24.405Z"
   },
   {
    "duration": 4,
    "start_time": "2023-05-20T09:56:24.434Z"
   },
   {
    "duration": 11,
    "start_time": "2023-05-20T09:56:24.440Z"
   },
   {
    "duration": 13,
    "start_time": "2023-05-20T09:56:24.452Z"
   },
   {
    "duration": 3,
    "start_time": "2023-05-20T09:56:24.466Z"
   },
   {
    "duration": 8,
    "start_time": "2023-05-20T09:56:24.471Z"
   },
   {
    "duration": 336,
    "start_time": "2023-05-20T09:56:24.480Z"
   },
   {
    "duration": 235,
    "start_time": "2023-05-20T09:56:24.817Z"
   },
   {
    "duration": 176,
    "start_time": "2023-05-20T09:56:25.053Z"
   },
   {
    "duration": 4,
    "start_time": "2023-05-20T09:56:25.231Z"
   },
   {
    "duration": 8,
    "start_time": "2023-05-20T09:56:25.236Z"
   },
   {
    "duration": 440,
    "start_time": "2023-05-20T09:56:25.245Z"
   },
   {
    "duration": 260,
    "start_time": "2023-05-20T09:56:25.687Z"
   },
   {
    "duration": 241,
    "start_time": "2023-05-20T09:56:25.949Z"
   },
   {
    "duration": 167,
    "start_time": "2023-05-20T09:56:26.196Z"
   },
   {
    "duration": 33,
    "start_time": "2023-05-20T09:56:26.365Z"
   },
   {
    "duration": 3,
    "start_time": "2023-05-20T09:56:26.399Z"
   },
   {
    "duration": 9,
    "start_time": "2023-05-20T09:56:26.406Z"
   },
   {
    "duration": 2,
    "start_time": "2023-05-20T09:56:26.417Z"
   },
   {
    "duration": 491,
    "start_time": "2023-05-20T09:56:26.421Z"
   },
   {
    "duration": 371,
    "start_time": "2023-05-20T09:56:26.913Z"
   },
   {
    "duration": 4,
    "start_time": "2023-05-20T09:56:27.285Z"
   },
   {
    "duration": 4,
    "start_time": "2023-05-20T09:56:27.297Z"
   },
   {
    "duration": 16,
    "start_time": "2023-05-20T09:56:27.302Z"
   },
   {
    "duration": 6,
    "start_time": "2023-05-20T09:56:27.319Z"
   },
   {
    "duration": 7,
    "start_time": "2023-05-20T09:56:27.326Z"
   },
   {
    "duration": 2,
    "start_time": "2023-05-20T09:56:27.335Z"
   },
   {
    "duration": 14,
    "start_time": "2023-05-20T09:56:27.339Z"
   },
   {
    "duration": 64,
    "start_time": "2023-05-20T09:56:27.354Z"
   },
   {
    "duration": 10,
    "start_time": "2023-05-20T09:56:27.420Z"
   },
   {
    "duration": 9217,
    "start_time": "2023-05-20T09:56:27.431Z"
   },
   {
    "duration": 3906,
    "start_time": "2023-05-20T09:56:36.650Z"
   },
   {
    "duration": 18,
    "start_time": "2023-05-20T09:56:40.558Z"
   },
   {
    "duration": 31,
    "start_time": "2023-05-20T09:56:40.577Z"
   },
   {
    "duration": 17,
    "start_time": "2023-05-20T09:56:40.610Z"
   },
   {
    "duration": 565570,
    "start_time": "2023-05-20T09:56:40.629Z"
   },
   {
    "duration": 12,
    "start_time": "2023-05-20T10:06:06.201Z"
   },
   {
    "duration": 30,
    "start_time": "2023-05-20T10:06:06.214Z"
   },
   {
    "duration": 69,
    "start_time": "2023-05-20T10:06:06.245Z"
   },
   {
    "duration": 91,
    "start_time": "2023-05-20T10:06:06.315Z"
   }
  ],
  "kernelspec": {
   "display_name": "Python 3 (ipykernel)",
   "language": "python",
   "name": "python3"
  },
  "language_info": {
   "codemirror_mode": {
    "name": "ipython",
    "version": 3
   },
   "file_extension": ".py",
   "mimetype": "text/x-python",
   "name": "python",
   "nbconvert_exporter": "python",
   "pygments_lexer": "ipython3",
   "version": "3.9.16"
  },
  "toc": {
   "base_numbering": 1,
   "nav_menu": {},
   "number_sections": true,
   "sideBar": true,
   "skip_h1_title": true,
   "title_cell": "Table of Contents",
   "title_sidebar": "Contents",
   "toc_cell": false,
   "toc_position": {},
   "toc_section_display": true,
   "toc_window_display": false
  }
 },
 "nbformat": 4,
 "nbformat_minor": 2
}
