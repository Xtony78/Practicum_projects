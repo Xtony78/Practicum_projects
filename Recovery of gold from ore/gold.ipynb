{
 "cells": [
  {
   "cell_type": "markdown",
   "metadata": {
    "toc": true
   },
   "source": [
    "<h1>Содержание<span class=\"tocSkip\"></span></h1>\n",
    "<div class=\"toc\"><ul class=\"toc-item\"><li><span><a href=\"#Анализ-данных\" data-toc-modified-id=\"Анализ-данных-1\"><span class=\"toc-item-num\">1&nbsp;&nbsp;</span>Анализ данных</a></span></li><li><span><a href=\"#Модель\" data-toc-modified-id=\"Модель-2\"><span class=\"toc-item-num\">2&nbsp;&nbsp;</span>Модель</a></span></li></ul></div>"
   ]
  },
  {
   "cell_type": "markdown",
   "metadata": {},
   "source": [
    "# Восстановление золота из руды"
   ]
  },
  {
   "cell_type": "markdown",
   "metadata": {},
   "source": [
    "Подготовьте прототип модели машинного обучения для «Цифры». Компания разрабатывает решения для эффективной работы промышленных предприятий.\n",
    "\n",
    "Модель должна предсказать коэффициент восстановления золота из золотосодержащей руды. Используйте данные с параметрами добычи и очистки. \n",
    "\n",
    "Модель поможет оптимизировать производство, чтобы не запускать предприятие с убыточными характеристиками.\n",
    "\n",
    "Вам нужно:\n",
    "\n",
    "1. Подготовить данные;\n",
    "2. Провести исследовательский анализ данных;\n",
    "3. Построить и обучить модель.\n",
    "\n",
    "Чтобы выполнить проект, обращайтесь к библиотекам *pandas*, *matplotlib* и *sklearn.* Вам поможет их документация."
   ]
  },
  {
   "cell_type": "markdown",
   "metadata": {},
   "source": [
    "**ОПИСАНИЕ ДАННЫХ**  \n",
    "\n",
    "**Технологический процесс**  \n",
    "- Rougher feed — исходное сырье  \n",
    "- Rougher additions (или reagent additions) — флотационные реагенты: Xanthate, Sulphate, Depressant  \n",
    "  \n",
    "  - Xanthate — ксантогенат (промотер, или активатор флотации);  \n",
    "  - Sulphate — сульфат (на данном производстве сульфид натрия);  \n",
    "  - Depressant — депрессант (силикат натрия).  \n",
    "     \n",
    "- Rougher process (англ. «грубый процесс») — флотация  \n",
    "- Rougher tails — отвальные хвосты  \n",
    "- Float banks — флотационная установка  \n",
    "- Cleaner process — очистка  \n",
    "- Rougher Au — черновой концентрат золота  \n",
    "- Final Au — финальный концентрат золота  \n",
    "\n",
    "**Параметры этапов**  \n",
    "\n",
    "- air amount — объём воздуха  \n",
    "- fluid levels — уровень жидкости  \n",
    "- feed size — размер гранул сырья  \n",
    "- feed rate — скорость подачи  \n",
    "\n",
    "**Наименование признаков**  \n",
    "\n",
    "Наименование признаков должно быть такое:  \n",
    "\n",
    "[этап].[тип_параметра].[название_параметра]  \n",
    "\n",
    "Пример: rougher.input.feed_ag  \n",
    "\n",
    "Возможные значения для блока [этап]:   \n",
    "- rougher — флотация  \n",
    "- primary_cleaner — первичная очистка  \n",
    "- secondary_cleaner — вторичная очистка  \n",
    "- final — финальные характеристики  \n",
    "\n",
    "Возможные значения для блока [тип_параметра]:    \n",
    "- input — параметры сырья  \n",
    "- output — параметры продукта  \n",
    "- state — параметры, характеризующие текущее состояние этапа  \n",
    "- calculation — расчётные характеристики  \n"
   ]
  },
  {
   "cell_type": "code",
   "execution_count": 5,
   "metadata": {},
   "outputs": [],
   "source": [
    "## Подготовка данных"
   ]
  },
  {
   "cell_type": "code",
   "execution_count": 6,
   "metadata": {},
   "outputs": [],
   "source": [
    "import pandas as pd\n",
    "import numpy as np\n",
    "import seaborn as sns\n",
    "import matplotlib.pyplot as plt\n",
    "from sklearn.model_selection import train_test_split, cross_val_score\n",
    "from sklearn.tree import DecisionTreeRegressor\n",
    "from sklearn.ensemble import RandomForestRegressor\n",
    "from sklearn.linear_model import LinearRegression\n",
    "from numpy.random import RandomState\n",
    "from sklearn.metrics import make_scorer, mean_absolute_error\n",
    "from sklearn.dummy import DummyRegressor\n",
    "from sklearn.model_selection import GridSearchCV\n",
    "from sklearn.preprocessing import StandardScaler"
   ]
  },
  {
   "cell_type": "code",
   "execution_count": 7,
   "metadata": {},
   "outputs": [],
   "source": [
    "df_full = pd.read_csv('/datasets/gold_recovery_full_new.csv')\n",
    "df_train = pd.read_csv('/datasets/gold_recovery_train_new.csv')\n",
    "df_test = pd.read_csv('/datasets/gold_recovery_test_new.csv')\n"
   ]
  },
  {
   "cell_type": "markdown",
   "metadata": {},
   "source": [
    "Откроем данные и посмотрим на их строение"
   ]
  },
  {
   "cell_type": "code",
   "execution_count": 8,
   "metadata": {},
   "outputs": [
    {
     "data": {
      "text/html": [
       "<div>\n",
       "<style scoped>\n",
       "    .dataframe tbody tr th:only-of-type {\n",
       "        vertical-align: middle;\n",
       "    }\n",
       "\n",
       "    .dataframe tbody tr th {\n",
       "        vertical-align: top;\n",
       "    }\n",
       "\n",
       "    .dataframe thead th {\n",
       "        text-align: right;\n",
       "    }\n",
       "</style>\n",
       "<table border=\"1\" class=\"dataframe\">\n",
       "  <thead>\n",
       "    <tr style=\"text-align: right;\">\n",
       "      <th></th>\n",
       "      <th>date</th>\n",
       "      <th>final.output.concentrate_ag</th>\n",
       "      <th>final.output.concentrate_pb</th>\n",
       "      <th>final.output.concentrate_sol</th>\n",
       "      <th>final.output.concentrate_au</th>\n",
       "      <th>final.output.recovery</th>\n",
       "      <th>final.output.tail_ag</th>\n",
       "      <th>final.output.tail_pb</th>\n",
       "      <th>final.output.tail_sol</th>\n",
       "      <th>final.output.tail_au</th>\n",
       "      <th>...</th>\n",
       "      <th>secondary_cleaner.state.floatbank4_a_air</th>\n",
       "      <th>secondary_cleaner.state.floatbank4_a_level</th>\n",
       "      <th>secondary_cleaner.state.floatbank4_b_air</th>\n",
       "      <th>secondary_cleaner.state.floatbank4_b_level</th>\n",
       "      <th>secondary_cleaner.state.floatbank5_a_air</th>\n",
       "      <th>secondary_cleaner.state.floatbank5_a_level</th>\n",
       "      <th>secondary_cleaner.state.floatbank5_b_air</th>\n",
       "      <th>secondary_cleaner.state.floatbank5_b_level</th>\n",
       "      <th>secondary_cleaner.state.floatbank6_a_air</th>\n",
       "      <th>secondary_cleaner.state.floatbank6_a_level</th>\n",
       "    </tr>\n",
       "  </thead>\n",
       "  <tbody>\n",
       "    <tr>\n",
       "      <th>0</th>\n",
       "      <td>2016-01-15 00:00:00</td>\n",
       "      <td>6.055403</td>\n",
       "      <td>9.889648</td>\n",
       "      <td>5.507324</td>\n",
       "      <td>42.192020</td>\n",
       "      <td>70.541216</td>\n",
       "      <td>10.411962</td>\n",
       "      <td>0.895447</td>\n",
       "      <td>16.904297</td>\n",
       "      <td>2.143149</td>\n",
       "      <td>...</td>\n",
       "      <td>14.016835</td>\n",
       "      <td>-502.488007</td>\n",
       "      <td>12.099931</td>\n",
       "      <td>-504.715942</td>\n",
       "      <td>9.925633</td>\n",
       "      <td>-498.310211</td>\n",
       "      <td>8.079666</td>\n",
       "      <td>-500.470978</td>\n",
       "      <td>14.151341</td>\n",
       "      <td>-605.841980</td>\n",
       "    </tr>\n",
       "    <tr>\n",
       "      <th>1</th>\n",
       "      <td>2016-01-15 01:00:00</td>\n",
       "      <td>6.029369</td>\n",
       "      <td>9.968944</td>\n",
       "      <td>5.257781</td>\n",
       "      <td>42.701629</td>\n",
       "      <td>69.266198</td>\n",
       "      <td>10.462676</td>\n",
       "      <td>0.927452</td>\n",
       "      <td>16.634514</td>\n",
       "      <td>2.224930</td>\n",
       "      <td>...</td>\n",
       "      <td>13.992281</td>\n",
       "      <td>-505.503262</td>\n",
       "      <td>11.950531</td>\n",
       "      <td>-501.331529</td>\n",
       "      <td>10.039245</td>\n",
       "      <td>-500.169983</td>\n",
       "      <td>7.984757</td>\n",
       "      <td>-500.582168</td>\n",
       "      <td>13.998353</td>\n",
       "      <td>-599.787184</td>\n",
       "    </tr>\n",
       "    <tr>\n",
       "      <th>2</th>\n",
       "      <td>2016-01-15 02:00:00</td>\n",
       "      <td>6.055926</td>\n",
       "      <td>10.213995</td>\n",
       "      <td>5.383759</td>\n",
       "      <td>42.657501</td>\n",
       "      <td>68.116445</td>\n",
       "      <td>10.507046</td>\n",
       "      <td>0.953716</td>\n",
       "      <td>16.208849</td>\n",
       "      <td>2.257889</td>\n",
       "      <td>...</td>\n",
       "      <td>14.015015</td>\n",
       "      <td>-502.520901</td>\n",
       "      <td>11.912783</td>\n",
       "      <td>-501.133383</td>\n",
       "      <td>10.070913</td>\n",
       "      <td>-500.129135</td>\n",
       "      <td>8.013877</td>\n",
       "      <td>-500.517572</td>\n",
       "      <td>14.028663</td>\n",
       "      <td>-601.427363</td>\n",
       "    </tr>\n",
       "    <tr>\n",
       "      <th>3</th>\n",
       "      <td>2016-01-15 03:00:00</td>\n",
       "      <td>6.047977</td>\n",
       "      <td>9.977019</td>\n",
       "      <td>4.858634</td>\n",
       "      <td>42.689819</td>\n",
       "      <td>68.347543</td>\n",
       "      <td>10.422762</td>\n",
       "      <td>0.883763</td>\n",
       "      <td>16.532835</td>\n",
       "      <td>2.146849</td>\n",
       "      <td>...</td>\n",
       "      <td>14.036510</td>\n",
       "      <td>-500.857308</td>\n",
       "      <td>11.999550</td>\n",
       "      <td>-501.193686</td>\n",
       "      <td>9.970366</td>\n",
       "      <td>-499.201640</td>\n",
       "      <td>7.977324</td>\n",
       "      <td>-500.255908</td>\n",
       "      <td>14.005551</td>\n",
       "      <td>-599.996129</td>\n",
       "    </tr>\n",
       "    <tr>\n",
       "      <th>4</th>\n",
       "      <td>2016-01-15 04:00:00</td>\n",
       "      <td>6.148599</td>\n",
       "      <td>10.142511</td>\n",
       "      <td>4.939416</td>\n",
       "      <td>42.774141</td>\n",
       "      <td>66.927016</td>\n",
       "      <td>10.360302</td>\n",
       "      <td>0.792826</td>\n",
       "      <td>16.525686</td>\n",
       "      <td>2.055292</td>\n",
       "      <td>...</td>\n",
       "      <td>14.027298</td>\n",
       "      <td>-499.838632</td>\n",
       "      <td>11.953070</td>\n",
       "      <td>-501.053894</td>\n",
       "      <td>9.925709</td>\n",
       "      <td>-501.686727</td>\n",
       "      <td>7.894242</td>\n",
       "      <td>-500.356035</td>\n",
       "      <td>13.996647</td>\n",
       "      <td>-601.496691</td>\n",
       "    </tr>\n",
       "  </tbody>\n",
       "</table>\n",
       "<p>5 rows × 87 columns</p>\n",
       "</div>"
      ],
      "text/plain": [
       "                  date  final.output.concentrate_ag  \\\n",
       "0  2016-01-15 00:00:00                     6.055403   \n",
       "1  2016-01-15 01:00:00                     6.029369   \n",
       "2  2016-01-15 02:00:00                     6.055926   \n",
       "3  2016-01-15 03:00:00                     6.047977   \n",
       "4  2016-01-15 04:00:00                     6.148599   \n",
       "\n",
       "   final.output.concentrate_pb  final.output.concentrate_sol  \\\n",
       "0                     9.889648                      5.507324   \n",
       "1                     9.968944                      5.257781   \n",
       "2                    10.213995                      5.383759   \n",
       "3                     9.977019                      4.858634   \n",
       "4                    10.142511                      4.939416   \n",
       "\n",
       "   final.output.concentrate_au  final.output.recovery  final.output.tail_ag  \\\n",
       "0                    42.192020              70.541216             10.411962   \n",
       "1                    42.701629              69.266198             10.462676   \n",
       "2                    42.657501              68.116445             10.507046   \n",
       "3                    42.689819              68.347543             10.422762   \n",
       "4                    42.774141              66.927016             10.360302   \n",
       "\n",
       "   final.output.tail_pb  final.output.tail_sol  final.output.tail_au  ...  \\\n",
       "0              0.895447              16.904297              2.143149  ...   \n",
       "1              0.927452              16.634514              2.224930  ...   \n",
       "2              0.953716              16.208849              2.257889  ...   \n",
       "3              0.883763              16.532835              2.146849  ...   \n",
       "4              0.792826              16.525686              2.055292  ...   \n",
       "\n",
       "   secondary_cleaner.state.floatbank4_a_air  \\\n",
       "0                                 14.016835   \n",
       "1                                 13.992281   \n",
       "2                                 14.015015   \n",
       "3                                 14.036510   \n",
       "4                                 14.027298   \n",
       "\n",
       "   secondary_cleaner.state.floatbank4_a_level  \\\n",
       "0                                 -502.488007   \n",
       "1                                 -505.503262   \n",
       "2                                 -502.520901   \n",
       "3                                 -500.857308   \n",
       "4                                 -499.838632   \n",
       "\n",
       "   secondary_cleaner.state.floatbank4_b_air  \\\n",
       "0                                 12.099931   \n",
       "1                                 11.950531   \n",
       "2                                 11.912783   \n",
       "3                                 11.999550   \n",
       "4                                 11.953070   \n",
       "\n",
       "   secondary_cleaner.state.floatbank4_b_level  \\\n",
       "0                                 -504.715942   \n",
       "1                                 -501.331529   \n",
       "2                                 -501.133383   \n",
       "3                                 -501.193686   \n",
       "4                                 -501.053894   \n",
       "\n",
       "   secondary_cleaner.state.floatbank5_a_air  \\\n",
       "0                                  9.925633   \n",
       "1                                 10.039245   \n",
       "2                                 10.070913   \n",
       "3                                  9.970366   \n",
       "4                                  9.925709   \n",
       "\n",
       "   secondary_cleaner.state.floatbank5_a_level  \\\n",
       "0                                 -498.310211   \n",
       "1                                 -500.169983   \n",
       "2                                 -500.129135   \n",
       "3                                 -499.201640   \n",
       "4                                 -501.686727   \n",
       "\n",
       "   secondary_cleaner.state.floatbank5_b_air  \\\n",
       "0                                  8.079666   \n",
       "1                                  7.984757   \n",
       "2                                  8.013877   \n",
       "3                                  7.977324   \n",
       "4                                  7.894242   \n",
       "\n",
       "   secondary_cleaner.state.floatbank5_b_level  \\\n",
       "0                                 -500.470978   \n",
       "1                                 -500.582168   \n",
       "2                                 -500.517572   \n",
       "3                                 -500.255908   \n",
       "4                                 -500.356035   \n",
       "\n",
       "   secondary_cleaner.state.floatbank6_a_air  \\\n",
       "0                                 14.151341   \n",
       "1                                 13.998353   \n",
       "2                                 14.028663   \n",
       "3                                 14.005551   \n",
       "4                                 13.996647   \n",
       "\n",
       "   secondary_cleaner.state.floatbank6_a_level  \n",
       "0                                 -605.841980  \n",
       "1                                 -599.787184  \n",
       "2                                 -601.427363  \n",
       "3                                 -599.996129  \n",
       "4                                 -601.496691  \n",
       "\n",
       "[5 rows x 87 columns]"
      ]
     },
     "execution_count": 8,
     "metadata": {},
     "output_type": "execute_result"
    }
   ],
   "source": [
    "df_train.head()"
   ]
  },
  {
   "cell_type": "code",
   "execution_count": 9,
   "metadata": {
    "scrolled": true
   },
   "outputs": [
    {
     "data": {
      "text/html": [
       "<div>\n",
       "<style scoped>\n",
       "    .dataframe tbody tr th:only-of-type {\n",
       "        vertical-align: middle;\n",
       "    }\n",
       "\n",
       "    .dataframe tbody tr th {\n",
       "        vertical-align: top;\n",
       "    }\n",
       "\n",
       "    .dataframe thead th {\n",
       "        text-align: right;\n",
       "    }\n",
       "</style>\n",
       "<table border=\"1\" class=\"dataframe\">\n",
       "  <thead>\n",
       "    <tr style=\"text-align: right;\">\n",
       "      <th></th>\n",
       "      <th>date</th>\n",
       "      <th>primary_cleaner.input.sulfate</th>\n",
       "      <th>primary_cleaner.input.depressant</th>\n",
       "      <th>primary_cleaner.input.feed_size</th>\n",
       "      <th>primary_cleaner.input.xanthate</th>\n",
       "      <th>primary_cleaner.state.floatbank8_a_air</th>\n",
       "      <th>primary_cleaner.state.floatbank8_a_level</th>\n",
       "      <th>primary_cleaner.state.floatbank8_b_air</th>\n",
       "      <th>primary_cleaner.state.floatbank8_b_level</th>\n",
       "      <th>primary_cleaner.state.floatbank8_c_air</th>\n",
       "      <th>...</th>\n",
       "      <th>secondary_cleaner.state.floatbank4_a_air</th>\n",
       "      <th>secondary_cleaner.state.floatbank4_a_level</th>\n",
       "      <th>secondary_cleaner.state.floatbank4_b_air</th>\n",
       "      <th>secondary_cleaner.state.floatbank4_b_level</th>\n",
       "      <th>secondary_cleaner.state.floatbank5_a_air</th>\n",
       "      <th>secondary_cleaner.state.floatbank5_a_level</th>\n",
       "      <th>secondary_cleaner.state.floatbank5_b_air</th>\n",
       "      <th>secondary_cleaner.state.floatbank5_b_level</th>\n",
       "      <th>secondary_cleaner.state.floatbank6_a_air</th>\n",
       "      <th>secondary_cleaner.state.floatbank6_a_level</th>\n",
       "    </tr>\n",
       "  </thead>\n",
       "  <tbody>\n",
       "    <tr>\n",
       "      <th>0</th>\n",
       "      <td>2016-09-01 00:59:59</td>\n",
       "      <td>210.800909</td>\n",
       "      <td>14.993118</td>\n",
       "      <td>8.080000</td>\n",
       "      <td>1.005021</td>\n",
       "      <td>1398.981301</td>\n",
       "      <td>-500.225577</td>\n",
       "      <td>1399.144926</td>\n",
       "      <td>-499.919735</td>\n",
       "      <td>1400.102998</td>\n",
       "      <td>...</td>\n",
       "      <td>12.023554</td>\n",
       "      <td>-497.795834</td>\n",
       "      <td>8.016656</td>\n",
       "      <td>-501.289139</td>\n",
       "      <td>7.946562</td>\n",
       "      <td>-432.317850</td>\n",
       "      <td>4.872511</td>\n",
       "      <td>-500.037437</td>\n",
       "      <td>26.705889</td>\n",
       "      <td>-499.709414</td>\n",
       "    </tr>\n",
       "    <tr>\n",
       "      <th>1</th>\n",
       "      <td>2016-09-01 01:59:59</td>\n",
       "      <td>215.392455</td>\n",
       "      <td>14.987471</td>\n",
       "      <td>8.080000</td>\n",
       "      <td>0.990469</td>\n",
       "      <td>1398.777912</td>\n",
       "      <td>-500.057435</td>\n",
       "      <td>1398.055362</td>\n",
       "      <td>-499.778182</td>\n",
       "      <td>1396.151033</td>\n",
       "      <td>...</td>\n",
       "      <td>12.058140</td>\n",
       "      <td>-498.695773</td>\n",
       "      <td>8.130979</td>\n",
       "      <td>-499.634209</td>\n",
       "      <td>7.958270</td>\n",
       "      <td>-525.839648</td>\n",
       "      <td>4.878850</td>\n",
       "      <td>-500.162375</td>\n",
       "      <td>25.019940</td>\n",
       "      <td>-499.819438</td>\n",
       "    </tr>\n",
       "    <tr>\n",
       "      <th>2</th>\n",
       "      <td>2016-09-01 02:59:59</td>\n",
       "      <td>215.259946</td>\n",
       "      <td>12.884934</td>\n",
       "      <td>7.786667</td>\n",
       "      <td>0.996043</td>\n",
       "      <td>1398.493666</td>\n",
       "      <td>-500.868360</td>\n",
       "      <td>1398.860436</td>\n",
       "      <td>-499.764529</td>\n",
       "      <td>1398.075709</td>\n",
       "      <td>...</td>\n",
       "      <td>11.962366</td>\n",
       "      <td>-498.767484</td>\n",
       "      <td>8.096893</td>\n",
       "      <td>-500.827423</td>\n",
       "      <td>8.071056</td>\n",
       "      <td>-500.801673</td>\n",
       "      <td>4.905125</td>\n",
       "      <td>-499.828510</td>\n",
       "      <td>24.994862</td>\n",
       "      <td>-500.622559</td>\n",
       "    </tr>\n",
       "    <tr>\n",
       "      <th>3</th>\n",
       "      <td>2016-09-01 03:59:59</td>\n",
       "      <td>215.336236</td>\n",
       "      <td>12.006805</td>\n",
       "      <td>7.640000</td>\n",
       "      <td>0.863514</td>\n",
       "      <td>1399.618111</td>\n",
       "      <td>-498.863574</td>\n",
       "      <td>1397.440120</td>\n",
       "      <td>-499.211024</td>\n",
       "      <td>1400.129303</td>\n",
       "      <td>...</td>\n",
       "      <td>12.033091</td>\n",
       "      <td>-498.350935</td>\n",
       "      <td>8.074946</td>\n",
       "      <td>-499.474407</td>\n",
       "      <td>7.897085</td>\n",
       "      <td>-500.868509</td>\n",
       "      <td>4.931400</td>\n",
       "      <td>-499.963623</td>\n",
       "      <td>24.948919</td>\n",
       "      <td>-498.709987</td>\n",
       "    </tr>\n",
       "    <tr>\n",
       "      <th>4</th>\n",
       "      <td>2016-09-01 04:59:59</td>\n",
       "      <td>199.099327</td>\n",
       "      <td>10.682530</td>\n",
       "      <td>7.530000</td>\n",
       "      <td>0.805575</td>\n",
       "      <td>1401.268123</td>\n",
       "      <td>-500.808305</td>\n",
       "      <td>1398.128818</td>\n",
       "      <td>-499.504543</td>\n",
       "      <td>1402.172226</td>\n",
       "      <td>...</td>\n",
       "      <td>12.025367</td>\n",
       "      <td>-500.786497</td>\n",
       "      <td>8.054678</td>\n",
       "      <td>-500.397500</td>\n",
       "      <td>8.107890</td>\n",
       "      <td>-509.526725</td>\n",
       "      <td>4.957674</td>\n",
       "      <td>-500.360026</td>\n",
       "      <td>25.003331</td>\n",
       "      <td>-500.856333</td>\n",
       "    </tr>\n",
       "  </tbody>\n",
       "</table>\n",
       "<p>5 rows × 53 columns</p>\n",
       "</div>"
      ],
      "text/plain": [
       "                  date  primary_cleaner.input.sulfate  \\\n",
       "0  2016-09-01 00:59:59                     210.800909   \n",
       "1  2016-09-01 01:59:59                     215.392455   \n",
       "2  2016-09-01 02:59:59                     215.259946   \n",
       "3  2016-09-01 03:59:59                     215.336236   \n",
       "4  2016-09-01 04:59:59                     199.099327   \n",
       "\n",
       "   primary_cleaner.input.depressant  primary_cleaner.input.feed_size  \\\n",
       "0                         14.993118                         8.080000   \n",
       "1                         14.987471                         8.080000   \n",
       "2                         12.884934                         7.786667   \n",
       "3                         12.006805                         7.640000   \n",
       "4                         10.682530                         7.530000   \n",
       "\n",
       "   primary_cleaner.input.xanthate  primary_cleaner.state.floatbank8_a_air  \\\n",
       "0                        1.005021                             1398.981301   \n",
       "1                        0.990469                             1398.777912   \n",
       "2                        0.996043                             1398.493666   \n",
       "3                        0.863514                             1399.618111   \n",
       "4                        0.805575                             1401.268123   \n",
       "\n",
       "   primary_cleaner.state.floatbank8_a_level  \\\n",
       "0                               -500.225577   \n",
       "1                               -500.057435   \n",
       "2                               -500.868360   \n",
       "3                               -498.863574   \n",
       "4                               -500.808305   \n",
       "\n",
       "   primary_cleaner.state.floatbank8_b_air  \\\n",
       "0                             1399.144926   \n",
       "1                             1398.055362   \n",
       "2                             1398.860436   \n",
       "3                             1397.440120   \n",
       "4                             1398.128818   \n",
       "\n",
       "   primary_cleaner.state.floatbank8_b_level  \\\n",
       "0                               -499.919735   \n",
       "1                               -499.778182   \n",
       "2                               -499.764529   \n",
       "3                               -499.211024   \n",
       "4                               -499.504543   \n",
       "\n",
       "   primary_cleaner.state.floatbank8_c_air  ...  \\\n",
       "0                             1400.102998  ...   \n",
       "1                             1396.151033  ...   \n",
       "2                             1398.075709  ...   \n",
       "3                             1400.129303  ...   \n",
       "4                             1402.172226  ...   \n",
       "\n",
       "   secondary_cleaner.state.floatbank4_a_air  \\\n",
       "0                                 12.023554   \n",
       "1                                 12.058140   \n",
       "2                                 11.962366   \n",
       "3                                 12.033091   \n",
       "4                                 12.025367   \n",
       "\n",
       "   secondary_cleaner.state.floatbank4_a_level  \\\n",
       "0                                 -497.795834   \n",
       "1                                 -498.695773   \n",
       "2                                 -498.767484   \n",
       "3                                 -498.350935   \n",
       "4                                 -500.786497   \n",
       "\n",
       "   secondary_cleaner.state.floatbank4_b_air  \\\n",
       "0                                  8.016656   \n",
       "1                                  8.130979   \n",
       "2                                  8.096893   \n",
       "3                                  8.074946   \n",
       "4                                  8.054678   \n",
       "\n",
       "   secondary_cleaner.state.floatbank4_b_level  \\\n",
       "0                                 -501.289139   \n",
       "1                                 -499.634209   \n",
       "2                                 -500.827423   \n",
       "3                                 -499.474407   \n",
       "4                                 -500.397500   \n",
       "\n",
       "   secondary_cleaner.state.floatbank5_a_air  \\\n",
       "0                                  7.946562   \n",
       "1                                  7.958270   \n",
       "2                                  8.071056   \n",
       "3                                  7.897085   \n",
       "4                                  8.107890   \n",
       "\n",
       "   secondary_cleaner.state.floatbank5_a_level  \\\n",
       "0                                 -432.317850   \n",
       "1                                 -525.839648   \n",
       "2                                 -500.801673   \n",
       "3                                 -500.868509   \n",
       "4                                 -509.526725   \n",
       "\n",
       "   secondary_cleaner.state.floatbank5_b_air  \\\n",
       "0                                  4.872511   \n",
       "1                                  4.878850   \n",
       "2                                  4.905125   \n",
       "3                                  4.931400   \n",
       "4                                  4.957674   \n",
       "\n",
       "   secondary_cleaner.state.floatbank5_b_level  \\\n",
       "0                                 -500.037437   \n",
       "1                                 -500.162375   \n",
       "2                                 -499.828510   \n",
       "3                                 -499.963623   \n",
       "4                                 -500.360026   \n",
       "\n",
       "   secondary_cleaner.state.floatbank6_a_air  \\\n",
       "0                                 26.705889   \n",
       "1                                 25.019940   \n",
       "2                                 24.994862   \n",
       "3                                 24.948919   \n",
       "4                                 25.003331   \n",
       "\n",
       "   secondary_cleaner.state.floatbank6_a_level  \n",
       "0                                 -499.709414  \n",
       "1                                 -499.819438  \n",
       "2                                 -500.622559  \n",
       "3                                 -498.709987  \n",
       "4                                 -500.856333  \n",
       "\n",
       "[5 rows x 53 columns]"
      ]
     },
     "execution_count": 9,
     "metadata": {},
     "output_type": "execute_result"
    }
   ],
   "source": [
    "df_test.head()"
   ]
  },
  {
   "cell_type": "code",
   "execution_count": 10,
   "metadata": {
    "scrolled": true
   },
   "outputs": [
    {
     "data": {
      "text/html": [
       "<div>\n",
       "<style scoped>\n",
       "    .dataframe tbody tr th:only-of-type {\n",
       "        vertical-align: middle;\n",
       "    }\n",
       "\n",
       "    .dataframe tbody tr th {\n",
       "        vertical-align: top;\n",
       "    }\n",
       "\n",
       "    .dataframe thead th {\n",
       "        text-align: right;\n",
       "    }\n",
       "</style>\n",
       "<table border=\"1\" class=\"dataframe\">\n",
       "  <thead>\n",
       "    <tr style=\"text-align: right;\">\n",
       "      <th></th>\n",
       "      <th>date</th>\n",
       "      <th>final.output.concentrate_ag</th>\n",
       "      <th>final.output.concentrate_pb</th>\n",
       "      <th>final.output.concentrate_sol</th>\n",
       "      <th>final.output.concentrate_au</th>\n",
       "      <th>final.output.recovery</th>\n",
       "      <th>final.output.tail_ag</th>\n",
       "      <th>final.output.tail_pb</th>\n",
       "      <th>final.output.tail_sol</th>\n",
       "      <th>final.output.tail_au</th>\n",
       "      <th>...</th>\n",
       "      <th>secondary_cleaner.state.floatbank4_a_air</th>\n",
       "      <th>secondary_cleaner.state.floatbank4_a_level</th>\n",
       "      <th>secondary_cleaner.state.floatbank4_b_air</th>\n",
       "      <th>secondary_cleaner.state.floatbank4_b_level</th>\n",
       "      <th>secondary_cleaner.state.floatbank5_a_air</th>\n",
       "      <th>secondary_cleaner.state.floatbank5_a_level</th>\n",
       "      <th>secondary_cleaner.state.floatbank5_b_air</th>\n",
       "      <th>secondary_cleaner.state.floatbank5_b_level</th>\n",
       "      <th>secondary_cleaner.state.floatbank6_a_air</th>\n",
       "      <th>secondary_cleaner.state.floatbank6_a_level</th>\n",
       "    </tr>\n",
       "  </thead>\n",
       "  <tbody>\n",
       "    <tr>\n",
       "      <th>0</th>\n",
       "      <td>2016-01-15 00:00:00</td>\n",
       "      <td>6.055403</td>\n",
       "      <td>9.889648</td>\n",
       "      <td>5.507324</td>\n",
       "      <td>42.192020</td>\n",
       "      <td>70.541216</td>\n",
       "      <td>10.411962</td>\n",
       "      <td>0.895447</td>\n",
       "      <td>16.904297</td>\n",
       "      <td>2.143149</td>\n",
       "      <td>...</td>\n",
       "      <td>14.016835</td>\n",
       "      <td>-502.488007</td>\n",
       "      <td>12.099931</td>\n",
       "      <td>-504.715942</td>\n",
       "      <td>9.925633</td>\n",
       "      <td>-498.310211</td>\n",
       "      <td>8.079666</td>\n",
       "      <td>-500.470978</td>\n",
       "      <td>14.151341</td>\n",
       "      <td>-605.841980</td>\n",
       "    </tr>\n",
       "    <tr>\n",
       "      <th>1</th>\n",
       "      <td>2016-01-15 01:00:00</td>\n",
       "      <td>6.029369</td>\n",
       "      <td>9.968944</td>\n",
       "      <td>5.257781</td>\n",
       "      <td>42.701629</td>\n",
       "      <td>69.266198</td>\n",
       "      <td>10.462676</td>\n",
       "      <td>0.927452</td>\n",
       "      <td>16.634514</td>\n",
       "      <td>2.224930</td>\n",
       "      <td>...</td>\n",
       "      <td>13.992281</td>\n",
       "      <td>-505.503262</td>\n",
       "      <td>11.950531</td>\n",
       "      <td>-501.331529</td>\n",
       "      <td>10.039245</td>\n",
       "      <td>-500.169983</td>\n",
       "      <td>7.984757</td>\n",
       "      <td>-500.582168</td>\n",
       "      <td>13.998353</td>\n",
       "      <td>-599.787184</td>\n",
       "    </tr>\n",
       "    <tr>\n",
       "      <th>2</th>\n",
       "      <td>2016-01-15 02:00:00</td>\n",
       "      <td>6.055926</td>\n",
       "      <td>10.213995</td>\n",
       "      <td>5.383759</td>\n",
       "      <td>42.657501</td>\n",
       "      <td>68.116445</td>\n",
       "      <td>10.507046</td>\n",
       "      <td>0.953716</td>\n",
       "      <td>16.208849</td>\n",
       "      <td>2.257889</td>\n",
       "      <td>...</td>\n",
       "      <td>14.015015</td>\n",
       "      <td>-502.520901</td>\n",
       "      <td>11.912783</td>\n",
       "      <td>-501.133383</td>\n",
       "      <td>10.070913</td>\n",
       "      <td>-500.129135</td>\n",
       "      <td>8.013877</td>\n",
       "      <td>-500.517572</td>\n",
       "      <td>14.028663</td>\n",
       "      <td>-601.427363</td>\n",
       "    </tr>\n",
       "    <tr>\n",
       "      <th>3</th>\n",
       "      <td>2016-01-15 03:00:00</td>\n",
       "      <td>6.047977</td>\n",
       "      <td>9.977019</td>\n",
       "      <td>4.858634</td>\n",
       "      <td>42.689819</td>\n",
       "      <td>68.347543</td>\n",
       "      <td>10.422762</td>\n",
       "      <td>0.883763</td>\n",
       "      <td>16.532835</td>\n",
       "      <td>2.146849</td>\n",
       "      <td>...</td>\n",
       "      <td>14.036510</td>\n",
       "      <td>-500.857308</td>\n",
       "      <td>11.999550</td>\n",
       "      <td>-501.193686</td>\n",
       "      <td>9.970366</td>\n",
       "      <td>-499.201640</td>\n",
       "      <td>7.977324</td>\n",
       "      <td>-500.255908</td>\n",
       "      <td>14.005551</td>\n",
       "      <td>-599.996129</td>\n",
       "    </tr>\n",
       "    <tr>\n",
       "      <th>4</th>\n",
       "      <td>2016-01-15 04:00:00</td>\n",
       "      <td>6.148599</td>\n",
       "      <td>10.142511</td>\n",
       "      <td>4.939416</td>\n",
       "      <td>42.774141</td>\n",
       "      <td>66.927016</td>\n",
       "      <td>10.360302</td>\n",
       "      <td>0.792826</td>\n",
       "      <td>16.525686</td>\n",
       "      <td>2.055292</td>\n",
       "      <td>...</td>\n",
       "      <td>14.027298</td>\n",
       "      <td>-499.838632</td>\n",
       "      <td>11.953070</td>\n",
       "      <td>-501.053894</td>\n",
       "      <td>9.925709</td>\n",
       "      <td>-501.686727</td>\n",
       "      <td>7.894242</td>\n",
       "      <td>-500.356035</td>\n",
       "      <td>13.996647</td>\n",
       "      <td>-601.496691</td>\n",
       "    </tr>\n",
       "  </tbody>\n",
       "</table>\n",
       "<p>5 rows × 87 columns</p>\n",
       "</div>"
      ],
      "text/plain": [
       "                  date  final.output.concentrate_ag  \\\n",
       "0  2016-01-15 00:00:00                     6.055403   \n",
       "1  2016-01-15 01:00:00                     6.029369   \n",
       "2  2016-01-15 02:00:00                     6.055926   \n",
       "3  2016-01-15 03:00:00                     6.047977   \n",
       "4  2016-01-15 04:00:00                     6.148599   \n",
       "\n",
       "   final.output.concentrate_pb  final.output.concentrate_sol  \\\n",
       "0                     9.889648                      5.507324   \n",
       "1                     9.968944                      5.257781   \n",
       "2                    10.213995                      5.383759   \n",
       "3                     9.977019                      4.858634   \n",
       "4                    10.142511                      4.939416   \n",
       "\n",
       "   final.output.concentrate_au  final.output.recovery  final.output.tail_ag  \\\n",
       "0                    42.192020              70.541216             10.411962   \n",
       "1                    42.701629              69.266198             10.462676   \n",
       "2                    42.657501              68.116445             10.507046   \n",
       "3                    42.689819              68.347543             10.422762   \n",
       "4                    42.774141              66.927016             10.360302   \n",
       "\n",
       "   final.output.tail_pb  final.output.tail_sol  final.output.tail_au  ...  \\\n",
       "0              0.895447              16.904297              2.143149  ...   \n",
       "1              0.927452              16.634514              2.224930  ...   \n",
       "2              0.953716              16.208849              2.257889  ...   \n",
       "3              0.883763              16.532835              2.146849  ...   \n",
       "4              0.792826              16.525686              2.055292  ...   \n",
       "\n",
       "   secondary_cleaner.state.floatbank4_a_air  \\\n",
       "0                                 14.016835   \n",
       "1                                 13.992281   \n",
       "2                                 14.015015   \n",
       "3                                 14.036510   \n",
       "4                                 14.027298   \n",
       "\n",
       "   secondary_cleaner.state.floatbank4_a_level  \\\n",
       "0                                 -502.488007   \n",
       "1                                 -505.503262   \n",
       "2                                 -502.520901   \n",
       "3                                 -500.857308   \n",
       "4                                 -499.838632   \n",
       "\n",
       "   secondary_cleaner.state.floatbank4_b_air  \\\n",
       "0                                 12.099931   \n",
       "1                                 11.950531   \n",
       "2                                 11.912783   \n",
       "3                                 11.999550   \n",
       "4                                 11.953070   \n",
       "\n",
       "   secondary_cleaner.state.floatbank4_b_level  \\\n",
       "0                                 -504.715942   \n",
       "1                                 -501.331529   \n",
       "2                                 -501.133383   \n",
       "3                                 -501.193686   \n",
       "4                                 -501.053894   \n",
       "\n",
       "   secondary_cleaner.state.floatbank5_a_air  \\\n",
       "0                                  9.925633   \n",
       "1                                 10.039245   \n",
       "2                                 10.070913   \n",
       "3                                  9.970366   \n",
       "4                                  9.925709   \n",
       "\n",
       "   secondary_cleaner.state.floatbank5_a_level  \\\n",
       "0                                 -498.310211   \n",
       "1                                 -500.169983   \n",
       "2                                 -500.129135   \n",
       "3                                 -499.201640   \n",
       "4                                 -501.686727   \n",
       "\n",
       "   secondary_cleaner.state.floatbank5_b_air  \\\n",
       "0                                  8.079666   \n",
       "1                                  7.984757   \n",
       "2                                  8.013877   \n",
       "3                                  7.977324   \n",
       "4                                  7.894242   \n",
       "\n",
       "   secondary_cleaner.state.floatbank5_b_level  \\\n",
       "0                                 -500.470978   \n",
       "1                                 -500.582168   \n",
       "2                                 -500.517572   \n",
       "3                                 -500.255908   \n",
       "4                                 -500.356035   \n",
       "\n",
       "   secondary_cleaner.state.floatbank6_a_air  \\\n",
       "0                                 14.151341   \n",
       "1                                 13.998353   \n",
       "2                                 14.028663   \n",
       "3                                 14.005551   \n",
       "4                                 13.996647   \n",
       "\n",
       "   secondary_cleaner.state.floatbank6_a_level  \n",
       "0                                 -605.841980  \n",
       "1                                 -599.787184  \n",
       "2                                 -601.427363  \n",
       "3                                 -599.996129  \n",
       "4                                 -601.496691  \n",
       "\n",
       "[5 rows x 87 columns]"
      ]
     },
     "execution_count": 10,
     "metadata": {},
     "output_type": "execute_result"
    }
   ],
   "source": [
    "df_full.head()"
   ]
  },
  {
   "cell_type": "markdown",
   "metadata": {},
   "source": [
    "Рассмотрим информацию о столбцах, их формат и количество значений в них"
   ]
  },
  {
   "cell_type": "code",
   "execution_count": 11,
   "metadata": {
    "scrolled": true
   },
   "outputs": [
    {
     "name": "stdout",
     "output_type": "stream",
     "text": [
      "<class 'pandas.core.frame.DataFrame'>\n",
      "RangeIndex: 14149 entries, 0 to 14148\n",
      "Data columns (total 87 columns):\n",
      " #   Column                                              Non-Null Count  Dtype  \n",
      "---  ------                                              --------------  -----  \n",
      " 0   date                                                14149 non-null  object \n",
      " 1   final.output.concentrate_ag                         14148 non-null  float64\n",
      " 2   final.output.concentrate_pb                         14148 non-null  float64\n",
      " 3   final.output.concentrate_sol                        13938 non-null  float64\n",
      " 4   final.output.concentrate_au                         14149 non-null  float64\n",
      " 5   final.output.recovery                               14149 non-null  float64\n",
      " 6   final.output.tail_ag                                14149 non-null  float64\n",
      " 7   final.output.tail_pb                                14049 non-null  float64\n",
      " 8   final.output.tail_sol                               14144 non-null  float64\n",
      " 9   final.output.tail_au                                14149 non-null  float64\n",
      " 10  primary_cleaner.input.sulfate                       14129 non-null  float64\n",
      " 11  primary_cleaner.input.depressant                    14117 non-null  float64\n",
      " 12  primary_cleaner.input.feed_size                     14149 non-null  float64\n",
      " 13  primary_cleaner.input.xanthate                      14049 non-null  float64\n",
      " 14  primary_cleaner.output.concentrate_ag               14149 non-null  float64\n",
      " 15  primary_cleaner.output.concentrate_pb               14063 non-null  float64\n",
      " 16  primary_cleaner.output.concentrate_sol              13863 non-null  float64\n",
      " 17  primary_cleaner.output.concentrate_au               14149 non-null  float64\n",
      " 18  primary_cleaner.output.tail_ag                      14148 non-null  float64\n",
      " 19  primary_cleaner.output.tail_pb                      14134 non-null  float64\n",
      " 20  primary_cleaner.output.tail_sol                     14103 non-null  float64\n",
      " 21  primary_cleaner.output.tail_au                      14149 non-null  float64\n",
      " 22  primary_cleaner.state.floatbank8_a_air              14145 non-null  float64\n",
      " 23  primary_cleaner.state.floatbank8_a_level            14148 non-null  float64\n",
      " 24  primary_cleaner.state.floatbank8_b_air              14145 non-null  float64\n",
      " 25  primary_cleaner.state.floatbank8_b_level            14148 non-null  float64\n",
      " 26  primary_cleaner.state.floatbank8_c_air              14147 non-null  float64\n",
      " 27  primary_cleaner.state.floatbank8_c_level            14148 non-null  float64\n",
      " 28  primary_cleaner.state.floatbank8_d_air              14146 non-null  float64\n",
      " 29  primary_cleaner.state.floatbank8_d_level            14148 non-null  float64\n",
      " 30  rougher.calculation.sulfate_to_au_concentrate       14148 non-null  float64\n",
      " 31  rougher.calculation.floatbank10_sulfate_to_au_feed  14148 non-null  float64\n",
      " 32  rougher.calculation.floatbank11_sulfate_to_au_feed  14148 non-null  float64\n",
      " 33  rougher.calculation.au_pb_ratio                     14149 non-null  float64\n",
      " 34  rougher.input.feed_ag                               14149 non-null  float64\n",
      " 35  rougher.input.feed_pb                               14049 non-null  float64\n",
      " 36  rougher.input.feed_rate                             14141 non-null  float64\n",
      " 37  rougher.input.feed_size                             14005 non-null  float64\n",
      " 38  rougher.input.feed_sol                              14071 non-null  float64\n",
      " 39  rougher.input.feed_au                               14149 non-null  float64\n",
      " 40  rougher.input.floatbank10_sulfate                   14120 non-null  float64\n",
      " 41  rougher.input.floatbank10_xanthate                  14141 non-null  float64\n",
      " 42  rougher.input.floatbank11_sulfate                   14113 non-null  float64\n",
      " 43  rougher.input.floatbank11_xanthate                  13721 non-null  float64\n",
      " 44  rougher.output.concentrate_ag                       14149 non-null  float64\n",
      " 45  rougher.output.concentrate_pb                       14149 non-null  float64\n",
      " 46  rougher.output.concentrate_sol                      14127 non-null  float64\n",
      " 47  rougher.output.concentrate_au                       14149 non-null  float64\n",
      " 48  rougher.output.recovery                             14149 non-null  float64\n",
      " 49  rougher.output.tail_ag                              14148 non-null  float64\n",
      " 50  rougher.output.tail_pb                              14149 non-null  float64\n",
      " 51  rougher.output.tail_sol                             14149 non-null  float64\n",
      " 52  rougher.output.tail_au                              14149 non-null  float64\n",
      " 53  rougher.state.floatbank10_a_air                     14148 non-null  float64\n",
      " 54  rougher.state.floatbank10_a_level                   14148 non-null  float64\n",
      " 55  rougher.state.floatbank10_b_air                     14148 non-null  float64\n",
      " 56  rougher.state.floatbank10_b_level                   14148 non-null  float64\n",
      " 57  rougher.state.floatbank10_c_air                     14148 non-null  float64\n",
      " 58  rougher.state.floatbank10_c_level                   14148 non-null  float64\n",
      " 59  rougher.state.floatbank10_d_air                     14149 non-null  float64\n",
      " 60  rougher.state.floatbank10_d_level                   14149 non-null  float64\n",
      " 61  rougher.state.floatbank10_e_air                     13713 non-null  float64\n",
      " 62  rougher.state.floatbank10_e_level                   14149 non-null  float64\n",
      " 63  rougher.state.floatbank10_f_air                     14149 non-null  float64\n",
      " 64  rougher.state.floatbank10_f_level                   14149 non-null  float64\n",
      " 65  secondary_cleaner.output.tail_ag                    14147 non-null  float64\n",
      " 66  secondary_cleaner.output.tail_pb                    14139 non-null  float64\n",
      " 67  secondary_cleaner.output.tail_sol                   12544 non-null  float64\n",
      " 68  secondary_cleaner.output.tail_au                    14149 non-null  float64\n",
      " 69  secondary_cleaner.state.floatbank2_a_air            13932 non-null  float64\n",
      " 70  secondary_cleaner.state.floatbank2_a_level          14148 non-null  float64\n",
      " 71  secondary_cleaner.state.floatbank2_b_air            14128 non-null  float64\n",
      " 72  secondary_cleaner.state.floatbank2_b_level          14148 non-null  float64\n",
      " 73  secondary_cleaner.state.floatbank3_a_air            14145 non-null  float64\n",
      " 74  secondary_cleaner.state.floatbank3_a_level          14148 non-null  float64\n",
      " 75  secondary_cleaner.state.floatbank3_b_air            14148 non-null  float64\n",
      " 76  secondary_cleaner.state.floatbank3_b_level          14148 non-null  float64\n",
      " 77  secondary_cleaner.state.floatbank4_a_air            14143 non-null  float64\n",
      " 78  secondary_cleaner.state.floatbank4_a_level          14148 non-null  float64\n",
      " 79  secondary_cleaner.state.floatbank4_b_air            14148 non-null  float64\n",
      " 80  secondary_cleaner.state.floatbank4_b_level          14148 non-null  float64\n",
      " 81  secondary_cleaner.state.floatbank5_a_air            14148 non-null  float64\n",
      " 82  secondary_cleaner.state.floatbank5_a_level          14148 non-null  float64\n",
      " 83  secondary_cleaner.state.floatbank5_b_air            14148 non-null  float64\n",
      " 84  secondary_cleaner.state.floatbank5_b_level          14148 non-null  float64\n",
      " 85  secondary_cleaner.state.floatbank6_a_air            14147 non-null  float64\n",
      " 86  secondary_cleaner.state.floatbank6_a_level          14148 non-null  float64\n",
      "dtypes: float64(86), object(1)\n",
      "memory usage: 9.4+ MB\n"
     ]
    }
   ],
   "source": [
    "df_train.info()"
   ]
  },
  {
   "cell_type": "code",
   "execution_count": 12,
   "metadata": {
    "scrolled": true
   },
   "outputs": [
    {
     "name": "stdout",
     "output_type": "stream",
     "text": [
      "<class 'pandas.core.frame.DataFrame'>\n",
      "RangeIndex: 5290 entries, 0 to 5289\n",
      "Data columns (total 53 columns):\n",
      " #   Column                                      Non-Null Count  Dtype  \n",
      "---  ------                                      --------------  -----  \n",
      " 0   date                                        5290 non-null   object \n",
      " 1   primary_cleaner.input.sulfate               5286 non-null   float64\n",
      " 2   primary_cleaner.input.depressant            5285 non-null   float64\n",
      " 3   primary_cleaner.input.feed_size             5290 non-null   float64\n",
      " 4   primary_cleaner.input.xanthate              5286 non-null   float64\n",
      " 5   primary_cleaner.state.floatbank8_a_air      5290 non-null   float64\n",
      " 6   primary_cleaner.state.floatbank8_a_level    5290 non-null   float64\n",
      " 7   primary_cleaner.state.floatbank8_b_air      5290 non-null   float64\n",
      " 8   primary_cleaner.state.floatbank8_b_level    5290 non-null   float64\n",
      " 9   primary_cleaner.state.floatbank8_c_air      5290 non-null   float64\n",
      " 10  primary_cleaner.state.floatbank8_c_level    5290 non-null   float64\n",
      " 11  primary_cleaner.state.floatbank8_d_air      5290 non-null   float64\n",
      " 12  primary_cleaner.state.floatbank8_d_level    5290 non-null   float64\n",
      " 13  rougher.input.feed_ag                       5290 non-null   float64\n",
      " 14  rougher.input.feed_pb                       5290 non-null   float64\n",
      " 15  rougher.input.feed_rate                     5287 non-null   float64\n",
      " 16  rougher.input.feed_size                     5289 non-null   float64\n",
      " 17  rougher.input.feed_sol                      5269 non-null   float64\n",
      " 18  rougher.input.feed_au                       5290 non-null   float64\n",
      " 19  rougher.input.floatbank10_sulfate           5285 non-null   float64\n",
      " 20  rougher.input.floatbank10_xanthate          5290 non-null   float64\n",
      " 21  rougher.input.floatbank11_sulfate           5282 non-null   float64\n",
      " 22  rougher.input.floatbank11_xanthate          5265 non-null   float64\n",
      " 23  rougher.state.floatbank10_a_air             5290 non-null   float64\n",
      " 24  rougher.state.floatbank10_a_level           5290 non-null   float64\n",
      " 25  rougher.state.floatbank10_b_air             5290 non-null   float64\n",
      " 26  rougher.state.floatbank10_b_level           5290 non-null   float64\n",
      " 27  rougher.state.floatbank10_c_air             5290 non-null   float64\n",
      " 28  rougher.state.floatbank10_c_level           5290 non-null   float64\n",
      " 29  rougher.state.floatbank10_d_air             5290 non-null   float64\n",
      " 30  rougher.state.floatbank10_d_level           5290 non-null   float64\n",
      " 31  rougher.state.floatbank10_e_air             5290 non-null   float64\n",
      " 32  rougher.state.floatbank10_e_level           5290 non-null   float64\n",
      " 33  rougher.state.floatbank10_f_air             5290 non-null   float64\n",
      " 34  rougher.state.floatbank10_f_level           5290 non-null   float64\n",
      " 35  secondary_cleaner.state.floatbank2_a_air    5287 non-null   float64\n",
      " 36  secondary_cleaner.state.floatbank2_a_level  5290 non-null   float64\n",
      " 37  secondary_cleaner.state.floatbank2_b_air    5288 non-null   float64\n",
      " 38  secondary_cleaner.state.floatbank2_b_level  5290 non-null   float64\n",
      " 39  secondary_cleaner.state.floatbank3_a_air    5281 non-null   float64\n",
      " 40  secondary_cleaner.state.floatbank3_a_level  5290 non-null   float64\n",
      " 41  secondary_cleaner.state.floatbank3_b_air    5290 non-null   float64\n",
      " 42  secondary_cleaner.state.floatbank3_b_level  5290 non-null   float64\n",
      " 43  secondary_cleaner.state.floatbank4_a_air    5290 non-null   float64\n",
      " 44  secondary_cleaner.state.floatbank4_a_level  5290 non-null   float64\n",
      " 45  secondary_cleaner.state.floatbank4_b_air    5290 non-null   float64\n",
      " 46  secondary_cleaner.state.floatbank4_b_level  5290 non-null   float64\n",
      " 47  secondary_cleaner.state.floatbank5_a_air    5290 non-null   float64\n",
      " 48  secondary_cleaner.state.floatbank5_a_level  5290 non-null   float64\n",
      " 49  secondary_cleaner.state.floatbank5_b_air    5290 non-null   float64\n",
      " 50  secondary_cleaner.state.floatbank5_b_level  5290 non-null   float64\n",
      " 51  secondary_cleaner.state.floatbank6_a_air    5290 non-null   float64\n",
      " 52  secondary_cleaner.state.floatbank6_a_level  5290 non-null   float64\n",
      "dtypes: float64(52), object(1)\n",
      "memory usage: 2.1+ MB\n"
     ]
    }
   ],
   "source": [
    "df_test.info()"
   ]
  },
  {
   "cell_type": "code",
   "execution_count": 13,
   "metadata": {
    "scrolled": true
   },
   "outputs": [
    {
     "name": "stdout",
     "output_type": "stream",
     "text": [
      "<class 'pandas.core.frame.DataFrame'>\n",
      "RangeIndex: 19439 entries, 0 to 19438\n",
      "Data columns (total 87 columns):\n",
      " #   Column                                              Non-Null Count  Dtype  \n",
      "---  ------                                              --------------  -----  \n",
      " 0   date                                                19439 non-null  object \n",
      " 1   final.output.concentrate_ag                         19438 non-null  float64\n",
      " 2   final.output.concentrate_pb                         19438 non-null  float64\n",
      " 3   final.output.concentrate_sol                        19228 non-null  float64\n",
      " 4   final.output.concentrate_au                         19439 non-null  float64\n",
      " 5   final.output.recovery                               19439 non-null  float64\n",
      " 6   final.output.tail_ag                                19438 non-null  float64\n",
      " 7   final.output.tail_pb                                19338 non-null  float64\n",
      " 8   final.output.tail_sol                               19433 non-null  float64\n",
      " 9   final.output.tail_au                                19439 non-null  float64\n",
      " 10  primary_cleaner.input.sulfate                       19415 non-null  float64\n",
      " 11  primary_cleaner.input.depressant                    19402 non-null  float64\n",
      " 12  primary_cleaner.input.feed_size                     19439 non-null  float64\n",
      " 13  primary_cleaner.input.xanthate                      19335 non-null  float64\n",
      " 14  primary_cleaner.output.concentrate_ag               19439 non-null  float64\n",
      " 15  primary_cleaner.output.concentrate_pb               19323 non-null  float64\n",
      " 16  primary_cleaner.output.concentrate_sol              19069 non-null  float64\n",
      " 17  primary_cleaner.output.concentrate_au               19439 non-null  float64\n",
      " 18  primary_cleaner.output.tail_ag                      19435 non-null  float64\n",
      " 19  primary_cleaner.output.tail_pb                      19418 non-null  float64\n",
      " 20  primary_cleaner.output.tail_sol                     19377 non-null  float64\n",
      " 21  primary_cleaner.output.tail_au                      19439 non-null  float64\n",
      " 22  primary_cleaner.state.floatbank8_a_air              19435 non-null  float64\n",
      " 23  primary_cleaner.state.floatbank8_a_level            19438 non-null  float64\n",
      " 24  primary_cleaner.state.floatbank8_b_air              19435 non-null  float64\n",
      " 25  primary_cleaner.state.floatbank8_b_level            19438 non-null  float64\n",
      " 26  primary_cleaner.state.floatbank8_c_air              19437 non-null  float64\n",
      " 27  primary_cleaner.state.floatbank8_c_level            19438 non-null  float64\n",
      " 28  primary_cleaner.state.floatbank8_d_air              19436 non-null  float64\n",
      " 29  primary_cleaner.state.floatbank8_d_level            19438 non-null  float64\n",
      " 30  rougher.calculation.sulfate_to_au_concentrate       19437 non-null  float64\n",
      " 31  rougher.calculation.floatbank10_sulfate_to_au_feed  19437 non-null  float64\n",
      " 32  rougher.calculation.floatbank11_sulfate_to_au_feed  19437 non-null  float64\n",
      " 33  rougher.calculation.au_pb_ratio                     19439 non-null  float64\n",
      " 34  rougher.input.feed_ag                               19439 non-null  float64\n",
      " 35  rougher.input.feed_pb                               19339 non-null  float64\n",
      " 36  rougher.input.feed_rate                             19428 non-null  float64\n",
      " 37  rougher.input.feed_size                             19294 non-null  float64\n",
      " 38  rougher.input.feed_sol                              19340 non-null  float64\n",
      " 39  rougher.input.feed_au                               19439 non-null  float64\n",
      " 40  rougher.input.floatbank10_sulfate                   19405 non-null  float64\n",
      " 41  rougher.input.floatbank10_xanthate                  19431 non-null  float64\n",
      " 42  rougher.input.floatbank11_sulfate                   19395 non-null  float64\n",
      " 43  rougher.input.floatbank11_xanthate                  18986 non-null  float64\n",
      " 44  rougher.output.concentrate_ag                       19439 non-null  float64\n",
      " 45  rougher.output.concentrate_pb                       19439 non-null  float64\n",
      " 46  rougher.output.concentrate_sol                      19416 non-null  float64\n",
      " 47  rougher.output.concentrate_au                       19439 non-null  float64\n",
      " 48  rougher.output.recovery                             19439 non-null  float64\n",
      " 49  rougher.output.tail_ag                              19438 non-null  float64\n",
      " 50  rougher.output.tail_pb                              19439 non-null  float64\n",
      " 51  rougher.output.tail_sol                             19439 non-null  float64\n",
      " 52  rougher.output.tail_au                              19439 non-null  float64\n",
      " 53  rougher.state.floatbank10_a_air                     19438 non-null  float64\n",
      " 54  rougher.state.floatbank10_a_level                   19438 non-null  float64\n",
      " 55  rougher.state.floatbank10_b_air                     19438 non-null  float64\n",
      " 56  rougher.state.floatbank10_b_level                   19438 non-null  float64\n",
      " 57  rougher.state.floatbank10_c_air                     19438 non-null  float64\n",
      " 58  rougher.state.floatbank10_c_level                   19438 non-null  float64\n",
      " 59  rougher.state.floatbank10_d_air                     19439 non-null  float64\n",
      " 60  rougher.state.floatbank10_d_level                   19439 non-null  float64\n",
      " 61  rougher.state.floatbank10_e_air                     19003 non-null  float64\n",
      " 62  rougher.state.floatbank10_e_level                   19439 non-null  float64\n",
      " 63  rougher.state.floatbank10_f_air                     19439 non-null  float64\n",
      " 64  rougher.state.floatbank10_f_level                   19439 non-null  float64\n",
      " 65  secondary_cleaner.output.tail_ag                    19437 non-null  float64\n",
      " 66  secondary_cleaner.output.tail_pb                    19427 non-null  float64\n",
      " 67  secondary_cleaner.output.tail_sol                   17691 non-null  float64\n",
      " 68  secondary_cleaner.output.tail_au                    19439 non-null  float64\n",
      " 69  secondary_cleaner.state.floatbank2_a_air            19219 non-null  float64\n",
      " 70  secondary_cleaner.state.floatbank2_a_level          19438 non-null  float64\n",
      " 71  secondary_cleaner.state.floatbank2_b_air            19416 non-null  float64\n",
      " 72  secondary_cleaner.state.floatbank2_b_level          19438 non-null  float64\n",
      " 73  secondary_cleaner.state.floatbank3_a_air            19426 non-null  float64\n",
      " 74  secondary_cleaner.state.floatbank3_a_level          19438 non-null  float64\n",
      " 75  secondary_cleaner.state.floatbank3_b_air            19438 non-null  float64\n",
      " 76  secondary_cleaner.state.floatbank3_b_level          19438 non-null  float64\n",
      " 77  secondary_cleaner.state.floatbank4_a_air            19433 non-null  float64\n",
      " 78  secondary_cleaner.state.floatbank4_a_level          19438 non-null  float64\n",
      " 79  secondary_cleaner.state.floatbank4_b_air            19438 non-null  float64\n",
      " 80  secondary_cleaner.state.floatbank4_b_level          19438 non-null  float64\n",
      " 81  secondary_cleaner.state.floatbank5_a_air            19438 non-null  float64\n",
      " 82  secondary_cleaner.state.floatbank5_a_level          19438 non-null  float64\n",
      " 83  secondary_cleaner.state.floatbank5_b_air            19438 non-null  float64\n",
      " 84  secondary_cleaner.state.floatbank5_b_level          19438 non-null  float64\n",
      " 85  secondary_cleaner.state.floatbank6_a_air            19437 non-null  float64\n",
      " 86  secondary_cleaner.state.floatbank6_a_level          19438 non-null  float64\n",
      "dtypes: float64(86), object(1)\n",
      "memory usage: 12.9+ MB\n"
     ]
    }
   ],
   "source": [
    "df_full.info()"
   ]
  },
  {
   "cell_type": "markdown",
   "metadata": {},
   "source": [
    "После анализа я выяснил:\n",
    "- столбцу date требуется исправить тип данных на datetime.\n",
    "- в данных присутсвуют пропуски"
   ]
  },
  {
   "cell_type": "code",
   "execution_count": 14,
   "metadata": {
    "scrolled": true
   },
   "outputs": [
    {
     "data": {
      "text/plain": [
       "date                                          datetime64[ns]\n",
       "final.output.concentrate_ag                          float64\n",
       "final.output.concentrate_pb                          float64\n",
       "final.output.concentrate_sol                         float64\n",
       "final.output.concentrate_au                          float64\n",
       "                                                   ...      \n",
       "secondary_cleaner.state.floatbank5_a_level           float64\n",
       "secondary_cleaner.state.floatbank5_b_air             float64\n",
       "secondary_cleaner.state.floatbank5_b_level           float64\n",
       "secondary_cleaner.state.floatbank6_a_air             float64\n",
       "secondary_cleaner.state.floatbank6_a_level           float64\n",
       "Length: 87, dtype: object"
      ]
     },
     "execution_count": 14,
     "metadata": {},
     "output_type": "execute_result"
    }
   ],
   "source": [
    "df_train['date'] = pd.to_datetime(df_train['date'], format='%Y-%m-%d %H:%M:%S')\n",
    "df_test['date'] = pd.to_datetime(df_test['date'], format='%Y-%m-%d %H:%M:%S')\n",
    "df_full['date'] = pd.to_datetime(df_full['date'], format='%Y-%m-%d %H:%M:%S')\n",
    "df_full.dtypes"
   ]
  },
  {
   "cell_type": "markdown",
   "metadata": {},
   "source": [
    "**Избавимся от пропусков**\n",
    "\n",
    "По условию задачи, известно, что данные индексируются датой и временем получения информации.  \n",
    "  \n",
    "Соседние по времени параметры похожи, поэтому воспользуюсь этим условием.  \n",
    "\n",
    "Заполним отсутствующие значения в тренировочной и тестовой выборках. Функция заполняет пропуски предпоследним значением признака. "
   ]
  },
  {
   "cell_type": "code",
   "execution_count": 15,
   "metadata": {},
   "outputs": [
    {
     "name": "stdout",
     "output_type": "stream",
     "text": [
      "\n",
      "Размер тренировочной выборки - (14149, 87): количество строк без пропусков - 14149\n",
      "\n",
      "Размер тестовой выборки - (5290, 53): количество строк без пропусков - 5290\n",
      "\n",
      "Размер исходной выборки - (19439, 87): количество строк без пропусков - 19439\n"
     ]
    }
   ],
   "source": [
    "#для заполнения пропусков использую функцию fillna  с параметром ffill\n",
    "size_df_train_before = df_train.shape\n",
    "size_df_test_before = df_test.shape\n",
    "size_df_full_before = df_full.shape\n",
    "\n",
    "df_train = df_train.fillna(method = 'ffill', axis=0)\n",
    "df_test = df_test.fillna(method = 'ffill', axis=0)\n",
    "df_full = df_full.fillna(method = 'ffill', axis=0)\n",
    "\n",
    "#сравним размер выборки и кол-во строк без пропусков, дабы убедиться, что пустных значений не осталось.\n",
    "print(f'\\nРазмер тренировочной выборки - {size_df_train_before}: количество строк без пропусков - {len(df_train.notna())}')\n",
    "print(f'\\nРазмер тестовой выборки - {size_df_test_before}: количество строк без пропусков - {len(df_test.notna())}')\n",
    "print(f'\\nРазмер исходной выборки - {size_df_full_before}: количество строк без пропусков - {len(df_full.notna())}')"
   ]
  },
  {
   "cell_type": "code",
   "execution_count": 16,
   "metadata": {},
   "outputs": [
    {
     "name": "stdout",
     "output_type": "stream",
     "text": [
      "\n",
      "Количество дубликатов в датасете №1 -  0\n",
      "\n",
      "Количество дубликатов в датасете №2 -  0\n",
      "\n",
      "Количество дубликатов в датасете №3 -  0\n"
     ]
    }
   ],
   "source": [
    "#Посмотрим на количество дубликатов в данных\n",
    "dblc = 0\n",
    "for df in [df_train, df_test, df_full]:\n",
    "    dblc += 1\n",
    "    print(f'\\nКоличество дубликатов в датасете №{dblc} - ',df.duplicated().sum())"
   ]
  },
  {
   "cell_type": "markdown",
   "metadata": {},
   "source": [
    "Явные дубликаты не обнаружены"
   ]
  },
  {
   "cell_type": "markdown",
   "metadata": {},
   "source": [
    "**Проверим, что эффективность обогащения рассчитана правильно**"
   ]
  },
  {
   "cell_type": "markdown",
   "metadata": {},
   "source": [
    "В технологии процесса нам дана формула расчёта эфектвности:  \n",
    "\n",
    "(С*(F-T)/F*(C-T))*100%, где  \n",
    "\n",
    "C — доля золота в концентрате после флотации/очистки;  \n",
    "F — доля золота в сырье/концентрате до флотации/очистки;  \n",
    "T — доля золота в отвальных хвостах после флотации/очистки.  "
   ]
  },
  {
   "cell_type": "markdown",
   "metadata": {},
   "source": [
    "Так как нам нужен этап флотации, значит:\n",
    "\n",
    "C - rougher.output.concentrate_au  \n",
    "F - rougher.input.feed_au  \n",
    "T - rougher.output.tail_au      \n",
    "\n",
    "Значение нужного нам признака - rougher.output.recovery"
   ]
  },
  {
   "cell_type": "code",
   "execution_count": 17,
   "metadata": {},
   "outputs": [],
   "source": [
    "C = df_train['rougher.output.concentrate_au']\n",
    "F = df_train['rougher.input.feed_au']\n",
    "T = df_train['rougher.output.tail_au']\n",
    "recovery = ((C*(F-T))/(F*(C-T))) * 100"
   ]
  },
  {
   "cell_type": "code",
   "execution_count": 18,
   "metadata": {},
   "outputs": [
    {
     "name": "stdout",
     "output_type": "stream",
     "text": [
      "MAE = 9.73512347450521e-15\n"
     ]
    }
   ],
   "source": [
    "print('MAE =', mean_absolute_error(df_train['rougher.output.recovery'], recovery))"
   ]
  },
  {
   "cell_type": "markdown",
   "metadata": {},
   "source": [
    "MAE - это средняя абсолютная погрешность, показывает как сильно предсказания в среднем отличаются от истинных значений. Мы получили маленькое значение, а значит расчеты верны."
   ]
  },
  {
   "cell_type": "markdown",
   "metadata": {},
   "source": [
    "**Проанализируем признаки, недоступные в тестовой выборке**"
   ]
  },
  {
   "cell_type": "code",
   "execution_count": 19,
   "metadata": {
    "scrolled": true
   },
   "outputs": [
    {
     "data": {
      "text/plain": [
       "{'final.output.concentrate_ag',\n",
       " 'final.output.concentrate_au',\n",
       " 'final.output.concentrate_pb',\n",
       " 'final.output.concentrate_sol',\n",
       " 'final.output.recovery',\n",
       " 'final.output.tail_ag',\n",
       " 'final.output.tail_au',\n",
       " 'final.output.tail_pb',\n",
       " 'final.output.tail_sol',\n",
       " 'primary_cleaner.output.concentrate_ag',\n",
       " 'primary_cleaner.output.concentrate_au',\n",
       " 'primary_cleaner.output.concentrate_pb',\n",
       " 'primary_cleaner.output.concentrate_sol',\n",
       " 'primary_cleaner.output.tail_ag',\n",
       " 'primary_cleaner.output.tail_au',\n",
       " 'primary_cleaner.output.tail_pb',\n",
       " 'primary_cleaner.output.tail_sol',\n",
       " 'rougher.calculation.au_pb_ratio',\n",
       " 'rougher.calculation.floatbank10_sulfate_to_au_feed',\n",
       " 'rougher.calculation.floatbank11_sulfate_to_au_feed',\n",
       " 'rougher.calculation.sulfate_to_au_concentrate',\n",
       " 'rougher.output.concentrate_ag',\n",
       " 'rougher.output.concentrate_au',\n",
       " 'rougher.output.concentrate_pb',\n",
       " 'rougher.output.concentrate_sol',\n",
       " 'rougher.output.recovery',\n",
       " 'rougher.output.tail_ag',\n",
       " 'rougher.output.tail_au',\n",
       " 'rougher.output.tail_pb',\n",
       " 'rougher.output.tail_sol',\n",
       " 'secondary_cleaner.output.tail_ag',\n",
       " 'secondary_cleaner.output.tail_au',\n",
       " 'secondary_cleaner.output.tail_pb',\n",
       " 'secondary_cleaner.output.tail_sol'}"
      ]
     },
     "execution_count": 19,
     "metadata": {},
     "output_type": "execute_result"
    }
   ],
   "source": [
    "missed_columns = set(df_train.columns) - set(df_test.columns)\n",
    "missed_columns"
   ]
  },
  {
   "cell_type": "markdown",
   "metadata": {},
   "source": [
    "Вывод: В тестовой выборке отсутствуют данные по параметрам продукта (Ag, Au, Pb, Sol) на всех этапах технологического процесса. Также в тестовой выборке отстутвуют расчётные и выходные данные(calculation, output), поскольку их невозможно замерить."
   ]
  },
  {
   "cell_type": "markdown",
   "metadata": {},
   "source": [
    "Считаю нужным добавить в тестовую выборку целевые признаки rougher.output.recovery и final.output.recovery, которые будут нужны для расчета метрики качества."
   ]
  },
  {
   "cell_type": "code",
   "execution_count": 20,
   "metadata": {
    "scrolled": false
   },
   "outputs": [],
   "source": [
    "df_test = df_test.merge(df_full.loc[:, ['date','rougher.output.recovery','final.output.recovery']], on='date')"
   ]
  },
  {
   "cell_type": "markdown",
   "metadata": {},
   "source": [
    "Удалим колонки date, так как они не нужны для дальнейшего исследования."
   ]
  },
  {
   "cell_type": "code",
   "execution_count": 21,
   "metadata": {},
   "outputs": [],
   "source": [
    "df_train = df_train.drop('date', axis=1)\n",
    "df_test = df_test.drop('date', axis=1)"
   ]
  },
  {
   "cell_type": "markdown",
   "metadata": {},
   "source": [
    "**Вывод по разделу Предобработка:**  \n",
    "\n",
    "Просмотрены имеющиеся датасеты, выполнена замена пропущенных значений на предыдущее по колонкам, заменен тип признака date, дубликаты не обнаружены,выполнена проверка эффективности обогащения и найдена MAE, проанализированы отсутсвующие в тестовом датасете признаки. \n",
    "\n"
   ]
  },
  {
   "cell_type": "markdown",
   "metadata": {},
   "source": [
    "## Анализ данных"
   ]
  },
  {
   "cell_type": "markdown",
   "metadata": {},
   "source": [
    "**Посмотрим, как меняется концентрация металлов (Au, Ag, Pb) на различных этапах очистки**"
   ]
  },
  {
   "cell_type": "code",
   "execution_count": 22,
   "metadata": {},
   "outputs": [
    {
     "name": "stdout",
     "output_type": "stream",
     "text": [
      "count    19439.000000\n",
      "mean        19.772000\n",
      "std          3.753600\n",
      "min          0.000000\n",
      "25%         18.802523\n",
      "50%         20.280214\n",
      "75%         21.717843\n",
      "max         28.824507\n",
      "Name: rougher.output.concentrate_au, dtype: float64\n",
      "-----------------------------------\n",
      "count    19439.000000\n",
      "mean        32.119400\n",
      "std          5.627611\n",
      "min          0.000000\n",
      "25%         30.463140\n",
      "50%         32.841295\n",
      "75%         35.048006\n",
      "max         45.933934\n",
      "Name: primary_cleaner.output.concentrate_au, dtype: float64\n",
      "-----------------------------------\n",
      "count    19439.000000\n",
      "mean        44.076513\n",
      "std          5.129784\n",
      "min          0.000000\n",
      "25%         43.402215\n",
      "50%         45.011244\n",
      "75%         46.275313\n",
      "max         52.756638\n",
      "Name: final.output.concentrate_au, dtype: float64\n"
     ]
    }
   ],
   "source": [
    "#Au(золото)\n",
    "print(df_full['rougher.output.concentrate_au'].describe())\n",
    "print('-------'*5)\n",
    "print(df_full['primary_cleaner.output.concentrate_au'].describe())\n",
    "print('-------'*5)\n",
    "print(df_full['final.output.concentrate_au'].describe())"
   ]
  },
  {
   "cell_type": "code",
   "execution_count": 23,
   "metadata": {
    "scrolled": true
   },
   "outputs": [
    {
     "data": {
      "image/png": "[encoded data removed]",
      "text/plain": [
       "<Figure size 1224x1080 with 1 Axes>"
      ]
     },
     "metadata": {
      "needs_background": "light"
     },
     "output_type": "display_data"
    }
   ],
   "source": [
    "plt.figure(figsize=[17, 15])\n",
    "plt.subplots_adjust(top=0.94, wspace=0.2, hspace=0.3)\n",
    "plt.suptitle('График концентрации золота(Au) на различных этапах очистки', fontsize=10)\n",
    "plt.subplot(3, 2, 1)\n",
    "sns.histplot(df_train[f'rougher.input.feed_au'], color = 'black', label='Исходное сырьё')\n",
    "sns.histplot(df_train[f'rougher.output.concentrate_au'], color='r', label='Концентрация после флотации')\n",
    "sns.histplot(df_train[f'primary_cleaner.output.concentrate_au'], color='g', label='Концентрация после первичной очистки')\n",
    "sns.histplot(df_train[f'final.output.concentrate_au'], color='b', label='Финальная концетрация металла')\n",
    "plt.xlabel('Концентрация металла')\n",
    "plt.ylabel('Количество наблюдений')\n",
    "plt.legend()\n",
    "plt.show();"
   ]
  },
  {
   "cell_type": "markdown",
   "metadata": {},
   "source": [
    "Концентрация золота после различных стадий изменяется в большую сторону. Так, после флотации диапазон значений 15-25, после первичной очистки - 25-40, финальная концентрация от 40 до 50.  \n",
    "Присутсвуют выбросы"
   ]
  },
  {
   "cell_type": "code",
   "execution_count": 24,
   "metadata": {},
   "outputs": [
    {
     "name": "stdout",
     "output_type": "stream",
     "text": [
      "count    19439.000000\n",
      "mean        11.994759\n",
      "std          2.733862\n",
      "min          0.000000\n",
      "25%         10.628337\n",
      "50%         12.098115\n",
      "75%         13.736996\n",
      "max         24.480271\n",
      "Name: rougher.output.concentrate_ag, dtype: float64\n",
      "-----------------------------------\n",
      "count    19439.000000\n",
      "mean         8.442408\n",
      "std          2.054465\n",
      "min          0.000000\n",
      "25%          7.263288\n",
      "50%          8.507298\n",
      "75%          9.809001\n",
      "max         16.081632\n",
      "Name: primary_cleaner.output.concentrate_ag, dtype: float64\n",
      "-----------------------------------\n",
      "count    19439.000000\n",
      "mean         5.168387\n",
      "std          1.372362\n",
      "min          0.000000\n",
      "25%          4.251000\n",
      "50%          5.066039\n",
      "75%          5.895401\n",
      "max         16.001945\n",
      "Name: final.output.concentrate_ag, dtype: float64\n"
     ]
    }
   ],
   "source": [
    "#Ag(серебро)\n",
    "print(df_full['rougher.output.concentrate_ag'].describe())\n",
    "print('-------'*5)\n",
    "print(df_full['primary_cleaner.output.concentrate_ag'].describe())\n",
    "print('-------'*5)\n",
    "print(df_full['final.output.concentrate_ag'].describe())"
   ]
  },
  {
   "cell_type": "code",
   "execution_count": 25,
   "metadata": {},
   "outputs": [
    {
     "data": {
      "image/png": "[encoded data removed]",
      "text/plain": [
       "<Figure size 1224x1080 with 1 Axes>"
      ]
     },
     "metadata": {
      "needs_background": "light"
     },
     "output_type": "display_data"
    }
   ],
   "source": [
    "plt.figure(figsize=[17, 15])\n",
    "plt.subplots_adjust(top=0.95, wspace=0.1, hspace=0.5)\n",
    "plt.suptitle('График концентрации серебра(Ag) на различных этапах очистки', fontsize=10)\n",
    "plt.subplot(3, 2, 1)\n",
    "sns.histplot(df_train[f'rougher.input.feed_ag'], color = 'black', label='Исходное сырьё')\n",
    "sns.histplot(df_train[f'rougher.output.concentrate_ag'], color='r', label='Концентрация после флотации')\n",
    "sns.histplot(df_train[f'primary_cleaner.output.concentrate_ag'], color='g', label='Концентрация после первичной очистки')\n",
    "sns.histplot(df_train[f'final.output.concentrate_ag'], color='b', label='Финальная концетрация металла')\n",
    "plt.xlabel('Концентрация металла')\n",
    "plt.ylabel('Количество наблюдений')\n",
    "plt.legend()\n",
    "plt.show();"
   ]
  },
  {
   "cell_type": "markdown",
   "metadata": {},
   "source": [
    "Концентрация серебра на различных стадиях очистки наоборот \"деградирует\" от 10-17 после флотациии до 7-3 в финальной концентрации."
   ]
  },
  {
   "cell_type": "code",
   "execution_count": 26,
   "metadata": {},
   "outputs": [
    {
     "name": "stdout",
     "output_type": "stream",
     "text": [
      "count    19439.000000\n",
      "mean         7.606272\n",
      "std          1.796757\n",
      "min          0.000000\n",
      "25%          6.725987\n",
      "50%          7.742580\n",
      "75%          8.565199\n",
      "max         13.617072\n",
      "Name: rougher.output.concentrate_pb, dtype: float64\n",
      "-----------------------------------\n",
      "count    19439.000000\n",
      "mean         9.810317\n",
      "std          2.572253\n",
      "min          0.000000\n",
      "25%          8.676500\n",
      "50%         10.142270\n",
      "75%         11.416298\n",
      "max         17.081278\n",
      "Name: primary_cleaner.output.concentrate_pb, dtype: float64\n",
      "-----------------------------------\n",
      "count    19439.000000\n",
      "mean         9.978821\n",
      "std          1.669228\n",
      "min          0.000000\n",
      "25%          9.137225\n",
      "50%         10.102264\n",
      "75%         11.035644\n",
      "max         17.031899\n",
      "Name: final.output.concentrate_pb, dtype: float64\n"
     ]
    }
   ],
   "source": [
    "#Pb(Свинец)\n",
    "print(df_full['rougher.output.concentrate_pb'].describe())\n",
    "print('-------'*5)\n",
    "print(df_full['primary_cleaner.output.concentrate_pb'].describe())\n",
    "print('-------'*5)\n",
    "print(df_full['final.output.concentrate_pb'].describe())"
   ]
  },
  {
   "cell_type": "code",
   "execution_count": 27,
   "metadata": {},
   "outputs": [
    {
     "data": {
      "image/png": "[encoded data removed]",
      "text/plain": [
       "<Figure size 1224x1080 with 1 Axes>"
      ]
     },
     "metadata": {
      "needs_background": "light"
     },
     "output_type": "display_data"
    }
   ],
   "source": [
    "plt.figure(figsize=[17, 15])\n",
    "plt.subplots_adjust(top=0.95, wspace=0.1, hspace=0.5)\n",
    "plt.suptitle('График концентрации свинца(Pb) на различных этапах очистки', fontsize=15)\n",
    "plt.subplot(3, 2, 1)\n",
    "sns.histplot(df_train[f'rougher.input.feed_pb'], color = 'black', label='Исходное сырьё')\n",
    "sns.histplot(df_train[f'rougher.output.concentrate_pb'], color='r', label='Концентрация после флотации')\n",
    "sns.histplot(df_train[f'primary_cleaner.output.concentrate_pb'], color='g', label='Концентрация после первичной очистки')\n",
    "sns.histplot(df_train[f'final.output.concentrate_pb'], color='b', label='Финальная концетрация металла')\n",
    "plt.xlabel('Концентрация металла')\n",
    "plt.ylabel('Количество наблюдений')\n",
    "plt.legend()\n",
    "plt.show();"
   ]
  },
  {
   "cell_type": "markdown",
   "metadata": {},
   "source": [
    "Доля свинца сначала увеличивается на этапе флотации и после первичной очитски(значения 5-12), затем остатется примерно на одном уровне."
   ]
  },
  {
   "cell_type": "markdown",
   "metadata": {},
   "source": [
    "**Вывод**  \n",
    " \n",
    "Доля золота(АU) после каждого этапа очитски постепенно увеличивается.  \n",
    " \n",
    "Доля серебра(AG) увеличивается на этапе флотации, а затем на последующих этапах постепенно уменьшается.  \n",
    "\n",
    "Доля свинца(PB) сначала увеличивается на этапе флотации и после первичной очитски, затем остатется примерно на одном уровне.  \n",
    "В данных для каждого металла присутствуют околонулевые аномалии, выбросы."
   ]
  },
  {
   "cell_type": "markdown",
   "metadata": {},
   "source": [
    "**Сравним распределения размеров гранул сырья на обучающей и тестовой выборках**"
   ]
  },
  {
   "cell_type": "code",
   "execution_count": 28,
   "metadata": {},
   "outputs": [
    {
     "name": "stdout",
     "output_type": "stream",
     "text": [
      "count    14149.000000\n",
      "mean        60.239856\n",
      "std         23.005310\n",
      "min          9.659576\n",
      "25%         48.966751\n",
      "50%         55.269784\n",
      "75%         66.007526\n",
      "max        484.967466\n",
      "Name: rougher.input.feed_size, dtype: float64\n",
      "-------------------------\n",
      "count    5290.000000\n",
      "mean       55.952754\n",
      "std        19.080334\n",
      "min         0.046369\n",
      "25%        43.906504\n",
      "50%        50.846843\n",
      "75%        62.451165\n",
      "max       392.494040\n",
      "Name: rougher.input.feed_size, dtype: float64\n"
     ]
    }
   ],
   "source": [
    "#рассмотрим размеры гранул на этапе флотации\n",
    "print(df_train['rougher.input.feed_size'].describe())\n",
    "print('-----'*5)\n",
    "print(df_test['rougher.input.feed_size'].describe())"
   ]
  },
  {
   "cell_type": "code",
   "execution_count": 29,
   "metadata": {},
   "outputs": [
    {
     "data": {
      "image/png": "[encoded data removed]",
      "text/plain": [
       "<Figure size 432x288 with 1 Axes>"
      ]
     },
     "metadata": {
      "needs_background": "light"
     },
     "output_type": "display_data"
    }
   ],
   "source": [
    "plt.subplot(1, 1, 1)\n",
    "plt.title(f'График распределения гранул на этапе флотации на двух выборках', fontsize=13)\n",
    "sns.set_style('darkgrid')\n",
    "plt.hist(df_train[f'rougher.input.feed_size'], color='g', label='Обучающая выборка', density=True)\n",
    "plt.hist(df_test[f'rougher.input.feed_size'], color='r', label='Тестовая выборка', density=True)\n",
    "plt.xlabel('Размер гранул')\n",
    "plt.ylabel('Количество наблюдений')\n",
    "plt.legend()\n",
    "plt.show();"
   ]
  },
  {
   "cell_type": "markdown",
   "metadata": {},
   "source": [
    "На этапе флотации распределение гранул находится примерно в одинаковом диапазоне: для тестовой выборки преобладают гранулы с размером ~ 50 , а для обучающей гранулы меньшего размера (<50)."
   ]
  },
  {
   "cell_type": "code",
   "execution_count": 30,
   "metadata": {},
   "outputs": [
    {
     "name": "stdout",
     "output_type": "stream",
     "text": [
      "count    14149.000000\n",
      "mean         7.322310\n",
      "std          0.614062\n",
      "min          1.080000\n",
      "25%          6.960000\n",
      "50%          7.290000\n",
      "75%          7.700000\n",
      "max         10.470000\n",
      "Name: primary_cleaner.input.feed_size, dtype: float64\n",
      "-------------------------\n",
      "count    5290.000000\n",
      "mean        7.266339\n",
      "std         0.610219\n",
      "min         5.650000\n",
      "25%         6.890000\n",
      "50%         7.250000\n",
      "75%         7.600000\n",
      "max        15.500000\n",
      "Name: primary_cleaner.input.feed_size, dtype: float64\n"
     ]
    }
   ],
   "source": [
    "#рассмотрим размеры гранул на этапе первичной очистки\n",
    "print(df_train['primary_cleaner.input.feed_size'].describe())\n",
    "print('-----'*5)\n",
    "print(df_test['primary_cleaner.input.feed_size'].describe())"
   ]
  },
  {
   "cell_type": "code",
   "execution_count": 31,
   "metadata": {
    "scrolled": true
   },
   "outputs": [
    {
     "data": {
      "image/png": "[encoded data removed]",
      "text/plain": [
       "<Figure size 432x288 with 1 Axes>"
      ]
     },
     "metadata": {},
     "output_type": "display_data"
    }
   ],
   "source": [
    "plt.subplot(1, 1, 1)\n",
    "plt.title(f'График распределения гранул на этапе первичной очистки на двух выборках', fontsize=13)\n",
    "sns.set_style('darkgrid')\n",
    "plt.hist(df_train[f'primary_cleaner.input.feed_size'], color='g', label='Обучающая выборка', density=True)\n",
    "plt.hist(df_test[f'primary_cleaner.input.feed_size'], color='r', label='Тестовая выборка', density=True)\n",
    "plt.xlabel('Размер гранул')\n",
    "plt.ylabel('Количество наблюдений')\n",
    "plt.legend()\n",
    "plt.show();"
   ]
  },
  {
   "cell_type": "markdown",
   "metadata": {},
   "source": [
    "На этапе первичной очитски распределение гранул для выборок находится в одном диапазоне(6-10). Наблюдений для тестовой выборки больше чем для обучающей\n",
    "\n",
    "Таким образом, значимых различий между распределениями для выборок не наблюдается, оценка модели будет правильной."
   ]
  },
  {
   "cell_type": "markdown",
   "metadata": {},
   "source": [
    "**Исследум суммарную концентрацию всех веществ на разных стадиях: в сырье, в черновом и финальном концентратах**"
   ]
  },
  {
   "cell_type": "code",
   "execution_count": 32,
   "metadata": {},
   "outputs": [],
   "source": [
    "#создадим цикл, который подсчитает суммарную концентрацию веществ на разных стадиях:\n",
    "#в сырье\n",
    "input_concentrate_total = 0\n",
    "#в черновом\n",
    "rougher_output_concentrate_total = 0\n",
    "#финальный концентрат\n",
    "final_output_concentrate_total = 0\n",
    "for metal in ['au', 'ag', 'pb', 'sol']:\n",
    "    input_concentrate_total += df_train[f'rougher.input.feed_{metal}']\n",
    "    rougher_output_concentrate_total += df_train[f'rougher.output.concentrate_{metal}']\n",
    "    final_output_concentrate_total += df_train[f'final.output.concentrate_{metal}']"
   ]
  },
  {
   "cell_type": "code",
   "execution_count": 33,
   "metadata": {
    "scrolled": true
   },
   "outputs": [
    {
     "data": {
      "image/png": "[encoded data removed]",
      "text/plain": [
       "<Figure size 720x360 with 1 Axes>"
      ]
     },
     "metadata": {},
     "output_type": "display_data"
    }
   ],
   "source": [
    "plt.figure(figsize=[10, 5])\n",
    "plt.suptitle('График суммарной концентрации веществ на разных этапах.', fontsize=15)\n",
    "sns.histplot(input_concentrate_total, color='r', label='Сырье', kde=False)\n",
    "sns.histplot(rougher_output_concentrate_total, color='g', label='Черновая концентрация', kde=False)\n",
    "sns.histplot(final_output_concentrate_total, color='b', label='Финальная концетрация',kde=False)\n",
    "plt.xlabel('Концентрация веществ')\n",
    "plt.ylabel('Количество наблюдений')\n",
    "plt.legend()\n",
    "plt.show();"
   ]
  },
  {
   "cell_type": "markdown",
   "metadata": {},
   "source": [
    "Суммарная концентрация веществ постепенно увеличивается с прохождением очисток. На финальной концентрации видно уменьшение диапазона разброса данных.  "
   ]
  },
  {
   "cell_type": "markdown",
   "metadata": {},
   "source": [
    "Удалим присутсвующие в данных околонулевые выбросы, которые могут повлиять на точность построения модели."
   ]
  },
  {
   "cell_type": "code",
   "execution_count": 34,
   "metadata": {
    "scrolled": true
   },
   "outputs": [],
   "source": [
    "df_train = df_train[(df_train['rougher.output.concentrate_au'] != 0) & (df_train['rougher.output.concentrate_ag'] != 0) & (df_train['rougher.output.concentrate_pb'] != 0) & (df_train['rougher.output.concentrate_sol'] != 0)]\n",
    "df_train = df_train[(df_train['final.output.concentrate_au'] != 0) & (df_train['final.output.concentrate_ag'] != 0) & (df_train['final.output.concentrate_pb'] != 0) & (df_train['final.output.concentrate_sol'] != 0)]"
   ]
  },
  {
   "cell_type": "code",
   "execution_count": 35,
   "metadata": {},
   "outputs": [],
   "source": [
    "#создадим цикл, который подсчитает суммарную концентрацию веществ на разных стадиях:\n",
    "#в сырье\n",
    "input_concentrate_total = 0\n",
    "#в черновом\n",
    "rougher_output_concentrate_total = 0\n",
    "#финальный концентрат\n",
    "final_output_concentrate_total = 0\n",
    "for metal in ['au', 'ag', 'pb', 'sol']:\n",
    "    input_concentrate_total += df_train[f'rougher.input.feed_{metal}']\n",
    "    rougher_output_concentrate_total += df_train[f'rougher.output.concentrate_{metal}']\n",
    "    final_output_concentrate_total += df_train[f'final.output.concentrate_{metal}']"
   ]
  },
  {
   "cell_type": "code",
   "execution_count": 36,
   "metadata": {},
   "outputs": [
    {
     "data": {
      "image/png": "[encoded data removed]",
      "text/plain": [
       "<Figure size 720x360 with 1 Axes>"
      ]
     },
     "metadata": {},
     "output_type": "display_data"
    }
   ],
   "source": [
    "plt.figure(figsize=[10, 5])\n",
    "plt.suptitle('График суммарной концентрации веществ на разных этапах.', fontsize=15)\n",
    "sns.histplot(input_concentrate_total, color='r', label='Сырье', kde=False)\n",
    "sns.histplot(rougher_output_concentrate_total, color='g', label='Черновая концентрация', kde=False)\n",
    "sns.histplot(final_output_concentrate_total, color='b', label='Финальная концетрация',kde=False)\n",
    "plt.xlabel('Концентрация веществ')\n",
    "plt.ylabel('Количество наблюдений')\n",
    "plt.legend()\n",
    "plt.show();"
   ]
  },
  {
   "cell_type": "markdown",
   "metadata": {},
   "source": [
    "**Вывод**  \n",
    "\n",
    "В ходе исследования и анализа данных выяснили: \n",
    " - Распределения гранул сырья на обучающей и тестовой выборках нормальное, значительных различий не выявлено, влияния на построение модели не случится\n",
    "\n",
    " - Доля золота увеличивается по мере прохождения этапов очистки\n",
    "\n",
    " - cуммарная концентрация веществ увеличивается после прохода стадий очистки.\n",
    " \n",
    " - в данных присутствовали аномалии(околонулевые значения)"
   ]
  },
  {
   "cell_type": "markdown",
   "metadata": {},
   "source": [
    "## Модель"
   ]
  },
  {
   "cell_type": "markdown",
   "metadata": {},
   "source": [
    "Начнём с того, что удалим не нужные нам признаки, оставив только требуемые для построения модели."
   ]
  },
  {
   "cell_type": "code",
   "execution_count": 37,
   "metadata": {},
   "outputs": [],
   "source": [
    "signs_for_delete_without_target_signs = missed_columns - set(['rougher.output.recovery','final.output.recovery'])"
   ]
  },
  {
   "cell_type": "code",
   "execution_count": 38,
   "metadata": {},
   "outputs": [],
   "source": [
    "df_train = df_train.drop(columns=signs_for_delete_without_target_signs, axis=1)"
   ]
  },
  {
   "cell_type": "markdown",
   "metadata": {},
   "source": [
    "Напишем функцию, высчитывающию метрику sMAPE"
   ]
  },
  {
   "cell_type": "code",
   "execution_count": 39,
   "metadata": {},
   "outputs": [],
   "source": [
    "def sMAPE(target, predict):\n",
    "    smape = (1/len(target))*np.sum((np.abs(target - predict))/( (np.abs(target)+np.abs(predict))/2))*100\n",
    "    return smape"
   ]
  },
  {
   "cell_type": "code",
   "execution_count": 40,
   "metadata": {},
   "outputs": [],
   "source": [
    "smape_scorer = make_scorer(sMAPE, greater_is_better = False)"
   ]
  },
  {
   "cell_type": "markdown",
   "metadata": {},
   "source": [
    "Напишем функцию,высчитывающую финальный sMAPE"
   ]
  },
  {
   "cell_type": "code",
   "execution_count": 41,
   "metadata": {},
   "outputs": [],
   "source": [
    "def final_sMAPE(rougher, final):\n",
    "    final = 0.25*rougher+0.75*final\n",
    "    return final"
   ]
  },
  {
   "cell_type": "markdown",
   "metadata": {},
   "source": [
    "Подготовим исходные данные:"
   ]
  },
  {
   "cell_type": "code",
   "execution_count": 42,
   "metadata": {},
   "outputs": [],
   "source": [
    "features_train = df_train.drop(['rougher.output.recovery','final.output.recovery'], axis=1)\n",
    "target_train = df_train['rougher.output.recovery']\n",
    "target_final_train = df_train['final.output.recovery']"
   ]
  },
  {
   "cell_type": "markdown",
   "metadata": {},
   "source": [
    "**Линейная регрессия** "
   ]
  },
  {
   "cell_type": "code",
   "execution_count": 43,
   "metadata": {},
   "outputs": [
    {
     "name": "stdout",
     "output_type": "stream",
     "text": [
      "Средняя оценка качества модели линейной регрессии 10.0593\n",
      "CPU times: user 3.23 s, sys: 4.57 s, total: 7.81 s\n",
      "Wall time: 7.95 s\n"
     ]
    }
   ],
   "source": [
    "%%time\n",
    "from sklearn.pipeline import make_pipeline\n",
    "\n",
    "scaler = StandardScaler().fit(features_train)\n",
    "features_train = scaler.transform(features_train)\n",
    "\n",
    "\n",
    "model_lr = LinearRegression()\n",
    "smape_rougher = cross_val_score(model_lr,\n",
    "                          features_train,\n",
    "                          target_train,\n",
    "                          scoring=smape_scorer,\n",
    "                          cv=5)\n",
    "final_smape_rougher = smape_rougher.mean()\n",
    "model_lr_final = LinearRegression()\n",
    "# оценим модель с помощью кроссвалидации features_train, target_train\n",
    "smape_final = cross_val_score(model_lr_final,\n",
    "                        features_train,\n",
    "                        target_final_train,\n",
    "                        scoring=smape_scorer,\n",
    "                        cv=5)\n",
    "final_smape_final = smape_final.mean()\n",
    "result_smape = final_sMAPE(final_smape_rougher, final_smape_final)*(-1)\n",
    "print('Средняя оценка качества модели линейной регрессии', round(result_smape, 4))"
   ]
  },
  {
   "cell_type": "markdown",
   "metadata": {},
   "source": [
    "**Дерево решений**"
   ]
  },
  {
   "cell_type": "code",
   "execution_count": 44,
   "metadata": {},
   "outputs": [
    {
     "name": "stdout",
     "output_type": "stream",
     "text": [
      "Средняя оценка качества модели решающего дерева 11.6735\n",
      "CPU times: user 32.2 s, sys: 297 ms, total: 32.5 s\n",
      "Wall time: 33.5 s\n"
     ]
    }
   ],
   "source": [
    "%%time\n",
    "best_result_for_dt = 100\n",
    "best_param_for_dt = 0\n",
    "for n in range(1, 10, 1):\n",
    "    model_dt_rougher = DecisionTreeRegressor(max_depth=8, random_state=12345)\n",
    "    smape_rougher = cross_val_score(model_dt_rougher,\n",
    "                              features_train,\n",
    "                              target_train,\n",
    "                              scoring=smape_scorer,\n",
    "                              cv=5)\n",
    "    final_smape_rougher = smape_rougher.mean()\n",
    "\n",
    "    model_dt_final = DecisionTreeRegressor(max_depth=n, random_state=12345)\n",
    "    smape_final = cross_val_score(model_dt_final, \n",
    "                                  features_train,\n",
    "                                  target_final_train,\n",
    "                                  scoring=smape_scorer,\n",
    "                                  cv=5)\n",
    "    final_smape_final = smape_final.mean()\n",
    "    result_smape = final_sMAPE(final_smape_rougher, final_smape_final)*(-1)\n",
    "    if result_smape < best_result_for_dt:\n",
    "        best_result_for_dt = result_smape\n",
    "print('Средняя оценка качества модели решающего дерева', round(result_smape, 4))"
   ]
  },
  {
   "cell_type": "markdown",
   "metadata": {},
   "source": [
    "**Случайный лес**"
   ]
  },
  {
   "cell_type": "code",
   "execution_count": 45,
   "metadata": {},
   "outputs": [
    {
     "name": "stdout",
     "output_type": "stream",
     "text": [
      "Средняя оценка качества модели final_score_rf_rougher 6.6861\n",
      "CPU times: user 6.82 s, sys: 58.6 ms, total: 6.88 s\n",
      "Wall time: 6.91 s\n"
     ]
    }
   ],
   "source": [
    "%%time\n",
    "# Проведем оценку модели случайного леса с заданными параметрами для этапа rougher\n",
    "model_RF_rougher = RandomForestRegressor(random_state=12345, max_depth = 4, n_estimators=10)\n",
    "\n",
    "\n",
    "scores_RF_rougher = cross_val_score(model_RF_rougher,\n",
    "                                    features_train, \n",
    "                                    target_train,\n",
    "                                    scoring=smape_scorer,\n",
    "                                    cv = 5)\n",
    "smape_RF_rougher = np.mean(abs(scores_RF_rougher))\n",
    "print('Средняя оценка качества модели final_score_rf_rougher', round(smape_RF_rougher, 4))"
   ]
  },
  {
   "cell_type": "code",
   "execution_count": 46,
   "metadata": {},
   "outputs": [
    {
     "name": "stdout",
     "output_type": "stream",
     "text": [
      "Средняя оценка качества модели final_score_rf_rougher 9.1437\n",
      "CPU times: user 7.12 s, sys: 23.7 ms, total: 7.14 s\n",
      "Wall time: 7.28 s\n"
     ]
    }
   ],
   "source": [
    "%%time\n",
    "# Проведем оценку модели случайного леса с заданными параметрами для этапа final\n",
    "#  инициируем модель случайного леса\n",
    "model_RF_final = RandomForestRegressor(random_state=12345, max_depth = 4, n_estimators=10)\n",
    "\n",
    "# оценим модель с помощью кроссвалидации features_train, target_train\n",
    "scores_RF_final = cross_val_score(model_RF_final,\n",
    "                                    features_train, \n",
    "                                    target_final_train,\n",
    "                                    scoring=smape_scorer,\n",
    "                                    cv = 5)\n",
    "smape_RF_final = np.mean(abs(scores_RF_final))\n",
    "print('Средняя оценка качества модели final_score_rf_rougher', round(smape_RF_final, 4))"
   ]
  },
  {
   "cell_type": "code",
   "execution_count": 47,
   "metadata": {
    "scrolled": true
   },
   "outputs": [
    {
     "name": "stdout",
     "output_type": "stream",
     "text": [
      "Средняя итоговая оценка качества модели smape_rf_total 8.5293\n"
     ]
    }
   ],
   "source": [
    "# вычислим итоговую оценку smape_rf_total \n",
    "smape_RF_total = final_sMAPE(smape_RF_rougher, smape_RF_final)\n",
    "print('Средняя итоговая оценка качества модели smape_rf_total', round(smape_RF_total, 4))"
   ]
  },
  {
   "cell_type": "markdown",
   "metadata": {},
   "source": [
    "Проведем оценку модели случайного леса с подбором параметров для этапа rougher, чтобы подобрать правильный диапазон, воспользовался документацией."
   ]
  },
  {
   "cell_type": "code",
   "execution_count": 48,
   "metadata": {},
   "outputs": [],
   "source": [
    "#%%time\n",
    "\n",
    "#model_RF_rougher = RandomForestRegressor(random_state=12345)\n",
    "\n",
    "# подберем оптимальные параметры глубины дерева\n",
    "#parameters = { 'max_depth': [x for x in range(2, 12, 3)],'n_estimators': [x for x in range(100, 150, 80)]}\n",
    "\n",
    "#grid_RF_rougher = GridSearchCV(model_rf_rougher, parameters, cv=5, scoring=smape_scorer)\n",
    "#grid_RF_rougher.fit(features_train, target_train)"
   ]
  },
  {
   "cell_type": "markdown",
   "metadata": {},
   "source": [
    "Поскольку длительность вычисления составила 7.5 минут, закомментирую код и напишу итоговый результат"
   ]
  },
  {
   "cell_type": "markdown",
   "metadata": {},
   "source": [
    "Лучшие параметры: max depth = 5, n_estimators = 100  \n",
    "smape_rougher = 11.062"
   ]
  },
  {
   "cell_type": "markdown",
   "metadata": {},
   "source": [
    "Проведем оценку модели случайного леса с подбором параметров для этапа final."
   ]
  },
  {
   "cell_type": "code",
   "execution_count": 49,
   "metadata": {},
   "outputs": [],
   "source": [
    "#%%time\n",
    "#model_RF_final = RandomForestRegressor(random_state=12345)\n",
    "\n",
    "#parameters = { 'max_depth': [x for x in range(2, 10, 2)], 'n_estimators': [x for x in range(100, 150, 80)]}\n",
    "\n",
    "#grid_RF_final = GridSearchCV(model_rf_final, parameters, cv=5, scoring=smape_scorer)\n",
    "#grid_RF_final.fit(features_train, target_final_train)"
   ]
  },
  {
   "cell_type": "markdown",
   "metadata": {},
   "source": [
    "Подсчёт данной метрики занял 5 минут 31 секунду, выданные результаты таковы:"
   ]
  },
  {
   "cell_type": "markdown",
   "metadata": {},
   "source": [
    "Лучшие параметры: max_depth: 4, n_estimators: 100  \n",
    "smape_rougher = 10.275"
   ]
  },
  {
   "cell_type": "markdown",
   "metadata": {},
   "source": [
    "Вычислим итоговую оценку sMAPE с учётом подбора параметров "
   ]
  },
  {
   "cell_type": "code",
   "execution_count": 50,
   "metadata": {},
   "outputs": [
    {
     "name": "stdout",
     "output_type": "stream",
     "text": [
      "Средняя итоговая оценка качества модели smape_rf_total 10.4718\n"
     ]
    }
   ],
   "source": [
    "smape_RF_total = final_sMAPE(11.062, 10.275)\n",
    "print('Средняя итоговая оценка качества модели smape_rf_total', round(smape_RF_total, 4))"
   ]
  },
  {
   "cell_type": "markdown",
   "metadata": {},
   "source": [
    "**Лучшая модель - RandomForestRegressor**"
   ]
  },
  {
   "cell_type": "markdown",
   "metadata": {},
   "source": [
    "Подготовим данные для тестирования"
   ]
  },
  {
   "cell_type": "code",
   "execution_count": 51,
   "metadata": {},
   "outputs": [],
   "source": [
    "features_test = df_test.drop(['rougher.output.recovery','final.output.recovery'], axis=1)\n",
    "target_rougher_test = df_test['rougher.output.recovery']\n",
    "target_final_test = df_test['final.output.recovery']"
   ]
  },
  {
   "cell_type": "markdown",
   "metadata": {},
   "source": [
    "Применим модель randomForestRegressor на тестовой выборке c подобранными ранее параметрами."
   ]
  },
  {
   "cell_type": "code",
   "execution_count": 52,
   "metadata": {
    "scrolled": true
   },
   "outputs": [
    {
     "name": "stdout",
     "output_type": "stream",
     "text": [
      "Итоговая оценка smape на тестовых данных равна 9.24\n"
     ]
    }
   ],
   "source": [
    "model_test_rougher = RandomForestRegressor(n_estimators=100, max_depth=4, random_state=12345)\n",
    "model_test_rougher.fit(features_train, target_train)\n",
    "predicted_rougher = model_test_rougher.predict(features_test)\n",
    "\n",
    "model_test_final = RandomForestRegressor(n_estimators=100, max_depth=4, random_state=12345)\n",
    "model_test_final.fit(features_train, target_final_train)\n",
    "predicted_final = model_test_final.predict(features_test)\n",
    "\n",
    "smape_test_rougher = sMAPE(target_rougher_test, predicted_rougher)\n",
    "smape_test_final = sMAPE(target_final_test, predicted_final)\n",
    "final_smape_for_test = final_sMAPE(smape_test_rougher, smape_test_final)\n",
    "\n",
    "print('Итоговая оценка smape на тестовых данных равна', round(final_smape_for_test, 2))"
   ]
  },
  {
   "cell_type": "markdown",
   "metadata": {},
   "source": [
    "Проверим модель на адекватность, заимствую опыт из предыдущих проектов, где мы проверяли модель на адекватность. Используем библиотеку dummyregressor."
   ]
  },
  {
   "cell_type": "code",
   "execution_count": 53,
   "metadata": {},
   "outputs": [
    {
     "name": "stdout",
     "output_type": "stream",
     "text": [
      "Итоговая оценка smape константной модели на тестовых данных равна -  9.82146839182027\n"
     ]
    }
   ],
   "source": [
    "dummy_rougher = DummyRegressor(strategy=\"mean\")\n",
    "dummy_final = DummyRegressor(strategy=\"mean\")\n",
    "\n",
    "dummy_rougher.fit(features_train, target_train)\n",
    "dummy_final.fit(features_train, target_final_train)\n",
    "\n",
    "dummy_pred_rougher = dummy_rougher.predict(features_test)\n",
    "dummy_pred_final = dummy_final.predict(features_test)\n",
    "\n",
    "smape_const_rougher = sMAPE(target_rougher_test, dummy_pred_rougher)\n",
    "smape_const_final = sMAPE(target_final_test, dummy_pred_final)\n",
    "\n",
    "final_smape_const = final_sMAPE(smape_const_rougher, smape_const_final)\n",
    "\n",
    "print('Итоговая оценка smape константной модели на тестовых данных равна - ', final_smape_const)"
   ]
  },
  {
   "cell_type": "markdown",
   "metadata": {},
   "source": [
    "**Вывод по построению моделей**  \n",
    "\n",
    " - посчитаны метрики sMAPE для двух целевых признаков rougher(флотация) и final(окончательная концентрация)\n",
    " - найдены оптимальные параметры для модели случайного леса, лучшая модель также оказалась с использованием случ.леса.\n",
    " - посчитаны данные на тестовой выборке и проврены с помощью dummy. Данные удовлетворяют решению.\n",
    " "
   ]
  },
  {
   "cell_type": "markdown",
   "metadata": {},
   "source": [
    "  **ОБЩИЙ ВЫВОД**  \n",
    "\n",
    "После проделанного исследования проведем полный обзор:\n",
    "\n",
    " - Данные были открыты и проанализированы, обнаружены таблицы с 87 признаками, в данных были пропуски, которые заменены близлежайшими по дате значениями. Дубликатов не обнаружено.\n",
    "\n",
    " - Проверен расчёт эффективности обогащения путём вычисления метрики МАЕ. Полученные значения близки к 0. Это значит, что эффективность обогащения рассчитана верно.\n",
    "\n",
    " - Проанализированы поля, отсутсвующие в тестовой выборке - это целевые признаки для моделей 'rougher.output.recovery', 'final.output.recovery', а также значения output по всем операциям по всем элементам. Это концентрации элементов после основных операций.\n",
    "\n",
    " - Анализ концентрации металлов показал, что концентрация золота значительно увеличивается на каждом этапе обработки сырья. Концентрация золота в отвалах тоже увеличивается, но при этом сильно ниже чем в сырье.\n",
    "\n",
    " - Построены графики распределения плотности вероятности значений размеров гранул на этапах флотации и финальной очистки.\n",
    "\n",
    " - Исследована суммарная концентрация всех веществ на разных стадиях: в сырье, в черновом и финальном концентратах.\n",
    "\n",
    " - Подготовлены датафреймы для прогнозирования features, target\n",
    "\n",
    " - Написана функция, вычисляющая итоговый и финальный sMAPE.\n",
    "\n",
    " - На данных train обучены модели линейной регрессии, дерева решений, а также случайного леса. Проведена оценка каждой модели. В результате для дальнешего прогнозирования выбирана модель случайного леса с параметрами\n",
    "\n",
    "  - для этапа rougher глубина 5, количество деревьев 100.\n",
    "  - для этапа final глубина 4, количество деревьев 100.  \n",
    "  \n",
    "при данных параметрах в датафрейме train показатель smape равен 10.4718\n",
    "\n",
    "Итоговый расчёт на тестовых данных выбранной модели случайного леса позволил получить прогноз целевых признаков концентрации золота для этапа флотации и финальной очистки с показателем smape равным 9.82\n",
    "\n",
    "Проведена проверка модели на адекватность. Модель адекватна."
   ]
  }
 ],
 "metadata": {
  "ExecuteTimeLog": [
   {
    "duration": 1118,
    "start_time": "2022-12-27T12:08:24.398Z"
   },
   {
    "duration": 3,
    "start_time": "2022-12-27T12:11:37.876Z"
   },
   {
    "duration": 137,
    "start_time": "2022-12-27T12:12:44.875Z"
   },
   {
    "duration": 2,
    "start_time": "2022-12-27T12:13:09.090Z"
   },
   {
    "duration": 48,
    "start_time": "2022-12-27T12:13:09.274Z"
   },
   {
    "duration": 38,
    "start_time": "2022-12-27T12:13:12.907Z"
   },
   {
    "duration": 44,
    "start_time": "2022-12-27T12:13:36.339Z"
   },
   {
    "duration": 2292,
    "start_time": "2022-12-27T12:16:03.417Z"
   },
   {
    "duration": 1809,
    "start_time": "2022-12-27T12:17:31.503Z"
   },
   {
    "duration": 21,
    "start_time": "2022-12-27T12:51:19.392Z"
   },
   {
    "duration": 13,
    "start_time": "2022-12-27T12:51:47.968Z"
   },
   {
    "duration": 24,
    "start_time": "2022-12-27T12:55:21.995Z"
   },
   {
    "duration": 22,
    "start_time": "2022-12-27T12:58:43.784Z"
   },
   {
    "duration": 21,
    "start_time": "2022-12-27T12:58:56.688Z"
   },
   {
    "duration": 18,
    "start_time": "2022-12-27T12:59:09.246Z"
   },
   {
    "duration": 30,
    "start_time": "2022-12-27T12:59:25.929Z"
   },
   {
    "duration": 14,
    "start_time": "2022-12-27T12:59:31.472Z"
   },
   {
    "duration": 19,
    "start_time": "2022-12-27T13:00:04.750Z"
   },
   {
    "duration": 15,
    "start_time": "2022-12-27T15:22:04.964Z"
   },
   {
    "duration": 83,
    "start_time": "2022-12-27T15:22:18.812Z"
   },
   {
    "duration": 255,
    "start_time": "2022-12-27T15:28:47.285Z"
   },
   {
    "duration": 258,
    "start_time": "2022-12-27T15:29:21.151Z"
   },
   {
    "duration": 249,
    "start_time": "2022-12-27T15:29:32.540Z"
   },
   {
    "duration": 50,
    "start_time": "2022-12-29T10:43:26.878Z"
   },
   {
    "duration": 1150,
    "start_time": "2022-12-29T10:43:35.594Z"
   },
   {
    "duration": 2963,
    "start_time": "2022-12-29T10:43:36.746Z"
   },
   {
    "duration": 30,
    "start_time": "2022-12-29T10:43:39.711Z"
   },
   {
    "duration": 23,
    "start_time": "2022-12-29T10:43:39.743Z"
   },
   {
    "duration": 29,
    "start_time": "2022-12-29T10:43:39.769Z"
   },
   {
    "duration": 20,
    "start_time": "2022-12-29T10:43:39.800Z"
   },
   {
    "duration": 14,
    "start_time": "2022-12-29T10:43:39.823Z"
   },
   {
    "duration": 20,
    "start_time": "2022-12-29T10:43:39.839Z"
   },
   {
    "duration": 51,
    "start_time": "2022-12-29T10:43:39.861Z"
   },
   {
    "duration": 121,
    "start_time": "2022-12-29T10:43:39.913Z"
   },
   {
    "duration": 0,
    "start_time": "2022-12-29T10:43:40.036Z"
   },
   {
    "duration": 28,
    "start_time": "2022-12-29T10:44:33.298Z"
   },
   {
    "duration": 27,
    "start_time": "2022-12-29T10:55:00.625Z"
   },
   {
    "duration": 30,
    "start_time": "2022-12-29T11:01:19.243Z"
   },
   {
    "duration": 230,
    "start_time": "2022-12-29T11:01:27.978Z"
   },
   {
    "duration": 6,
    "start_time": "2022-12-29T11:16:28.539Z"
   },
   {
    "duration": 20,
    "start_time": "2022-12-29T11:17:04.986Z"
   },
   {
    "duration": 5,
    "start_time": "2022-12-29T11:17:11.227Z"
   },
   {
    "duration": 5,
    "start_time": "2022-12-29T11:18:22.833Z"
   },
   {
    "duration": 4,
    "start_time": "2022-12-29T11:18:23.017Z"
   },
   {
    "duration": 1131,
    "start_time": "2022-12-29T13:39:20.936Z"
   },
   {
    "duration": 2432,
    "start_time": "2022-12-29T13:39:22.070Z"
   },
   {
    "duration": 32,
    "start_time": "2022-12-29T13:39:24.504Z"
   },
   {
    "duration": 21,
    "start_time": "2022-12-29T13:39:24.538Z"
   },
   {
    "duration": 20,
    "start_time": "2022-12-29T13:39:24.561Z"
   },
   {
    "duration": 44,
    "start_time": "2022-12-29T13:39:24.582Z"
   },
   {
    "duration": 12,
    "start_time": "2022-12-29T13:39:24.628Z"
   },
   {
    "duration": 56,
    "start_time": "2022-12-29T13:39:24.642Z"
   },
   {
    "duration": 28,
    "start_time": "2022-12-29T13:39:24.699Z"
   },
   {
    "duration": 32,
    "start_time": "2022-12-29T13:39:24.730Z"
   },
   {
    "duration": 283,
    "start_time": "2022-12-29T13:39:24.764Z"
   },
   {
    "duration": 7,
    "start_time": "2022-12-29T13:39:25.049Z"
   },
   {
    "duration": 8,
    "start_time": "2022-12-29T13:39:25.058Z"
   },
   {
    "duration": 111,
    "start_time": "2022-12-29T13:50:14.337Z"
   },
   {
    "duration": 9,
    "start_time": "2022-12-29T13:50:26.903Z"
   },
   {
    "duration": 4,
    "start_time": "2022-12-29T13:50:36.826Z"
   },
   {
    "duration": 9,
    "start_time": "2022-12-29T14:10:01.182Z"
   },
   {
    "duration": 11,
    "start_time": "2022-12-29T14:10:35.964Z"
   },
   {
    "duration": 9,
    "start_time": "2022-12-29T14:10:48.787Z"
   },
   {
    "duration": 5,
    "start_time": "2022-12-29T14:10:57.563Z"
   },
   {
    "duration": 22,
    "start_time": "2022-12-29T14:11:06.396Z"
   },
   {
    "duration": 4,
    "start_time": "2022-12-29T14:11:10.222Z"
   },
   {
    "duration": 1074,
    "start_time": "2023-01-01T12:01:42.942Z"
   },
   {
    "duration": 2856,
    "start_time": "2023-01-01T12:01:44.018Z"
   },
   {
    "duration": 26,
    "start_time": "2023-01-01T12:01:46.876Z"
   },
   {
    "duration": 17,
    "start_time": "2023-01-01T12:01:46.904Z"
   },
   {
    "duration": 18,
    "start_time": "2023-01-01T12:01:46.923Z"
   },
   {
    "duration": 18,
    "start_time": "2023-01-01T12:01:46.942Z"
   },
   {
    "duration": 11,
    "start_time": "2023-01-01T12:01:46.961Z"
   },
   {
    "duration": 15,
    "start_time": "2023-01-01T12:01:46.974Z"
   },
   {
    "duration": 41,
    "start_time": "2023-01-01T12:01:46.990Z"
   },
   {
    "duration": 28,
    "start_time": "2023-01-01T12:01:47.032Z"
   },
   {
    "duration": 230,
    "start_time": "2023-01-01T12:01:47.062Z"
   },
   {
    "duration": 4,
    "start_time": "2023-01-01T12:01:47.294Z"
   },
   {
    "duration": 10,
    "start_time": "2023-01-01T12:01:47.299Z"
   },
   {
    "duration": 3,
    "start_time": "2023-01-01T12:01:47.321Z"
   },
   {
    "duration": 7,
    "start_time": "2023-01-01T12:16:32.456Z"
   },
   {
    "duration": 11,
    "start_time": "2023-01-01T12:16:50.173Z"
   },
   {
    "duration": 11,
    "start_time": "2023-01-01T12:17:19.502Z"
   },
   {
    "duration": 11,
    "start_time": "2023-01-01T12:17:33.654Z"
   },
   {
    "duration": 15,
    "start_time": "2023-01-01T12:25:51.999Z"
   },
   {
    "duration": 337,
    "start_time": "2023-01-01T12:27:36.604Z"
   },
   {
    "duration": 241,
    "start_time": "2023-01-01T12:27:47.560Z"
   },
   {
    "duration": 406,
    "start_time": "2023-01-01T12:28:39.746Z"
   },
   {
    "duration": 142,
    "start_time": "2023-01-01T12:33:57.633Z"
   },
   {
    "duration": 10,
    "start_time": "2023-01-01T12:42:14.874Z"
   },
   {
    "duration": 10,
    "start_time": "2023-01-01T12:42:43.550Z"
   },
   {
    "duration": 160,
    "start_time": "2023-01-01T12:43:17.067Z"
   },
   {
    "duration": 22,
    "start_time": "2023-01-01T12:43:25.657Z"
   },
   {
    "duration": 17,
    "start_time": "2023-01-01T12:43:42.967Z"
   },
   {
    "duration": 870,
    "start_time": "2023-01-01T12:43:58.023Z"
   },
   {
    "duration": 1039,
    "start_time": "2023-01-01T12:44:04.853Z"
   },
   {
    "duration": 1016,
    "start_time": "2023-01-01T12:44:12.998Z"
   },
   {
    "duration": 911,
    "start_time": "2023-01-01T12:44:22.126Z"
   },
   {
    "duration": 993,
    "start_time": "2023-01-01T12:44:33.032Z"
   },
   {
    "duration": 1086,
    "start_time": "2023-01-01T12:44:54.884Z"
   },
   {
    "duration": 935,
    "start_time": "2023-01-01T12:47:23.387Z"
   },
   {
    "duration": 1008,
    "start_time": "2023-01-01T12:47:32.920Z"
   },
   {
    "duration": 1036,
    "start_time": "2023-01-01T12:47:43.077Z"
   },
   {
    "duration": 982,
    "start_time": "2023-01-01T12:49:36.471Z"
   },
   {
    "duration": 1069,
    "start_time": "2023-01-01T12:50:11.332Z"
   },
   {
    "duration": 916,
    "start_time": "2023-01-01T12:50:40.241Z"
   },
   {
    "duration": 13,
    "start_time": "2023-01-01T12:51:57.511Z"
   },
   {
    "duration": 1097,
    "start_time": "2023-01-01T12:53:09.995Z"
   },
   {
    "duration": 825,
    "start_time": "2023-01-01T12:53:31.002Z"
   },
   {
    "duration": 675,
    "start_time": "2023-01-01T12:53:43.640Z"
   },
   {
    "duration": 717,
    "start_time": "2023-01-01T12:53:52.927Z"
   },
   {
    "duration": 824,
    "start_time": "2023-01-01T12:53:59.655Z"
   },
   {
    "duration": 745,
    "start_time": "2023-01-01T12:54:04.515Z"
   },
   {
    "duration": 807,
    "start_time": "2023-01-01T12:54:12.190Z"
   },
   {
    "duration": 696,
    "start_time": "2023-01-01T12:54:17.472Z"
   },
   {
    "duration": 804,
    "start_time": "2023-01-01T12:54:25.856Z"
   },
   {
    "duration": 754,
    "start_time": "2023-01-01T12:54:34.232Z"
   },
   {
    "duration": 806,
    "start_time": "2023-01-01T12:54:39.346Z"
   },
   {
    "duration": 695,
    "start_time": "2023-01-01T12:54:45.755Z"
   },
   {
    "duration": 882,
    "start_time": "2023-01-01T12:54:55.091Z"
   },
   {
    "duration": 765,
    "start_time": "2023-01-01T12:55:02.200Z"
   },
   {
    "duration": 685,
    "start_time": "2023-01-01T12:55:11.681Z"
   },
   {
    "duration": 14,
    "start_time": "2023-01-01T12:56:28.446Z"
   },
   {
    "duration": 768,
    "start_time": "2023-01-01T12:57:06.967Z"
   },
   {
    "duration": 45,
    "start_time": "2023-01-01T18:24:36.545Z"
   },
   {
    "duration": 1508,
    "start_time": "2023-01-01T18:24:41.298Z"
   },
   {
    "duration": 2872,
    "start_time": "2023-01-01T18:24:42.808Z"
   },
   {
    "duration": 23,
    "start_time": "2023-01-01T18:24:45.681Z"
   },
   {
    "duration": 19,
    "start_time": "2023-01-01T18:24:45.705Z"
   },
   {
    "duration": 22,
    "start_time": "2023-01-01T18:24:45.726Z"
   },
   {
    "duration": 16,
    "start_time": "2023-01-01T18:24:45.749Z"
   },
   {
    "duration": 33,
    "start_time": "2023-01-01T18:24:45.766Z"
   },
   {
    "duration": 17,
    "start_time": "2023-01-01T18:24:45.800Z"
   },
   {
    "duration": 15,
    "start_time": "2023-01-01T18:24:45.818Z"
   },
   {
    "duration": 27,
    "start_time": "2023-01-01T18:24:45.834Z"
   },
   {
    "duration": 285,
    "start_time": "2023-01-01T18:24:45.863Z"
   },
   {
    "duration": 6,
    "start_time": "2023-01-01T18:24:46.151Z"
   },
   {
    "duration": 7,
    "start_time": "2023-01-01T18:24:46.158Z"
   },
   {
    "duration": 6,
    "start_time": "2023-01-01T18:24:46.167Z"
   },
   {
    "duration": 32,
    "start_time": "2023-01-01T18:24:46.174Z"
   },
   {
    "duration": 1012,
    "start_time": "2023-01-01T18:24:46.208Z"
   },
   {
    "duration": 15,
    "start_time": "2023-01-01T18:24:47.221Z"
   },
   {
    "duration": 706,
    "start_time": "2023-01-01T18:24:47.237Z"
   },
   {
    "duration": 13,
    "start_time": "2023-01-01T18:24:47.944Z"
   },
   {
    "duration": 775,
    "start_time": "2023-01-01T18:24:47.959Z"
   },
   {
    "duration": 52,
    "start_time": "2023-01-03T10:26:16.327Z"
   },
   {
    "duration": 1586,
    "start_time": "2023-01-03T10:26:22.761Z"
   },
   {
    "duration": 1881,
    "start_time": "2023-01-03T10:26:24.349Z"
   },
   {
    "duration": 34,
    "start_time": "2023-01-03T10:26:26.232Z"
   },
   {
    "duration": 26,
    "start_time": "2023-01-03T10:26:26.269Z"
   },
   {
    "duration": 43,
    "start_time": "2023-01-03T10:26:26.297Z"
   },
   {
    "duration": 34,
    "start_time": "2023-01-03T10:26:26.342Z"
   },
   {
    "duration": 37,
    "start_time": "2023-01-03T10:26:26.378Z"
   },
   {
    "duration": 25,
    "start_time": "2023-01-03T10:26:26.418Z"
   },
   {
    "duration": 41,
    "start_time": "2023-01-03T10:26:26.444Z"
   },
   {
    "duration": 57,
    "start_time": "2023-01-03T10:26:26.488Z"
   },
   {
    "duration": 256,
    "start_time": "2023-01-03T10:26:26.547Z"
   },
   {
    "duration": 6,
    "start_time": "2023-01-03T10:26:26.805Z"
   },
   {
    "duration": 6,
    "start_time": "2023-01-03T10:26:26.812Z"
   },
   {
    "duration": 7,
    "start_time": "2023-01-03T10:26:26.819Z"
   },
   {
    "duration": 37,
    "start_time": "2023-01-03T10:26:26.827Z"
   },
   {
    "duration": 1116,
    "start_time": "2023-01-03T10:26:26.866Z"
   },
   {
    "duration": 17,
    "start_time": "2023-01-03T10:26:27.984Z"
   },
   {
    "duration": 790,
    "start_time": "2023-01-03T10:26:28.003Z"
   },
   {
    "duration": 17,
    "start_time": "2023-01-03T10:26:28.795Z"
   },
   {
    "duration": 899,
    "start_time": "2023-01-03T10:26:28.814Z"
   },
   {
    "duration": 730,
    "start_time": "2023-01-03T10:27:01.047Z"
   },
   {
    "duration": 758,
    "start_time": "2023-01-03T10:27:21.295Z"
   },
   {
    "duration": 886,
    "start_time": "2023-01-03T10:27:28.471Z"
   },
   {
    "duration": 801,
    "start_time": "2023-01-03T10:27:34.549Z"
   },
   {
    "duration": 807,
    "start_time": "2023-01-03T10:27:41.326Z"
   },
   {
    "duration": 761,
    "start_time": "2023-01-03T10:29:59.748Z"
   },
   {
    "duration": 897,
    "start_time": "2023-01-03T10:30:08.804Z"
   },
   {
    "duration": 747,
    "start_time": "2023-01-03T10:30:17.851Z"
   },
   {
    "duration": 921,
    "start_time": "2023-01-03T10:31:00.763Z"
   },
   {
    "duration": 1083,
    "start_time": "2023-01-03T10:31:34.654Z"
   },
   {
    "duration": 1304,
    "start_time": "2023-01-03T10:31:39.426Z"
   },
   {
    "duration": 1251,
    "start_time": "2023-01-03T10:45:35.936Z"
   },
   {
    "duration": 1088,
    "start_time": "2023-01-03T10:47:26.907Z"
   },
   {
    "duration": 1082,
    "start_time": "2023-01-03T10:47:34.410Z"
   },
   {
    "duration": 1122,
    "start_time": "2023-01-03T10:47:41.379Z"
   },
   {
    "duration": 6,
    "start_time": "2023-01-03T10:48:29.898Z"
   },
   {
    "duration": 8,
    "start_time": "2023-01-03T10:48:36.898Z"
   },
   {
    "duration": 12,
    "start_time": "2023-01-03T10:49:31.592Z"
   },
   {
    "duration": 12,
    "start_time": "2023-01-03T10:49:54.571Z"
   },
   {
    "duration": 99,
    "start_time": "2023-01-03T11:00:42.974Z"
   },
   {
    "duration": 120,
    "start_time": "2023-01-03T11:01:00.420Z"
   },
   {
    "duration": 126,
    "start_time": "2023-01-03T11:01:14.053Z"
   },
   {
    "duration": 204,
    "start_time": "2023-01-03T11:01:24.420Z"
   },
   {
    "duration": 194,
    "start_time": "2023-01-03T11:01:58.540Z"
   },
   {
    "duration": 181,
    "start_time": "2023-01-03T11:02:07.027Z"
   },
   {
    "duration": 24,
    "start_time": "2023-01-03T11:02:16.773Z"
   },
   {
    "duration": 302,
    "start_time": "2023-01-03T11:02:20.419Z"
   },
   {
    "duration": 19,
    "start_time": "2023-01-03T11:02:26.739Z"
   },
   {
    "duration": 211,
    "start_time": "2023-01-03T11:02:31.355Z"
   },
   {
    "duration": 12,
    "start_time": "2023-01-03T11:04:31.393Z"
   },
   {
    "duration": 239,
    "start_time": "2023-01-03T11:05:40.289Z"
   },
   {
    "duration": 222,
    "start_time": "2023-01-03T11:06:03.303Z"
   },
   {
    "duration": 219,
    "start_time": "2023-01-03T11:06:08.607Z"
   },
   {
    "duration": 222,
    "start_time": "2023-01-03T11:06:15.415Z"
   },
   {
    "duration": 227,
    "start_time": "2023-01-03T11:06:24.127Z"
   },
   {
    "duration": 214,
    "start_time": "2023-01-03T11:06:30.486Z"
   },
   {
    "duration": 225,
    "start_time": "2023-01-03T11:06:33.911Z"
   },
   {
    "duration": 230,
    "start_time": "2023-01-03T11:06:37.998Z"
   },
   {
    "duration": 335,
    "start_time": "2023-01-03T11:06:53.263Z"
   },
   {
    "duration": 272,
    "start_time": "2023-01-03T11:06:59.527Z"
   },
   {
    "duration": 219,
    "start_time": "2023-01-03T11:37:50.783Z"
   },
   {
    "duration": 249,
    "start_time": "2023-01-03T11:38:01.485Z"
   },
   {
    "duration": 245,
    "start_time": "2023-01-03T11:38:11.390Z"
   },
   {
    "duration": 1631,
    "start_time": "2023-01-05T09:54:09.385Z"
   },
   {
    "duration": 1882,
    "start_time": "2023-01-05T09:54:11.018Z"
   },
   {
    "duration": 29,
    "start_time": "2023-01-05T09:54:12.902Z"
   },
   {
    "duration": 26,
    "start_time": "2023-01-05T09:54:12.933Z"
   },
   {
    "duration": 39,
    "start_time": "2023-01-05T09:54:12.961Z"
   },
   {
    "duration": 24,
    "start_time": "2023-01-05T09:54:13.002Z"
   },
   {
    "duration": 14,
    "start_time": "2023-01-05T09:54:13.027Z"
   },
   {
    "duration": 41,
    "start_time": "2023-01-05T09:54:13.043Z"
   },
   {
    "duration": 16,
    "start_time": "2023-01-05T09:54:13.086Z"
   },
   {
    "duration": 30,
    "start_time": "2023-01-05T09:54:13.103Z"
   },
   {
    "duration": 278,
    "start_time": "2023-01-05T09:54:13.135Z"
   },
   {
    "duration": 6,
    "start_time": "2023-01-05T09:54:13.415Z"
   },
   {
    "duration": 9,
    "start_time": "2023-01-05T09:54:13.423Z"
   },
   {
    "duration": 7,
    "start_time": "2023-01-05T09:54:13.435Z"
   },
   {
    "duration": 40,
    "start_time": "2023-01-05T09:54:13.444Z"
   },
   {
    "duration": 1192,
    "start_time": "2023-01-05T09:54:13.486Z"
   },
   {
    "duration": 17,
    "start_time": "2023-01-05T09:54:14.679Z"
   },
   {
    "duration": 706,
    "start_time": "2023-01-05T09:54:14.698Z"
   },
   {
    "duration": 14,
    "start_time": "2023-01-05T09:54:15.406Z"
   },
   {
    "duration": 793,
    "start_time": "2023-01-05T09:54:15.422Z"
   },
   {
    "duration": 10,
    "start_time": "2023-01-05T09:54:16.216Z"
   },
   {
    "duration": 176,
    "start_time": "2023-01-05T09:54:16.227Z"
   },
   {
    "duration": 11,
    "start_time": "2023-01-05T09:54:16.404Z"
   },
   {
    "duration": 262,
    "start_time": "2023-01-05T09:54:16.416Z"
   },
   {
    "duration": 9,
    "start_time": "2023-01-05T10:26:44.083Z"
   },
   {
    "duration": 105,
    "start_time": "2023-01-05T10:29:56.583Z"
   },
   {
    "duration": 4,
    "start_time": "2023-01-05T10:32:34.288Z"
   },
   {
    "duration": 610,
    "start_time": "2023-01-05T10:32:34.295Z"
   },
   {
    "duration": 26,
    "start_time": "2023-01-05T10:32:34.907Z"
   },
   {
    "duration": 45,
    "start_time": "2023-01-05T10:32:34.935Z"
   },
   {
    "duration": 27,
    "start_time": "2023-01-05T10:32:34.984Z"
   },
   {
    "duration": 23,
    "start_time": "2023-01-05T10:32:35.012Z"
   },
   {
    "duration": 12,
    "start_time": "2023-01-05T10:32:35.036Z"
   },
   {
    "duration": 38,
    "start_time": "2023-01-05T10:32:35.049Z"
   },
   {
    "duration": 16,
    "start_time": "2023-01-05T10:32:35.089Z"
   },
   {
    "duration": 41,
    "start_time": "2023-01-05T10:32:35.107Z"
   },
   {
    "duration": 228,
    "start_time": "2023-01-05T10:32:35.150Z"
   },
   {
    "duration": 5,
    "start_time": "2023-01-05T10:32:35.379Z"
   },
   {
    "duration": 14,
    "start_time": "2023-01-05T10:32:35.386Z"
   },
   {
    "duration": 8,
    "start_time": "2023-01-05T10:32:35.403Z"
   },
   {
    "duration": 26,
    "start_time": "2023-01-05T10:32:35.413Z"
   },
   {
    "duration": 1095,
    "start_time": "2023-01-05T10:32:35.441Z"
   },
   {
    "duration": 15,
    "start_time": "2023-01-05T10:32:36.537Z"
   },
   {
    "duration": 712,
    "start_time": "2023-01-05T10:32:36.554Z"
   },
   {
    "duration": 18,
    "start_time": "2023-01-05T10:32:37.268Z"
   },
   {
    "duration": 779,
    "start_time": "2023-01-05T10:32:37.288Z"
   },
   {
    "duration": 17,
    "start_time": "2023-01-05T10:32:38.069Z"
   },
   {
    "duration": 397,
    "start_time": "2023-01-05T10:32:38.088Z"
   },
   {
    "duration": 12,
    "start_time": "2023-01-05T10:32:38.487Z"
   },
   {
    "duration": 258,
    "start_time": "2023-01-05T10:32:38.501Z"
   },
   {
    "duration": 9,
    "start_time": "2023-01-05T10:32:38.761Z"
   },
   {
    "duration": 28,
    "start_time": "2023-01-05T10:32:38.771Z"
   },
   {
    "duration": 1168,
    "start_time": "2023-01-05T10:36:34.744Z"
   },
   {
    "duration": 1059,
    "start_time": "2023-01-05T10:37:26.071Z"
   },
   {
    "duration": 1081,
    "start_time": "2023-01-05T10:38:27.877Z"
   },
   {
    "duration": 1076,
    "start_time": "2023-01-05T10:38:35.854Z"
   },
   {
    "duration": 1041,
    "start_time": "2023-01-05T10:38:44.589Z"
   },
   {
    "duration": 17,
    "start_time": "2023-01-05T10:59:55.914Z"
   },
   {
    "duration": 29,
    "start_time": "2023-01-05T11:00:05.853Z"
   },
   {
    "duration": 4,
    "start_time": "2023-01-06T09:14:34.268Z"
   },
   {
    "duration": 646,
    "start_time": "2023-01-06T09:14:34.275Z"
   },
   {
    "duration": 21,
    "start_time": "2023-01-06T09:14:34.923Z"
   },
   {
    "duration": 51,
    "start_time": "2023-01-06T09:14:34.946Z"
   },
   {
    "duration": 26,
    "start_time": "2023-01-06T09:14:34.999Z"
   },
   {
    "duration": 23,
    "start_time": "2023-01-06T09:14:35.026Z"
   },
   {
    "duration": 28,
    "start_time": "2023-01-06T09:14:35.051Z"
   },
   {
    "duration": 26,
    "start_time": "2023-01-06T09:14:35.081Z"
   },
   {
    "duration": 20,
    "start_time": "2023-01-06T09:14:35.111Z"
   },
   {
    "duration": 50,
    "start_time": "2023-01-06T09:14:35.133Z"
   },
   {
    "duration": 224,
    "start_time": "2023-01-06T09:14:35.185Z"
   },
   {
    "duration": 5,
    "start_time": "2023-01-06T09:14:35.411Z"
   },
   {
    "duration": 7,
    "start_time": "2023-01-06T09:14:35.418Z"
   },
   {
    "duration": 9,
    "start_time": "2023-01-06T09:14:35.426Z"
   },
   {
    "duration": 16,
    "start_time": "2023-01-06T09:14:35.437Z"
   },
   {
    "duration": 1183,
    "start_time": "2023-01-06T09:14:35.454Z"
   },
   {
    "duration": 16,
    "start_time": "2023-01-06T09:14:36.639Z"
   },
   {
    "duration": 753,
    "start_time": "2023-01-06T09:14:36.657Z"
   },
   {
    "duration": 18,
    "start_time": "2023-01-06T09:14:37.412Z"
   },
   {
    "duration": 856,
    "start_time": "2023-01-06T09:14:37.431Z"
   },
   {
    "duration": 12,
    "start_time": "2023-01-06T09:14:38.288Z"
   },
   {
    "duration": 205,
    "start_time": "2023-01-06T09:14:38.302Z"
   },
   {
    "duration": 11,
    "start_time": "2023-01-06T09:14:38.508Z"
   },
   {
    "duration": 225,
    "start_time": "2023-01-06T09:14:38.521Z"
   },
   {
    "duration": 8,
    "start_time": "2023-01-06T09:14:38.748Z"
   },
   {
    "duration": 1216,
    "start_time": "2023-01-06T09:14:38.757Z"
   },
   {
    "duration": 28,
    "start_time": "2023-01-06T09:14:39.975Z"
   },
   {
    "duration": 1143,
    "start_time": "2023-01-06T09:37:07.620Z"
   },
   {
    "duration": 23,
    "start_time": "2023-01-06T09:37:12.741Z"
   },
   {
    "duration": 1352,
    "start_time": "2023-01-06T09:37:13.291Z"
   },
   {
    "duration": 22,
    "start_time": "2023-01-06T09:37:59.555Z"
   },
   {
    "duration": 22,
    "start_time": "2023-01-06T09:38:44.667Z"
   },
   {
    "duration": 31,
    "start_time": "2023-01-06T09:43:38.294Z"
   },
   {
    "duration": 1117,
    "start_time": "2023-01-06T09:43:46.564Z"
   },
   {
    "duration": 16,
    "start_time": "2023-01-06T09:44:22.269Z"
   },
   {
    "duration": 1118,
    "start_time": "2023-01-06T09:44:23.692Z"
   },
   {
    "duration": 3,
    "start_time": "2023-01-06T10:04:28.529Z"
   },
   {
    "duration": 2,
    "start_time": "2023-01-06T10:04:28.688Z"
   },
   {
    "duration": 4,
    "start_time": "2023-01-06T10:04:28.855Z"
   },
   {
    "duration": 141,
    "start_time": "2023-01-06T10:07:29.077Z"
   },
   {
    "duration": 5,
    "start_time": "2023-01-06T10:07:43.957Z"
   },
   {
    "duration": 12,
    "start_time": "2023-01-06T10:10:05.515Z"
   },
   {
    "duration": 14,
    "start_time": "2023-01-06T10:10:54.468Z"
   },
   {
    "duration": 15,
    "start_time": "2023-01-06T10:11:04.514Z"
   },
   {
    "duration": 102,
    "start_time": "2023-01-06T10:15:13.923Z"
   },
   {
    "duration": 12,
    "start_time": "2023-01-06T10:17:03.405Z"
   },
   {
    "duration": 10,
    "start_time": "2023-01-06T10:17:09.155Z"
   },
   {
    "duration": 4,
    "start_time": "2023-01-06T10:17:36.371Z"
   },
   {
    "duration": 3,
    "start_time": "2023-01-06T10:17:40.219Z"
   },
   {
    "duration": 3,
    "start_time": "2023-01-06T10:17:40.380Z"
   },
   {
    "duration": 3,
    "start_time": "2023-01-06T10:17:40.538Z"
   },
   {
    "duration": 5,
    "start_time": "2023-01-06T10:17:40.706Z"
   },
   {
    "duration": 92,
    "start_time": "2023-01-06T10:17:40.851Z"
   },
   {
    "duration": 9,
    "start_time": "2023-01-06T10:31:04.686Z"
   },
   {
    "duration": 4,
    "start_time": "2023-01-06T10:31:11.732Z"
   },
   {
    "duration": 90,
    "start_time": "2023-01-06T10:31:11.965Z"
   },
   {
    "duration": 4,
    "start_time": "2023-01-06T10:32:44.052Z"
   },
   {
    "duration": 3,
    "start_time": "2023-01-06T10:32:44.498Z"
   },
   {
    "duration": 4,
    "start_time": "2023-01-06T10:32:44.900Z"
   },
   {
    "duration": 4,
    "start_time": "2023-01-06T10:32:45.091Z"
   },
   {
    "duration": 92,
    "start_time": "2023-01-06T10:32:45.260Z"
   },
   {
    "duration": 1667,
    "start_time": "2023-01-06T17:14:01.619Z"
   },
   {
    "duration": 3120,
    "start_time": "2023-01-06T17:14:03.288Z"
   },
   {
    "duration": 27,
    "start_time": "2023-01-06T17:14:06.410Z"
   },
   {
    "duration": 23,
    "start_time": "2023-01-06T17:14:06.440Z"
   },
   {
    "duration": 44,
    "start_time": "2023-01-06T17:14:06.465Z"
   },
   {
    "duration": 37,
    "start_time": "2023-01-06T17:14:06.511Z"
   },
   {
    "duration": 16,
    "start_time": "2023-01-06T17:14:06.550Z"
   },
   {
    "duration": 35,
    "start_time": "2023-01-06T17:14:06.569Z"
   },
   {
    "duration": 31,
    "start_time": "2023-01-06T17:14:06.606Z"
   },
   {
    "duration": 37,
    "start_time": "2023-01-06T17:14:06.641Z"
   },
   {
    "duration": 312,
    "start_time": "2023-01-06T17:14:06.679Z"
   },
   {
    "duration": 7,
    "start_time": "2023-01-06T17:14:06.993Z"
   },
   {
    "duration": 19,
    "start_time": "2023-01-06T17:14:07.002Z"
   },
   {
    "duration": 19,
    "start_time": "2023-01-06T17:14:07.023Z"
   },
   {
    "duration": 27,
    "start_time": "2023-01-06T17:14:07.043Z"
   },
   {
    "duration": 1143,
    "start_time": "2023-01-06T17:14:07.072Z"
   },
   {
    "duration": 28,
    "start_time": "2023-01-06T17:14:08.217Z"
   },
   {
    "duration": 799,
    "start_time": "2023-01-06T17:14:08.247Z"
   },
   {
    "duration": 15,
    "start_time": "2023-01-06T17:14:09.048Z"
   },
   {
    "duration": 866,
    "start_time": "2023-01-06T17:14:09.065Z"
   },
   {
    "duration": 10,
    "start_time": "2023-01-06T17:14:09.935Z"
   },
   {
    "duration": 194,
    "start_time": "2023-01-06T17:14:09.947Z"
   },
   {
    "duration": 11,
    "start_time": "2023-01-06T17:14:10.143Z"
   },
   {
    "duration": 291,
    "start_time": "2023-01-06T17:14:10.156Z"
   },
   {
    "duration": 9,
    "start_time": "2023-01-06T17:14:10.450Z"
   },
   {
    "duration": 1216,
    "start_time": "2023-01-06T17:14:10.461Z"
   },
   {
    "duration": 7,
    "start_time": "2023-01-06T17:14:11.679Z"
   },
   {
    "duration": 24,
    "start_time": "2023-01-06T17:14:11.689Z"
   },
   {
    "duration": 19,
    "start_time": "2023-01-06T17:14:11.714Z"
   },
   {
    "duration": 32,
    "start_time": "2023-01-06T17:14:11.735Z"
   },
   {
    "duration": 45,
    "start_time": "2023-01-06T17:14:11.768Z"
   },
   {
    "duration": 178,
    "start_time": "2023-01-06T17:14:11.815Z"
   },
   {
    "duration": 4,
    "start_time": "2023-01-06T17:23:37.125Z"
   },
   {
    "duration": 3,
    "start_time": "2023-01-06T17:24:07.611Z"
   },
   {
    "duration": 2,
    "start_time": "2023-01-06T17:24:08.044Z"
   },
   {
    "duration": 3,
    "start_time": "2023-01-06T17:24:17.739Z"
   },
   {
    "duration": 13,
    "start_time": "2023-01-06T17:24:19.067Z"
   },
   {
    "duration": 75,
    "start_time": "2023-01-06T17:24:21.020Z"
   },
   {
    "duration": 15,
    "start_time": "2023-01-06T17:26:08.474Z"
   },
   {
    "duration": 11,
    "start_time": "2023-01-06T17:26:21.594Z"
   },
   {
    "duration": 29,
    "start_time": "2023-01-06T17:27:02.977Z"
   },
   {
    "duration": 21,
    "start_time": "2023-01-06T17:32:13.107Z"
   },
   {
    "duration": 10,
    "start_time": "2023-01-06T17:32:22.550Z"
   },
   {
    "duration": 689,
    "start_time": "2023-01-06T17:32:54.043Z"
   },
   {
    "duration": 3,
    "start_time": "2023-01-06T17:35:09.105Z"
   },
   {
    "duration": 11,
    "start_time": "2023-01-06T17:35:11.289Z"
   },
   {
    "duration": 348,
    "start_time": "2023-01-06T17:35:36.609Z"
   },
   {
    "duration": 231,
    "start_time": "2023-01-06T17:36:00.233Z"
   },
   {
    "duration": 1501,
    "start_time": "2023-01-06T17:36:05.604Z"
   },
   {
    "duration": 746,
    "start_time": "2023-01-06T17:36:07.107Z"
   },
   {
    "duration": 24,
    "start_time": "2023-01-06T17:36:07.855Z"
   },
   {
    "duration": 23,
    "start_time": "2023-01-06T17:36:07.881Z"
   },
   {
    "duration": 44,
    "start_time": "2023-01-06T17:36:07.906Z"
   },
   {
    "duration": 52,
    "start_time": "2023-01-06T17:36:07.952Z"
   },
   {
    "duration": 14,
    "start_time": "2023-01-06T17:36:08.007Z"
   },
   {
    "duration": 26,
    "start_time": "2023-01-06T17:36:08.024Z"
   },
   {
    "duration": 30,
    "start_time": "2023-01-06T17:36:08.052Z"
   },
   {
    "duration": 51,
    "start_time": "2023-01-06T17:36:08.085Z"
   },
   {
    "duration": 260,
    "start_time": "2023-01-06T17:36:08.138Z"
   },
   {
    "duration": 7,
    "start_time": "2023-01-06T17:36:08.400Z"
   },
   {
    "duration": 14,
    "start_time": "2023-01-06T17:36:08.409Z"
   },
   {
    "duration": 19,
    "start_time": "2023-01-06T17:36:08.425Z"
   },
   {
    "duration": 23,
    "start_time": "2023-01-06T17:36:08.445Z"
   },
   {
    "duration": 1203,
    "start_time": "2023-01-06T17:36:08.469Z"
   },
   {
    "duration": 17,
    "start_time": "2023-01-06T17:36:09.674Z"
   },
   {
    "duration": 799,
    "start_time": "2023-01-06T17:36:09.693Z"
   },
   {
    "duration": 17,
    "start_time": "2023-01-06T17:36:10.495Z"
   },
   {
    "duration": 889,
    "start_time": "2023-01-06T17:36:10.514Z"
   },
   {
    "duration": 14,
    "start_time": "2023-01-06T17:36:11.405Z"
   },
   {
    "duration": 204,
    "start_time": "2023-01-06T17:36:11.435Z"
   },
   {
    "duration": 11,
    "start_time": "2023-01-06T17:36:11.641Z"
   },
   {
    "duration": 255,
    "start_time": "2023-01-06T17:36:11.654Z"
   },
   {
    "duration": 7,
    "start_time": "2023-01-06T17:36:11.912Z"
   },
   {
    "duration": 1222,
    "start_time": "2023-01-06T17:36:11.921Z"
   },
   {
    "duration": 8,
    "start_time": "2023-01-06T17:36:13.144Z"
   },
   {
    "duration": 13,
    "start_time": "2023-01-06T17:36:13.157Z"
   },
   {
    "duration": 24,
    "start_time": "2023-01-06T17:36:13.172Z"
   },
   {
    "duration": 11,
    "start_time": "2023-01-06T17:36:13.198Z"
   },
   {
    "duration": 19,
    "start_time": "2023-01-06T17:36:13.211Z"
   },
   {
    "duration": 27,
    "start_time": "2023-01-06T17:36:13.231Z"
   },
   {
    "duration": 525,
    "start_time": "2023-01-06T17:36:13.260Z"
   },
   {
    "duration": 10,
    "start_time": "2023-01-06T17:37:40.565Z"
   },
   {
    "duration": 3,
    "start_time": "2023-01-06T17:38:38.229Z"
   },
   {
    "duration": 470,
    "start_time": "2023-01-06T17:38:39.182Z"
   },
   {
    "duration": 479,
    "start_time": "2023-01-06T17:38:59.262Z"
   },
   {
    "duration": 850,
    "start_time": "2023-01-06T17:39:44.301Z"
   },
   {
    "duration": 357,
    "start_time": "2023-01-06T17:39:53.580Z"
   },
   {
    "duration": 846,
    "start_time": "2023-01-06T17:39:58.669Z"
   },
   {
    "duration": 5,
    "start_time": "2023-01-06T17:40:25.859Z"
   },
   {
    "duration": 5,
    "start_time": "2023-01-06T17:40:42.054Z"
   },
   {
    "duration": 5,
    "start_time": "2023-01-06T17:40:42.814Z"
   },
   {
    "duration": 4,
    "start_time": "2023-01-06T17:41:24.290Z"
   },
   {
    "duration": 694,
    "start_time": "2023-01-06T17:41:35.251Z"
   },
   {
    "duration": 4,
    "start_time": "2023-01-06T17:41:47.610Z"
   },
   {
    "duration": 3,
    "start_time": "2023-01-06T17:41:48.018Z"
   },
   {
    "duration": 2999,
    "start_time": "2023-01-06T17:42:11.632Z"
   },
   {
    "duration": 1166,
    "start_time": "2023-01-06T17:42:14.634Z"
   },
   {
    "duration": 50,
    "start_time": "2023-01-06T17:42:15.803Z"
   },
   {
    "duration": 31,
    "start_time": "2023-01-06T17:42:15.857Z"
   },
   {
    "duration": 55,
    "start_time": "2023-01-06T17:42:15.891Z"
   },
   {
    "duration": 35,
    "start_time": "2023-01-06T17:42:15.949Z"
   },
   {
    "duration": 23,
    "start_time": "2023-01-06T17:42:15.987Z"
   },
   {
    "duration": 51,
    "start_time": "2023-01-06T17:42:16.012Z"
   },
   {
    "duration": 30,
    "start_time": "2023-01-06T17:42:16.067Z"
   },
   {
    "duration": 67,
    "start_time": "2023-01-06T17:42:16.102Z"
   },
   {
    "duration": 266,
    "start_time": "2023-01-06T17:46:42.049Z"
   },
   {
    "duration": 1805,
    "start_time": "2023-01-06T17:46:47.692Z"
   },
   {
    "duration": 778,
    "start_time": "2023-01-06T17:46:49.499Z"
   },
   {
    "duration": 27,
    "start_time": "2023-01-06T17:46:50.279Z"
   },
   {
    "duration": 38,
    "start_time": "2023-01-06T17:46:50.308Z"
   },
   {
    "duration": 35,
    "start_time": "2023-01-06T17:46:50.350Z"
   },
   {
    "duration": 24,
    "start_time": "2023-01-06T17:46:50.387Z"
   },
   {
    "duration": 19,
    "start_time": "2023-01-06T17:46:50.438Z"
   },
   {
    "duration": 35,
    "start_time": "2023-01-06T17:46:50.460Z"
   },
   {
    "duration": 40,
    "start_time": "2023-01-06T17:46:50.497Z"
   },
   {
    "duration": 35,
    "start_time": "2023-01-06T17:46:50.539Z"
   },
   {
    "duration": 328,
    "start_time": "2023-01-06T17:46:50.576Z"
   },
   {
    "duration": 8,
    "start_time": "2023-01-06T17:46:50.906Z"
   },
   {
    "duration": 22,
    "start_time": "2023-01-06T17:46:50.915Z"
   },
   {
    "duration": 23,
    "start_time": "2023-01-06T17:46:50.941Z"
   },
   {
    "duration": 29,
    "start_time": "2023-01-06T17:46:50.966Z"
   },
   {
    "duration": 1286,
    "start_time": "2023-01-06T17:46:50.999Z"
   },
   {
    "duration": 18,
    "start_time": "2023-01-06T17:46:52.287Z"
   },
   {
    "duration": 964,
    "start_time": "2023-01-06T17:46:52.308Z"
   },
   {
    "duration": 18,
    "start_time": "2023-01-06T17:46:53.273Z"
   },
   {
    "duration": 871,
    "start_time": "2023-01-06T17:46:53.294Z"
   },
   {
    "duration": 12,
    "start_time": "2023-01-06T17:46:54.167Z"
   },
   {
    "duration": 236,
    "start_time": "2023-01-06T17:46:54.181Z"
   },
   {
    "duration": 21,
    "start_time": "2023-01-06T17:46:54.419Z"
   },
   {
    "duration": 268,
    "start_time": "2023-01-06T17:46:54.442Z"
   },
   {
    "duration": 8,
    "start_time": "2023-01-06T17:46:54.713Z"
   },
   {
    "duration": 1126,
    "start_time": "2023-01-06T17:46:54.723Z"
   },
   {
    "duration": 226,
    "start_time": "2023-01-06T17:47:22.684Z"
   },
   {
    "duration": 3,
    "start_time": "2023-01-06T17:47:31.346Z"
   },
   {
    "duration": 10,
    "start_time": "2023-01-06T17:47:55.459Z"
   },
   {
    "duration": 7,
    "start_time": "2023-01-06T17:48:01.900Z"
   },
   {
    "duration": 4,
    "start_time": "2023-01-06T17:48:10.075Z"
   },
   {
    "duration": 3,
    "start_time": "2023-01-06T17:48:19.243Z"
   },
   {
    "duration": 3,
    "start_time": "2023-01-06T17:48:26.603Z"
   },
   {
    "duration": 13,
    "start_time": "2023-01-06T17:48:38.891Z"
   },
   {
    "duration": 9,
    "start_time": "2023-01-06T17:48:52.787Z"
   },
   {
    "duration": 53,
    "start_time": "2023-01-06T17:49:14.222Z"
   },
   {
    "duration": 42,
    "start_time": "2023-01-06T17:57:28.714Z"
   },
   {
    "duration": 6,
    "start_time": "2023-01-06T17:57:47.675Z"
   },
   {
    "duration": 1494,
    "start_time": "2023-01-06T17:57:53.612Z"
   },
   {
    "duration": 3440,
    "start_time": "2023-01-06T17:57:55.108Z"
   },
   {
    "duration": 25,
    "start_time": "2023-01-06T17:57:58.549Z"
   },
   {
    "duration": 19,
    "start_time": "2023-01-06T17:57:58.576Z"
   },
   {
    "duration": 19,
    "start_time": "2023-01-06T17:57:58.597Z"
   },
   {
    "duration": 16,
    "start_time": "2023-01-06T17:57:58.618Z"
   },
   {
    "duration": 11,
    "start_time": "2023-01-06T17:57:58.636Z"
   },
   {
    "duration": 16,
    "start_time": "2023-01-06T17:57:58.649Z"
   },
   {
    "duration": 14,
    "start_time": "2023-01-06T17:57:58.697Z"
   },
   {
    "duration": 43,
    "start_time": "2023-01-06T17:57:58.713Z"
   },
   {
    "duration": 215,
    "start_time": "2023-01-06T17:57:58.758Z"
   },
   {
    "duration": 5,
    "start_time": "2023-01-06T17:57:58.975Z"
   },
   {
    "duration": 15,
    "start_time": "2023-01-06T17:57:58.982Z"
   },
   {
    "duration": 5,
    "start_time": "2023-01-06T17:57:58.999Z"
   },
   {
    "duration": 11,
    "start_time": "2023-01-06T17:57:59.005Z"
   },
   {
    "duration": 17,
    "start_time": "2023-01-06T17:57:59.018Z"
   },
   {
    "duration": 1047,
    "start_time": "2023-01-06T17:57:59.037Z"
   },
   {
    "duration": 21,
    "start_time": "2023-01-06T17:58:00.085Z"
   },
   {
    "duration": 751,
    "start_time": "2023-01-06T17:58:00.108Z"
   },
   {
    "duration": 15,
    "start_time": "2023-01-06T17:58:00.861Z"
   },
   {
    "duration": 858,
    "start_time": "2023-01-06T17:58:00.878Z"
   },
   {
    "duration": 11,
    "start_time": "2023-01-06T17:58:01.738Z"
   },
   {
    "duration": 189,
    "start_time": "2023-01-06T17:58:01.750Z"
   },
   {
    "duration": 11,
    "start_time": "2023-01-06T17:58:01.941Z"
   },
   {
    "duration": 240,
    "start_time": "2023-01-06T17:58:01.954Z"
   },
   {
    "duration": 7,
    "start_time": "2023-01-06T17:58:02.196Z"
   },
   {
    "duration": 1170,
    "start_time": "2023-01-06T17:58:02.205Z"
   },
   {
    "duration": 3,
    "start_time": "2023-01-06T17:58:03.378Z"
   },
   {
    "duration": 18,
    "start_time": "2023-01-06T17:58:03.382Z"
   },
   {
    "duration": 6,
    "start_time": "2023-01-06T17:58:03.401Z"
   },
   {
    "duration": 12,
    "start_time": "2023-01-06T17:58:03.408Z"
   },
   {
    "duration": 68,
    "start_time": "2023-01-06T17:58:03.422Z"
   },
   {
    "duration": 43,
    "start_time": "2023-01-06T17:58:03.492Z"
   },
   {
    "duration": 2763,
    "start_time": "2023-01-06T17:58:03.537Z"
   },
   {
    "duration": 102,
    "start_time": "2023-01-06T17:58:14.555Z"
   },
   {
    "duration": 9,
    "start_time": "2023-01-06T17:58:24.219Z"
   },
   {
    "duration": 3,
    "start_time": "2023-01-06T17:58:29.778Z"
   },
   {
    "duration": 2,
    "start_time": "2023-01-06T17:59:03.282Z"
   },
   {
    "duration": 2526,
    "start_time": "2023-01-06T17:59:03.874Z"
   },
   {
    "duration": 2299,
    "start_time": "2023-01-06T17:59:20.601Z"
   },
   {
    "duration": 52,
    "start_time": "2023-01-06T17:59:38.738Z"
   },
   {
    "duration": 3,
    "start_time": "2023-01-06T17:59:43.915Z"
   },
   {
    "duration": 22459,
    "start_time": "2023-01-06T17:59:44.289Z"
   },
   {
    "duration": 1353,
    "start_time": "2023-01-06T18:05:18.509Z"
   },
   {
    "duration": 661,
    "start_time": "2023-01-06T18:05:19.864Z"
   },
   {
    "duration": 23,
    "start_time": "2023-01-06T18:05:20.527Z"
   },
   {
    "duration": 34,
    "start_time": "2023-01-06T18:05:20.552Z"
   },
   {
    "duration": 27,
    "start_time": "2023-01-06T18:05:20.588Z"
   },
   {
    "duration": 19,
    "start_time": "2023-01-06T18:05:20.618Z"
   },
   {
    "duration": 11,
    "start_time": "2023-01-06T18:05:20.639Z"
   },
   {
    "duration": 15,
    "start_time": "2023-01-06T18:05:20.652Z"
   },
   {
    "duration": 40,
    "start_time": "2023-01-06T18:05:20.668Z"
   },
   {
    "duration": 35,
    "start_time": "2023-01-06T18:05:20.710Z"
   },
   {
    "duration": 231,
    "start_time": "2023-01-06T18:05:20.746Z"
   },
   {
    "duration": 6,
    "start_time": "2023-01-06T18:05:20.979Z"
   },
   {
    "duration": 29,
    "start_time": "2023-01-06T18:05:20.986Z"
   },
   {
    "duration": 5,
    "start_time": "2023-01-06T18:05:21.018Z"
   },
   {
    "duration": 33,
    "start_time": "2023-01-06T18:05:21.025Z"
   },
   {
    "duration": 26,
    "start_time": "2023-01-06T18:05:21.060Z"
   },
   {
    "duration": 16,
    "start_time": "2023-01-06T18:05:21.087Z"
   },
   {
    "duration": 1049,
    "start_time": "2023-01-06T18:05:21.104Z"
   },
   {
    "duration": 14,
    "start_time": "2023-01-06T18:05:22.155Z"
   },
   {
    "duration": 708,
    "start_time": "2023-01-06T18:05:22.171Z"
   },
   {
    "duration": 24,
    "start_time": "2023-01-06T18:05:22.881Z"
   },
   {
    "duration": 877,
    "start_time": "2023-01-06T18:05:22.907Z"
   },
   {
    "duration": 30,
    "start_time": "2023-01-06T18:05:23.786Z"
   },
   {
    "duration": 197,
    "start_time": "2023-01-06T18:05:23.818Z"
   },
   {
    "duration": 14,
    "start_time": "2023-01-06T18:05:24.016Z"
   },
   {
    "duration": 265,
    "start_time": "2023-01-06T18:05:24.032Z"
   },
   {
    "duration": 8,
    "start_time": "2023-01-06T18:05:24.299Z"
   },
   {
    "duration": 1155,
    "start_time": "2023-01-06T18:05:24.308Z"
   },
   {
    "duration": 6,
    "start_time": "2023-01-06T18:05:25.465Z"
   },
   {
    "duration": 11,
    "start_time": "2023-01-06T18:05:25.473Z"
   },
   {
    "duration": 11,
    "start_time": "2023-01-06T18:05:25.486Z"
   },
   {
    "duration": 6,
    "start_time": "2023-01-06T18:05:25.499Z"
   },
   {
    "duration": 5,
    "start_time": "2023-01-06T18:05:25.506Z"
   },
   {
    "duration": 8,
    "start_time": "2023-01-06T18:05:25.512Z"
   },
   {
    "duration": 5,
    "start_time": "2023-01-06T18:05:25.521Z"
   },
   {
    "duration": 2971,
    "start_time": "2023-01-06T18:05:25.527Z"
   },
   {
    "duration": 3,
    "start_time": "2023-01-06T18:05:28.500Z"
   },
   {
    "duration": 22730,
    "start_time": "2023-01-06T18:05:28.505Z"
   },
   {
    "duration": 106,
    "start_time": "2023-01-06T18:05:51.237Z"
   },
   {
    "duration": 0,
    "start_time": "2023-01-06T18:05:51.345Z"
   },
   {
    "duration": 11,
    "start_time": "2023-01-06T18:06:06.212Z"
   },
   {
    "duration": 43,
    "start_time": "2023-01-06T18:06:58.575Z"
   },
   {
    "duration": 28354,
    "start_time": "2023-01-06T18:07:03.400Z"
   },
   {
    "duration": 27874,
    "start_time": "2023-01-06T18:11:16.398Z"
   },
   {
    "duration": 12,
    "start_time": "2023-01-06T18:11:46.149Z"
   },
   {
    "duration": 3046,
    "start_time": "2023-01-06T18:12:46.260Z"
   },
   {
    "duration": 3,
    "start_time": "2023-01-06T18:12:51.315Z"
   },
   {
    "duration": 22590,
    "start_time": "2023-01-06T18:12:51.844Z"
   },
   {
    "duration": 28181,
    "start_time": "2023-01-06T18:13:15.675Z"
   },
   {
    "duration": 9,
    "start_time": "2023-01-06T18:13:43.858Z"
   },
   {
    "duration": 2,
    "start_time": "2023-01-06T18:14:06.875Z"
   },
   {
    "duration": 1460,
    "start_time": "2023-01-07T17:02:06.577Z"
   },
   {
    "duration": 2828,
    "start_time": "2023-01-07T17:02:08.040Z"
   },
   {
    "duration": 25,
    "start_time": "2023-01-07T17:02:10.870Z"
   },
   {
    "duration": 19,
    "start_time": "2023-01-07T17:02:10.896Z"
   },
   {
    "duration": 21,
    "start_time": "2023-01-07T17:02:10.917Z"
   },
   {
    "duration": 19,
    "start_time": "2023-01-07T17:02:10.940Z"
   },
   {
    "duration": 12,
    "start_time": "2023-01-07T17:02:10.960Z"
   },
   {
    "duration": 36,
    "start_time": "2023-01-07T17:02:10.973Z"
   },
   {
    "duration": 15,
    "start_time": "2023-01-07T17:02:11.011Z"
   },
   {
    "duration": 29,
    "start_time": "2023-01-07T17:02:11.027Z"
   },
   {
    "duration": 231,
    "start_time": "2023-01-07T17:02:11.058Z"
   },
   {
    "duration": 10,
    "start_time": "2023-01-07T17:02:11.290Z"
   },
   {
    "duration": 6,
    "start_time": "2023-01-07T17:02:11.301Z"
   },
   {
    "duration": 7,
    "start_time": "2023-01-07T17:02:11.310Z"
   },
   {
    "duration": 18,
    "start_time": "2023-01-07T17:02:11.318Z"
   },
   {
    "duration": 7,
    "start_time": "2023-01-07T17:02:11.338Z"
   },
   {
    "duration": 18,
    "start_time": "2023-01-07T17:02:11.346Z"
   },
   {
    "duration": 981,
    "start_time": "2023-01-07T17:02:11.366Z"
   },
   {
    "duration": 18,
    "start_time": "2023-01-07T17:02:12.348Z"
   },
   {
    "duration": 703,
    "start_time": "2023-01-07T17:02:12.368Z"
   },
   {
    "duration": 23,
    "start_time": "2023-01-07T17:02:13.073Z"
   },
   {
    "duration": 720,
    "start_time": "2023-01-07T17:02:13.098Z"
   },
   {
    "duration": 13,
    "start_time": "2023-01-07T17:02:13.819Z"
   },
   {
    "duration": 192,
    "start_time": "2023-01-07T17:02:13.833Z"
   },
   {
    "duration": 10,
    "start_time": "2023-01-07T17:02:14.026Z"
   },
   {
    "duration": 210,
    "start_time": "2023-01-07T17:02:14.037Z"
   },
   {
    "duration": 7,
    "start_time": "2023-01-07T17:02:14.248Z"
   },
   {
    "duration": 1078,
    "start_time": "2023-01-07T17:02:14.256Z"
   },
   {
    "duration": 3,
    "start_time": "2023-01-07T17:02:15.335Z"
   },
   {
    "duration": 11,
    "start_time": "2023-01-07T17:02:15.339Z"
   },
   {
    "duration": 5,
    "start_time": "2023-01-07T17:02:15.351Z"
   },
   {
    "duration": 11,
    "start_time": "2023-01-07T17:02:15.358Z"
   },
   {
    "duration": 7,
    "start_time": "2023-01-07T17:02:15.370Z"
   },
   {
    "duration": 9,
    "start_time": "2023-01-07T17:02:15.378Z"
   },
   {
    "duration": 6,
    "start_time": "2023-01-07T17:02:15.388Z"
   },
   {
    "duration": 2804,
    "start_time": "2023-01-07T17:02:15.397Z"
   },
   {
    "duration": 93,
    "start_time": "2023-01-07T17:02:18.205Z"
   },
   {
    "duration": 23260,
    "start_time": "2023-01-07T17:02:18.299Z"
   },
   {
    "duration": 29462,
    "start_time": "2023-01-07T17:02:41.560Z"
   },
   {
    "duration": 105,
    "start_time": "2023-01-07T17:03:11.024Z"
   },
   {
    "duration": 0,
    "start_time": "2023-01-07T17:03:11.131Z"
   },
   {
    "duration": 0,
    "start_time": "2023-01-07T17:03:11.133Z"
   },
   {
    "duration": 2673,
    "start_time": "2023-01-07T17:03:16.324Z"
   },
   {
    "duration": 6,
    "start_time": "2023-01-07T17:04:21.346Z"
   },
   {
    "duration": 2709,
    "start_time": "2023-01-07T17:05:16.690Z"
   },
   {
    "duration": 29891,
    "start_time": "2023-01-07T17:32:30.808Z"
   },
   {
    "duration": 32728,
    "start_time": "2023-01-07T17:39:07.696Z"
   },
   {
    "duration": 21751,
    "start_time": "2023-01-07T17:41:23.382Z"
   },
   {
    "duration": 29474,
    "start_time": "2023-01-07T17:42:07.589Z"
   },
   {
    "duration": 29337,
    "start_time": "2023-01-07T17:43:45.691Z"
   },
   {
    "duration": 3182,
    "start_time": "2023-01-07T17:51:12.419Z"
   },
   {
    "duration": 30096,
    "start_time": "2023-01-07T17:51:27.020Z"
   },
   {
    "duration": 30521,
    "start_time": "2023-01-07T18:41:55.938Z"
   },
   {
    "duration": 7,
    "start_time": "2023-01-07T19:24:27.027Z"
   },
   {
    "duration": 7,
    "start_time": "2023-01-07T19:24:31.602Z"
   },
   {
    "duration": 7302,
    "start_time": "2023-01-07T19:24:42.242Z"
   },
   {
    "duration": 1363,
    "start_time": "2023-01-07T19:32:06.115Z"
   },
   {
    "duration": 712,
    "start_time": "2023-01-07T19:32:07.480Z"
   },
   {
    "duration": 32,
    "start_time": "2023-01-07T19:32:08.194Z"
   },
   {
    "duration": 23,
    "start_time": "2023-01-07T19:32:08.228Z"
   },
   {
    "duration": 45,
    "start_time": "2023-01-07T19:32:08.253Z"
   },
   {
    "duration": 19,
    "start_time": "2023-01-07T19:32:08.300Z"
   },
   {
    "duration": 13,
    "start_time": "2023-01-07T19:32:08.321Z"
   },
   {
    "duration": 17,
    "start_time": "2023-01-07T19:32:08.335Z"
   },
   {
    "duration": 48,
    "start_time": "2023-01-07T19:32:08.355Z"
   },
   {
    "duration": 29,
    "start_time": "2023-01-07T19:32:08.405Z"
   },
   {
    "duration": 243,
    "start_time": "2023-01-07T19:32:08.436Z"
   },
   {
    "duration": 6,
    "start_time": "2023-01-07T19:32:08.681Z"
   },
   {
    "duration": 5,
    "start_time": "2023-01-07T19:32:08.697Z"
   },
   {
    "duration": 6,
    "start_time": "2023-01-07T19:32:08.707Z"
   },
   {
    "duration": 13,
    "start_time": "2023-01-07T19:32:08.715Z"
   },
   {
    "duration": 8,
    "start_time": "2023-01-07T19:32:08.730Z"
   },
   {
    "duration": 28,
    "start_time": "2023-01-07T19:32:08.740Z"
   },
   {
    "duration": 1047,
    "start_time": "2023-01-07T19:32:08.770Z"
   },
   {
    "duration": 16,
    "start_time": "2023-01-07T19:32:09.819Z"
   },
   {
    "duration": 741,
    "start_time": "2023-01-07T19:32:09.837Z"
   },
   {
    "duration": 25,
    "start_time": "2023-01-07T19:32:10.581Z"
   },
   {
    "duration": 810,
    "start_time": "2023-01-07T19:32:10.607Z"
   },
   {
    "duration": 12,
    "start_time": "2023-01-07T19:32:11.418Z"
   },
   {
    "duration": 203,
    "start_time": "2023-01-07T19:32:11.432Z"
   },
   {
    "duration": 12,
    "start_time": "2023-01-07T19:32:11.637Z"
   },
   {
    "duration": 276,
    "start_time": "2023-01-07T19:32:11.651Z"
   },
   {
    "duration": 17,
    "start_time": "2023-01-07T19:32:11.929Z"
   },
   {
    "duration": 1158,
    "start_time": "2023-01-07T19:32:11.948Z"
   },
   {
    "duration": 3,
    "start_time": "2023-01-07T19:32:13.108Z"
   },
   {
    "duration": 18,
    "start_time": "2023-01-07T19:32:13.113Z"
   },
   {
    "duration": 7,
    "start_time": "2023-01-07T19:32:13.133Z"
   },
   {
    "duration": 6,
    "start_time": "2023-01-07T19:32:13.142Z"
   },
   {
    "duration": 10,
    "start_time": "2023-01-07T19:32:13.150Z"
   },
   {
    "duration": 13,
    "start_time": "2023-01-07T19:32:13.162Z"
   },
   {
    "duration": 2824,
    "start_time": "2023-01-07T19:32:13.177Z"
   },
   {
    "duration": 2291,
    "start_time": "2023-01-07T19:32:16.003Z"
   },
   {
    "duration": 54,
    "start_time": "2023-01-07T19:32:18.296Z"
   },
   {
    "duration": 64,
    "start_time": "2023-01-07T19:32:18.352Z"
   },
   {
    "duration": 31091,
    "start_time": "2023-01-07T19:32:45.763Z"
   },
   {
    "duration": 31021,
    "start_time": "2023-01-07T19:33:16.856Z"
   },
   {
    "duration": 30271,
    "start_time": "2023-01-07T19:39:43.059Z"
   },
   {
    "duration": 12,
    "start_time": "2023-01-07T19:47:47.473Z"
   },
   {
    "duration": 4,
    "start_time": "2023-01-07T19:48:31.785Z"
   },
   {
    "duration": 22,
    "start_time": "2023-01-07T19:55:31.378Z"
   },
   {
    "duration": 15,
    "start_time": "2023-01-07T19:57:16.936Z"
   },
   {
    "duration": 17,
    "start_time": "2023-01-07T19:58:14.391Z"
   },
   {
    "duration": 1516,
    "start_time": "2023-01-07T19:59:04.312Z"
   },
   {
    "duration": 721,
    "start_time": "2023-01-07T19:59:05.830Z"
   },
   {
    "duration": 27,
    "start_time": "2023-01-07T19:59:06.553Z"
   },
   {
    "duration": 34,
    "start_time": "2023-01-07T19:59:06.582Z"
   },
   {
    "duration": 32,
    "start_time": "2023-01-07T19:59:06.619Z"
   },
   {
    "duration": 25,
    "start_time": "2023-01-07T19:59:06.653Z"
   },
   {
    "duration": 33,
    "start_time": "2023-01-07T19:59:06.680Z"
   },
   {
    "duration": 24,
    "start_time": "2023-01-07T19:59:06.715Z"
   },
   {
    "duration": 15,
    "start_time": "2023-01-07T19:59:06.740Z"
   },
   {
    "duration": 61,
    "start_time": "2023-01-07T19:59:06.757Z"
   },
   {
    "duration": 241,
    "start_time": "2023-01-07T19:59:06.820Z"
   },
   {
    "duration": 6,
    "start_time": "2023-01-07T19:59:07.062Z"
   },
   {
    "duration": 7,
    "start_time": "2023-01-07T19:59:07.070Z"
   },
   {
    "duration": 22,
    "start_time": "2023-01-07T19:59:07.080Z"
   },
   {
    "duration": 11,
    "start_time": "2023-01-07T19:59:07.104Z"
   },
   {
    "duration": 10,
    "start_time": "2023-01-07T19:59:07.117Z"
   },
   {
    "duration": 7,
    "start_time": "2023-01-07T19:59:07.129Z"
   },
   {
    "duration": 23,
    "start_time": "2023-01-07T19:59:07.138Z"
   },
   {
    "duration": 1093,
    "start_time": "2023-01-07T19:59:07.163Z"
   },
   {
    "duration": 16,
    "start_time": "2023-01-07T19:59:08.258Z"
   },
   {
    "duration": 744,
    "start_time": "2023-01-07T19:59:08.276Z"
   },
   {
    "duration": 20,
    "start_time": "2023-01-07T19:59:09.022Z"
   },
   {
    "duration": 825,
    "start_time": "2023-01-07T19:59:09.044Z"
   },
   {
    "duration": 13,
    "start_time": "2023-01-07T19:59:09.872Z"
   },
   {
    "duration": 230,
    "start_time": "2023-01-07T19:59:09.898Z"
   },
   {
    "duration": 14,
    "start_time": "2023-01-07T19:59:10.129Z"
   },
   {
    "duration": 278,
    "start_time": "2023-01-07T19:59:10.144Z"
   },
   {
    "duration": 9,
    "start_time": "2023-01-07T19:59:10.425Z"
   },
   {
    "duration": 1472,
    "start_time": "2023-01-07T19:59:10.436Z"
   },
   {
    "duration": 3,
    "start_time": "2023-01-07T19:59:11.910Z"
   },
   {
    "duration": 15,
    "start_time": "2023-01-07T19:59:11.914Z"
   },
   {
    "duration": 7,
    "start_time": "2023-01-07T19:59:11.932Z"
   },
   {
    "duration": 9,
    "start_time": "2023-01-07T19:59:11.940Z"
   },
   {
    "duration": 8,
    "start_time": "2023-01-07T19:59:11.951Z"
   },
   {
    "duration": 10,
    "start_time": "2023-01-07T19:59:11.960Z"
   },
   {
    "duration": 3529,
    "start_time": "2023-01-07T19:59:11.972Z"
   },
   {
    "duration": 32128,
    "start_time": "2023-01-07T19:59:15.503Z"
   },
   {
    "duration": 30455,
    "start_time": "2023-01-07T19:59:47.632Z"
   },
   {
    "duration": 29356,
    "start_time": "2023-01-07T20:00:18.088Z"
   },
   {
    "duration": 3,
    "start_time": "2023-01-07T20:00:47.446Z"
   },
   {
    "duration": 163,
    "start_time": "2023-01-07T20:00:47.454Z"
   },
   {
    "duration": 3,
    "start_time": "2023-01-07T20:06:08.110Z"
   },
   {
    "duration": 3497,
    "start_time": "2023-01-07T20:08:24.504Z"
   },
   {
    "duration": 31444,
    "start_time": "2023-01-07T20:08:55.669Z"
   },
   {
    "duration": 14800,
    "start_time": "2023-01-07T20:26:04.335Z"
   },
   {
    "duration": 14456,
    "start_time": "2023-01-07T20:26:32.247Z"
   },
   {
    "duration": 4,
    "start_time": "2023-01-07T20:26:51.366Z"
   },
   {
    "duration": 4,
    "start_time": "2023-01-07T20:26:54.966Z"
   },
   {
    "duration": 4,
    "start_time": "2023-01-07T20:27:01.455Z"
   },
   {
    "duration": 8126,
    "start_time": "2023-01-07T20:27:15.430Z"
   },
   {
    "duration": 7763,
    "start_time": "2023-01-07T20:27:23.558Z"
   },
   {
    "duration": 3,
    "start_time": "2023-01-07T20:27:31.323Z"
   },
   {
    "duration": 6723,
    "start_time": "2023-01-07T20:27:40.765Z"
   },
   {
    "duration": 8,
    "start_time": "2023-01-07T20:27:47.491Z"
   },
   {
    "duration": 4,
    "start_time": "2023-01-07T20:31:32.918Z"
   },
   {
    "duration": 8,
    "start_time": "2023-01-07T20:31:44.711Z"
   },
   {
    "duration": 58,
    "start_time": "2023-01-07T20:31:48.011Z"
   },
   {
    "duration": 422542,
    "start_time": "2023-01-07T20:37:30.158Z"
   },
   {
    "duration": 7,
    "start_time": "2023-01-07T20:44:32.710Z"
   },
   {
    "duration": 6,
    "start_time": "2023-01-07T20:48:04.506Z"
   },
   {
    "duration": 4,
    "start_time": "2023-01-07T20:48:34.142Z"
   },
   {
    "duration": 4,
    "start_time": "2023-01-07T20:48:37.235Z"
   },
   {
    "duration": 4,
    "start_time": "2023-01-07T20:48:40.563Z"
   },
   {
    "duration": 4,
    "start_time": "2023-01-07T20:49:29.578Z"
   },
   {
    "duration": 1842,
    "start_time": "2023-01-07T20:49:35.091Z"
   },
   {
    "duration": 1581,
    "start_time": "2023-01-07T20:49:36.935Z"
   },
   {
    "duration": 23,
    "start_time": "2023-01-07T20:49:38.518Z"
   },
   {
    "duration": 29,
    "start_time": "2023-01-07T20:49:38.544Z"
   },
   {
    "duration": 50,
    "start_time": "2023-01-07T20:49:38.575Z"
   },
   {
    "duration": 21,
    "start_time": "2023-01-07T20:49:38.627Z"
   },
   {
    "duration": 12,
    "start_time": "2023-01-07T20:49:38.650Z"
   },
   {
    "duration": 44,
    "start_time": "2023-01-07T20:49:38.664Z"
   },
   {
    "duration": 15,
    "start_time": "2023-01-07T20:49:38.715Z"
   },
   {
    "duration": 28,
    "start_time": "2023-01-07T20:49:38.732Z"
   },
   {
    "duration": 272,
    "start_time": "2023-01-07T20:49:38.762Z"
   },
   {
    "duration": 5,
    "start_time": "2023-01-07T20:49:39.036Z"
   },
   {
    "duration": 5,
    "start_time": "2023-01-07T20:49:39.043Z"
   },
   {
    "duration": 5,
    "start_time": "2023-01-07T20:49:39.050Z"
   },
   {
    "duration": 11,
    "start_time": "2023-01-07T20:49:39.057Z"
   },
   {
    "duration": 41,
    "start_time": "2023-01-07T20:49:39.070Z"
   },
   {
    "duration": 9,
    "start_time": "2023-01-07T20:49:39.113Z"
   },
   {
    "duration": 17,
    "start_time": "2023-01-07T20:49:39.124Z"
   },
   {
    "duration": 1103,
    "start_time": "2023-01-07T20:49:39.142Z"
   },
   {
    "duration": 17,
    "start_time": "2023-01-07T20:49:40.246Z"
   },
   {
    "duration": 781,
    "start_time": "2023-01-07T20:49:40.265Z"
   },
   {
    "duration": 15,
    "start_time": "2023-01-07T20:49:41.047Z"
   },
   {
    "duration": 853,
    "start_time": "2023-01-07T20:49:41.064Z"
   },
   {
    "duration": 11,
    "start_time": "2023-01-07T20:49:41.919Z"
   },
   {
    "duration": 204,
    "start_time": "2023-01-07T20:49:41.932Z"
   },
   {
    "duration": 12,
    "start_time": "2023-01-07T20:49:42.138Z"
   },
   {
    "duration": 299,
    "start_time": "2023-01-07T20:49:42.152Z"
   },
   {
    "duration": 7,
    "start_time": "2023-01-07T20:49:42.455Z"
   },
   {
    "duration": 1185,
    "start_time": "2023-01-07T20:49:42.464Z"
   },
   {
    "duration": 5,
    "start_time": "2023-01-07T20:49:43.650Z"
   },
   {
    "duration": 10,
    "start_time": "2023-01-07T20:49:43.657Z"
   },
   {
    "duration": 6,
    "start_time": "2023-01-07T20:49:43.669Z"
   },
   {
    "duration": 26,
    "start_time": "2023-01-07T20:49:43.677Z"
   },
   {
    "duration": 19,
    "start_time": "2023-01-07T20:49:43.709Z"
   },
   {
    "duration": 12,
    "start_time": "2023-01-07T20:49:43.730Z"
   },
   {
    "duration": 5083,
    "start_time": "2023-01-07T20:49:43.744Z"
   },
   {
    "duration": 33319,
    "start_time": "2023-01-07T20:49:48.829Z"
   },
   {
    "duration": 7315,
    "start_time": "2023-01-07T20:50:22.153Z"
   },
   {
    "duration": 7256,
    "start_time": "2023-01-07T20:50:29.472Z"
   },
   {
    "duration": 121,
    "start_time": "2023-01-07T20:50:36.730Z"
   },
   {
    "duration": 0,
    "start_time": "2023-01-07T20:50:36.852Z"
   },
   {
    "duration": 0,
    "start_time": "2023-01-07T20:50:36.853Z"
   },
   {
    "duration": 0,
    "start_time": "2023-01-07T20:50:36.855Z"
   },
   {
    "duration": 4,
    "start_time": "2023-01-07T20:51:10.786Z"
   },
   {
    "duration": 3,
    "start_time": "2023-01-07T20:51:12.456Z"
   },
   {
    "duration": 9,
    "start_time": "2023-01-07T20:51:13.215Z"
   },
   {
    "duration": 1291,
    "start_time": "2023-01-07T21:05:40.354Z"
   },
   {
    "duration": 763,
    "start_time": "2023-01-07T21:05:41.647Z"
   },
   {
    "duration": 22,
    "start_time": "2023-01-07T21:05:42.416Z"
   },
   {
    "duration": 18,
    "start_time": "2023-01-07T21:05:42.440Z"
   },
   {
    "duration": 19,
    "start_time": "2023-01-07T21:05:42.460Z"
   },
   {
    "duration": 29,
    "start_time": "2023-01-07T21:05:42.481Z"
   },
   {
    "duration": 13,
    "start_time": "2023-01-07T21:05:42.513Z"
   },
   {
    "duration": 20,
    "start_time": "2023-01-07T21:05:42.527Z"
   },
   {
    "duration": 16,
    "start_time": "2023-01-07T21:05:42.549Z"
   },
   {
    "duration": 53,
    "start_time": "2023-01-07T21:05:42.567Z"
   },
   {
    "duration": 235,
    "start_time": "2023-01-07T21:05:42.622Z"
   },
   {
    "duration": 6,
    "start_time": "2023-01-07T21:05:42.859Z"
   },
   {
    "duration": 6,
    "start_time": "2023-01-07T21:05:42.867Z"
   },
   {
    "duration": 24,
    "start_time": "2023-01-07T21:05:42.876Z"
   },
   {
    "duration": 31,
    "start_time": "2023-01-07T21:05:42.901Z"
   },
   {
    "duration": 20,
    "start_time": "2023-01-07T21:05:42.933Z"
   },
   {
    "duration": 8,
    "start_time": "2023-01-07T21:05:42.954Z"
   },
   {
    "duration": 30,
    "start_time": "2023-01-07T21:05:42.963Z"
   },
   {
    "duration": 2383,
    "start_time": "2023-01-07T21:05:42.994Z"
   },
   {
    "duration": 31,
    "start_time": "2023-01-07T21:05:45.379Z"
   },
   {
    "duration": 714,
    "start_time": "2023-01-07T21:05:45.411Z"
   },
   {
    "duration": 14,
    "start_time": "2023-01-07T21:05:46.127Z"
   },
   {
    "duration": 761,
    "start_time": "2023-01-07T21:05:46.143Z"
   },
   {
    "duration": 14,
    "start_time": "2023-01-07T21:05:46.908Z"
   },
   {
    "duration": 177,
    "start_time": "2023-01-07T21:05:46.923Z"
   },
   {
    "duration": 11,
    "start_time": "2023-01-07T21:05:47.102Z"
   },
   {
    "duration": 229,
    "start_time": "2023-01-07T21:05:47.114Z"
   },
   {
    "duration": 8,
    "start_time": "2023-01-07T21:05:47.345Z"
   },
   {
    "duration": 1137,
    "start_time": "2023-01-07T21:05:47.355Z"
   },
   {
    "duration": 9,
    "start_time": "2023-01-07T21:05:48.494Z"
   },
   {
    "duration": 29,
    "start_time": "2023-01-07T21:05:48.506Z"
   },
   {
    "duration": 18,
    "start_time": "2023-01-07T21:05:48.536Z"
   },
   {
    "duration": 4,
    "start_time": "2023-01-07T21:05:48.556Z"
   },
   {
    "duration": 4,
    "start_time": "2023-01-07T21:05:48.562Z"
   },
   {
    "duration": 8,
    "start_time": "2023-01-07T21:05:48.568Z"
   },
   {
    "duration": 4538,
    "start_time": "2023-01-07T21:05:48.577Z"
   },
   {
    "duration": 32061,
    "start_time": "2023-01-07T21:05:53.120Z"
   },
   {
    "duration": 6885,
    "start_time": "2023-01-07T21:06:25.184Z"
   },
   {
    "duration": 6868,
    "start_time": "2023-01-07T21:06:32.070Z"
   },
   {
    "duration": 3,
    "start_time": "2023-01-07T21:06:38.940Z"
   },
   {
    "duration": 443192,
    "start_time": "2023-01-07T21:06:38.947Z"
   },
   {
    "duration": 3,
    "start_time": "2023-01-07T21:14:02.141Z"
   },
   {
    "duration": 25,
    "start_time": "2023-01-07T21:14:02.146Z"
   },
   {
    "duration": 4,
    "start_time": "2023-01-07T21:16:29.114Z"
   },
   {
    "duration": 3,
    "start_time": "2023-01-07T21:16:47.022Z"
   },
   {
    "duration": 4,
    "start_time": "2023-01-07T21:16:48.177Z"
   },
   {
    "duration": 1535,
    "start_time": "2023-01-08T15:13:21.362Z"
   },
   {
    "duration": 2990,
    "start_time": "2023-01-08T15:13:22.899Z"
   },
   {
    "duration": 24,
    "start_time": "2023-01-08T15:13:25.890Z"
   },
   {
    "duration": 21,
    "start_time": "2023-01-08T15:13:25.915Z"
   },
   {
    "duration": 21,
    "start_time": "2023-01-08T15:13:25.938Z"
   },
   {
    "duration": 15,
    "start_time": "2023-01-08T15:13:25.961Z"
   },
   {
    "duration": 12,
    "start_time": "2023-01-08T15:13:25.977Z"
   },
   {
    "duration": 40,
    "start_time": "2023-01-08T15:13:25.990Z"
   },
   {
    "duration": 17,
    "start_time": "2023-01-08T15:13:26.032Z"
   },
   {
    "duration": 31,
    "start_time": "2023-01-08T15:13:26.051Z"
   },
   {
    "duration": 294,
    "start_time": "2023-01-08T15:13:26.084Z"
   },
   {
    "duration": 6,
    "start_time": "2023-01-08T15:13:26.380Z"
   },
   {
    "duration": 6,
    "start_time": "2023-01-08T15:13:26.388Z"
   },
   {
    "duration": 27,
    "start_time": "2023-01-08T15:13:26.397Z"
   },
   {
    "duration": 16,
    "start_time": "2023-01-08T15:13:26.425Z"
   },
   {
    "duration": 15,
    "start_time": "2023-01-08T15:13:26.443Z"
   },
   {
    "duration": 4,
    "start_time": "2023-01-08T15:13:26.459Z"
   },
   {
    "duration": 16,
    "start_time": "2023-01-08T15:13:26.464Z"
   },
   {
    "duration": 969,
    "start_time": "2023-01-08T15:13:26.481Z"
   },
   {
    "duration": 13,
    "start_time": "2023-01-08T15:13:27.452Z"
   },
   {
    "duration": 662,
    "start_time": "2023-01-08T15:13:27.467Z"
   },
   {
    "duration": 13,
    "start_time": "2023-01-08T15:13:28.130Z"
   },
   {
    "duration": 745,
    "start_time": "2023-01-08T15:13:28.145Z"
   },
   {
    "duration": 10,
    "start_time": "2023-01-08T15:13:28.892Z"
   },
   {
    "duration": 192,
    "start_time": "2023-01-08T15:13:28.904Z"
   },
   {
    "duration": 23,
    "start_time": "2023-01-08T15:13:29.097Z"
   },
   {
    "duration": 216,
    "start_time": "2023-01-08T15:13:29.122Z"
   },
   {
    "duration": 8,
    "start_time": "2023-01-08T15:13:29.340Z"
   },
   {
    "duration": 1072,
    "start_time": "2023-01-08T15:13:29.349Z"
   },
   {
    "duration": 3,
    "start_time": "2023-01-08T15:13:30.423Z"
   },
   {
    "duration": 42,
    "start_time": "2023-01-08T15:13:30.428Z"
   },
   {
    "duration": 37,
    "start_time": "2023-01-08T15:13:30.472Z"
   },
   {
    "duration": 30,
    "start_time": "2023-01-08T15:13:30.511Z"
   },
   {
    "duration": 26,
    "start_time": "2023-01-08T15:13:30.543Z"
   },
   {
    "duration": 19,
    "start_time": "2023-01-08T15:13:30.570Z"
   },
   {
    "duration": 3029,
    "start_time": "2023-01-08T15:13:30.591Z"
   },
   {
    "duration": 30239,
    "start_time": "2023-01-08T15:13:33.622Z"
   },
   {
    "duration": 6545,
    "start_time": "2023-01-08T15:14:03.863Z"
   },
   {
    "duration": 6512,
    "start_time": "2023-01-08T15:14:10.410Z"
   },
   {
    "duration": 4,
    "start_time": "2023-01-08T15:14:16.923Z"
   },
   {
    "duration": 4,
    "start_time": "2023-01-08T15:14:16.931Z"
   },
   {
    "duration": 8,
    "start_time": "2023-01-08T15:14:16.936Z"
   },
   {
    "duration": 330493,
    "start_time": "2023-01-08T15:14:16.945Z"
   },
   {
    "duration": 4,
    "start_time": "2023-01-08T15:19:47.439Z"
   },
   {
    "duration": 331514,
    "start_time": "2023-01-08T15:37:27.793Z"
   },
   {
    "duration": 8,
    "start_time": "2023-01-08T15:42:59.309Z"
   },
   {
    "duration": 5,
    "start_time": "2023-01-08T15:45:16.679Z"
   },
   {
    "duration": 4,
    "start_time": "2023-01-08T15:45:26.604Z"
   },
   {
    "duration": 3,
    "start_time": "2023-01-08T15:45:31.645Z"
   },
   {
    "duration": 3,
    "start_time": "2023-01-08T15:46:22.116Z"
   },
   {
    "duration": 99,
    "start_time": "2023-01-08T15:54:23.787Z"
   },
   {
    "duration": 3,
    "start_time": "2023-01-08T15:55:13.003Z"
   },
   {
    "duration": 5,
    "start_time": "2023-01-08T15:59:46.709Z"
   },
   {
    "duration": 11,
    "start_time": "2023-01-08T16:03:27.594Z"
   },
   {
    "duration": 4,
    "start_time": "2023-01-08T16:04:25.681Z"
   },
   {
    "duration": 37936,
    "start_time": "2023-01-08T16:04:26.032Z"
   },
   {
    "duration": 36988,
    "start_time": "2023-01-08T16:06:15.134Z"
   },
   {
    "duration": 37271,
    "start_time": "2023-01-08T16:10:32.753Z"
   },
   {
    "duration": 0,
    "start_time": "2023-01-08T16:11:57.329Z"
   },
   {
    "duration": 5,
    "start_time": "2023-01-08T16:14:39.692Z"
   },
   {
    "duration": 37471,
    "start_time": "2023-01-08T16:14:39.868Z"
   },
   {
    "duration": 4,
    "start_time": "2023-01-08T16:29:48.155Z"
   },
   {
    "duration": 14,
    "start_time": "2023-01-08T16:33:32.049Z"
   },
   {
    "duration": 4,
    "start_time": "2023-01-08T16:33:43.977Z"
   },
   {
    "duration": 5,
    "start_time": "2023-01-08T16:34:03.376Z"
   },
   {
    "duration": 8,
    "start_time": "2023-01-08T16:35:21.526Z"
   },
   {
    "duration": 9,
    "start_time": "2023-01-08T16:35:36.702Z"
   },
   {
    "duration": 9,
    "start_time": "2023-01-08T16:38:01.029Z"
   },
   {
    "duration": 5,
    "start_time": "2023-01-08T16:38:13.251Z"
   },
   {
    "duration": 3,
    "start_time": "2023-01-08T16:38:13.611Z"
   },
   {
    "duration": 48,
    "start_time": "2023-01-08T16:38:45.059Z"
   },
   {
    "duration": 4,
    "start_time": "2023-01-08T16:38:52.730Z"
   },
   {
    "duration": 5,
    "start_time": "2023-01-08T16:42:02.607Z"
   },
   {
    "duration": 4,
    "start_time": "2023-01-08T16:42:02.767Z"
   },
   {
    "duration": 4,
    "start_time": "2023-01-08T16:42:47.574Z"
   },
   {
    "duration": 3,
    "start_time": "2023-01-08T16:42:54.774Z"
   },
   {
    "duration": 11,
    "start_time": "2023-01-08T16:43:19.510Z"
   },
   {
    "duration": 11,
    "start_time": "2023-01-08T16:44:15.895Z"
   },
   {
    "duration": 9,
    "start_time": "2023-01-08T16:44:39.476Z"
   },
   {
    "duration": 4,
    "start_time": "2023-01-08T16:44:42.100Z"
   },
   {
    "duration": 4,
    "start_time": "2023-01-08T16:44:49.517Z"
   },
   {
    "duration": 7,
    "start_time": "2023-01-08T16:45:20.061Z"
   },
   {
    "duration": 3,
    "start_time": "2023-01-08T16:45:20.251Z"
   },
   {
    "duration": 8,
    "start_time": "2023-01-08T16:45:32.972Z"
   },
   {
    "duration": 8,
    "start_time": "2023-01-08T16:46:49.674Z"
   },
   {
    "duration": 1484,
    "start_time": "2023-01-08T20:32:09.989Z"
   },
   {
    "duration": 3066,
    "start_time": "2023-01-08T20:32:11.476Z"
   },
   {
    "duration": 24,
    "start_time": "2023-01-08T20:32:14.543Z"
   },
   {
    "duration": 17,
    "start_time": "2023-01-08T20:32:14.569Z"
   },
   {
    "duration": 21,
    "start_time": "2023-01-08T20:32:14.588Z"
   },
   {
    "duration": 14,
    "start_time": "2023-01-08T20:32:14.611Z"
   },
   {
    "duration": 11,
    "start_time": "2023-01-08T20:32:14.627Z"
   },
   {
    "duration": 40,
    "start_time": "2023-01-08T20:32:14.639Z"
   },
   {
    "duration": 14,
    "start_time": "2023-01-08T20:32:14.681Z"
   },
   {
    "duration": 44,
    "start_time": "2023-01-08T20:32:14.696Z"
   },
   {
    "duration": 243,
    "start_time": "2023-01-08T20:32:14.742Z"
   },
   {
    "duration": 7,
    "start_time": "2023-01-08T20:32:14.987Z"
   },
   {
    "duration": 7,
    "start_time": "2023-01-08T20:32:14.996Z"
   },
   {
    "duration": 29,
    "start_time": "2023-01-08T20:32:15.008Z"
   },
   {
    "duration": 50,
    "start_time": "2023-01-08T20:32:15.039Z"
   },
   {
    "duration": 34,
    "start_time": "2023-01-08T20:32:15.091Z"
   },
   {
    "duration": 6,
    "start_time": "2023-01-08T20:32:15.127Z"
   },
   {
    "duration": 19,
    "start_time": "2023-01-08T20:32:15.134Z"
   },
   {
    "duration": 997,
    "start_time": "2023-01-08T20:32:15.155Z"
   },
   {
    "duration": 22,
    "start_time": "2023-01-08T20:32:16.154Z"
   },
   {
    "duration": 663,
    "start_time": "2023-01-08T20:32:16.178Z"
   },
   {
    "duration": 14,
    "start_time": "2023-01-08T20:32:16.843Z"
   },
   {
    "duration": 820,
    "start_time": "2023-01-08T20:32:16.858Z"
   },
   {
    "duration": 10,
    "start_time": "2023-01-08T20:32:17.680Z"
   },
   {
    "duration": 177,
    "start_time": "2023-01-08T20:32:17.692Z"
   },
   {
    "duration": 13,
    "start_time": "2023-01-08T20:32:17.871Z"
   },
   {
    "duration": 250,
    "start_time": "2023-01-08T20:32:17.886Z"
   },
   {
    "duration": 7,
    "start_time": "2023-01-08T20:32:18.137Z"
   },
   {
    "duration": 1094,
    "start_time": "2023-01-08T20:32:18.146Z"
   },
   {
    "duration": 3,
    "start_time": "2023-01-08T20:32:19.241Z"
   },
   {
    "duration": 20,
    "start_time": "2023-01-08T20:32:19.246Z"
   },
   {
    "duration": 9,
    "start_time": "2023-01-08T20:32:19.267Z"
   },
   {
    "duration": 3,
    "start_time": "2023-01-08T20:32:19.280Z"
   },
   {
    "duration": 27,
    "start_time": "2023-01-08T20:32:19.285Z"
   },
   {
    "duration": 31,
    "start_time": "2023-01-08T20:32:19.313Z"
   },
   {
    "duration": 2936,
    "start_time": "2023-01-08T20:32:19.346Z"
   },
   {
    "duration": 30026,
    "start_time": "2023-01-08T20:32:22.285Z"
   },
   {
    "duration": 6656,
    "start_time": "2023-01-08T20:32:52.312Z"
   },
   {
    "duration": 6697,
    "start_time": "2023-01-08T20:32:58.970Z"
   },
   {
    "duration": 8,
    "start_time": "2023-01-08T20:33:05.669Z"
   },
   {
    "duration": 3,
    "start_time": "2023-01-08T20:33:05.680Z"
   },
   {
    "duration": 7,
    "start_time": "2023-01-08T20:33:05.684Z"
   },
   {
    "duration": 6,
    "start_time": "2023-01-08T20:33:05.692Z"
   },
   {
    "duration": 8,
    "start_time": "2023-01-08T20:33:05.700Z"
   },
   {
    "duration": 37850,
    "start_time": "2023-01-08T20:33:05.710Z"
   },
   {
    "duration": 16,
    "start_time": "2023-01-08T20:33:43.561Z"
   },
   {
    "duration": 10,
    "start_time": "2023-01-08T20:39:24.363Z"
   },
   {
    "duration": 35970,
    "start_time": "2023-01-08T20:48:50.238Z"
   },
   {
    "duration": 1358,
    "start_time": "2023-01-08T20:51:56.397Z"
   },
   {
    "duration": 673,
    "start_time": "2023-01-08T20:51:57.757Z"
   },
   {
    "duration": 23,
    "start_time": "2023-01-08T20:51:58.431Z"
   },
   {
    "duration": 33,
    "start_time": "2023-01-08T20:51:58.456Z"
   },
   {
    "duration": 46,
    "start_time": "2023-01-08T20:51:58.491Z"
   },
   {
    "duration": 21,
    "start_time": "2023-01-08T20:51:58.539Z"
   },
   {
    "duration": 12,
    "start_time": "2023-01-08T20:51:58.561Z"
   },
   {
    "duration": 17,
    "start_time": "2023-01-08T20:51:58.574Z"
   },
   {
    "duration": 16,
    "start_time": "2023-01-08T20:51:58.593Z"
   },
   {
    "duration": 34,
    "start_time": "2023-01-08T20:51:58.610Z"
   },
   {
    "duration": 271,
    "start_time": "2023-01-08T20:51:58.646Z"
   },
   {
    "duration": 7,
    "start_time": "2023-01-08T20:51:58.920Z"
   },
   {
    "duration": 6,
    "start_time": "2023-01-08T20:51:58.928Z"
   },
   {
    "duration": 6,
    "start_time": "2023-01-08T20:51:58.937Z"
   },
   {
    "duration": 36,
    "start_time": "2023-01-08T20:51:58.944Z"
   },
   {
    "duration": 10,
    "start_time": "2023-01-08T20:51:58.982Z"
   },
   {
    "duration": 10,
    "start_time": "2023-01-08T20:51:58.994Z"
   },
   {
    "duration": 30,
    "start_time": "2023-01-08T20:51:59.006Z"
   },
   {
    "duration": 1068,
    "start_time": "2023-01-08T20:51:59.038Z"
   },
   {
    "duration": 16,
    "start_time": "2023-01-08T20:52:00.108Z"
   },
   {
    "duration": 784,
    "start_time": "2023-01-08T20:52:00.125Z"
   },
   {
    "duration": 16,
    "start_time": "2023-01-08T20:52:00.910Z"
   },
   {
    "duration": 860,
    "start_time": "2023-01-08T20:52:00.928Z"
   },
   {
    "duration": 11,
    "start_time": "2023-01-08T20:52:01.790Z"
   },
   {
    "duration": 188,
    "start_time": "2023-01-08T20:52:01.803Z"
   },
   {
    "duration": 10,
    "start_time": "2023-01-08T20:52:01.992Z"
   },
   {
    "duration": 246,
    "start_time": "2023-01-08T20:52:02.004Z"
   },
   {
    "duration": 8,
    "start_time": "2023-01-08T20:52:02.252Z"
   },
   {
    "duration": 1155,
    "start_time": "2023-01-08T20:52:02.261Z"
   },
   {
    "duration": 3,
    "start_time": "2023-01-08T20:52:03.418Z"
   },
   {
    "duration": 12,
    "start_time": "2023-01-08T20:52:03.423Z"
   },
   {
    "duration": 6,
    "start_time": "2023-01-08T20:52:03.437Z"
   },
   {
    "duration": 9,
    "start_time": "2023-01-08T20:52:03.444Z"
   },
   {
    "duration": 42,
    "start_time": "2023-01-08T20:52:03.455Z"
   },
   {
    "duration": 21,
    "start_time": "2023-01-08T20:52:03.498Z"
   },
   {
    "duration": 3257,
    "start_time": "2023-01-08T20:52:03.522Z"
   },
   {
    "duration": 32101,
    "start_time": "2023-01-08T20:52:06.782Z"
   },
   {
    "duration": 151,
    "start_time": "2023-01-08T20:52:38.885Z"
   },
   {
    "duration": 48,
    "start_time": "2023-01-08T20:52:39.038Z"
   },
   {
    "duration": 9,
    "start_time": "2023-01-08T20:52:39.088Z"
   },
   {
    "duration": 0,
    "start_time": "2023-01-08T20:52:39.098Z"
   },
   {
    "duration": 0,
    "start_time": "2023-01-08T20:52:39.099Z"
   },
   {
    "duration": 0,
    "start_time": "2023-01-08T20:52:39.100Z"
   },
   {
    "duration": 0,
    "start_time": "2023-01-08T20:52:39.101Z"
   },
   {
    "duration": 0,
    "start_time": "2023-01-08T20:52:39.102Z"
   },
   {
    "duration": 0,
    "start_time": "2023-01-08T20:52:39.103Z"
   },
   {
    "duration": 23,
    "start_time": "2023-01-08T20:53:22.470Z"
   },
   {
    "duration": 26,
    "start_time": "2023-01-08T20:54:03.137Z"
   },
   {
    "duration": 25,
    "start_time": "2023-01-08T20:54:08.685Z"
   },
   {
    "duration": 23,
    "start_time": "2023-01-08T20:54:25.797Z"
   },
   {
    "duration": 19,
    "start_time": "2023-01-08T20:55:33.363Z"
   },
   {
    "duration": 908,
    "start_time": "2023-01-08T20:58:03.897Z"
   },
   {
    "duration": 1382,
    "start_time": "2023-01-08T20:58:20.321Z"
   },
   {
    "duration": 657,
    "start_time": "2023-01-08T20:58:21.705Z"
   },
   {
    "duration": 27,
    "start_time": "2023-01-08T20:58:22.364Z"
   },
   {
    "duration": 23,
    "start_time": "2023-01-08T20:58:22.393Z"
   },
   {
    "duration": 27,
    "start_time": "2023-01-08T20:58:22.418Z"
   },
   {
    "duration": 46,
    "start_time": "2023-01-08T20:58:22.446Z"
   },
   {
    "duration": 14,
    "start_time": "2023-01-08T20:58:22.494Z"
   },
   {
    "duration": 35,
    "start_time": "2023-01-08T20:58:22.510Z"
   },
   {
    "duration": 35,
    "start_time": "2023-01-08T20:58:22.547Z"
   },
   {
    "duration": 34,
    "start_time": "2023-01-08T20:58:22.586Z"
   },
   {
    "duration": 280,
    "start_time": "2023-01-08T20:58:22.622Z"
   },
   {
    "duration": 7,
    "start_time": "2023-01-08T20:58:22.904Z"
   },
   {
    "duration": 6,
    "start_time": "2023-01-08T20:58:22.913Z"
   },
   {
    "duration": 6,
    "start_time": "2023-01-08T20:58:22.921Z"
   },
   {
    "duration": 20,
    "start_time": "2023-01-08T20:58:22.929Z"
   },
   {
    "duration": 32,
    "start_time": "2023-01-08T20:58:22.951Z"
   },
   {
    "duration": 19,
    "start_time": "2023-01-08T20:58:22.985Z"
   },
   {
    "duration": 1147,
    "start_time": "2023-01-08T20:58:23.006Z"
   },
   {
    "duration": 24,
    "start_time": "2023-01-08T20:58:24.154Z"
   },
   {
    "duration": 850,
    "start_time": "2023-01-08T20:58:24.180Z"
   },
   {
    "duration": 21,
    "start_time": "2023-01-08T20:58:25.032Z"
   },
   {
    "duration": 896,
    "start_time": "2023-01-08T20:58:25.055Z"
   },
   {
    "duration": 24,
    "start_time": "2023-01-08T20:58:25.953Z"
   },
   {
    "duration": 184,
    "start_time": "2023-01-08T20:58:25.978Z"
   },
   {
    "duration": 19,
    "start_time": "2023-01-08T20:58:26.164Z"
   },
   {
    "duration": 395,
    "start_time": "2023-01-08T20:58:26.185Z"
   },
   {
    "duration": 8,
    "start_time": "2023-01-08T20:58:26.581Z"
   },
   {
    "duration": 1180,
    "start_time": "2023-01-08T20:58:26.593Z"
   },
   {
    "duration": 3,
    "start_time": "2023-01-08T20:58:27.777Z"
   },
   {
    "duration": 28,
    "start_time": "2023-01-08T20:58:27.783Z"
   },
   {
    "duration": 8,
    "start_time": "2023-01-08T20:58:27.813Z"
   },
   {
    "duration": 8,
    "start_time": "2023-01-08T20:58:27.823Z"
   },
   {
    "duration": 4,
    "start_time": "2023-01-08T20:58:27.833Z"
   },
   {
    "duration": 9,
    "start_time": "2023-01-08T20:58:27.839Z"
   },
   {
    "duration": 3029,
    "start_time": "2023-01-08T20:58:27.850Z"
   },
   {
    "duration": 32479,
    "start_time": "2023-01-08T20:58:30.882Z"
   },
   {
    "duration": 159,
    "start_time": "2023-01-08T20:59:03.363Z"
   },
   {
    "duration": 57,
    "start_time": "2023-01-08T20:59:03.524Z"
   },
   {
    "duration": 11,
    "start_time": "2023-01-08T20:59:03.583Z"
   },
   {
    "duration": 0,
    "start_time": "2023-01-08T20:59:03.596Z"
   },
   {
    "duration": 0,
    "start_time": "2023-01-08T20:59:03.597Z"
   },
   {
    "duration": 0,
    "start_time": "2023-01-08T20:59:03.598Z"
   },
   {
    "duration": 0,
    "start_time": "2023-01-08T20:59:03.600Z"
   },
   {
    "duration": 0,
    "start_time": "2023-01-08T20:59:03.601Z"
   },
   {
    "duration": 0,
    "start_time": "2023-01-08T20:59:03.602Z"
   },
   {
    "duration": 0,
    "start_time": "2023-01-08T20:59:03.603Z"
   },
   {
    "duration": 826,
    "start_time": "2023-01-08T20:59:30.600Z"
   },
   {
    "duration": 1614,
    "start_time": "2023-01-08T21:26:52.244Z"
   },
   {
    "duration": 3066,
    "start_time": "2023-01-08T21:26:53.860Z"
   },
   {
    "duration": 26,
    "start_time": "2023-01-08T21:26:56.928Z"
   },
   {
    "duration": 22,
    "start_time": "2023-01-08T21:26:56.955Z"
   },
   {
    "duration": 25,
    "start_time": "2023-01-08T21:26:56.979Z"
   },
   {
    "duration": 22,
    "start_time": "2023-01-08T21:26:57.006Z"
   },
   {
    "duration": 12,
    "start_time": "2023-01-08T21:26:57.030Z"
   },
   {
    "duration": 19,
    "start_time": "2023-01-08T21:26:57.044Z"
   },
   {
    "duration": 35,
    "start_time": "2023-01-08T21:26:57.065Z"
   },
   {
    "duration": 31,
    "start_time": "2023-01-08T21:26:57.102Z"
   },
   {
    "duration": 243,
    "start_time": "2023-01-08T21:26:57.135Z"
   },
   {
    "duration": 6,
    "start_time": "2023-01-08T21:26:57.379Z"
   },
   {
    "duration": 12,
    "start_time": "2023-01-08T21:26:57.386Z"
   },
   {
    "duration": 5,
    "start_time": "2023-01-08T21:26:57.402Z"
   },
   {
    "duration": 11,
    "start_time": "2023-01-08T21:26:57.409Z"
   },
   {
    "duration": 11,
    "start_time": "2023-01-08T21:26:57.422Z"
   },
   {
    "duration": 17,
    "start_time": "2023-01-08T21:26:57.435Z"
   },
   {
    "duration": 1191,
    "start_time": "2023-01-08T21:26:57.454Z"
   },
   {
    "duration": 15,
    "start_time": "2023-01-08T21:26:58.646Z"
   },
   {
    "duration": 755,
    "start_time": "2023-01-08T21:26:58.663Z"
   },
   {
    "duration": 17,
    "start_time": "2023-01-08T21:26:59.420Z"
   },
   {
    "duration": 876,
    "start_time": "2023-01-08T21:26:59.439Z"
   },
   {
    "duration": 14,
    "start_time": "2023-01-08T21:27:00.318Z"
   },
   {
    "duration": 224,
    "start_time": "2023-01-08T21:27:00.335Z"
   },
   {
    "duration": 12,
    "start_time": "2023-01-08T21:27:00.561Z"
   },
   {
    "duration": 263,
    "start_time": "2023-01-08T21:27:00.574Z"
   },
   {
    "duration": 8,
    "start_time": "2023-01-08T21:27:00.839Z"
   },
   {
    "duration": 1233,
    "start_time": "2023-01-08T21:27:00.848Z"
   },
   {
    "duration": 3,
    "start_time": "2023-01-08T21:27:02.083Z"
   },
   {
    "duration": 11,
    "start_time": "2023-01-08T21:27:02.088Z"
   },
   {
    "duration": 6,
    "start_time": "2023-01-08T21:27:02.100Z"
   },
   {
    "duration": 14,
    "start_time": "2023-01-08T21:27:02.107Z"
   },
   {
    "duration": 7,
    "start_time": "2023-01-08T21:27:02.123Z"
   },
   {
    "duration": 18,
    "start_time": "2023-01-08T21:27:02.132Z"
   },
   {
    "duration": 2648,
    "start_time": "2023-01-08T21:27:02.152Z"
   },
   {
    "duration": 30458,
    "start_time": "2023-01-08T21:27:04.802Z"
   },
   {
    "duration": 163,
    "start_time": "2023-01-08T21:27:35.262Z"
   },
   {
    "duration": 59,
    "start_time": "2023-01-08T21:27:35.426Z"
   },
   {
    "duration": 10,
    "start_time": "2023-01-08T21:27:35.487Z"
   },
   {
    "duration": 0,
    "start_time": "2023-01-08T21:27:35.499Z"
   },
   {
    "duration": 0,
    "start_time": "2023-01-08T21:27:35.501Z"
   },
   {
    "duration": 0,
    "start_time": "2023-01-08T21:27:35.502Z"
   },
   {
    "duration": 0,
    "start_time": "2023-01-08T21:27:35.504Z"
   },
   {
    "duration": 0,
    "start_time": "2023-01-08T21:27:35.505Z"
   },
   {
    "duration": 0,
    "start_time": "2023-01-08T21:27:35.506Z"
   },
   {
    "duration": 6879,
    "start_time": "2023-01-08T21:28:16.913Z"
   },
   {
    "duration": 6761,
    "start_time": "2023-01-08T21:28:23.794Z"
   },
   {
    "duration": 10,
    "start_time": "2023-01-08T21:28:30.557Z"
   },
   {
    "duration": 6842,
    "start_time": "2023-01-08T21:30:15.711Z"
   },
   {
    "duration": 6807,
    "start_time": "2023-01-08T21:30:25.728Z"
   },
   {
    "duration": 4,
    "start_time": "2023-01-08T21:30:32.537Z"
   },
   {
    "duration": 1386,
    "start_time": "2023-01-08T21:30:48.421Z"
   },
   {
    "duration": 697,
    "start_time": "2023-01-08T21:30:49.809Z"
   },
   {
    "duration": 26,
    "start_time": "2023-01-08T21:30:50.508Z"
   },
   {
    "duration": 22,
    "start_time": "2023-01-08T21:30:50.536Z"
   },
   {
    "duration": 50,
    "start_time": "2023-01-08T21:30:50.559Z"
   },
   {
    "duration": 24,
    "start_time": "2023-01-08T21:30:50.611Z"
   },
   {
    "duration": 18,
    "start_time": "2023-01-08T21:30:50.638Z"
   },
   {
    "duration": 50,
    "start_time": "2023-01-08T21:30:50.658Z"
   },
   {
    "duration": 18,
    "start_time": "2023-01-08T21:30:50.710Z"
   },
   {
    "duration": 40,
    "start_time": "2023-01-08T21:30:50.731Z"
   },
   {
    "duration": 253,
    "start_time": "2023-01-08T21:30:50.773Z"
   },
   {
    "duration": 7,
    "start_time": "2023-01-08T21:30:51.027Z"
   },
   {
    "duration": 8,
    "start_time": "2023-01-08T21:30:51.035Z"
   },
   {
    "duration": 8,
    "start_time": "2023-01-08T21:30:51.044Z"
   },
   {
    "duration": 39,
    "start_time": "2023-01-08T21:30:51.054Z"
   },
   {
    "duration": 15,
    "start_time": "2023-01-08T21:30:51.094Z"
   },
   {
    "duration": 22,
    "start_time": "2023-01-08T21:30:51.110Z"
   },
   {
    "duration": 1165,
    "start_time": "2023-01-08T21:30:51.133Z"
   },
   {
    "duration": 16,
    "start_time": "2023-01-08T21:30:52.300Z"
   },
   {
    "duration": 746,
    "start_time": "2023-01-08T21:30:52.318Z"
   },
   {
    "duration": 16,
    "start_time": "2023-01-08T21:30:53.065Z"
   },
   {
    "duration": 813,
    "start_time": "2023-01-08T21:30:53.096Z"
   },
   {
    "duration": 11,
    "start_time": "2023-01-08T21:30:53.911Z"
   },
   {
    "duration": 404,
    "start_time": "2023-01-08T21:30:53.924Z"
   },
   {
    "duration": 13,
    "start_time": "2023-01-08T21:30:54.329Z"
   },
   {
    "duration": 507,
    "start_time": "2023-01-08T21:30:54.397Z"
   },
   {
    "duration": 6,
    "start_time": "2023-01-08T21:30:54.906Z"
   },
   {
    "duration": 2586,
    "start_time": "2023-01-08T21:30:54.915Z"
   },
   {
    "duration": 2,
    "start_time": "2023-01-08T21:30:57.503Z"
   },
   {
    "duration": 15,
    "start_time": "2023-01-08T21:30:57.507Z"
   },
   {
    "duration": 21,
    "start_time": "2023-01-08T21:30:57.523Z"
   },
   {
    "duration": 49,
    "start_time": "2023-01-08T21:30:57.547Z"
   },
   {
    "duration": 3,
    "start_time": "2023-01-08T21:30:57.598Z"
   },
   {
    "duration": 28,
    "start_time": "2023-01-08T21:30:57.602Z"
   },
   {
    "duration": 3369,
    "start_time": "2023-01-08T21:30:57.632Z"
   },
   {
    "duration": 31443,
    "start_time": "2023-01-08T21:31:01.003Z"
   },
   {
    "duration": 6851,
    "start_time": "2023-01-08T21:31:32.447Z"
   },
   {
    "duration": 6673,
    "start_time": "2023-01-08T21:31:39.299Z"
   },
   {
    "duration": 5,
    "start_time": "2023-01-08T21:31:45.974Z"
   },
   {
    "duration": 15,
    "start_time": "2023-01-08T21:31:45.981Z"
   },
   {
    "duration": 29,
    "start_time": "2023-01-08T21:31:45.999Z"
   },
   {
    "duration": 11,
    "start_time": "2023-01-08T21:31:46.030Z"
   },
   {
    "duration": 20,
    "start_time": "2023-01-08T21:31:46.043Z"
   },
   {
    "duration": 35011,
    "start_time": "2023-01-08T21:31:46.066Z"
   },
   {
    "duration": 17,
    "start_time": "2023-01-08T21:32:21.079Z"
   },
   {
    "duration": 46,
    "start_time": "2023-01-09T06:12:48.695Z"
   },
   {
    "duration": 0,
    "start_time": "2023-01-09T06:13:41.535Z"
   },
   {
    "duration": 4,
    "start_time": "2023-01-09T06:13:47.749Z"
   },
   {
    "duration": 70,
    "start_time": "2023-01-11T09:38:29.257Z"
   },
   {
    "duration": 1703,
    "start_time": "2023-01-11T09:38:37.903Z"
   },
   {
    "duration": 2328,
    "start_time": "2023-01-11T09:38:39.609Z"
   },
   {
    "duration": 24,
    "start_time": "2023-01-11T09:38:41.938Z"
   },
   {
    "duration": 1362,
    "start_time": "2023-01-11T09:38:41.964Z"
   },
   {
    "duration": 46,
    "start_time": "2023-01-11T09:38:43.329Z"
   },
   {
    "duration": 58,
    "start_time": "2023-01-11T09:38:43.377Z"
   },
   {
    "duration": 15,
    "start_time": "2023-01-11T09:38:43.437Z"
   },
   {
    "duration": 28,
    "start_time": "2023-01-11T09:38:43.454Z"
   },
   {
    "duration": 41,
    "start_time": "2023-01-11T09:38:43.484Z"
   },
   {
    "duration": 37,
    "start_time": "2023-01-11T09:38:43.527Z"
   },
   {
    "duration": 279,
    "start_time": "2023-01-11T09:38:43.565Z"
   },
   {
    "duration": 5,
    "start_time": "2023-01-11T09:38:43.846Z"
   },
   {
    "duration": 5,
    "start_time": "2023-01-11T09:38:43.852Z"
   },
   {
    "duration": 29,
    "start_time": "2023-01-11T09:38:43.859Z"
   },
   {
    "duration": 12,
    "start_time": "2023-01-11T09:38:43.895Z"
   },
   {
    "duration": 15,
    "start_time": "2023-01-11T09:38:43.909Z"
   },
   {
    "duration": 24,
    "start_time": "2023-01-11T09:38:43.925Z"
   },
   {
    "duration": 1428,
    "start_time": "2023-01-11T09:38:49.494Z"
   },
   {
    "duration": 878,
    "start_time": "2023-01-11T09:40:18.359Z"
   },
   {
    "duration": 948,
    "start_time": "2023-01-11T09:41:44.317Z"
   },
   {
    "duration": 890,
    "start_time": "2023-01-11T09:41:48.399Z"
   },
   {
    "duration": 111,
    "start_time": "2023-01-11T09:42:57.390Z"
   },
   {
    "duration": 81,
    "start_time": "2023-01-11T09:43:01.692Z"
   },
   {
    "duration": 77,
    "start_time": "2023-01-11T09:43:05.090Z"
   },
   {
    "duration": 78,
    "start_time": "2023-01-11T09:43:08.412Z"
   },
   {
    "duration": 84,
    "start_time": "2023-01-11T09:43:13.316Z"
   },
   {
    "duration": 122,
    "start_time": "2023-01-11T09:43:48.781Z"
   },
   {
    "duration": 83,
    "start_time": "2023-01-11T09:43:53.826Z"
   },
   {
    "duration": 71,
    "start_time": "2023-01-11T09:44:30.894Z"
   },
   {
    "duration": 96,
    "start_time": "2023-01-11T09:46:35.119Z"
   },
   {
    "duration": 82,
    "start_time": "2023-01-11T09:46:42.366Z"
   },
   {
    "duration": 0,
    "start_time": "2023-01-11T09:46:42.450Z"
   },
   {
    "duration": 0,
    "start_time": "2023-01-11T09:46:42.451Z"
   },
   {
    "duration": 0,
    "start_time": "2023-01-11T09:46:42.452Z"
   },
   {
    "duration": 0,
    "start_time": "2023-01-11T09:46:42.454Z"
   },
   {
    "duration": 0,
    "start_time": "2023-01-11T09:46:42.455Z"
   },
   {
    "duration": 0,
    "start_time": "2023-01-11T09:46:42.456Z"
   },
   {
    "duration": 0,
    "start_time": "2023-01-11T09:46:42.458Z"
   },
   {
    "duration": 0,
    "start_time": "2023-01-11T09:46:42.459Z"
   },
   {
    "duration": 0,
    "start_time": "2023-01-11T09:46:42.460Z"
   },
   {
    "duration": 0,
    "start_time": "2023-01-11T09:46:42.461Z"
   },
   {
    "duration": 0,
    "start_time": "2023-01-11T09:46:42.462Z"
   },
   {
    "duration": 0,
    "start_time": "2023-01-11T09:46:42.463Z"
   },
   {
    "duration": 0,
    "start_time": "2023-01-11T09:46:42.464Z"
   },
   {
    "duration": 0,
    "start_time": "2023-01-11T09:46:42.465Z"
   },
   {
    "duration": 0,
    "start_time": "2023-01-11T09:46:42.466Z"
   },
   {
    "duration": 0,
    "start_time": "2023-01-11T09:46:42.467Z"
   },
   {
    "duration": 0,
    "start_time": "2023-01-11T09:46:42.468Z"
   },
   {
    "duration": 0,
    "start_time": "2023-01-11T09:46:42.470Z"
   },
   {
    "duration": 0,
    "start_time": "2023-01-11T09:46:42.471Z"
   },
   {
    "duration": 0,
    "start_time": "2023-01-11T09:46:42.472Z"
   },
   {
    "duration": 0,
    "start_time": "2023-01-11T09:46:42.473Z"
   },
   {
    "duration": 0,
    "start_time": "2023-01-11T09:46:42.474Z"
   },
   {
    "duration": 0,
    "start_time": "2023-01-11T09:46:42.475Z"
   },
   {
    "duration": 0,
    "start_time": "2023-01-11T09:46:42.476Z"
   },
   {
    "duration": 0,
    "start_time": "2023-01-11T09:46:42.479Z"
   },
   {
    "duration": 0,
    "start_time": "2023-01-11T09:46:42.481Z"
   },
   {
    "duration": 0,
    "start_time": "2023-01-11T09:46:42.482Z"
   },
   {
    "duration": 0,
    "start_time": "2023-01-11T09:46:42.483Z"
   },
   {
    "duration": 0,
    "start_time": "2023-01-11T09:46:42.484Z"
   },
   {
    "duration": 0,
    "start_time": "2023-01-11T09:46:42.486Z"
   },
   {
    "duration": 0,
    "start_time": "2023-01-11T09:46:42.487Z"
   },
   {
    "duration": 9,
    "start_time": "2023-01-11T09:46:42.490Z"
   },
   {
    "duration": 100,
    "start_time": "2023-01-11T09:46:42.501Z"
   },
   {
    "duration": 0,
    "start_time": "2023-01-11T09:46:42.602Z"
   },
   {
    "duration": 0,
    "start_time": "2023-01-11T09:46:42.603Z"
   },
   {
    "duration": 0,
    "start_time": "2023-01-11T09:46:42.604Z"
   },
   {
    "duration": 0,
    "start_time": "2023-01-11T09:46:42.605Z"
   },
   {
    "duration": 0,
    "start_time": "2023-01-11T09:46:42.606Z"
   },
   {
    "duration": 0,
    "start_time": "2023-01-11T09:46:42.607Z"
   },
   {
    "duration": 0,
    "start_time": "2023-01-11T09:46:42.608Z"
   },
   {
    "duration": 0,
    "start_time": "2023-01-11T09:46:42.608Z"
   },
   {
    "duration": 0,
    "start_time": "2023-01-11T09:46:42.609Z"
   },
   {
    "duration": 0,
    "start_time": "2023-01-11T09:46:42.610Z"
   },
   {
    "duration": 0,
    "start_time": "2023-01-11T09:46:42.611Z"
   },
   {
    "duration": 0,
    "start_time": "2023-01-11T09:46:42.612Z"
   },
   {
    "duration": 0,
    "start_time": "2023-01-11T09:46:42.613Z"
   },
   {
    "duration": 83,
    "start_time": "2023-01-11T09:47:25.048Z"
   },
   {
    "duration": 4,
    "start_time": "2023-01-11T09:47:52.803Z"
   },
   {
    "duration": 1531,
    "start_time": "2023-01-11T09:47:52.809Z"
   },
   {
    "duration": 1362,
    "start_time": "2023-01-11T09:47:54.342Z"
   },
   {
    "duration": 91,
    "start_time": "2023-01-11T09:47:55.707Z"
   },
   {
    "duration": 85,
    "start_time": "2023-01-11T09:47:55.801Z"
   },
   {
    "duration": 28,
    "start_time": "2023-01-11T09:47:55.888Z"
   },
   {
    "duration": 78,
    "start_time": "2023-01-11T09:47:55.918Z"
   },
   {
    "duration": 23,
    "start_time": "2023-01-11T09:47:55.998Z"
   },
   {
    "duration": 79,
    "start_time": "2023-01-11T09:47:56.023Z"
   },
   {
    "duration": 90,
    "start_time": "2023-01-11T09:47:56.104Z"
   },
   {
    "duration": 82,
    "start_time": "2023-01-11T09:47:56.196Z"
   },
   {
    "duration": 625,
    "start_time": "2023-01-11T09:47:56.280Z"
   },
   {
    "duration": 7,
    "start_time": "2023-01-11T09:47:56.907Z"
   },
   {
    "duration": 63,
    "start_time": "2023-01-11T09:47:56.919Z"
   },
   {
    "duration": 25,
    "start_time": "2023-01-11T09:47:56.984Z"
   },
   {
    "duration": 34,
    "start_time": "2023-01-11T09:47:57.011Z"
   },
   {
    "duration": 35,
    "start_time": "2023-01-11T09:47:57.047Z"
   },
   {
    "duration": 41,
    "start_time": "2023-01-11T09:47:57.084Z"
   },
   {
    "duration": 1325,
    "start_time": "2023-01-11T09:47:57.127Z"
   },
   {
    "duration": 15,
    "start_time": "2023-01-11T09:47:58.454Z"
   },
   {
    "duration": 892,
    "start_time": "2023-01-11T09:47:58.478Z"
   },
   {
    "duration": 20,
    "start_time": "2023-01-11T09:47:59.372Z"
   },
   {
    "duration": 1110,
    "start_time": "2023-01-11T09:47:59.395Z"
   },
   {
    "duration": 90,
    "start_time": "2023-01-11T09:48:00.507Z"
   },
   {
    "duration": 0,
    "start_time": "2023-01-11T09:48:00.599Z"
   },
   {
    "duration": 0,
    "start_time": "2023-01-11T09:48:00.601Z"
   },
   {
    "duration": 0,
    "start_time": "2023-01-11T09:48:00.602Z"
   },
   {
    "duration": 0,
    "start_time": "2023-01-11T09:48:00.603Z"
   },
   {
    "duration": 0,
    "start_time": "2023-01-11T09:48:00.604Z"
   },
   {
    "duration": 0,
    "start_time": "2023-01-11T09:48:00.605Z"
   },
   {
    "duration": 0,
    "start_time": "2023-01-11T09:48:00.606Z"
   },
   {
    "duration": 0,
    "start_time": "2023-01-11T09:48:00.607Z"
   },
   {
    "duration": 0,
    "start_time": "2023-01-11T09:48:00.608Z"
   },
   {
    "duration": 0,
    "start_time": "2023-01-11T09:48:00.609Z"
   },
   {
    "duration": 0,
    "start_time": "2023-01-11T09:48:00.611Z"
   },
   {
    "duration": 0,
    "start_time": "2023-01-11T09:48:00.612Z"
   },
   {
    "duration": 0,
    "start_time": "2023-01-11T09:48:00.613Z"
   },
   {
    "duration": 0,
    "start_time": "2023-01-11T09:48:00.614Z"
   },
   {
    "duration": 0,
    "start_time": "2023-01-11T09:48:00.616Z"
   },
   {
    "duration": 0,
    "start_time": "2023-01-11T09:48:00.617Z"
   },
   {
    "duration": 0,
    "start_time": "2023-01-11T09:48:00.619Z"
   },
   {
    "duration": 0,
    "start_time": "2023-01-11T09:48:00.620Z"
   },
   {
    "duration": 0,
    "start_time": "2023-01-11T09:48:00.621Z"
   },
   {
    "duration": 0,
    "start_time": "2023-01-11T09:48:00.622Z"
   },
   {
    "duration": 0,
    "start_time": "2023-01-11T09:48:00.623Z"
   },
   {
    "duration": 0,
    "start_time": "2023-01-11T09:48:00.625Z"
   },
   {
    "duration": 0,
    "start_time": "2023-01-11T09:48:00.626Z"
   },
   {
    "duration": 17,
    "start_time": "2023-01-11T09:48:45.777Z"
   },
   {
    "duration": 184,
    "start_time": "2023-01-11T09:48:45.949Z"
   },
   {
    "duration": 10,
    "start_time": "2023-01-11T09:48:46.294Z"
   },
   {
    "duration": 229,
    "start_time": "2023-01-11T09:48:46.503Z"
   },
   {
    "duration": 7,
    "start_time": "2023-01-11T09:50:42.693Z"
   },
   {
    "duration": 1120,
    "start_time": "2023-01-11T09:50:42.852Z"
   },
   {
    "duration": 42,
    "start_time": "2023-01-11T15:58:07.993Z"
   },
   {
    "duration": 6,
    "start_time": "2023-01-11T16:03:36.650Z"
   },
   {
    "duration": 3,
    "start_time": "2023-01-11T16:03:47.311Z"
   },
   {
    "duration": 1524,
    "start_time": "2023-01-11T16:03:47.315Z"
   },
   {
    "duration": 2301,
    "start_time": "2023-01-11T16:03:48.841Z"
   },
   {
    "duration": 24,
    "start_time": "2023-01-11T16:03:51.145Z"
   },
   {
    "duration": 21,
    "start_time": "2023-01-11T16:03:51.171Z"
   },
   {
    "duration": 21,
    "start_time": "2023-01-11T16:03:51.193Z"
   },
   {
    "duration": 22,
    "start_time": "2023-01-11T16:03:51.216Z"
   },
   {
    "duration": 12,
    "start_time": "2023-01-11T16:03:51.240Z"
   },
   {
    "duration": 22,
    "start_time": "2023-01-11T16:03:51.253Z"
   },
   {
    "duration": 16,
    "start_time": "2023-01-11T16:03:51.277Z"
   },
   {
    "duration": 54,
    "start_time": "2023-01-11T16:03:51.295Z"
   },
   {
    "duration": 249,
    "start_time": "2023-01-11T16:03:51.351Z"
   },
   {
    "duration": 7,
    "start_time": "2023-01-11T16:03:51.602Z"
   },
   {
    "duration": 25,
    "start_time": "2023-01-11T16:03:51.610Z"
   },
   {
    "duration": 20,
    "start_time": "2023-01-11T16:03:51.637Z"
   },
   {
    "duration": 19,
    "start_time": "2023-01-11T16:03:51.659Z"
   },
   {
    "duration": 21,
    "start_time": "2023-01-11T16:03:51.680Z"
   },
   {
    "duration": 18,
    "start_time": "2023-01-11T16:03:51.703Z"
   },
   {
    "duration": 1154,
    "start_time": "2023-01-11T16:03:51.723Z"
   },
   {
    "duration": 15,
    "start_time": "2023-01-11T16:03:52.878Z"
   },
   {
    "duration": 761,
    "start_time": "2023-01-11T16:03:52.894Z"
   },
   {
    "duration": 15,
    "start_time": "2023-01-11T16:03:53.656Z"
   },
   {
    "duration": 894,
    "start_time": "2023-01-11T16:03:53.673Z"
   },
   {
    "duration": 11,
    "start_time": "2023-01-11T16:03:54.569Z"
   },
   {
    "duration": 194,
    "start_time": "2023-01-11T16:03:54.582Z"
   },
   {
    "duration": 11,
    "start_time": "2023-01-11T16:03:54.778Z"
   },
   {
    "duration": 220,
    "start_time": "2023-01-11T16:03:54.791Z"
   },
   {
    "duration": 13,
    "start_time": "2023-01-11T16:03:55.013Z"
   },
   {
    "duration": 1123,
    "start_time": "2023-01-11T16:03:55.029Z"
   },
   {
    "duration": 76,
    "start_time": "2023-01-11T16:05:32.269Z"
   },
   {
    "duration": 18,
    "start_time": "2023-01-11T16:05:44.746Z"
   },
   {
    "duration": 4,
    "start_time": "2023-01-11T16:10:55.533Z"
   },
   {
    "duration": 3,
    "start_time": "2023-01-11T16:11:05.557Z"
   },
   {
    "duration": 19,
    "start_time": "2023-01-11T16:11:26.860Z"
   },
   {
    "duration": 16,
    "start_time": "2023-01-11T16:11:45.981Z"
   },
   {
    "duration": 69,
    "start_time": "2023-01-11T16:14:48.690Z"
   },
   {
    "duration": 3,
    "start_time": "2023-01-11T16:15:44.280Z"
   },
   {
    "duration": 1403,
    "start_time": "2023-01-11T16:15:44.286Z"
   },
   {
    "duration": 678,
    "start_time": "2023-01-11T16:15:45.692Z"
   },
   {
    "duration": 29,
    "start_time": "2023-01-11T16:15:46.372Z"
   },
   {
    "duration": 34,
    "start_time": "2023-01-11T16:15:46.403Z"
   },
   {
    "duration": 27,
    "start_time": "2023-01-11T16:15:46.440Z"
   },
   {
    "duration": 34,
    "start_time": "2023-01-11T16:15:46.469Z"
   },
   {
    "duration": 27,
    "start_time": "2023-01-11T16:15:46.505Z"
   },
   {
    "duration": 24,
    "start_time": "2023-01-11T16:15:46.535Z"
   },
   {
    "duration": 20,
    "start_time": "2023-01-11T16:15:46.561Z"
   },
   {
    "duration": 56,
    "start_time": "2023-01-11T16:15:46.583Z"
   },
   {
    "duration": 224,
    "start_time": "2023-01-11T16:15:46.641Z"
   },
   {
    "duration": 6,
    "start_time": "2023-01-11T16:15:46.867Z"
   },
   {
    "duration": 6,
    "start_time": "2023-01-11T16:15:46.874Z"
   },
   {
    "duration": 6,
    "start_time": "2023-01-11T16:15:46.882Z"
   },
   {
    "duration": 13,
    "start_time": "2023-01-11T16:15:46.890Z"
   },
   {
    "duration": 13,
    "start_time": "2023-01-11T16:15:46.926Z"
   },
   {
    "duration": 17,
    "start_time": "2023-01-11T16:15:46.941Z"
   },
   {
    "duration": 1143,
    "start_time": "2023-01-11T16:15:46.960Z"
   },
   {
    "duration": 21,
    "start_time": "2023-01-11T16:15:48.105Z"
   },
   {
    "duration": 724,
    "start_time": "2023-01-11T16:15:48.128Z"
   },
   {
    "duration": 15,
    "start_time": "2023-01-11T16:15:48.854Z"
   },
   {
    "duration": 922,
    "start_time": "2023-01-11T16:15:48.870Z"
   },
   {
    "duration": 15,
    "start_time": "2023-01-11T16:15:49.794Z"
   },
   {
    "duration": 205,
    "start_time": "2023-01-11T16:15:49.811Z"
   },
   {
    "duration": 19,
    "start_time": "2023-01-11T16:15:50.018Z"
   },
   {
    "duration": 239,
    "start_time": "2023-01-11T16:15:50.038Z"
   },
   {
    "duration": 8,
    "start_time": "2023-01-11T16:15:50.279Z"
   },
   {
    "duration": 1101,
    "start_time": "2023-01-11T16:15:50.288Z"
   },
   {
    "duration": 73,
    "start_time": "2023-01-11T16:15:51.390Z"
   },
   {
    "duration": 0,
    "start_time": "2023-01-11T16:15:51.464Z"
   },
   {
    "duration": 0,
    "start_time": "2023-01-11T16:15:51.465Z"
   },
   {
    "duration": 0,
    "start_time": "2023-01-11T16:15:51.466Z"
   },
   {
    "duration": 0,
    "start_time": "2023-01-11T16:15:51.467Z"
   },
   {
    "duration": 0,
    "start_time": "2023-01-11T16:15:51.469Z"
   },
   {
    "duration": 0,
    "start_time": "2023-01-11T16:15:51.470Z"
   },
   {
    "duration": 0,
    "start_time": "2023-01-11T16:15:51.470Z"
   },
   {
    "duration": 0,
    "start_time": "2023-01-11T16:15:51.472Z"
   },
   {
    "duration": 0,
    "start_time": "2023-01-11T16:15:51.473Z"
   },
   {
    "duration": 0,
    "start_time": "2023-01-11T16:15:51.474Z"
   },
   {
    "duration": 0,
    "start_time": "2023-01-11T16:15:51.475Z"
   },
   {
    "duration": 0,
    "start_time": "2023-01-11T16:15:51.476Z"
   },
   {
    "duration": 0,
    "start_time": "2023-01-11T16:15:51.477Z"
   },
   {
    "duration": 0,
    "start_time": "2023-01-11T16:15:51.478Z"
   },
   {
    "duration": 0,
    "start_time": "2023-01-11T16:15:51.479Z"
   },
   {
    "duration": 0,
    "start_time": "2023-01-11T16:15:51.480Z"
   },
   {
    "duration": 0,
    "start_time": "2023-01-11T16:15:51.481Z"
   },
   {
    "duration": 88,
    "start_time": "2023-01-11T16:18:31.917Z"
   },
   {
    "duration": 109,
    "start_time": "2023-01-11T16:19:10.088Z"
   },
   {
    "duration": 19,
    "start_time": "2023-01-11T16:19:25.594Z"
   },
   {
    "duration": 1046,
    "start_time": "2023-01-11T16:19:40.718Z"
   },
   {
    "duration": 8,
    "start_time": "2023-01-11T16:23:43.360Z"
   },
   {
    "duration": 1083,
    "start_time": "2023-01-11T16:23:43.976Z"
   },
   {
    "duration": 3,
    "start_time": "2023-01-11T17:25:32.955Z"
   },
   {
    "duration": 5,
    "start_time": "2023-01-11T17:25:32.961Z"
   },
   {
    "duration": 662,
    "start_time": "2023-01-11T17:25:32.968Z"
   },
   {
    "duration": 19,
    "start_time": "2023-01-11T17:25:33.632Z"
   },
   {
    "duration": 22,
    "start_time": "2023-01-11T17:25:33.653Z"
   },
   {
    "duration": 22,
    "start_time": "2023-01-11T17:25:33.677Z"
   },
   {
    "duration": 41,
    "start_time": "2023-01-11T17:25:33.701Z"
   },
   {
    "duration": 13,
    "start_time": "2023-01-11T17:25:33.743Z"
   },
   {
    "duration": 18,
    "start_time": "2023-01-11T17:25:33.757Z"
   },
   {
    "duration": 16,
    "start_time": "2023-01-11T17:25:33.777Z"
   },
   {
    "duration": 61,
    "start_time": "2023-01-11T17:25:33.795Z"
   },
   {
    "duration": 236,
    "start_time": "2023-01-11T17:25:33.857Z"
   },
   {
    "duration": 6,
    "start_time": "2023-01-11T17:25:34.095Z"
   },
   {
    "duration": 10,
    "start_time": "2023-01-11T17:25:34.103Z"
   },
   {
    "duration": 9,
    "start_time": "2023-01-11T17:25:34.127Z"
   },
   {
    "duration": 11,
    "start_time": "2023-01-11T17:25:34.138Z"
   },
   {
    "duration": 12,
    "start_time": "2023-01-11T17:25:34.151Z"
   },
   {
    "duration": 20,
    "start_time": "2023-01-11T17:25:34.165Z"
   },
   {
    "duration": 1292,
    "start_time": "2023-01-11T17:25:34.187Z"
   },
   {
    "duration": 16,
    "start_time": "2023-01-11T17:25:35.481Z"
   },
   {
    "duration": 1035,
    "start_time": "2023-01-11T17:25:35.499Z"
   },
   {
    "duration": 15,
    "start_time": "2023-01-11T17:25:36.535Z"
   },
   {
    "duration": 894,
    "start_time": "2023-01-11T17:25:36.552Z"
   },
   {
    "duration": 14,
    "start_time": "2023-01-11T17:25:37.449Z"
   },
   {
    "duration": 225,
    "start_time": "2023-01-11T17:25:37.469Z"
   },
   {
    "duration": 11,
    "start_time": "2023-01-11T17:25:37.696Z"
   },
   {
    "duration": 273,
    "start_time": "2023-01-11T17:25:37.709Z"
   },
   {
    "duration": 8,
    "start_time": "2023-01-11T17:25:37.984Z"
   },
   {
    "duration": 1221,
    "start_time": "2023-01-11T17:25:37.994Z"
   },
   {
    "duration": 24,
    "start_time": "2023-01-11T17:25:39.217Z"
   },
   {
    "duration": 19,
    "start_time": "2023-01-11T17:25:39.243Z"
   },
   {
    "duration": 1263,
    "start_time": "2023-01-11T17:25:39.265Z"
   },
   {
    "duration": 3,
    "start_time": "2023-01-11T17:25:40.530Z"
   },
   {
    "duration": 10,
    "start_time": "2023-01-11T17:25:40.535Z"
   },
   {
    "duration": 8,
    "start_time": "2023-01-11T17:25:40.546Z"
   },
   {
    "duration": 10,
    "start_time": "2023-01-11T17:25:40.556Z"
   },
   {
    "duration": 5,
    "start_time": "2023-01-11T17:25:40.568Z"
   },
   {
    "duration": 9,
    "start_time": "2023-01-11T17:25:40.575Z"
   },
   {
    "duration": 3844,
    "start_time": "2023-01-11T17:25:40.586Z"
   },
   {
    "duration": 28361,
    "start_time": "2023-01-11T17:25:44.432Z"
   },
   {
    "duration": 5852,
    "start_time": "2023-01-11T17:26:12.795Z"
   },
   {
    "duration": 5975,
    "start_time": "2023-01-11T17:26:18.648Z"
   },
   {
    "duration": 4,
    "start_time": "2023-01-11T17:26:24.624Z"
   },
   {
    "duration": 7,
    "start_time": "2023-01-11T17:26:24.629Z"
   },
   {
    "duration": 5,
    "start_time": "2023-01-11T17:26:24.638Z"
   },
   {
    "duration": 7,
    "start_time": "2023-01-11T17:26:24.644Z"
   },
   {
    "duration": 10,
    "start_time": "2023-01-11T17:26:24.653Z"
   },
   {
    "duration": 30662,
    "start_time": "2023-01-11T17:26:24.664Z"
   },
   {
    "duration": 9,
    "start_time": "2023-01-11T17:26:55.328Z"
   },
   {
    "duration": 2566,
    "start_time": "2023-01-11T17:30:12.264Z"
   },
   {
    "duration": 3307,
    "start_time": "2023-01-11T17:30:28.519Z"
   },
   {
    "duration": 95,
    "start_time": "2023-01-11T17:31:25.855Z"
   },
   {
    "duration": 86,
    "start_time": "2023-01-11T17:31:34.759Z"
   },
   {
    "duration": 125,
    "start_time": "2023-01-11T19:02:13.424Z"
   },
   {
    "duration": 3,
    "start_time": "2023-01-11T19:02:23.052Z"
   },
   {
    "duration": 1984,
    "start_time": "2023-01-11T19:02:23.057Z"
   },
   {
    "duration": 2593,
    "start_time": "2023-01-11T19:02:25.043Z"
   },
   {
    "duration": 29,
    "start_time": "2023-01-11T19:02:27.638Z"
   },
   {
    "duration": 29,
    "start_time": "2023-01-11T19:02:27.669Z"
   },
   {
    "duration": 49,
    "start_time": "2023-01-11T19:02:27.700Z"
   },
   {
    "duration": 21,
    "start_time": "2023-01-11T19:02:27.750Z"
   },
   {
    "duration": 13,
    "start_time": "2023-01-11T19:02:27.773Z"
   },
   {
    "duration": 19,
    "start_time": "2023-01-11T19:02:27.789Z"
   },
   {
    "duration": 43,
    "start_time": "2023-01-11T19:02:27.810Z"
   },
   {
    "duration": 40,
    "start_time": "2023-01-11T19:02:27.855Z"
   },
   {
    "duration": 272,
    "start_time": "2023-01-11T19:02:27.897Z"
   },
   {
    "duration": 6,
    "start_time": "2023-01-11T19:02:28.171Z"
   },
   {
    "duration": 5,
    "start_time": "2023-01-11T19:02:28.178Z"
   },
   {
    "duration": 7,
    "start_time": "2023-01-11T19:02:28.184Z"
   },
   {
    "duration": 14,
    "start_time": "2023-01-11T19:02:28.193Z"
   },
   {
    "duration": 28,
    "start_time": "2023-01-11T19:02:28.209Z"
   },
   {
    "duration": 16,
    "start_time": "2023-01-11T19:02:28.239Z"
   },
   {
    "duration": 1338,
    "start_time": "2023-01-11T19:02:28.257Z"
   },
   {
    "duration": 16,
    "start_time": "2023-01-11T19:02:29.598Z"
   },
   {
    "duration": 849,
    "start_time": "2023-01-11T19:02:29.616Z"
   },
   {
    "duration": 16,
    "start_time": "2023-01-11T19:02:30.468Z"
   },
   {
    "duration": 1039,
    "start_time": "2023-01-11T19:02:30.486Z"
   },
   {
    "duration": 11,
    "start_time": "2023-01-11T19:02:31.537Z"
   },
   {
    "duration": 198,
    "start_time": "2023-01-11T19:02:31.550Z"
   },
   {
    "duration": 16,
    "start_time": "2023-01-11T19:02:31.750Z"
   },
   {
    "duration": 260,
    "start_time": "2023-01-11T19:02:31.768Z"
   },
   {
    "duration": 12,
    "start_time": "2023-01-11T19:02:32.029Z"
   },
   {
    "duration": 1229,
    "start_time": "2023-01-11T19:02:32.043Z"
   },
   {
    "duration": 17,
    "start_time": "2023-01-11T19:02:33.274Z"
   },
   {
    "duration": 8,
    "start_time": "2023-01-11T19:02:33.294Z"
   },
   {
    "duration": 1121,
    "start_time": "2023-01-11T19:02:33.303Z"
   },
   {
    "duration": 12,
    "start_time": "2023-01-11T19:02:34.426Z"
   },
   {
    "duration": 12,
    "start_time": "2023-01-11T19:02:34.440Z"
   },
   {
    "duration": 7,
    "start_time": "2023-01-11T19:02:34.453Z"
   },
   {
    "duration": 5,
    "start_time": "2023-01-11T19:02:34.462Z"
   },
   {
    "duration": 17,
    "start_time": "2023-01-11T19:02:34.469Z"
   },
   {
    "duration": 10,
    "start_time": "2023-01-11T19:02:34.488Z"
   },
   {
    "duration": 160,
    "start_time": "2023-01-11T19:02:34.499Z"
   },
   {
    "duration": 31351,
    "start_time": "2023-01-11T19:02:34.661Z"
   },
   {
    "duration": 7913,
    "start_time": "2023-01-11T19:03:06.014Z"
   },
   {
    "duration": 7326,
    "start_time": "2023-01-11T19:03:13.929Z"
   },
   {
    "duration": 4,
    "start_time": "2023-01-11T19:03:21.257Z"
   },
   {
    "duration": 9,
    "start_time": "2023-01-11T19:03:21.263Z"
   },
   {
    "duration": 10,
    "start_time": "2023-01-11T19:03:21.273Z"
   },
   {
    "duration": 13,
    "start_time": "2023-01-11T19:03:21.285Z"
   },
   {
    "duration": 12,
    "start_time": "2023-01-11T19:03:21.299Z"
   },
   {
    "duration": 3,
    "start_time": "2023-01-11T19:04:01.581Z"
   },
   {
    "duration": 1493,
    "start_time": "2023-01-11T19:04:01.586Z"
   },
   {
    "duration": 718,
    "start_time": "2023-01-11T19:04:03.080Z"
   },
   {
    "duration": 27,
    "start_time": "2023-01-11T19:04:03.800Z"
   },
   {
    "duration": 27,
    "start_time": "2023-01-11T19:04:03.829Z"
   },
   {
    "duration": 25,
    "start_time": "2023-01-11T19:04:03.858Z"
   },
   {
    "duration": 22,
    "start_time": "2023-01-11T19:04:03.885Z"
   },
   {
    "duration": 39,
    "start_time": "2023-01-11T19:04:03.909Z"
   },
   {
    "duration": 17,
    "start_time": "2023-01-11T19:04:03.950Z"
   },
   {
    "duration": 15,
    "start_time": "2023-01-11T19:04:03.969Z"
   },
   {
    "duration": 57,
    "start_time": "2023-01-11T19:04:03.985Z"
   },
   {
    "duration": 254,
    "start_time": "2023-01-11T19:04:04.044Z"
   },
   {
    "duration": 5,
    "start_time": "2023-01-11T19:04:04.300Z"
   },
   {
    "duration": 3,
    "start_time": "2023-01-11T19:04:04.308Z"
   },
   {
    "duration": 25,
    "start_time": "2023-01-11T19:04:04.313Z"
   },
   {
    "duration": 13,
    "start_time": "2023-01-11T19:04:04.340Z"
   },
   {
    "duration": 10,
    "start_time": "2023-01-11T19:04:04.355Z"
   },
   {
    "duration": 16,
    "start_time": "2023-01-11T19:04:04.367Z"
   },
   {
    "duration": 2284,
    "start_time": "2023-01-11T19:04:04.384Z"
   },
   {
    "duration": 18,
    "start_time": "2023-01-11T19:04:06.669Z"
   },
   {
    "duration": 881,
    "start_time": "2023-01-11T19:04:06.689Z"
   },
   {
    "duration": 18,
    "start_time": "2023-01-11T19:04:07.572Z"
   },
   {
    "duration": 1014,
    "start_time": "2023-01-11T19:04:07.592Z"
   },
   {
    "duration": 13,
    "start_time": "2023-01-11T19:04:08.608Z"
   },
   {
    "duration": 205,
    "start_time": "2023-01-11T19:04:08.636Z"
   },
   {
    "duration": 14,
    "start_time": "2023-01-11T19:04:08.844Z"
   },
   {
    "duration": 317,
    "start_time": "2023-01-11T19:04:08.861Z"
   },
   {
    "duration": 8,
    "start_time": "2023-01-11T19:04:09.181Z"
   },
   {
    "duration": 1165,
    "start_time": "2023-01-11T19:04:09.190Z"
   },
   {
    "duration": 17,
    "start_time": "2023-01-11T19:04:10.358Z"
   },
   {
    "duration": 7,
    "start_time": "2023-01-11T19:04:10.377Z"
   },
   {
    "duration": 1114,
    "start_time": "2023-01-11T19:04:10.386Z"
   },
   {
    "duration": 3,
    "start_time": "2023-01-11T19:04:11.502Z"
   },
   {
    "duration": 12,
    "start_time": "2023-01-11T19:04:11.507Z"
   },
   {
    "duration": 6,
    "start_time": "2023-01-11T19:04:11.521Z"
   },
   {
    "duration": 4,
    "start_time": "2023-01-11T19:04:11.538Z"
   },
   {
    "duration": 5,
    "start_time": "2023-01-11T19:04:11.544Z"
   },
   {
    "duration": 8,
    "start_time": "2023-01-11T19:04:11.550Z"
   },
   {
    "duration": 2879,
    "start_time": "2023-01-11T19:04:11.559Z"
   },
   {
    "duration": 32146,
    "start_time": "2023-01-11T19:04:14.440Z"
   },
   {
    "duration": 6864,
    "start_time": "2023-01-11T19:04:46.590Z"
   },
   {
    "duration": 6982,
    "start_time": "2023-01-11T19:04:53.456Z"
   },
   {
    "duration": 3,
    "start_time": "2023-01-11T19:05:00.441Z"
   },
   {
    "duration": 19,
    "start_time": "2023-01-11T19:05:00.446Z"
   },
   {
    "duration": 24,
    "start_time": "2023-01-11T19:05:00.467Z"
   },
   {
    "duration": 17,
    "start_time": "2023-01-11T19:05:00.493Z"
   },
   {
    "duration": 45,
    "start_time": "2023-01-11T19:05:00.512Z"
   },
   {
    "duration": 35457,
    "start_time": "2023-01-11T19:05:00.559Z"
   },
   {
    "duration": 9,
    "start_time": "2023-01-11T19:05:36.018Z"
   },
   {
    "duration": 4,
    "start_time": "2023-01-11T19:06:25.804Z"
   },
   {
    "duration": 206,
    "start_time": "2023-01-11T19:07:04.236Z"
   },
   {
    "duration": 2844,
    "start_time": "2023-01-11T19:07:22.394Z"
   },
   {
    "duration": 2650,
    "start_time": "2023-01-11T19:10:35.087Z"
   },
   {
    "duration": 96,
    "start_time": "2023-01-11T19:11:27.151Z"
   },
   {
    "duration": 109,
    "start_time": "2023-01-11T19:11:43.246Z"
   },
   {
    "duration": 2548,
    "start_time": "2023-01-11T19:12:09.694Z"
   },
   {
    "duration": 4,
    "start_time": "2023-01-11T19:21:04.241Z"
   },
   {
    "duration": 1491,
    "start_time": "2023-01-11T19:21:04.247Z"
   },
   {
    "duration": 771,
    "start_time": "2023-01-11T19:21:05.740Z"
   },
   {
    "duration": 27,
    "start_time": "2023-01-11T19:21:06.513Z"
   },
   {
    "duration": 21,
    "start_time": "2023-01-11T19:21:06.542Z"
   },
   {
    "duration": 46,
    "start_time": "2023-01-11T19:21:06.565Z"
   },
   {
    "duration": 46,
    "start_time": "2023-01-11T19:21:06.612Z"
   },
   {
    "duration": 24,
    "start_time": "2023-01-11T19:21:06.660Z"
   },
   {
    "duration": 38,
    "start_time": "2023-01-11T19:21:06.686Z"
   },
   {
    "duration": 26,
    "start_time": "2023-01-11T19:21:06.726Z"
   },
   {
    "duration": 65,
    "start_time": "2023-01-11T19:21:06.753Z"
   },
   {
    "duration": 245,
    "start_time": "2023-01-11T19:21:06.820Z"
   },
   {
    "duration": 6,
    "start_time": "2023-01-11T19:21:07.068Z"
   },
   {
    "duration": 54,
    "start_time": "2023-01-11T19:21:07.075Z"
   },
   {
    "duration": 25,
    "start_time": "2023-01-11T19:21:07.130Z"
   },
   {
    "duration": 31,
    "start_time": "2023-01-11T19:21:07.157Z"
   },
   {
    "duration": 41,
    "start_time": "2023-01-11T19:21:07.189Z"
   },
   {
    "duration": 22,
    "start_time": "2023-01-11T19:21:07.232Z"
   },
   {
    "duration": 1281,
    "start_time": "2023-01-11T19:21:07.256Z"
   },
   {
    "duration": 19,
    "start_time": "2023-01-11T19:21:08.539Z"
   },
   {
    "duration": 929,
    "start_time": "2023-01-11T19:21:08.560Z"
   },
   {
    "duration": 18,
    "start_time": "2023-01-11T19:21:09.491Z"
   },
   {
    "duration": 992,
    "start_time": "2023-01-11T19:21:09.511Z"
   },
   {
    "duration": 12,
    "start_time": "2023-01-11T19:21:10.505Z"
   },
   {
    "duration": 204,
    "start_time": "2023-01-11T19:21:10.518Z"
   },
   {
    "duration": 20,
    "start_time": "2023-01-11T19:21:10.724Z"
   },
   {
    "duration": 263,
    "start_time": "2023-01-11T19:21:10.746Z"
   },
   {
    "duration": 8,
    "start_time": "2023-01-11T19:21:11.011Z"
   },
   {
    "duration": 1226,
    "start_time": "2023-01-11T19:21:11.020Z"
   },
   {
    "duration": 17,
    "start_time": "2023-01-11T19:21:12.248Z"
   },
   {
    "duration": 8,
    "start_time": "2023-01-11T19:21:12.267Z"
   },
   {
    "duration": 1087,
    "start_time": "2023-01-11T19:21:12.277Z"
   },
   {
    "duration": 3,
    "start_time": "2023-01-11T19:21:13.366Z"
   },
   {
    "duration": 11,
    "start_time": "2023-01-11T19:21:13.370Z"
   },
   {
    "duration": 6,
    "start_time": "2023-01-11T19:21:13.382Z"
   },
   {
    "duration": 9,
    "start_time": "2023-01-11T19:21:13.390Z"
   },
   {
    "duration": 3,
    "start_time": "2023-01-11T19:21:13.403Z"
   },
   {
    "duration": 8,
    "start_time": "2023-01-11T19:21:13.408Z"
   },
   {
    "duration": 3000,
    "start_time": "2023-01-11T19:21:13.437Z"
   },
   {
    "duration": 31744,
    "start_time": "2023-01-11T19:21:16.440Z"
   },
   {
    "duration": 6958,
    "start_time": "2023-01-11T19:21:48.186Z"
   },
   {
    "duration": 7181,
    "start_time": "2023-01-11T19:21:55.146Z"
   },
   {
    "duration": 10,
    "start_time": "2023-01-11T19:22:02.329Z"
   },
   {
    "duration": 25,
    "start_time": "2023-01-11T19:22:02.341Z"
   },
   {
    "duration": 11,
    "start_time": "2023-01-11T19:22:02.368Z"
   },
   {
    "duration": 13,
    "start_time": "2023-01-11T19:22:02.381Z"
   },
   {
    "duration": 23,
    "start_time": "2023-01-11T19:22:02.396Z"
   },
   {
    "duration": 36351,
    "start_time": "2023-01-11T19:22:02.421Z"
   },
   {
    "duration": 9,
    "start_time": "2023-01-11T19:22:38.774Z"
   },
   {
    "duration": 3,
    "start_time": "2023-01-11T19:30:27.729Z"
   },
   {
    "duration": 7,
    "start_time": "2023-01-11T19:30:27.734Z"
   },
   {
    "duration": 762,
    "start_time": "2023-01-11T19:30:27.743Z"
   },
   {
    "duration": 37,
    "start_time": "2023-01-11T19:30:28.506Z"
   },
   {
    "duration": 23,
    "start_time": "2023-01-11T19:30:28.546Z"
   },
   {
    "duration": 25,
    "start_time": "2023-01-11T19:30:28.571Z"
   },
   {
    "duration": 39,
    "start_time": "2023-01-11T19:30:28.598Z"
   },
   {
    "duration": 14,
    "start_time": "2023-01-11T19:30:28.640Z"
   },
   {
    "duration": 17,
    "start_time": "2023-01-11T19:30:28.656Z"
   },
   {
    "duration": 17,
    "start_time": "2023-01-11T19:30:28.675Z"
   },
   {
    "duration": 61,
    "start_time": "2023-01-11T19:30:28.694Z"
   },
   {
    "duration": 328,
    "start_time": "2023-01-11T19:30:28.757Z"
   },
   {
    "duration": 6,
    "start_time": "2023-01-11T19:30:29.090Z"
   },
   {
    "duration": 23,
    "start_time": "2023-01-11T19:30:29.098Z"
   },
   {
    "duration": 16,
    "start_time": "2023-01-11T19:30:29.124Z"
   },
   {
    "duration": 17,
    "start_time": "2023-01-11T19:30:29.142Z"
   },
   {
    "duration": 10,
    "start_time": "2023-01-11T19:30:29.161Z"
   },
   {
    "duration": 17,
    "start_time": "2023-01-11T19:30:29.173Z"
   },
   {
    "duration": 1245,
    "start_time": "2023-01-11T19:30:29.192Z"
   },
   {
    "duration": 18,
    "start_time": "2023-01-11T19:30:30.439Z"
   },
   {
    "duration": 1037,
    "start_time": "2023-01-11T19:30:30.459Z"
   },
   {
    "duration": 17,
    "start_time": "2023-01-11T19:30:31.497Z"
   },
   {
    "duration": 937,
    "start_time": "2023-01-11T19:30:31.516Z"
   },
   {
    "duration": 12,
    "start_time": "2023-01-11T19:30:32.456Z"
   },
   {
    "duration": 244,
    "start_time": "2023-01-11T19:30:32.470Z"
   },
   {
    "duration": 22,
    "start_time": "2023-01-11T19:30:32.716Z"
   },
   {
    "duration": 263,
    "start_time": "2023-01-11T19:30:32.741Z"
   },
   {
    "duration": 8,
    "start_time": "2023-01-11T19:30:33.006Z"
   },
   {
    "duration": 1299,
    "start_time": "2023-01-11T19:30:33.015Z"
   },
   {
    "duration": 25,
    "start_time": "2023-01-11T19:30:34.315Z"
   },
   {
    "duration": 17,
    "start_time": "2023-01-11T19:30:34.342Z"
   },
   {
    "duration": 1226,
    "start_time": "2023-01-11T19:30:34.361Z"
   },
   {
    "duration": 4,
    "start_time": "2023-01-11T19:30:35.588Z"
   },
   {
    "duration": 9,
    "start_time": "2023-01-11T19:30:35.593Z"
   },
   {
    "duration": 9,
    "start_time": "2023-01-11T19:30:35.604Z"
   },
   {
    "duration": 24,
    "start_time": "2023-01-11T19:30:35.615Z"
   },
   {
    "duration": 11,
    "start_time": "2023-01-11T19:30:35.643Z"
   },
   {
    "duration": 20,
    "start_time": "2023-01-11T19:30:35.656Z"
   },
   {
    "duration": 2864,
    "start_time": "2023-01-11T19:30:35.678Z"
   },
   {
    "duration": 32123,
    "start_time": "2023-01-11T19:30:38.545Z"
   },
   {
    "duration": 7196,
    "start_time": "2023-01-11T19:31:10.670Z"
   },
   {
    "duration": 7152,
    "start_time": "2023-01-11T19:31:17.868Z"
   },
   {
    "duration": 4,
    "start_time": "2023-01-11T19:31:25.022Z"
   },
   {
    "duration": 6,
    "start_time": "2023-01-11T19:31:25.040Z"
   },
   {
    "duration": 9,
    "start_time": "2023-01-11T19:31:25.048Z"
   },
   {
    "duration": 14,
    "start_time": "2023-01-11T19:31:25.059Z"
   },
   {
    "duration": 11,
    "start_time": "2023-01-11T19:31:25.074Z"
   },
   {
    "duration": 35815,
    "start_time": "2023-01-11T19:31:25.087Z"
   },
   {
    "duration": 10,
    "start_time": "2023-01-11T19:32:00.904Z"
   },
   {
    "duration": 4,
    "start_time": "2023-06-02T11:27:55.384Z"
   },
   {
    "duration": 1584,
    "start_time": "2023-06-02T11:27:55.676Z"
   },
   {
    "duration": 3790,
    "start_time": "2023-06-02T11:27:57.265Z"
   },
   {
    "duration": 30,
    "start_time": "2023-06-02T11:28:03.285Z"
   },
   {
    "duration": 3,
    "start_time": "2023-06-02T11:28:06.416Z"
   },
   {
    "duration": 47,
    "start_time": "2023-06-02T11:28:06.422Z"
   },
   {
    "duration": 898,
    "start_time": "2023-06-02T11:28:06.471Z"
   },
   {
    "duration": 83,
    "start_time": "2023-06-02T11:28:07.373Z"
   },
   {
    "duration": 24,
    "start_time": "2023-06-02T11:28:07.458Z"
   },
   {
    "duration": 53,
    "start_time": "2023-06-02T11:28:07.484Z"
   },
   {
    "duration": 59,
    "start_time": "2023-06-02T11:28:07.539Z"
   },
   {
    "duration": 65,
    "start_time": "2023-06-02T11:28:07.600Z"
   },
   {
    "duration": 37,
    "start_time": "2023-06-02T11:28:07.668Z"
   },
   {
    "duration": 22,
    "start_time": "2023-06-02T11:28:07.707Z"
   },
   {
    "duration": 64,
    "start_time": "2023-06-02T11:28:07.731Z"
   },
   {
    "duration": 259,
    "start_time": "2023-06-02T11:28:07.797Z"
   },
   {
    "duration": 6,
    "start_time": "2023-06-02T11:28:08.058Z"
   },
   {
    "duration": 62,
    "start_time": "2023-06-02T11:28:08.065Z"
   },
   {
    "duration": 43,
    "start_time": "2023-06-02T11:28:08.129Z"
   },
   {
    "duration": 49,
    "start_time": "2023-06-02T11:28:08.174Z"
   },
   {
    "duration": 83,
    "start_time": "2023-06-02T11:28:08.225Z"
   },
   {
    "duration": 60,
    "start_time": "2023-06-02T11:28:08.310Z"
   },
   {
    "duration": 2160,
    "start_time": "2023-06-02T11:28:08.371Z"
   },
   {
    "duration": 18,
    "start_time": "2023-06-02T11:28:10.533Z"
   },
   {
    "duration": 1510,
    "start_time": "2023-06-02T11:28:10.553Z"
   },
   {
    "duration": 15,
    "start_time": "2023-06-02T11:28:12.064Z"
   },
   {
    "duration": 1127,
    "start_time": "2023-06-02T11:28:12.081Z"
   },
   {
    "duration": 27,
    "start_time": "2023-06-02T11:28:13.211Z"
   },
   {
    "duration": 220,
    "start_time": "2023-06-02T11:28:13.245Z"
   },
   {
    "duration": 13,
    "start_time": "2023-06-02T11:28:13.466Z"
   },
   {
    "duration": 288,
    "start_time": "2023-06-02T11:28:13.481Z"
   },
   {
    "duration": 9,
    "start_time": "2023-06-02T11:28:13.771Z"
   },
   {
    "duration": 2591,
    "start_time": "2023-06-02T11:28:13.782Z"
   },
   {
    "duration": 67,
    "start_time": "2023-06-02T11:28:16.375Z"
   },
   {
    "duration": 50,
    "start_time": "2023-06-02T11:28:16.443Z"
   },
   {
    "duration": 3361,
    "start_time": "2023-06-02T11:28:16.494Z"
   },
   {
    "duration": 5,
    "start_time": "2023-06-02T11:28:19.857Z"
   },
   {
    "duration": 17,
    "start_time": "2023-06-02T11:28:19.863Z"
   },
   {
    "duration": 6,
    "start_time": "2023-06-02T11:28:19.926Z"
   },
   {
    "duration": 46,
    "start_time": "2023-06-02T11:28:19.934Z"
   },
   {
    "duration": 17,
    "start_time": "2023-06-02T11:28:19.981Z"
   },
   {
    "duration": 7,
    "start_time": "2023-06-02T11:28:20.025Z"
   },
   {
    "duration": 7997,
    "start_time": "2023-06-02T11:28:20.033Z"
   },
   {
    "duration": 33526,
    "start_time": "2023-06-02T11:28:28.031Z"
   },
   {
    "duration": 6911,
    "start_time": "2023-06-02T11:29:01.558Z"
   },
   {
    "duration": 7289,
    "start_time": "2023-06-02T11:29:08.471Z"
   },
   {
    "duration": 5,
    "start_time": "2023-06-02T11:29:15.762Z"
   },
   {
    "duration": 4,
    "start_time": "2023-06-02T11:29:15.827Z"
   },
   {
    "duration": 34,
    "start_time": "2023-06-02T11:29:15.836Z"
   },
   {
    "duration": 9,
    "start_time": "2023-06-02T11:29:15.872Z"
   },
   {
    "duration": 52,
    "start_time": "2023-06-02T11:29:15.883Z"
   },
   {
    "duration": 45649,
    "start_time": "2023-06-02T11:29:15.947Z"
   },
   {
    "duration": 8,
    "start_time": "2023-06-02T11:30:01.597Z"
   }
  ],
  "kernelspec": {
   "display_name": "Python 3 (ipykernel)",
   "language": "python",
   "name": "python3"
  },
  "language_info": {
   "codemirror_mode": {
    "name": "ipython",
    "version": 3
   },
   "file_extension": ".py",
   "mimetype": "text/x-python",
   "name": "python",
   "nbconvert_exporter": "python",
   "pygments_lexer": "ipython3",
   "version": "3.9.5"
  },
  "toc": {
   "base_numbering": 1,
   "nav_menu": {},
   "number_sections": true,
   "sideBar": true,
   "skip_h1_title": true,
   "title_cell": "Содержание",
   "title_sidebar": "Contents",
   "toc_cell": true,
   "toc_position": {
    "height": "calc(100% - 180px)",
    "left": "10px",
    "top": "150px",
    "width": "165px"
   },
   "toc_section_display": true,
   "toc_window_display": true
  }
 },
 "nbformat": 4,
 "nbformat_minor": 2
}
